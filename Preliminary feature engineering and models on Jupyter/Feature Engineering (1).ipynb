{
 "cells": [
  {
   "cell_type": "code",
   "execution_count": 1,
   "metadata": {},
   "outputs": [],
   "source": [
    "import pandas as pd\n",
    "import numpy as np\n",
    "import calendar\n",
    "from time import time\n",
    "from datetime import datetime\n",
    "import re \n",
    "from sklearn.model_selection import train_test_split, StratifiedKFold, cross_val_score, RandomizedSearchCV\n",
    "from sklearn.metrics import log_loss, accuracy_score, classification_report\n",
    "import matplotlib.pyplot as plt\n",
    "%matplotlib inline"
   ]
  },
  {
   "cell_type": "code",
   "execution_count": 2,
   "metadata": {},
   "outputs": [],
   "source": [
    "data_train = pd.read_csv(\"train.csv\").replace(\"MENS WEAR\",\"MENSWEAR\")\n",
    "data_train_orig = pd.read_csv(\"train.csv\").replace(\"MENS WEAR\",\"MENSWEAR\")"
   ]
  },
  {
   "cell_type": "code",
   "execution_count": 3,
   "metadata": {},
   "outputs": [],
   "source": [
    "dept_list = sorted(list(data_train.DepartmentDescription.dropna().unique()))"
   ]
  },
  {
   "cell_type": "code",
   "execution_count": 4,
   "metadata": {},
   "outputs": [],
   "source": [
    "weekdays = list(calendar.day_name)\n",
    "dept_list_sum = dict.fromkeys(dept_list, np.sum)\n",
    "weekday_dict = dict.fromkeys(weekdays, np.max)\n",
    "feature_dict = {\"TripType\": np.max, 'NumItems': np.sum, 'Return': np.max}\n",
    "feature_dict = {**feature_dict, **weekday_dict, **dept_list_sum}"
   ]
  },
  {
   "cell_type": "code",
   "execution_count": 5,
   "metadata": {},
   "outputs": [],
   "source": [
    "def transform_data(data):\n",
    "    dummies = pd.get_dummies(data.Weekday)\n",
    "    data[dummies.columns] = dummies\n",
    "    \n",
    "    dummies = pd.get_dummies(data.DepartmentDescription)\n",
    "    dummies = dummies.apply(lambda x: x*data[\"ScanCount\"])\n",
    "    data[dummies.columns] = dummies \n",
    "\n",
    "    data.loc[data.ScanCount < 0, 'Return'] = 1\n",
    "    data.loc[data.Return != 1, 'Return'] = 0\n",
    "    \n",
    "    data = data.rename(columns={\"ScanCount\":\"NumItems\"})\n",
    "    \n",
    "    grouped = data.groupby(\"VisitNumber\")\n",
    "    grouped = grouped.aggregate(feature_dict)\n",
    "    data = grouped[[\"TripType\", \"NumItems\", \"Return\"] + weekdays + dept_list]\n",
    "\n",
    "    return data"
   ]
  },
  {
   "cell_type": "code",
   "execution_count": 6,
   "metadata": {},
   "outputs": [],
   "source": [
    "data_new = transform_data(data_train)"
   ]
  },
  {
   "cell_type": "code",
   "execution_count": 7,
   "metadata": {},
   "outputs": [],
   "source": [
    "def add_category_counts(data):\n",
    "    alist = []\n",
    "    for array in np.asarray(data.loc[:, dept_list[0]:]):\n",
    "        count = 0\n",
    "        count = sum(x > 0 for x in array)\n",
    "        alist.append(count)\n",
    "    cat_counts = pd.DataFrame(alist)\n",
    "    cat_counts = cat_counts.rename(columns={0:\"CategoryCount\"})\n",
    "    cat_counts = cat_counts.set_index(data.index)\n",
    "    data.insert(3, 'CategoryCounts', cat_counts)\n",
    "    return data"
   ]
  },
  {
   "cell_type": "code",
   "execution_count": 8,
   "metadata": {},
   "outputs": [],
   "source": [
    "data_add_cat = add_category_counts(data_new)"
   ]
  },
  {
   "cell_type": "code",
   "execution_count": 11,
   "metadata": {},
   "outputs": [],
   "source": [
    "def fineline_dummies(data):\n",
    "    fln_ranks = data.FinelineNumber.value_counts()\n",
    "    fln_ranks = fln_ranks[fln_ranks > 500]\n",
    "    flns_selected = list(fln_ranks.index)\n",
    "    dummies = pd.get_dummies(data.FinelineNumber)\n",
    "    dummies = dummies[flns_selected]\n",
    "    dummies.columns = ['fln_'+str(col) for col in dummies.columns]\n",
    "    dummies = pd.concat([dummies, data.VisitNumber], axis=1)\n",
    "    dummies = dummies.groupby(\"VisitNumber\")\n",
    "    dummies = dummies.aggregate(np.sum)\n",
    "    return dummies"
   ]
  },
  {
   "cell_type": "code",
   "execution_count": 13,
   "metadata": {},
   "outputs": [],
   "source": [
    "fln_dummies = fineline_dummies(data_train)"
   ]
  },
  {
   "cell_type": "code",
   "execution_count": 14,
   "metadata": {},
   "outputs": [
    {
     "data": {
      "text/html": [
       "<div>\n",
       "<style scoped>\n",
       "    .dataframe tbody tr th:only-of-type {\n",
       "        vertical-align: middle;\n",
       "    }\n",
       "\n",
       "    .dataframe tbody tr th {\n",
       "        vertical-align: top;\n",
       "    }\n",
       "\n",
       "    .dataframe thead th {\n",
       "        text-align: right;\n",
       "    }\n",
       "</style>\n",
       "<table border=\"1\" class=\"dataframe\">\n",
       "  <thead>\n",
       "    <tr style=\"text-align: right;\">\n",
       "      <th></th>\n",
       "      <th>fln_5501.0</th>\n",
       "      <th>fln_1508.0</th>\n",
       "      <th>fln_135.0</th>\n",
       "      <th>fln_808.0</th>\n",
       "      <th>fln_0.0</th>\n",
       "      <th>fln_9546.0</th>\n",
       "      <th>fln_1407.0</th>\n",
       "      <th>fln_4606.0</th>\n",
       "      <th>fln_115.0</th>\n",
       "      <th>fln_203.0</th>\n",
       "      <th>...</th>\n",
       "      <th>fln_805.0</th>\n",
       "      <th>fln_3704.0</th>\n",
       "      <th>fln_4500.0</th>\n",
       "      <th>fln_1352.0</th>\n",
       "      <th>fln_3175.0</th>\n",
       "      <th>fln_2352.0</th>\n",
       "      <th>fln_2804.0</th>\n",
       "      <th>fln_1009.0</th>\n",
       "      <th>fln_10.0</th>\n",
       "      <th>fln_7557.0</th>\n",
       "    </tr>\n",
       "    <tr>\n",
       "      <th>VisitNumber</th>\n",
       "      <th></th>\n",
       "      <th></th>\n",
       "      <th></th>\n",
       "      <th></th>\n",
       "      <th></th>\n",
       "      <th></th>\n",
       "      <th></th>\n",
       "      <th></th>\n",
       "      <th></th>\n",
       "      <th></th>\n",
       "      <th></th>\n",
       "      <th></th>\n",
       "      <th></th>\n",
       "      <th></th>\n",
       "      <th></th>\n",
       "      <th></th>\n",
       "      <th></th>\n",
       "      <th></th>\n",
       "      <th></th>\n",
       "      <th></th>\n",
       "      <th></th>\n",
       "    </tr>\n",
       "  </thead>\n",
       "  <tbody>\n",
       "    <tr>\n",
       "      <th>5</th>\n",
       "      <td>0</td>\n",
       "      <td>0</td>\n",
       "      <td>0</td>\n",
       "      <td>0</td>\n",
       "      <td>0</td>\n",
       "      <td>0</td>\n",
       "      <td>0</td>\n",
       "      <td>0</td>\n",
       "      <td>0</td>\n",
       "      <td>0</td>\n",
       "      <td>...</td>\n",
       "      <td>0</td>\n",
       "      <td>0</td>\n",
       "      <td>0</td>\n",
       "      <td>0</td>\n",
       "      <td>0</td>\n",
       "      <td>0</td>\n",
       "      <td>0</td>\n",
       "      <td>0</td>\n",
       "      <td>0</td>\n",
       "      <td>0</td>\n",
       "    </tr>\n",
       "    <tr>\n",
       "      <th>7</th>\n",
       "      <td>0</td>\n",
       "      <td>0</td>\n",
       "      <td>0</td>\n",
       "      <td>0</td>\n",
       "      <td>0</td>\n",
       "      <td>0</td>\n",
       "      <td>0</td>\n",
       "      <td>0</td>\n",
       "      <td>0</td>\n",
       "      <td>0</td>\n",
       "      <td>...</td>\n",
       "      <td>0</td>\n",
       "      <td>0</td>\n",
       "      <td>0</td>\n",
       "      <td>0</td>\n",
       "      <td>0</td>\n",
       "      <td>0</td>\n",
       "      <td>0</td>\n",
       "      <td>0</td>\n",
       "      <td>0</td>\n",
       "      <td>0</td>\n",
       "    </tr>\n",
       "    <tr>\n",
       "      <th>8</th>\n",
       "      <td>0</td>\n",
       "      <td>0</td>\n",
       "      <td>0</td>\n",
       "      <td>0</td>\n",
       "      <td>0</td>\n",
       "      <td>0</td>\n",
       "      <td>0</td>\n",
       "      <td>1</td>\n",
       "      <td>0</td>\n",
       "      <td>0</td>\n",
       "      <td>...</td>\n",
       "      <td>0</td>\n",
       "      <td>0</td>\n",
       "      <td>0</td>\n",
       "      <td>0</td>\n",
       "      <td>0</td>\n",
       "      <td>0</td>\n",
       "      <td>0</td>\n",
       "      <td>0</td>\n",
       "      <td>0</td>\n",
       "      <td>0</td>\n",
       "    </tr>\n",
       "    <tr>\n",
       "      <th>9</th>\n",
       "      <td>1</td>\n",
       "      <td>0</td>\n",
       "      <td>0</td>\n",
       "      <td>0</td>\n",
       "      <td>0</td>\n",
       "      <td>0</td>\n",
       "      <td>0</td>\n",
       "      <td>0</td>\n",
       "      <td>1</td>\n",
       "      <td>0</td>\n",
       "      <td>...</td>\n",
       "      <td>0</td>\n",
       "      <td>0</td>\n",
       "      <td>0</td>\n",
       "      <td>0</td>\n",
       "      <td>0</td>\n",
       "      <td>0</td>\n",
       "      <td>0</td>\n",
       "      <td>0</td>\n",
       "      <td>0</td>\n",
       "      <td>0</td>\n",
       "    </tr>\n",
       "    <tr>\n",
       "      <th>10</th>\n",
       "      <td>0</td>\n",
       "      <td>0</td>\n",
       "      <td>0</td>\n",
       "      <td>0</td>\n",
       "      <td>0</td>\n",
       "      <td>0</td>\n",
       "      <td>0</td>\n",
       "      <td>0</td>\n",
       "      <td>1</td>\n",
       "      <td>0</td>\n",
       "      <td>...</td>\n",
       "      <td>0</td>\n",
       "      <td>0</td>\n",
       "      <td>0</td>\n",
       "      <td>0</td>\n",
       "      <td>0</td>\n",
       "      <td>0</td>\n",
       "      <td>0</td>\n",
       "      <td>0</td>\n",
       "      <td>0</td>\n",
       "      <td>0</td>\n",
       "    </tr>\n",
       "  </tbody>\n",
       "</table>\n",
       "<p>5 rows × 273 columns</p>\n",
       "</div>"
      ],
      "text/plain": [
       "             fln_5501.0  fln_1508.0  fln_135.0  fln_808.0  fln_0.0  \\\n",
       "VisitNumber                                                          \n",
       "5                     0           0          0          0        0   \n",
       "7                     0           0          0          0        0   \n",
       "8                     0           0          0          0        0   \n",
       "9                     1           0          0          0        0   \n",
       "10                    0           0          0          0        0   \n",
       "\n",
       "             fln_9546.0  fln_1407.0  fln_4606.0  fln_115.0  fln_203.0  ...  \\\n",
       "VisitNumber                                                            ...   \n",
       "5                     0           0           0          0          0  ...   \n",
       "7                     0           0           0          0          0  ...   \n",
       "8                     0           0           1          0          0  ...   \n",
       "9                     0           0           0          1          0  ...   \n",
       "10                    0           0           0          1          0  ...   \n",
       "\n",
       "             fln_805.0  fln_3704.0  fln_4500.0  fln_1352.0  fln_3175.0  \\\n",
       "VisitNumber                                                              \n",
       "5                    0           0           0           0           0   \n",
       "7                    0           0           0           0           0   \n",
       "8                    0           0           0           0           0   \n",
       "9                    0           0           0           0           0   \n",
       "10                   0           0           0           0           0   \n",
       "\n",
       "             fln_2352.0  fln_2804.0  fln_1009.0  fln_10.0  fln_7557.0  \n",
       "VisitNumber                                                            \n",
       "5                     0           0           0         0           0  \n",
       "7                     0           0           0         0           0  \n",
       "8                     0           0           0         0           0  \n",
       "9                     0           0           0         0           0  \n",
       "10                    0           0           0         0           0  \n",
       "\n",
       "[5 rows x 273 columns]"
      ]
     },
     "execution_count": 14,
     "metadata": {},
     "output_type": "execute_result"
    }
   ],
   "source": [
    "fln_dummies.head()"
   ]
  },
  {
   "cell_type": "code",
   "execution_count": 15,
   "metadata": {},
   "outputs": [],
   "source": [
    "data_add_fln = data_add_cat.join(fln_dummies)"
   ]
  },
  {
   "cell_type": "code",
   "execution_count": 16,
   "metadata": {},
   "outputs": [
    {
     "data": {
      "text/plain": [
       "Index(['TripType', 'NumItems', 'Return', 'CategoryCounts', 'Monday', 'Tuesday',\n",
       "       'Wednesday', 'Thursday', 'Friday', 'Saturday',\n",
       "       ...\n",
       "       'fln_805.0', 'fln_3704.0', 'fln_4500.0', 'fln_1352.0', 'fln_3175.0',\n",
       "       'fln_2352.0', 'fln_2804.0', 'fln_1009.0', 'fln_10.0', 'fln_7557.0'],\n",
       "      dtype='object', length=351)"
      ]
     },
     "execution_count": 16,
     "metadata": {},
     "output_type": "execute_result"
    }
   ],
   "source": [
    "data_add_fln.columns"
   ]
  },
  {
   "cell_type": "code",
   "execution_count": 17,
   "metadata": {},
   "outputs": [
    {
     "name": "stderr",
     "output_type": "stream",
     "text": [
      "Using TensorFlow backend.\n"
     ]
    }
   ],
   "source": [
    "from keras.models import Sequential\n",
    "from keras.layers import Dense, Dropout, Input\n",
    "from keras.wrappers.scikit_learn import KerasClassifier\n",
    "from keras.utils.np_utils import to_categorical\n",
    "from keras import regularizers\n",
    "from keras.callbacks import EarlyStopping, ModelCheckpoint"
   ]
  },
  {
   "cell_type": "code",
   "execution_count": 18,
   "metadata": {},
   "outputs": [],
   "source": [
    "X = data_add_fln.drop('TripType', axis=1)\n",
    "\n",
    "trip_types = sorted(data_add_fln.TripType.unique())\n",
    "trip_types_map = dict(zip(trip_types, np.arange(0, len(trip_types))))\n",
    "y = data_add_fln.TripType.map(trip_types_map)\n",
    "\n",
    "X_train, X_test, y_train, y_test = train_test_split(X, y, test_size=0.25, random_state=42)"
   ]
  },
  {
   "cell_type": "code",
   "execution_count": 19,
   "metadata": {},
   "outputs": [],
   "source": [
    "def create_model_3hl(nodes_l1=400, nodes_l2=200, nodes_l3=100, dropout_l1=0.2, dropout_l2=0.2, dropout_l3=0.2):\n",
    "    model = Sequential()\n",
    "    model.add(Dense(output_dim=nodes_l1, activation=\"relu\", input_dim=len(X.columns)))\n",
    "    model.add(Dropout(dropout_l1))\n",
    "    model.add(Dense(output_dim=nodes_l2, activation=\"relu\"))\n",
    "    model.add(Dropout(dropout_l2))\n",
    "    model.add(Dense(output_dim=nodes_l2, activation=\"relu\"))\n",
    "    model.add(Dropout(dropout_l3))\n",
    "            \n",
    "    model.add(Dense(output_dim=len(trip_types), activation=\"softmax\"))\n",
    "    \n",
    "    model.compile(loss=\"categorical_crossentropy\", optimizer=\"rmsprop\", metrics=[\"accuracy\"])\n",
    "    \n",
    "    return model"
   ]
  },
  {
   "cell_type": "code",
   "execution_count": 20,
   "metadata": {},
   "outputs": [
    {
     "data": {
      "text/plain": [
       "350"
      ]
     },
     "execution_count": 20,
     "metadata": {},
     "output_type": "execute_result"
    }
   ],
   "source": [
    "len(X.columns)"
   ]
  },
  {
   "cell_type": "code",
   "execution_count": 23,
   "metadata": {},
   "outputs": [],
   "source": [
    "model_3hl = KerasClassifier(build_fn=create_model_3hl, epochs=70, batch_size=1000, verbose=2)"
   ]
  },
  {
   "cell_type": "code",
   "execution_count": 24,
   "metadata": {},
   "outputs": [
    {
     "name": "stderr",
     "output_type": "stream",
     "text": [
      "C:\\Users\\Xiuquan\\Anaconda3\\lib\\site-packages\\ipykernel_launcher.py:3: UserWarning: Update your `Dense` call to the Keras 2 API: `Dense(activation=\"relu\", input_dim=350, units=400)`\n",
      "  This is separate from the ipykernel package so we can avoid doing imports until\n",
      "C:\\Users\\Xiuquan\\Anaconda3\\lib\\site-packages\\ipykernel_launcher.py:5: UserWarning: Update your `Dense` call to the Keras 2 API: `Dense(activation=\"relu\", units=200)`\n",
      "  \"\"\"\n",
      "C:\\Users\\Xiuquan\\Anaconda3\\lib\\site-packages\\ipykernel_launcher.py:7: UserWarning: Update your `Dense` call to the Keras 2 API: `Dense(activation=\"relu\", units=200)`\n",
      "  import sys\n",
      "C:\\Users\\Xiuquan\\Anaconda3\\lib\\site-packages\\ipykernel_launcher.py:10: UserWarning: Update your `Dense` call to the Keras 2 API: `Dense(activation=\"softmax\", units=38)`\n",
      "  # Remove the CWD from sys.path while we load stuff.\n"
     ]
    },
    {
     "name": "stdout",
     "output_type": "stream",
     "text": [
      "Train on 71755 samples, validate on 23919 samples\n",
      "Epoch 1/100\n",
      " - 6s - loss: 2.3705 - acc: 0.3881 - val_loss: 1.4440 - val_acc: 0.6112\n",
      "Epoch 2/100\n",
      " - 6s - loss: 1.4469 - acc: 0.5981 - val_loss: 1.1978 - val_acc: 0.6373\n",
      "Epoch 3/100\n",
      " - 6s - loss: 1.2211 - acc: 0.6422 - val_loss: 1.0202 - val_acc: 0.6886\n",
      "Epoch 4/100\n",
      " - 6s - loss: 1.1223 - acc: 0.6604 - val_loss: 0.9547 - val_acc: 0.7038\n",
      "Epoch 5/100\n",
      " - 6s - loss: 1.0589 - acc: 0.6721 - val_loss: 0.9448 - val_acc: 0.7021\n",
      "Epoch 6/100\n",
      " - 6s - loss: 1.0098 - acc: 0.6827 - val_loss: 0.9680 - val_acc: 0.6878\n",
      "Epoch 7/100\n",
      " - 6s - loss: 0.9839 - acc: 0.6890 - val_loss: 0.9268 - val_acc: 0.6925\n",
      "Epoch 8/100\n",
      " - 7s - loss: 0.9487 - acc: 0.6945 - val_loss: 0.8630 - val_acc: 0.7198\n",
      "Epoch 9/100\n",
      " - 6s - loss: 0.9280 - acc: 0.7014 - val_loss: 0.8638 - val_acc: 0.7132\n",
      "Epoch 10/100\n",
      " - 7s - loss: 0.8992 - acc: 0.7072 - val_loss: 0.8361 - val_acc: 0.7265\n",
      "Epoch 11/100\n",
      " - 6s - loss: 0.8841 - acc: 0.7103 - val_loss: 0.8696 - val_acc: 0.7092\n",
      "Epoch 12/100\n",
      " - 6s - loss: 0.8642 - acc: 0.7144 - val_loss: 0.8671 - val_acc: 0.7115\n",
      "Epoch 13/100\n",
      " - 7s - loss: 0.8532 - acc: 0.7166 - val_loss: 0.8545 - val_acc: 0.7155\n",
      "Epoch 14/100\n",
      " - 6s - loss: 0.8315 - acc: 0.7235 - val_loss: 0.8281 - val_acc: 0.7269\n",
      "Epoch 15/100\n",
      " - 7s - loss: 0.8208 - acc: 0.7260 - val_loss: 0.8246 - val_acc: 0.7234\n",
      "Epoch 16/100\n",
      " - 6s - loss: 0.8055 - acc: 0.7306 - val_loss: 0.8117 - val_acc: 0.7274\n",
      "Epoch 17/100\n",
      " - 6s - loss: 0.7961 - acc: 0.7332 - val_loss: 0.8174 - val_acc: 0.7257\n",
      "Epoch 18/100\n",
      " - 6s - loss: 0.7823 - acc: 0.7358 - val_loss: 0.8251 - val_acc: 0.7208\n",
      "Epoch 19/100\n",
      " - 6s - loss: 0.7706 - acc: 0.7394 - val_loss: 0.8139 - val_acc: 0.7256\n",
      "Epoch 20/100\n",
      " - 6s - loss: 0.7586 - acc: 0.7418 - val_loss: 0.8131 - val_acc: 0.7254\n",
      "Epoch 21/100\n",
      " - 6s - loss: 0.7471 - acc: 0.7462 - val_loss: 0.8011 - val_acc: 0.7295\n",
      "Epoch 22/100\n",
      " - 6s - loss: 0.7418 - acc: 0.7484 - val_loss: 0.7958 - val_acc: 0.7293\n",
      "Epoch 23/100\n",
      " - 6s - loss: 0.7303 - acc: 0.7497 - val_loss: 0.7867 - val_acc: 0.7323\n",
      "Epoch 24/100\n",
      " - 6s - loss: 0.7172 - acc: 0.7533 - val_loss: 0.7985 - val_acc: 0.7286\n",
      "Epoch 25/100\n",
      " - 6s - loss: 0.7079 - acc: 0.7577 - val_loss: 0.8006 - val_acc: 0.7264\n",
      "Epoch 26/100\n",
      " - 6s - loss: 0.7040 - acc: 0.7582 - val_loss: 0.7851 - val_acc: 0.7371\n",
      "Epoch 27/100\n",
      " - 6s - loss: 0.6880 - acc: 0.7625 - val_loss: 0.7957 - val_acc: 0.7354\n",
      "Epoch 28/100\n",
      " - 6s - loss: 0.6826 - acc: 0.7637 - val_loss: 0.8027 - val_acc: 0.7283\n",
      "Epoch 29/100\n",
      " - 6s - loss: 0.6754 - acc: 0.7659 - val_loss: 0.7896 - val_acc: 0.7333\n",
      "Epoch 30/100\n",
      " - 6s - loss: 0.6615 - acc: 0.7697 - val_loss: 0.8038 - val_acc: 0.7319\n",
      "Epoch 31/100\n",
      " - 6s - loss: 0.6576 - acc: 0.7712 - val_loss: 0.8064 - val_acc: 0.7312\n",
      "Epoch 32/100\n",
      " - 6s - loss: 0.6505 - acc: 0.7718 - val_loss: 0.8028 - val_acc: 0.7317\n",
      "Epoch 33/100\n",
      " - 6s - loss: 0.6409 - acc: 0.7743 - val_loss: 0.8163 - val_acc: 0.7249\n",
      "Epoch 34/100\n",
      " - 6s - loss: 0.6333 - acc: 0.7778 - val_loss: 0.8187 - val_acc: 0.7300\n",
      "Epoch 35/100\n",
      " - 6s - loss: 0.6257 - acc: 0.7806 - val_loss: 0.8149 - val_acc: 0.7321\n",
      "Epoch 36/100\n",
      " - 6s - loss: 0.6176 - acc: 0.7824 - val_loss: 0.8300 - val_acc: 0.7240\n",
      "Epoch 37/100\n",
      " - 6s - loss: 0.6124 - acc: 0.7846 - val_loss: 0.8094 - val_acc: 0.7300\n",
      "Epoch 38/100\n",
      " - 6s - loss: 0.6000 - acc: 0.7878 - val_loss: 0.8390 - val_acc: 0.7224\n",
      "Epoch 39/100\n",
      " - 6s - loss: 0.5967 - acc: 0.7893 - val_loss: 0.8454 - val_acc: 0.7282\n",
      "Epoch 40/100\n",
      " - 6s - loss: 0.5924 - acc: 0.7906 - val_loss: 0.8369 - val_acc: 0.7300\n",
      "Epoch 41/100\n",
      " - 6s - loss: 0.5868 - acc: 0.7926 - val_loss: 0.8395 - val_acc: 0.7305\n",
      "Epoch 42/100\n",
      " - 6s - loss: 0.5798 - acc: 0.7959 - val_loss: 0.8326 - val_acc: 0.7258\n",
      "Epoch 43/100\n",
      " - 6s - loss: 0.5760 - acc: 0.7949 - val_loss: 0.8394 - val_acc: 0.7265\n",
      "Epoch 44/100\n",
      " - 6s - loss: 0.5655 - acc: 0.7986 - val_loss: 0.8360 - val_acc: 0.7273\n",
      "Epoch 45/100\n",
      " - 6s - loss: 0.5623 - acc: 0.8001 - val_loss: 0.8517 - val_acc: 0.7248\n",
      "Epoch 46/100\n",
      " - 6s - loss: 0.5574 - acc: 0.8040 - val_loss: 0.8525 - val_acc: 0.7248\n",
      "Epoch 47/100\n",
      " - 7s - loss: 0.5538 - acc: 0.8023 - val_loss: 0.8595 - val_acc: 0.7287\n",
      "Epoch 48/100\n",
      " - 6s - loss: 0.5469 - acc: 0.8068 - val_loss: 0.8500 - val_acc: 0.7260\n",
      "Epoch 49/100\n",
      " - 6s - loss: 0.5406 - acc: 0.8080 - val_loss: 0.8586 - val_acc: 0.7230\n",
      "Epoch 50/100\n",
      " - 6s - loss: 0.5339 - acc: 0.8097 - val_loss: 0.8915 - val_acc: 0.7109\n",
      "Epoch 51/100\n",
      " - 6s - loss: 0.5319 - acc: 0.8110 - val_loss: 0.8770 - val_acc: 0.7206\n",
      "Epoch 52/100\n",
      " - 6s - loss: 0.5258 - acc: 0.8140 - val_loss: 0.8643 - val_acc: 0.7257\n",
      "Epoch 53/100\n",
      " - 6s - loss: 0.5265 - acc: 0.8132 - val_loss: 0.8687 - val_acc: 0.7248\n",
      "Epoch 54/100\n",
      " - 6s - loss: 0.5139 - acc: 0.8160 - val_loss: 0.8819 - val_acc: 0.7237\n",
      "Epoch 55/100\n",
      " - 6s - loss: 0.5073 - acc: 0.8188 - val_loss: 0.8782 - val_acc: 0.7199\n",
      "Epoch 56/100\n",
      " - 6s - loss: 0.5078 - acc: 0.8180 - val_loss: 0.8825 - val_acc: 0.7184\n",
      "Epoch 57/100\n",
      " - 7s - loss: 0.4999 - acc: 0.8223 - val_loss: 0.9041 - val_acc: 0.7210\n",
      "Epoch 58/100\n",
      " - 6s - loss: 0.4988 - acc: 0.8220 - val_loss: 0.9051 - val_acc: 0.7249\n",
      "Epoch 59/100\n",
      " - 6s - loss: 0.4928 - acc: 0.8231 - val_loss: 0.8969 - val_acc: 0.7246\n",
      "Epoch 60/100\n",
      " - 6s - loss: 0.4902 - acc: 0.8240 - val_loss: 0.8963 - val_acc: 0.7229\n",
      "Epoch 61/100\n",
      " - 6s - loss: 0.4872 - acc: 0.8263 - val_loss: 0.9159 - val_acc: 0.7198\n",
      "Epoch 62/100\n",
      " - 6s - loss: 0.4847 - acc: 0.8275 - val_loss: 0.9283 - val_acc: 0.7256\n",
      "Epoch 63/100\n",
      " - 6s - loss: 0.4776 - acc: 0.8291 - val_loss: 0.9245 - val_acc: 0.7213\n",
      "Epoch 64/100\n",
      " - 6s - loss: 0.4732 - acc: 0.8306 - val_loss: 0.9693 - val_acc: 0.7228\n",
      "Epoch 65/100\n",
      " - 6s - loss: 0.4695 - acc: 0.8304 - val_loss: 0.9306 - val_acc: 0.7218\n",
      "Epoch 66/100\n",
      " - 8s - loss: 0.4694 - acc: 0.8313 - val_loss: 0.9277 - val_acc: 0.7210\n",
      "Epoch 67/100\n",
      " - 9s - loss: 0.4673 - acc: 0.8320 - val_loss: 0.9479 - val_acc: 0.7195\n",
      "Epoch 68/100\n",
      " - 9s - loss: 0.4540 - acc: 0.8365 - val_loss: 0.9938 - val_acc: 0.7218\n",
      "Epoch 69/100\n",
      " - 9s - loss: 0.4620 - acc: 0.8325 - val_loss: 0.9572 - val_acc: 0.7239\n",
      "Epoch 70/100\n",
      " - 9s - loss: 0.4576 - acc: 0.8359 - val_loss: 0.9543 - val_acc: 0.7228\n",
      "Epoch 71/100\n",
      " - 9s - loss: 0.4483 - acc: 0.8392 - val_loss: 0.9838 - val_acc: 0.7220\n",
      "Epoch 72/100\n",
      " - 9s - loss: 0.4454 - acc: 0.8400 - val_loss: 0.9639 - val_acc: 0.7206\n",
      "Epoch 73/100\n",
      " - 8s - loss: 0.4431 - acc: 0.8418 - val_loss: 0.9748 - val_acc: 0.7179\n",
      "Epoch 74/100\n",
      " - 10s - loss: 0.4405 - acc: 0.8412 - val_loss: 0.9727 - val_acc: 0.7204\n",
      "Epoch 75/100\n",
      " - 9s - loss: 0.4363 - acc: 0.8437 - val_loss: 1.0045 - val_acc: 0.7218\n",
      "Epoch 76/100\n",
      " - 10s - loss: 0.4364 - acc: 0.8416 - val_loss: 0.9947 - val_acc: 0.7211\n",
      "Epoch 77/100\n",
      " - 10s - loss: 0.4330 - acc: 0.8440 - val_loss: 0.9893 - val_acc: 0.7159\n",
      "Epoch 78/100\n",
      " - 9s - loss: 0.4252 - acc: 0.8459 - val_loss: 1.0102 - val_acc: 0.7221\n",
      "Epoch 79/100\n",
      " - 10s - loss: 0.4257 - acc: 0.8460 - val_loss: 1.0130 - val_acc: 0.7216\n",
      "Epoch 80/100\n",
      " - 9s - loss: 0.4287 - acc: 0.8455 - val_loss: 1.0328 - val_acc: 0.7223\n",
      "Epoch 81/100\n",
      " - 10s - loss: 0.4216 - acc: 0.8471 - val_loss: 1.0168 - val_acc: 0.7190\n",
      "Epoch 82/100\n",
      " - 10s - loss: 0.4179 - acc: 0.8493 - val_loss: 1.0172 - val_acc: 0.7178\n",
      "Epoch 83/100\n",
      " - 9s - loss: 0.4147 - acc: 0.8509 - val_loss: 1.0530 - val_acc: 0.7216\n",
      "Epoch 84/100\n",
      " - 9s - loss: 0.4162 - acc: 0.8493 - val_loss: 1.0112 - val_acc: 0.7180\n",
      "Epoch 85/100\n",
      " - 9s - loss: 0.4122 - acc: 0.8498 - val_loss: 1.0424 - val_acc: 0.7193\n",
      "Epoch 86/100\n",
      " - 11s - loss: 0.4082 - acc: 0.8534 - val_loss: 1.0476 - val_acc: 0.7198\n",
      "Epoch 87/100\n",
      " - 9s - loss: 0.4096 - acc: 0.8509 - val_loss: 1.0599 - val_acc: 0.7186\n",
      "Epoch 88/100\n",
      " - 9s - loss: 0.4091 - acc: 0.8510 - val_loss: 1.0416 - val_acc: 0.7187\n",
      "Epoch 89/100\n",
      " - 10s - loss: 0.4055 - acc: 0.8537 - val_loss: 1.0455 - val_acc: 0.7162\n",
      "Epoch 90/100\n",
      " - 8s - loss: 0.4032 - acc: 0.8527 - val_loss: 1.0668 - val_acc: 0.7189\n",
      "Epoch 91/100\n",
      " - 10s - loss: 0.3971 - acc: 0.8565 - val_loss: 1.0414 - val_acc: 0.7175\n",
      "Epoch 92/100\n",
      " - 12s - loss: 0.3963 - acc: 0.8574 - val_loss: 1.0597 - val_acc: 0.7178\n",
      "Epoch 93/100\n",
      " - 12s - loss: 0.3980 - acc: 0.8560 - val_loss: 1.0880 - val_acc: 0.7157\n",
      "Epoch 94/100\n",
      " - 15s - loss: 0.3925 - acc: 0.8573 - val_loss: 1.0582 - val_acc: 0.7112\n",
      "Epoch 95/100\n",
      " - 16s - loss: 0.3905 - acc: 0.8589 - val_loss: 1.0551 - val_acc: 0.7173\n",
      "Epoch 96/100\n",
      " - 15s - loss: 0.3895 - acc: 0.8574 - val_loss: 1.0683 - val_acc: 0.7179\n"
     ]
    },
    {
     "name": "stdout",
     "output_type": "stream",
     "text": [
      "Epoch 97/100\n",
      " - 12s - loss: 0.3870 - acc: 0.8593 - val_loss: 1.0516 - val_acc: 0.7171\n",
      "Epoch 98/100\n",
      " - 11s - loss: 0.3868 - acc: 0.8590 - val_loss: 1.0697 - val_acc: 0.7156\n",
      "Epoch 99/100\n",
      " - 10s - loss: 0.3842 - acc: 0.8599 - val_loss: 1.0861 - val_acc: 0.7157\n",
      "Epoch 100/100\n",
      " - 7s - loss: 0.3781 - acc: 0.8625 - val_loss: 1.0945 - val_acc: 0.7175\n"
     ]
    },
    {
     "data": {
      "text/plain": [
       "'0:12:33.488829'"
      ]
     },
     "execution_count": 24,
     "metadata": {},
     "output_type": "execute_result"
    }
   ],
   "source": [
    "start = datetime.now()\n",
    "hist_3hl = model_3hl.fit(X, y, validation_split=0.25, batch_size=2000)\n",
    "end = datetime.now()\n",
    "str(end-start)"
   ]
  },
  {
   "cell_type": "code",
   "execution_count": 25,
   "metadata": {},
   "outputs": [
    {
     "data": {
      "image/png": "[encoded data removed]",
      "text/plain": [
       "<Figure size 432x288 with 1 Axes>"
      ]
     },
     "metadata": {
      "needs_background": "light"
     },
     "output_type": "display_data"
    }
   ],
   "source": [
    "plt.plot(hist_3hl.history['acc'])\n",
    "plt.plot(hist_3hl.history['val_acc'])\n",
    "plt.title('model accuracy')\n",
    "plt.ylabel('accuracy')\n",
    "plt.xlabel('epoch')\n",
    "plt.legend(['train', 'val'], loc='upper left')\n",
    "plt.show()"
   ]
  },
  {
   "cell_type": "code",
   "execution_count": 26,
   "metadata": {},
   "outputs": [
    {
     "data": {
      "image/png": "[encoded data removed]",
      "text/plain": [
       "<Figure size 432x288 with 1 Axes>"
      ]
     },
     "metadata": {
      "needs_background": "light"
     },
     "output_type": "display_data"
    }
   ],
   "source": [
    "plt.plot(hist_3hl.history['loss'])\n",
    "plt.plot(hist_3hl.history['val_loss'])\n",
    "plt.title('model loss')\n",
    "plt.ylabel('loss')\n",
    "plt.xlabel('epoch')\n",
    "plt.legend(['train', 'val'], loc='upper left')\n",
    "plt.show()"
   ]
  },
  {
   "cell_type": "code",
   "execution_count": 28,
   "metadata": {},
   "outputs": [
    {
     "data": {
      "image/png": "[encoded data removed]",
      "text/plain": [
       "<Figure size 432x288 with 1 Axes>"
      ]
     },
     "metadata": {
      "needs_background": "light"
     },
     "output_type": "display_data"
    }
   ],
   "source": [
    "plt.plot(hist_3hl.history['acc'][10:40])\n",
    "plt.plot(hist_3hl.history['val_acc'][10:40])\n",
    "plt.title('model accuracy')\n",
    "plt.ylabel('accuracy')\n",
    "plt.xlabel('epoch')\n",
    "plt.legend(['train', 'val'], loc='upper left')\n",
    "plt.show()"
   ]
  },
  {
   "cell_type": "code",
   "execution_count": 29,
   "metadata": {
    "scrolled": true
   },
   "outputs": [
    {
     "data": {
      "image/png": "[encoded data removed]",
      "text/plain": [
       "<Figure size 432x288 with 1 Axes>"
      ]
     },
     "metadata": {
      "needs_background": "light"
     },
     "output_type": "display_data"
    }
   ],
   "source": [
    "plt.plot(hist_3hl.history['loss'][10:40])\n",
    "plt.plot(hist_3hl.history['val_loss'][10:40])\n",
    "plt.title('model loss')\n",
    "plt.ylabel('loss')\n",
    "plt.xlabel('epoch')\n",
    "plt.legend(['train', 'val'], loc='upper left')\n",
    "plt.show()"
   ]
  },
  {
   "cell_type": "code",
   "execution_count": null,
   "metadata": {},
   "outputs": [],
   "source": []
  },
  {
   "cell_type": "code",
   "execution_count": 35,
   "metadata": {},
   "outputs": [],
   "source": [
    "callbacks = [EarlyStopping(monitor=\"val_acc\", patience=20), \n",
    "             ModelCheckpoint(filepath=\"best_model.h5\", monitor=\"val_acc\", save_best_only=True)]"
   ]
  },
  {
   "cell_type": "code",
   "execution_count": 36,
   "metadata": {},
   "outputs": [
    {
     "name": "stderr",
     "output_type": "stream",
     "text": [
      "C:\\Users\\Xiuquan\\Anaconda3\\lib\\site-packages\\ipykernel_launcher.py:3: UserWarning: Update your `Dense` call to the Keras 2 API: `Dense(activation=\"relu\", input_dim=350, units=400)`\n",
      "  This is separate from the ipykernel package so we can avoid doing imports until\n",
      "C:\\Users\\Xiuquan\\Anaconda3\\lib\\site-packages\\ipykernel_launcher.py:5: UserWarning: Update your `Dense` call to the Keras 2 API: `Dense(activation=\"relu\", units=200)`\n",
      "  \"\"\"\n",
      "C:\\Users\\Xiuquan\\Anaconda3\\lib\\site-packages\\ipykernel_launcher.py:7: UserWarning: Update your `Dense` call to the Keras 2 API: `Dense(activation=\"relu\", units=200)`\n",
      "  import sys\n",
      "C:\\Users\\Xiuquan\\Anaconda3\\lib\\site-packages\\ipykernel_launcher.py:10: UserWarning: Update your `Dense` call to the Keras 2 API: `Dense(activation=\"softmax\", units=38)`\n",
      "  # Remove the CWD from sys.path while we load stuff.\n"
     ]
    },
    {
     "name": "stdout",
     "output_type": "stream",
     "text": [
      "Train on 71755 samples, validate on 23919 samples\n",
      "Epoch 1/60\n",
      " - 8s - loss: 1.9338 - acc: 0.4849 - val_loss: 1.2089 - val_acc: 0.6456\n",
      "Epoch 2/60\n",
      " - 6s - loss: 1.2151 - acc: 0.6421 - val_loss: 0.9997 - val_acc: 0.6897\n",
      "Epoch 3/60\n",
      " - 7s - loss: 1.0696 - acc: 0.6712 - val_loss: 0.9135 - val_acc: 0.7098\n",
      "Epoch 4/60\n",
      " - 6s - loss: 0.9975 - acc: 0.6859 - val_loss: 0.9274 - val_acc: 0.6983\n",
      "Epoch 5/60\n",
      " - 7s - loss: 0.9500 - acc: 0.6954 - val_loss: 0.8622 - val_acc: 0.7153\n",
      "Epoch 6/60\n",
      " - 7s - loss: 0.9108 - acc: 0.7043 - val_loss: 0.8617 - val_acc: 0.7110\n",
      "Epoch 7/60\n",
      " - 6s - loss: 0.8838 - acc: 0.7102 - val_loss: 0.8355 - val_acc: 0.7206\n",
      "Epoch 8/60\n",
      " - 7s - loss: 0.8600 - acc: 0.7161 - val_loss: 0.8286 - val_acc: 0.7187\n",
      "Epoch 9/60\n",
      " - 6s - loss: 0.8346 - acc: 0.7207 - val_loss: 0.8712 - val_acc: 0.6992\n",
      "Epoch 10/60\n",
      " - 7s - loss: 0.8112 - acc: 0.7281 - val_loss: 0.8175 - val_acc: 0.7199\n",
      "Epoch 11/60\n",
      " - 7s - loss: 0.7908 - acc: 0.7310 - val_loss: 0.8000 - val_acc: 0.7263\n",
      "Epoch 12/60\n",
      " - 7s - loss: 0.7709 - acc: 0.7384 - val_loss: 0.8238 - val_acc: 0.7219\n",
      "Epoch 13/60\n",
      " - 7s - loss: 0.7588 - acc: 0.7401 - val_loss: 0.7931 - val_acc: 0.7298\n",
      "Epoch 14/60\n",
      " - 6s - loss: 0.7431 - acc: 0.7453 - val_loss: 0.7960 - val_acc: 0.7311\n",
      "Epoch 15/60\n",
      " - 7s - loss: 0.7326 - acc: 0.7491 - val_loss: 0.7896 - val_acc: 0.7330\n",
      "Epoch 16/60\n",
      " - 6s - loss: 0.7131 - acc: 0.7531 - val_loss: 0.7910 - val_acc: 0.7329\n",
      "Epoch 17/60\n",
      " - 7s - loss: 0.7023 - acc: 0.7581 - val_loss: 0.8014 - val_acc: 0.7288\n",
      "Epoch 18/60\n",
      " - 7s - loss: 0.6891 - acc: 0.7595 - val_loss: 0.7980 - val_acc: 0.7276\n",
      "Epoch 19/60\n",
      " - 7s - loss: 0.6750 - acc: 0.7657 - val_loss: 0.8043 - val_acc: 0.7308\n",
      "Epoch 20/60\n",
      " - 7s - loss: 0.6649 - acc: 0.7675 - val_loss: 0.8126 - val_acc: 0.7277\n",
      "Epoch 21/60\n",
      " - 7s - loss: 0.6564 - acc: 0.7720 - val_loss: 0.7984 - val_acc: 0.7305\n",
      "Epoch 22/60\n",
      " - 7s - loss: 0.6434 - acc: 0.7746 - val_loss: 0.8023 - val_acc: 0.7309\n",
      "Epoch 23/60\n",
      " - 7s - loss: 0.6318 - acc: 0.7777 - val_loss: 0.8245 - val_acc: 0.7282\n",
      "Epoch 24/60\n",
      " - 7s - loss: 0.6199 - acc: 0.7823 - val_loss: 0.8228 - val_acc: 0.7256\n",
      "Epoch 25/60\n",
      " - 7s - loss: 0.6173 - acc: 0.7817 - val_loss: 0.8261 - val_acc: 0.7240\n",
      "Epoch 26/60\n",
      " - 7s - loss: 0.6046 - acc: 0.7873 - val_loss: 0.8125 - val_acc: 0.7302\n",
      "Epoch 27/60\n",
      " - 7s - loss: 0.5965 - acc: 0.7889 - val_loss: 0.8340 - val_acc: 0.7266\n",
      "Epoch 28/60\n",
      " - 6s - loss: 0.5888 - acc: 0.7920 - val_loss: 0.8401 - val_acc: 0.7237\n",
      "Epoch 29/60\n",
      " - 7s - loss: 0.5765 - acc: 0.7947 - val_loss: 0.8540 - val_acc: 0.7281\n",
      "Epoch 30/60\n",
      " - 7s - loss: 0.5699 - acc: 0.7978 - val_loss: 0.8462 - val_acc: 0.7264\n",
      "Epoch 31/60\n",
      " - 8s - loss: 0.5606 - acc: 0.7992 - val_loss: 0.8557 - val_acc: 0.7260\n",
      "Epoch 32/60\n",
      " - 8s - loss: 0.5555 - acc: 0.8027 - val_loss: 0.8795 - val_acc: 0.7209\n",
      "Epoch 33/60\n",
      " - 8s - loss: 0.5466 - acc: 0.8049 - val_loss: 0.8548 - val_acc: 0.7248\n",
      "Epoch 34/60\n",
      " - 7s - loss: 0.5419 - acc: 0.8072 - val_loss: 0.8684 - val_acc: 0.7260\n",
      "Epoch 35/60\n",
      " - 8s - loss: 0.5316 - acc: 0.8087 - val_loss: 0.9123 - val_acc: 0.7187\n"
     ]
    },
    {
     "data": {
      "text/plain": [
       "'0:04:05.028675'"
      ]
     },
     "execution_count": 36,
     "metadata": {},
     "output_type": "execute_result"
    }
   ],
   "source": [
    "start = datetime.now()\n",
    "hist_3hl = model_3hl.fit(X, y, validation_split=0.25, epochs=60, batch_size=1000, callbacks=callbacks)\n",
    "end = datetime.now()\n",
    "str(end-start)"
   ]
  },
  {
   "cell_type": "code",
   "execution_count": 37,
   "metadata": {},
   "outputs": [
    {
     "data": {
      "image/png": "[encoded data removed]",
      "text/plain": [
       "<Figure size 432x288 with 1 Axes>"
      ]
     },
     "metadata": {
      "needs_background": "light"
     },
     "output_type": "display_data"
    }
   ],
   "source": [
    "plt.plot(hist_3hl.history['acc'])\n",
    "plt.plot(hist_3hl.history['val_acc'])\n",
    "plt.title('model accuracy')\n",
    "plt.ylabel('accuracy')\n",
    "plt.xlabel('epoch')\n",
    "plt.legend(['train', 'val'], loc='upper left')\n",
    "plt.show()"
   ]
  },
  {
   "cell_type": "code",
   "execution_count": 38,
   "metadata": {},
   "outputs": [
    {
     "data": {
      "image/png": "[encoded data removed]",
      "text/plain": [
       "<Figure size 432x288 with 1 Axes>"
      ]
     },
     "metadata": {
      "needs_background": "light"
     },
     "output_type": "display_data"
    }
   ],
   "source": [
    "plt.plot(hist_3hl.history['loss'])\n",
    "plt.plot(hist_3hl.history['val_loss'])\n",
    "plt.title('model loss')\n",
    "plt.ylabel('loss')\n",
    "plt.xlabel('epoch')\n",
    "plt.legend(['train', 'val'], loc='upper left')\n",
    "plt.show()"
   ]
  },
  {
   "cell_type": "code",
   "execution_count": null,
   "metadata": {},
   "outputs": [],
   "source": []
  },
  {
   "cell_type": "code",
   "execution_count": 43,
   "metadata": {},
   "outputs": [],
   "source": [
    "def create_model_3hl(nodes_l1=400, nodes_l2=200, nodes_l3=100, dropout_l1=0.2, dropout_l2=0.2, dropout_l3=0.2):\n",
    "    model = Sequential()\n",
    "    model.add(Dense(output_dim=nodes_l1, activation=\"relu\", input_dim=len(X.columns)))\n",
    "    model.add(Dropout(dropout_l1))\n",
    "    model.add(Dense(output_dim=nodes_l2, activation=\"relu\"))\n",
    "    model.add(Dropout(dropout_l2))\n",
    "    model.add(Dense(output_dim=nodes_l3, activation=\"relu\"))\n",
    "    model.add(Dropout(dropout_l3))\n",
    "            \n",
    "    model.add(Dense(output_dim=len(trip_types), activation=\"softmax\"))\n",
    "    \n",
    "    model.compile(loss=\"categorical_crossentropy\", optimizer=\"rmsprop\", metrics=[\"accuracy\"])\n",
    "    \n",
    "    return model"
   ]
  },
  {
   "cell_type": "code",
   "execution_count": 44,
   "metadata": {},
   "outputs": [],
   "source": [
    "model_3hl = KerasClassifier(build_fn=create_model_3hl, epochs=70, batch_size=1000, verbose=2)"
   ]
  },
  {
   "cell_type": "code",
   "execution_count": 45,
   "metadata": {},
   "outputs": [],
   "source": [
    "callbacks = [EarlyStopping(monitor=\"val_acc\", patience=20), \n",
    "             ModelCheckpoint(filepath=\"best_model.h5\", monitor=\"val_acc\", save_best_only=True)]"
   ]
  },
  {
   "cell_type": "code",
   "execution_count": 46,
   "metadata": {},
   "outputs": [
    {
     "name": "stderr",
     "output_type": "stream",
     "text": [
      "C:\\Users\\Xiuquan\\Anaconda3\\lib\\site-packages\\ipykernel_launcher.py:3: UserWarning: Update your `Dense` call to the Keras 2 API: `Dense(activation=\"relu\", input_dim=350, units=400)`\n",
      "  This is separate from the ipykernel package so we can avoid doing imports until\n",
      "C:\\Users\\Xiuquan\\Anaconda3\\lib\\site-packages\\ipykernel_launcher.py:5: UserWarning: Update your `Dense` call to the Keras 2 API: `Dense(activation=\"relu\", units=200)`\n",
      "  \"\"\"\n",
      "C:\\Users\\Xiuquan\\Anaconda3\\lib\\site-packages\\ipykernel_launcher.py:7: UserWarning: Update your `Dense` call to the Keras 2 API: `Dense(activation=\"relu\", units=100)`\n",
      "  import sys\n",
      "C:\\Users\\Xiuquan\\Anaconda3\\lib\\site-packages\\ipykernel_launcher.py:10: UserWarning: Update your `Dense` call to the Keras 2 API: `Dense(activation=\"softmax\", units=38)`\n",
      "  # Remove the CWD from sys.path while we load stuff.\n"
     ]
    },
    {
     "name": "stdout",
     "output_type": "stream",
     "text": [
      "Train on 71755 samples, validate on 23919 samples\n",
      "Epoch 1/60\n",
      " - 8s - loss: 2.0256 - acc: 0.4687 - val_loss: 1.2208 - val_acc: 0.6563\n",
      "Epoch 2/60\n",
      " - 6s - loss: 1.2724 - acc: 0.6356 - val_loss: 1.0121 - val_acc: 0.6982\n",
      "Epoch 3/60\n",
      " - 6s - loss: 1.1192 - acc: 0.6647 - val_loss: 0.9800 - val_acc: 0.6895\n",
      "Epoch 4/60\n",
      " - 7s - loss: 1.0416 - acc: 0.6795 - val_loss: 0.9108 - val_acc: 0.7131\n",
      "Epoch 5/60\n",
      " - 6s - loss: 0.9845 - acc: 0.6933 - val_loss: 0.8809 - val_acc: 0.7178\n",
      "Epoch 6/60\n",
      " - 6s - loss: 0.9473 - acc: 0.6999 - val_loss: 0.8855 - val_acc: 0.7085\n",
      "Epoch 7/60\n",
      " - 6s - loss: 0.9155 - acc: 0.7083 - val_loss: 0.8501 - val_acc: 0.7233\n",
      "Epoch 8/60\n",
      " - 6s - loss: 0.8924 - acc: 0.7112 - val_loss: 0.8468 - val_acc: 0.7224\n",
      "Epoch 9/60\n",
      " - 6s - loss: 0.8655 - acc: 0.7184 - val_loss: 0.8390 - val_acc: 0.7239\n",
      "Epoch 10/60\n",
      " - 6s - loss: 0.8481 - acc: 0.7233 - val_loss: 0.8178 - val_acc: 0.7288\n",
      "Epoch 11/60\n",
      " - 6s - loss: 0.8276 - acc: 0.7278 - val_loss: 0.8103 - val_acc: 0.7312\n",
      "Epoch 12/60\n",
      " - 6s - loss: 0.8062 - acc: 0.7335 - val_loss: 0.8174 - val_acc: 0.7283\n",
      "Epoch 13/60\n",
      " - 6s - loss: 0.7936 - acc: 0.7348 - val_loss: 0.8195 - val_acc: 0.7295\n",
      "Epoch 14/60\n",
      " - 7s - loss: 0.7739 - acc: 0.7432 - val_loss: 0.8037 - val_acc: 0.7320\n",
      "Epoch 15/60\n",
      " - 6s - loss: 0.7582 - acc: 0.7465 - val_loss: 0.8343 - val_acc: 0.7199\n",
      "Epoch 16/60\n",
      " - 6s - loss: 0.7464 - acc: 0.7486 - val_loss: 0.7973 - val_acc: 0.7344\n",
      "Epoch 17/60\n",
      " - 6s - loss: 0.7367 - acc: 0.7532 - val_loss: 0.7965 - val_acc: 0.7339\n",
      "Epoch 18/60\n",
      " - 6s - loss: 0.7215 - acc: 0.7583 - val_loss: 0.8055 - val_acc: 0.7342\n",
      "Epoch 19/60\n",
      " - 7s - loss: 0.7100 - acc: 0.7601 - val_loss: 0.8035 - val_acc: 0.7320\n",
      "Epoch 20/60\n",
      " - 6s - loss: 0.7000 - acc: 0.7618 - val_loss: 0.8009 - val_acc: 0.7295\n",
      "Epoch 21/60\n",
      " - 6s - loss: 0.6877 - acc: 0.7650 - val_loss: 0.8117 - val_acc: 0.7300\n",
      "Epoch 22/60\n",
      " - 6s - loss: 0.6770 - acc: 0.7679 - val_loss: 0.8252 - val_acc: 0.7254\n",
      "Epoch 23/60\n",
      " - 6s - loss: 0.6658 - acc: 0.7720 - val_loss: 0.8114 - val_acc: 0.7305\n",
      "Epoch 24/60\n",
      " - 6s - loss: 0.6568 - acc: 0.7773 - val_loss: 0.8138 - val_acc: 0.7322\n",
      "Epoch 25/60\n",
      " - 6s - loss: 0.6468 - acc: 0.7784 - val_loss: 0.8171 - val_acc: 0.7351\n",
      "Epoch 26/60\n",
      " - 7s - loss: 0.6389 - acc: 0.7799 - val_loss: 0.8290 - val_acc: 0.7303\n",
      "Epoch 27/60\n",
      " - 6s - loss: 0.6264 - acc: 0.7840 - val_loss: 0.8319 - val_acc: 0.7275\n",
      "Epoch 28/60\n",
      " - 6s - loss: 0.6179 - acc: 0.7871 - val_loss: 0.8365 - val_acc: 0.7282\n",
      "Epoch 29/60\n",
      " - 7s - loss: 0.6128 - acc: 0.7882 - val_loss: 0.8324 - val_acc: 0.7276\n",
      "Epoch 30/60\n",
      " - 6s - loss: 0.6063 - acc: 0.7902 - val_loss: 0.8382 - val_acc: 0.7299\n",
      "Epoch 31/60\n",
      " - 6s - loss: 0.5963 - acc: 0.7932 - val_loss: 0.8439 - val_acc: 0.7285\n",
      "Epoch 32/60\n",
      " - 6s - loss: 0.5882 - acc: 0.7955 - val_loss: 0.8556 - val_acc: 0.7295\n",
      "Epoch 33/60\n",
      " - 6s - loss: 0.5807 - acc: 0.7976 - val_loss: 0.8634 - val_acc: 0.7273\n",
      "Epoch 34/60\n",
      " - 7s - loss: 0.5748 - acc: 0.8013 - val_loss: 0.8526 - val_acc: 0.7288\n",
      "Epoch 35/60\n",
      " - 6s - loss: 0.5672 - acc: 0.8018 - val_loss: 0.8679 - val_acc: 0.7290\n",
      "Epoch 36/60\n",
      " - 7s - loss: 0.5603 - acc: 0.8037 - val_loss: 0.8743 - val_acc: 0.7272\n",
      "Epoch 37/60\n",
      " - 7s - loss: 0.5539 - acc: 0.8067 - val_loss: 0.8920 - val_acc: 0.7262\n",
      "Epoch 38/60\n",
      " - 6s - loss: 0.5457 - acc: 0.8086 - val_loss: 0.8826 - val_acc: 0.7240\n",
      "Epoch 39/60\n",
      " - 8s - loss: 0.5390 - acc: 0.8097 - val_loss: 0.8946 - val_acc: 0.7255\n",
      "Epoch 40/60\n",
      " - 6s - loss: 0.5373 - acc: 0.8116 - val_loss: 0.9083 - val_acc: 0.7269\n",
      "Epoch 41/60\n",
      " - 6s - loss: 0.5291 - acc: 0.8156 - val_loss: 0.8978 - val_acc: 0.7246\n",
      "Epoch 42/60\n",
      " - 6s - loss: 0.5277 - acc: 0.8142 - val_loss: 0.8989 - val_acc: 0.7240\n",
      "Epoch 43/60\n",
      " - 6s - loss: 0.5169 - acc: 0.8181 - val_loss: 0.9220 - val_acc: 0.7219\n",
      "Epoch 44/60\n",
      " - 7s - loss: 0.5125 - acc: 0.8195 - val_loss: 0.9297 - val_acc: 0.7237\n",
      "Epoch 45/60\n",
      " - 7s - loss: 0.5064 - acc: 0.8219 - val_loss: 0.9306 - val_acc: 0.7226\n"
     ]
    },
    {
     "data": {
      "text/plain": [
       "'0:04:52.746045'"
      ]
     },
     "execution_count": 46,
     "metadata": {},
     "output_type": "execute_result"
    }
   ],
   "source": [
    "start = datetime.now()\n",
    "hist_3hl = model_3hl.fit(X, y, validation_split=0.25, epochs=60, batch_size=1000, callbacks=callbacks)\n",
    "end = datetime.now()\n",
    "str(end-start)"
   ]
  },
  {
   "cell_type": "code",
   "execution_count": 47,
   "metadata": {},
   "outputs": [
    {
     "data": {
      "image/png": "[encoded data removed]",
      "text/plain": [
       "<Figure size 432x288 with 1 Axes>"
      ]
     },
     "metadata": {
      "needs_background": "light"
     },
     "output_type": "display_data"
    }
   ],
   "source": [
    "plt.plot(hist_3hl.history['acc'])\n",
    "plt.plot(hist_3hl.history['val_acc'])\n",
    "plt.title('model accuracy')\n",
    "plt.ylabel('accuracy')\n",
    "plt.xlabel('epoch')\n",
    "plt.legend(['train', 'val'], loc='upper left')\n",
    "plt.show()"
   ]
  },
  {
   "cell_type": "code",
   "execution_count": 48,
   "metadata": {},
   "outputs": [
    {
     "data": {
      "image/png": "[encoded data removed]",
      "text/plain": [
       "<Figure size 432x288 with 1 Axes>"
      ]
     },
     "metadata": {
      "needs_background": "light"
     },
     "output_type": "display_data"
    }
   ],
   "source": [
    "plt.plot(hist_3hl.history['loss'])\n",
    "plt.plot(hist_3hl.history['val_loss'])\n",
    "plt.title('model loss')\n",
    "plt.ylabel('loss')\n",
    "plt.xlabel('epoch')\n",
    "plt.legend(['train', 'val'], loc='upper left')\n",
    "plt.show()"
   ]
  },
  {
   "cell_type": "code",
   "execution_count": 50,
   "metadata": {},
   "outputs": [
    {
     "data": {
      "image/png": "[encoded data removed]",
      "text/plain": [
       "<Figure size 432x288 with 1 Axes>"
      ]
     },
     "metadata": {
      "needs_background": "light"
     },
     "output_type": "display_data"
    }
   ],
   "source": [
    "plt.plot(hist_3hl.history['acc'][10:31])\n",
    "plt.plot(hist_3hl.history['val_acc'][10:31])\n",
    "plt.title('model accuracy')\n",
    "plt.ylabel('accuracy')\n",
    "plt.xlabel('epoch')\n",
    "plt.legend(['train', 'val'], loc='upper left')\n",
    "plt.show()"
   ]
  },
  {
   "cell_type": "code",
   "execution_count": 51,
   "metadata": {},
   "outputs": [
    {
     "data": {
      "image/png": "[encoded data removed]",
      "text/plain": [
       "<Figure size 432x288 with 1 Axes>"
      ]
     },
     "metadata": {
      "needs_background": "light"
     },
     "output_type": "display_data"
    }
   ],
   "source": [
    "plt.plot(hist_3hl.history['loss'][5:26])\n",
    "plt.plot(hist_3hl.history['val_loss'][5:26])\n",
    "plt.title('model loss')\n",
    "plt.ylabel('loss')\n",
    "plt.xlabel('epoch')\n",
    "plt.legend(['train', 'val'], loc='upper left')\n",
    "plt.show()"
   ]
  },
  {
   "cell_type": "code",
   "execution_count": 56,
   "metadata": {},
   "outputs": [
    {
     "data": {
      "text/plain": [
       "0.7964553129185082"
      ]
     },
     "execution_count": 56,
     "metadata": {},
     "output_type": "execute_result"
    }
   ],
   "source": [
    "min(hist_3hl.history['val_loss'])"
   ]
  }
 ],
 "metadata": {
  "kernelspec": {
   "display_name": "Python 3",
   "language": "python",
   "name": "python3"
  },
  "language_info": {
   "codemirror_mode": {
    "name": "ipython",
    "version": 3
   },
   "file_extension": ".py",
   "mimetype": "text/x-python",
   "name": "python",
   "nbconvert_exporter": "python",
   "pygments_lexer": "ipython3",
   "version": "3.7.3"
  }
 },
 "nbformat": 4,
 "nbformat_minor": 2
}
