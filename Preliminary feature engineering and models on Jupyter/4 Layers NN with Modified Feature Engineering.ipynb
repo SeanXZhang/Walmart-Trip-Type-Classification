{
 "cells": [
  {
   "cell_type": "code",
   "execution_count": 1,
   "metadata": {},
   "outputs": [],
   "source": [
    "import pandas as pd\n",
    "import numpy as np\n",
    "import calendar\n",
    "from time import time\n",
    "from datetime import datetime\n",
    "import re \n",
    "from sklearn.model_selection import train_test_split, StratifiedKFold, cross_val_score, cross_validate, RandomizedSearchCV\n",
    "from sklearn.metrics import log_loss, accuracy_score, classification_report\n",
    "import matplotlib.pyplot as plt\n",
    "%matplotlib inline"
   ]
  },
  {
   "cell_type": "code",
   "execution_count": 2,
   "metadata": {},
   "outputs": [],
   "source": [
    "data_train = pd.read_csv(\"train.csv\").replace(\"MENS WEAR\",\"MENSWEAR\")\n",
    "#data_train_orig = pd.read_csv(\"train.csv\").replace(\"MENS WEAR\",\"MENSWEAR\")"
   ]
  },
  {
   "cell_type": "code",
   "execution_count": 3,
   "metadata": {},
   "outputs": [],
   "source": [
    "dept_list = sorted(list(data_train.DepartmentDescription.dropna().unique()))"
   ]
  },
  {
   "cell_type": "code",
   "execution_count": 4,
   "metadata": {},
   "outputs": [],
   "source": [
    "weekdays = list(calendar.day_name)\n",
    "dept_list_sum = dict.fromkeys(dept_list, np.sum)\n",
    "weekday_dict = dict.fromkeys(weekdays, np.max)\n",
    "feature_dict = {\"TripType\": np.max, 'NumItems': np.sum, 'Return': np.max}\n",
    "feature_dict = {**feature_dict, **weekday_dict, **dept_list_sum}"
   ]
  },
  {
   "cell_type": "code",
   "execution_count": 5,
   "metadata": {},
   "outputs": [],
   "source": [
    "def transform_data(data):\n",
    "    dummies = pd.get_dummies(data.Weekday)\n",
    "    data[dummies.columns] = dummies\n",
    "    \n",
    "    dummies = pd.get_dummies(data.DepartmentDescription)\n",
    "    dummies = dummies.apply(lambda x: x*data[\"ScanCount\"])\n",
    "    data[dummies.columns] = dummies \n",
    "\n",
    "    data.loc[data.ScanCount < 0, 'Return'] = 1\n",
    "    data.loc[data.Return != 1, 'Return'] = 0\n",
    "    \n",
    "    data = data.rename(columns={\"ScanCount\":\"NumItems\"})\n",
    "    \n",
    "    grouped = data.groupby(\"VisitNumber\")\n",
    "    grouped = grouped.aggregate(feature_dict)\n",
    "    data = grouped[[\"TripType\", \"NumItems\", \"Return\"] + weekdays + dept_list]\n",
    "\n",
    "    return data"
   ]
  },
  {
   "cell_type": "code",
   "execution_count": 6,
   "metadata": {},
   "outputs": [],
   "source": [
    "data_new = transform_data(data_train)"
   ]
  },
  {
   "cell_type": "code",
   "execution_count": 7,
   "metadata": {},
   "outputs": [],
   "source": [
    "def add_category_counts(data):\n",
    "    alist = []\n",
    "    for array in np.asarray(data.loc[:, dept_list[0]:]):\n",
    "        count = 0\n",
    "        count = sum(x > 0 for x in array)\n",
    "        alist.append(count)\n",
    "    cat_counts = pd.DataFrame(alist)\n",
    "    cat_counts = cat_counts.rename(columns={0:\"CategoryCount\"})\n",
    "    cat_counts = cat_counts.set_index(data.index)\n",
    "    data.insert(3, 'CategoryCounts', cat_counts)\n",
    "    return data"
   ]
  },
  {
   "cell_type": "code",
   "execution_count": 8,
   "metadata": {},
   "outputs": [],
   "source": [
    "data_new = add_category_counts(data_new)"
   ]
  },
  {
   "cell_type": "code",
   "execution_count": 9,
   "metadata": {},
   "outputs": [
    {
     "data": {
      "text/plain": [
       "(95674, 78)"
      ]
     },
     "execution_count": 9,
     "metadata": {},
     "output_type": "execute_result"
    }
   ],
   "source": [
    "data_new.shape"
   ]
  },
  {
   "cell_type": "code",
   "execution_count": 10,
   "metadata": {},
   "outputs": [],
   "source": [
    "def fineline_dummies(data):\n",
    "    values = data.FinelineNumber\n",
    "    counts = values.value_counts()\n",
    "    mask = values.isin(counts[counts > 500].index)\n",
    "    values[~mask] = \"-\"\n",
    "    dummies = pd.get_dummies(values).drop('-', axis=1)\n",
    "\n",
    "    dummies.columns = ['fln_'+str(col) for col in dummies.columns]\n",
    "    dummies = pd.concat([dummies, data.VisitNumber], axis=1)\n",
    "    dummies = dummies.groupby(\"VisitNumber\")\n",
    "    dummies = dummies.aggregate(np.sum)\n",
    "    return dummies"
   ]
  },
  {
   "cell_type": "code",
   "execution_count": 11,
   "metadata": {},
   "outputs": [
    {
     "name": "stderr",
     "output_type": "stream",
     "text": [
      "C:\\Users\\Xiuquan\\Anaconda3\\lib\\site-packages\\ipykernel_launcher.py:5: SettingWithCopyWarning: \n",
      "A value is trying to be set on a copy of a slice from a DataFrame\n",
      "\n",
      "See the caveats in the documentation: http://pandas.pydata.org/pandas-docs/stable/indexing.html#indexing-view-versus-copy\n",
      "  \"\"\"\n"
     ]
    },
    {
     "data": {
      "text/plain": [
       "'0:00:19.535202'"
      ]
     },
     "execution_count": 11,
     "metadata": {},
     "output_type": "execute_result"
    }
   ],
   "source": [
    "start = datetime.now()\n",
    "fln_dummies = fineline_dummies(data_train)\n",
    "end = datetime.now()\n",
    "str(end-start)"
   ]
  },
  {
   "cell_type": "code",
   "execution_count": 12,
   "metadata": {},
   "outputs": [],
   "source": [
    "data_new = data_new.join(fln_dummies)"
   ]
  },
  {
   "cell_type": "code",
   "execution_count": 13,
   "metadata": {},
   "outputs": [
    {
     "data": {
      "text/plain": [
       "(95674, 351)"
      ]
     },
     "execution_count": 13,
     "metadata": {},
     "output_type": "execute_result"
    }
   ],
   "source": [
    "data_new.shape"
   ]
  },
  {
   "cell_type": "code",
   "execution_count": 14,
   "metadata": {},
   "outputs": [],
   "source": [
    "def Upc_dummies(data):\n",
    "    values = data.Upc\n",
    "    counts = values.value_counts()\n",
    "    mask = values.isin(counts[counts > 300].index)\n",
    "    values[~mask] = \"-\"\n",
    "    dummies = pd.get_dummies(values).drop('-', axis=1)\n",
    "\n",
    "    dummies.columns = ['upc_'+str(col) for col in dummies.columns]\n",
    "    dummies = pd.concat([dummies, data.VisitNumber], axis=1)\n",
    "    dummies = dummies.groupby(\"VisitNumber\")\n",
    "    dummies = dummies.aggregate(np.sum)\n",
    "    return dummies"
   ]
  },
  {
   "cell_type": "code",
   "execution_count": 15,
   "metadata": {},
   "outputs": [
    {
     "name": "stderr",
     "output_type": "stream",
     "text": [
      "C:\\Users\\Xiuquan\\Anaconda3\\lib\\site-packages\\ipykernel_launcher.py:5: SettingWithCopyWarning: \n",
      "A value is trying to be set on a copy of a slice from a DataFrame\n",
      "\n",
      "See the caveats in the documentation: http://pandas.pydata.org/pandas-docs/stable/indexing.html#indexing-view-versus-copy\n",
      "  \"\"\"\n"
     ]
    },
    {
     "data": {
      "text/plain": [
       "'0:00:07.738239'"
      ]
     },
     "execution_count": 15,
     "metadata": {},
     "output_type": "execute_result"
    }
   ],
   "source": [
    "start = datetime.now()\n",
    "upc_dummies = Upc_dummies(data_train)\n",
    "end = datetime.now()\n",
    "str(end-start)"
   ]
  },
  {
   "cell_type": "code",
   "execution_count": 16,
   "metadata": {},
   "outputs": [],
   "source": [
    "data_new = data_new.join(upc_dummies)"
   ]
  },
  {
   "cell_type": "code",
   "execution_count": 17,
   "metadata": {},
   "outputs": [
    {
     "data": {
      "text/plain": [
       "(95674, 451)"
      ]
     },
     "execution_count": 17,
     "metadata": {},
     "output_type": "execute_result"
    }
   ],
   "source": [
    "data_new.shape"
   ]
  },
  {
   "cell_type": "code",
   "execution_count": 18,
   "metadata": {},
   "outputs": [
    {
     "name": "stderr",
     "output_type": "stream",
     "text": [
      "Using TensorFlow backend.\n"
     ]
    }
   ],
   "source": [
    "from keras.models import Sequential\n",
    "from keras.layers import Dense, Dropout, Input\n",
    "from keras.wrappers.scikit_learn import KerasClassifier\n",
    "from keras.utils.np_utils import to_categorical\n",
    "from keras import regularizers\n",
    "from keras.callbacks import EarlyStopping, ModelCheckpoint"
   ]
  },
  {
   "cell_type": "code",
   "execution_count": 19,
   "metadata": {},
   "outputs": [],
   "source": [
    "X = data_new.drop('TripType', axis=1)\n",
    "\n",
    "trip_types = sorted(data_train.TripType.unique())\n",
    "trip_types_map = dict(zip(trip_types, np.arange(0, len(trip_types))))\n",
    "y = data_new.TripType.map(trip_types_map)\n",
    "\n",
    "X_train, X_test, y_train, y_test = train_test_split(X, y, test_size=0.25, random_state=42)"
   ]
  },
  {
   "cell_type": "code",
   "execution_count": 20,
   "metadata": {},
   "outputs": [
    {
     "data": {
      "text/plain": [
       "450"
      ]
     },
     "execution_count": 20,
     "metadata": {},
     "output_type": "execute_result"
    }
   ],
   "source": [
    "len(X.columns)"
   ]
  },
  {
   "cell_type": "code",
   "execution_count": 21,
   "metadata": {},
   "outputs": [],
   "source": [
    "def create_model_4hl(nodes_l1=512, nodes_l2=256, nodes_l3=128, nodes_l4=64, dropout_l1=0.3, dropout_l2=0.3, dropout_l3=0.2, dropout_l4=0.2):\n",
    "    model = Sequential()\n",
    "    model.add(Dense(output_dim=nodes_l1, activation=\"relu\", input_dim=len(X.columns)))\n",
    "    model.add(Dropout(dropout_l1))\n",
    "    model.add(Dense(output_dim=nodes_l2, activation=\"relu\"))\n",
    "    model.add(Dropout(dropout_l2))\n",
    "    model.add(Dense(output_dim=nodes_l3, activation=\"relu\"))\n",
    "    model.add(Dropout(dropout_l3))\n",
    "    model.add(Dense(output_dim=nodes_l4, activation=\"relu\"))\n",
    "    model.add(Dropout(dropout_l3))\n",
    "            \n",
    "    model.add(Dense(output_dim=len(trip_types), activation=\"softmax\"))\n",
    "    \n",
    "    model.compile(loss=\"categorical_crossentropy\", optimizer=\"rmsprop\", metrics=[\"accuracy\"])\n",
    "    \n",
    "    return model"
   ]
  },
  {
   "cell_type": "code",
   "execution_count": 22,
   "metadata": {},
   "outputs": [],
   "source": [
    "model_4hl = KerasClassifier(build_fn=create_model_4hl, epochs=70, batch_size=1000, verbose=2)"
   ]
  },
  {
   "cell_type": "code",
   "execution_count": 23,
   "metadata": {},
   "outputs": [],
   "source": [
    "callbacks = [EarlyStopping(monitor=\"val_acc\", patience=20), \n",
    "             ModelCheckpoint(filepath=\"best_model.h5\", monitor=\"val_acc\", save_best_only=True)]"
   ]
  },
  {
   "cell_type": "code",
   "execution_count": 24,
   "metadata": {},
   "outputs": [
    {
     "name": "stderr",
     "output_type": "stream",
     "text": [
      "WARNING: Logging before flag parsing goes to stderr.\n",
      "W0911 12:33:32.019976  7888 deprecation_wrapper.py:119] From C:\\Users\\Xiuquan\\Anaconda3\\lib\\site-packages\\keras\\backend\\tensorflow_backend.py:66: The name tf.get_default_graph is deprecated. Please use tf.compat.v1.get_default_graph instead.\n",
      "\n",
      "C:\\Users\\Xiuquan\\Anaconda3\\lib\\site-packages\\ipykernel_launcher.py:3: UserWarning: Update your `Dense` call to the Keras 2 API: `Dense(activation=\"relu\", input_dim=450, units=512)`\n",
      "  This is separate from the ipykernel package so we can avoid doing imports until\n",
      "W0911 12:33:33.338793  7888 deprecation_wrapper.py:119] From C:\\Users\\Xiuquan\\Anaconda3\\lib\\site-packages\\keras\\backend\\tensorflow_backend.py:541: The name tf.placeholder is deprecated. Please use tf.compat.v1.placeholder instead.\n",
      "\n",
      "W0911 12:33:33.576646  7888 deprecation_wrapper.py:119] From C:\\Users\\Xiuquan\\Anaconda3\\lib\\site-packages\\keras\\backend\\tensorflow_backend.py:4432: The name tf.random_uniform is deprecated. Please use tf.random.uniform instead.\n",
      "\n",
      "W0911 12:33:33.679581  7888 deprecation_wrapper.py:119] From C:\\Users\\Xiuquan\\Anaconda3\\lib\\site-packages\\keras\\backend\\tensorflow_backend.py:148: The name tf.placeholder_with_default is deprecated. Please use tf.compat.v1.placeholder_with_default instead.\n",
      "\n",
      "W0911 12:33:33.746541  7888 deprecation.py:506] From C:\\Users\\Xiuquan\\Anaconda3\\lib\\site-packages\\keras\\backend\\tensorflow_backend.py:3733: calling dropout (from tensorflow.python.ops.nn_ops) with keep_prob is deprecated and will be removed in a future version.\n",
      "Instructions for updating:\n",
      "Please use `rate` instead of `keep_prob`. Rate should be set to `rate = 1 - keep_prob`.\n",
      "C:\\Users\\Xiuquan\\Anaconda3\\lib\\site-packages\\ipykernel_launcher.py:5: UserWarning: Update your `Dense` call to the Keras 2 API: `Dense(activation=\"relu\", units=256)`\n",
      "  \"\"\"\n",
      "C:\\Users\\Xiuquan\\Anaconda3\\lib\\site-packages\\ipykernel_launcher.py:7: UserWarning: Update your `Dense` call to the Keras 2 API: `Dense(activation=\"relu\", units=128)`\n",
      "  import sys\n",
      "C:\\Users\\Xiuquan\\Anaconda3\\lib\\site-packages\\ipykernel_launcher.py:9: UserWarning: Update your `Dense` call to the Keras 2 API: `Dense(activation=\"relu\", units=64)`\n",
      "  if __name__ == '__main__':\n",
      "C:\\Users\\Xiuquan\\Anaconda3\\lib\\site-packages\\ipykernel_launcher.py:12: UserWarning: Update your `Dense` call to the Keras 2 API: `Dense(activation=\"softmax\", units=38)`\n",
      "  if sys.path[0] == '':\n",
      "W0911 12:33:34.291204  7888 deprecation_wrapper.py:119] From C:\\Users\\Xiuquan\\Anaconda3\\lib\\site-packages\\keras\\optimizers.py:793: The name tf.train.Optimizer is deprecated. Please use tf.compat.v1.train.Optimizer instead.\n",
      "\n",
      "W0911 12:33:34.389147  7888 deprecation_wrapper.py:119] From C:\\Users\\Xiuquan\\Anaconda3\\lib\\site-packages\\keras\\backend\\tensorflow_backend.py:3576: The name tf.log is deprecated. Please use tf.math.log instead.\n",
      "\n",
      "W0911 12:33:36.045026  7888 deprecation.py:323] From C:\\Users\\Xiuquan\\Anaconda3\\lib\\site-packages\\tensorflow\\python\\ops\\math_grad.py:1250: add_dispatch_support.<locals>.wrapper (from tensorflow.python.ops.array_ops) is deprecated and will be removed in a future version.\n",
      "Instructions for updating:\n",
      "Use tf.where in 2.0, which has the same broadcast rule as np.where\n"
     ]
    },
    {
     "name": "stdout",
     "output_type": "stream",
     "text": [
      "Train on 71755 samples, validate on 23919 samples\n",
      "Epoch 1/100\n",
      " - 16s - loss: 2.2665 - acc: 0.4013 - val_loss: 1.3694 - val_acc: 0.6203\n",
      "Epoch 2/100\n",
      " - 13s - loss: 1.4656 - acc: 0.5970 - val_loss: 1.1624 - val_acc: 0.6693\n",
      "Epoch 3/100\n",
      " - 13s - loss: 1.2737 - acc: 0.6417 - val_loss: 1.0659 - val_acc: 0.6790\n",
      "Epoch 4/100\n",
      " - 13s - loss: 1.1692 - acc: 0.6643 - val_loss: 0.9846 - val_acc: 0.7048\n",
      "Epoch 5/100\n",
      " - 13s - loss: 1.1049 - acc: 0.6781 - val_loss: 0.9319 - val_acc: 0.7147\n",
      "Epoch 6/100\n",
      " - 12s - loss: 1.0582 - acc: 0.6852 - val_loss: 0.9124 - val_acc: 0.7177\n",
      "Epoch 7/100\n",
      " - 11s - loss: 1.0156 - acc: 0.6962 - val_loss: 0.9029 - val_acc: 0.7177\n",
      "Epoch 8/100\n",
      " - 12s - loss: 0.9824 - acc: 0.7052 - val_loss: 0.8799 - val_acc: 0.7229\n",
      "Epoch 9/100\n",
      " - 11s - loss: 0.9554 - acc: 0.7085 - val_loss: 0.8659 - val_acc: 0.7281\n",
      "Epoch 10/100\n",
      " - 11s - loss: 0.9288 - acc: 0.7158 - val_loss: 0.8763 - val_acc: 0.7193\n",
      "Epoch 11/100\n",
      " - 12s - loss: 0.9071 - acc: 0.7205 - val_loss: 0.8546 - val_acc: 0.7271\n",
      "Epoch 12/100\n",
      " - 12s - loss: 0.8879 - acc: 0.7248 - val_loss: 0.8577 - val_acc: 0.7282\n",
      "Epoch 13/100\n",
      " - 11s - loss: 0.8658 - acc: 0.7309 - val_loss: 0.8681 - val_acc: 0.7229\n",
      "Epoch 14/100\n",
      " - 12s - loss: 0.8474 - acc: 0.7342 - val_loss: 0.8433 - val_acc: 0.7330\n",
      "Epoch 15/100\n",
      " - 14s - loss: 0.8271 - acc: 0.7396 - val_loss: 0.8498 - val_acc: 0.7311\n",
      "Epoch 16/100\n",
      " - 13s - loss: 0.8161 - acc: 0.7440 - val_loss: 0.8442 - val_acc: 0.7314\n",
      "Epoch 17/100\n",
      " - 13s - loss: 0.7955 - acc: 0.7492 - val_loss: 0.8432 - val_acc: 0.7286\n",
      "Epoch 18/100\n",
      " - 12s - loss: 0.7855 - acc: 0.7517 - val_loss: 0.8632 - val_acc: 0.7244\n",
      "Epoch 19/100\n",
      " - 12s - loss: 0.7700 - acc: 0.7547 - val_loss: 0.8422 - val_acc: 0.7323\n",
      "Epoch 20/100\n",
      " - 12s - loss: 0.7585 - acc: 0.7582 - val_loss: 0.8378 - val_acc: 0.7339\n",
      "Epoch 21/100\n",
      " - 11s - loss: 0.7404 - acc: 0.7644 - val_loss: 0.8626 - val_acc: 0.7257\n",
      "Epoch 22/100\n",
      " - 12s - loss: 0.7311 - acc: 0.7662 - val_loss: 0.8631 - val_acc: 0.7304\n",
      "Epoch 23/100\n",
      " - 12s - loss: 0.7205 - acc: 0.7692 - val_loss: 0.8632 - val_acc: 0.7269\n",
      "Epoch 24/100\n",
      " - 12s - loss: 0.7101 - acc: 0.7716 - val_loss: 0.8632 - val_acc: 0.7295\n",
      "Epoch 25/100\n",
      " - 11s - loss: 0.6955 - acc: 0.7773 - val_loss: 0.8798 - val_acc: 0.7284\n",
      "Epoch 26/100\n",
      " - 11s - loss: 0.6888 - acc: 0.7786 - val_loss: 0.8727 - val_acc: 0.7308\n",
      "Epoch 27/100\n",
      " - 11s - loss: 0.6761 - acc: 0.7816 - val_loss: 0.8890 - val_acc: 0.7298\n",
      "Epoch 28/100\n",
      " - 11s - loss: 0.6652 - acc: 0.7847 - val_loss: 0.8931 - val_acc: 0.7300\n",
      "Epoch 29/100\n",
      " - 12s - loss: 0.6575 - acc: 0.7865 - val_loss: 0.8936 - val_acc: 0.7299\n",
      "Epoch 30/100\n",
      " - 11s - loss: 0.6499 - acc: 0.7888 - val_loss: 0.8856 - val_acc: 0.7251\n",
      "Epoch 31/100\n",
      " - 11s - loss: 0.6372 - acc: 0.7925 - val_loss: 0.9085 - val_acc: 0.7257\n",
      "Epoch 32/100\n",
      " - 10s - loss: 0.6307 - acc: 0.7956 - val_loss: 0.9116 - val_acc: 0.7281\n",
      "Epoch 33/100\n",
      " - 11s - loss: 0.6214 - acc: 0.7993 - val_loss: 0.9089 - val_acc: 0.7276\n",
      "Epoch 34/100\n",
      " - 11s - loss: 0.6152 - acc: 0.8000 - val_loss: 0.9377 - val_acc: 0.7258\n",
      "Epoch 35/100\n",
      " - 10s - loss: 0.6068 - acc: 0.8017 - val_loss: 0.9383 - val_acc: 0.7221\n",
      "Epoch 36/100\n",
      " - 12s - loss: 0.5978 - acc: 0.8039 - val_loss: 0.9263 - val_acc: 0.7254\n",
      "Epoch 37/100\n",
      " - 13s - loss: 0.5903 - acc: 0.8062 - val_loss: 0.9515 - val_acc: 0.7234\n",
      "Epoch 38/100\n",
      " - 12s - loss: 0.5825 - acc: 0.8097 - val_loss: 0.9401 - val_acc: 0.7226\n",
      "Epoch 39/100\n",
      " - 10s - loss: 0.5743 - acc: 0.8107 - val_loss: 0.9531 - val_acc: 0.7268\n",
      "Epoch 40/100\n",
      " - 11s - loss: 0.5706 - acc: 0.8131 - val_loss: 0.9894 - val_acc: 0.7234\n"
     ]
    },
    {
     "data": {
      "text/plain": [
       "'0:07:59.710780'"
      ]
     },
     "execution_count": 24,
     "metadata": {},
     "output_type": "execute_result"
    }
   ],
   "source": [
    "start = datetime.now()\n",
    "hist_4hl_a = model_4hl.fit(X, y, validation_split=0.25, epochs=100, callbacks=callbacks)\n",
    "end = datetime.now()\n",
    "str(end-start)"
   ]
  },
  {
   "cell_type": "code",
   "execution_count": 26,
   "metadata": {},
   "outputs": [
    {
     "data": {
      "image/png": "[encoded data removed]",
      "text/plain": [
       "<Figure size 432x288 with 1 Axes>"
      ]
     },
     "metadata": {
      "needs_background": "light"
     },
     "output_type": "display_data"
    }
   ],
   "source": [
    "plt.plot(hist_4hl_a.history['acc'])\n",
    "plt.plot(hist_4hl_a.history['val_acc'])\n",
    "plt.title('model accuracy')\n",
    "plt.ylabel('accuracy')\n",
    "plt.xlabel('epoch')\n",
    "plt.legend(['train', 'val'], loc='upper left')\n",
    "plt.show()"
   ]
  },
  {
   "cell_type": "code",
   "execution_count": 27,
   "metadata": {},
   "outputs": [
    {
     "data": {
      "image/png": "[encoded data removed]",
      "text/plain": [
       "<Figure size 432x288 with 1 Axes>"
      ]
     },
     "metadata": {
      "needs_background": "light"
     },
     "output_type": "display_data"
    }
   ],
   "source": [
    "plt.plot(hist_4hl_a.history['loss'])\n",
    "plt.plot(hist_4hl_a.history['val_loss'])\n",
    "plt.title('model loss')\n",
    "plt.ylabel('loss')\n",
    "plt.xlabel('epoch')\n",
    "plt.legend(['train', 'val'], loc='upper left')\n",
    "plt.show()"
   ]
  },
  {
   "cell_type": "code",
   "execution_count": 28,
   "metadata": {},
   "outputs": [],
   "source": [
    "scoring = ['accuracy', 'neg_log_loss']\n",
    "cv = StratifiedKFold(n_splits=4)"
   ]
  },
  {
   "cell_type": "code",
   "execution_count": 29,
   "metadata": {},
   "outputs": [],
   "source": [
    "nn_4hl = KerasClassifier(build_fn=create_model_4hl, epochs=20, batch_size=1000, verbose=2)"
   ]
  },
  {
   "cell_type": "code",
   "execution_count": 30,
   "metadata": {},
   "outputs": [
    {
     "name": "stderr",
     "output_type": "stream",
     "text": [
      "C:\\Users\\Xiuquan\\Anaconda3\\lib\\site-packages\\ipykernel_launcher.py:3: UserWarning: Update your `Dense` call to the Keras 2 API: `Dense(activation=\"relu\", input_dim=450, units=512)`\n",
      "  This is separate from the ipykernel package so we can avoid doing imports until\n",
      "C:\\Users\\Xiuquan\\Anaconda3\\lib\\site-packages\\ipykernel_launcher.py:5: UserWarning: Update your `Dense` call to the Keras 2 API: `Dense(activation=\"relu\", units=256)`\n",
      "  \"\"\"\n",
      "C:\\Users\\Xiuquan\\Anaconda3\\lib\\site-packages\\ipykernel_launcher.py:7: UserWarning: Update your `Dense` call to the Keras 2 API: `Dense(activation=\"relu\", units=128)`\n",
      "  import sys\n",
      "C:\\Users\\Xiuquan\\Anaconda3\\lib\\site-packages\\ipykernel_launcher.py:9: UserWarning: Update your `Dense` call to the Keras 2 API: `Dense(activation=\"relu\", units=64)`\n",
      "  if __name__ == '__main__':\n",
      "C:\\Users\\Xiuquan\\Anaconda3\\lib\\site-packages\\ipykernel_launcher.py:12: UserWarning: Update your `Dense` call to the Keras 2 API: `Dense(activation=\"softmax\", units=38)`\n",
      "  if sys.path[0] == '':\n"
     ]
    },
    {
     "name": "stdout",
     "output_type": "stream",
     "text": [
      "Epoch 1/20\n",
      " - 10s - loss: 2.2394 - acc: 0.3963\n",
      "Epoch 2/20\n",
      " - 10s - loss: 1.4596 - acc: 0.6000\n",
      "Epoch 3/20\n",
      " - 10s - loss: 1.2612 - acc: 0.6442\n",
      "Epoch 4/20\n",
      " - 10s - loss: 1.1608 - acc: 0.6639\n",
      "Epoch 5/20\n",
      " - 11s - loss: 1.0984 - acc: 0.6783\n",
      "Epoch 6/20\n",
      " - 11s - loss: 1.0581 - acc: 0.6860\n",
      "Epoch 7/20\n",
      " - 10s - loss: 1.0127 - acc: 0.6958\n",
      "Epoch 8/20\n",
      " - 10s - loss: 0.9837 - acc: 0.7015\n",
      "Epoch 9/20\n",
      " - 11s - loss: 0.9504 - acc: 0.7096\n",
      "Epoch 10/20\n",
      " - 10s - loss: 0.9332 - acc: 0.7134\n",
      "Epoch 11/20\n",
      " - 10s - loss: 0.9093 - acc: 0.7189\n",
      "Epoch 12/20\n",
      " - 9s - loss: 0.8830 - acc: 0.7253\n",
      "Epoch 13/20\n",
      " - 9s - loss: 0.8640 - acc: 0.7297\n",
      "Epoch 14/20\n",
      " - 10s - loss: 0.8470 - acc: 0.7333\n",
      "Epoch 15/20\n",
      " - 9s - loss: 0.8324 - acc: 0.7363\n",
      "Epoch 16/20\n",
      " - 10s - loss: 0.8095 - acc: 0.7433\n",
      "Epoch 17/20\n",
      " - 10s - loss: 0.7939 - acc: 0.7481\n",
      "Epoch 18/20\n",
      " - 9s - loss: 0.7811 - acc: 0.7516\n",
      "Epoch 19/20\n",
      " - 10s - loss: 0.7678 - acc: 0.7549\n",
      "Epoch 20/20\n",
      " - 9s - loss: 0.7564 - acc: 0.7576\n"
     ]
    },
    {
     "name": "stderr",
     "output_type": "stream",
     "text": [
      "C:\\Users\\Xiuquan\\Anaconda3\\lib\\site-packages\\ipykernel_launcher.py:3: UserWarning: Update your `Dense` call to the Keras 2 API: `Dense(activation=\"relu\", input_dim=450, units=512)`\n",
      "  This is separate from the ipykernel package so we can avoid doing imports until\n",
      "C:\\Users\\Xiuquan\\Anaconda3\\lib\\site-packages\\ipykernel_launcher.py:5: UserWarning: Update your `Dense` call to the Keras 2 API: `Dense(activation=\"relu\", units=256)`\n",
      "  \"\"\"\n",
      "C:\\Users\\Xiuquan\\Anaconda3\\lib\\site-packages\\ipykernel_launcher.py:7: UserWarning: Update your `Dense` call to the Keras 2 API: `Dense(activation=\"relu\", units=128)`\n",
      "  import sys\n",
      "C:\\Users\\Xiuquan\\Anaconda3\\lib\\site-packages\\ipykernel_launcher.py:9: UserWarning: Update your `Dense` call to the Keras 2 API: `Dense(activation=\"relu\", units=64)`\n",
      "  if __name__ == '__main__':\n",
      "C:\\Users\\Xiuquan\\Anaconda3\\lib\\site-packages\\ipykernel_launcher.py:12: UserWarning: Update your `Dense` call to the Keras 2 API: `Dense(activation=\"softmax\", units=38)`\n",
      "  if sys.path[0] == '':\n"
     ]
    },
    {
     "name": "stdout",
     "output_type": "stream",
     "text": [
      "Epoch 1/20\n",
      " - 10s - loss: 2.2420 - acc: 0.4077\n",
      "Epoch 2/20\n",
      " - 10s - loss: 1.4608 - acc: 0.5990\n",
      "Epoch 3/20\n",
      " - 10s - loss: 1.2604 - acc: 0.6411\n",
      "Epoch 4/20\n",
      " - 10s - loss: 1.1507 - acc: 0.6651\n",
      "Epoch 5/20\n",
      " - 10s - loss: 1.0972 - acc: 0.6759\n",
      "Epoch 6/20\n",
      " - 9s - loss: 1.0432 - acc: 0.6885\n",
      "Epoch 7/20\n",
      " - 10s - loss: 1.0073 - acc: 0.6965\n",
      "Epoch 8/20\n",
      " - 11s - loss: 0.9754 - acc: 0.7038\n",
      "Epoch 9/20\n",
      " - 9s - loss: 0.9485 - acc: 0.7100\n",
      "Epoch 10/20\n",
      " - 10s - loss: 0.9285 - acc: 0.7142\n",
      "Epoch 11/20\n",
      " - 10s - loss: 0.9015 - acc: 0.7215\n",
      "Epoch 12/20\n",
      " - 10s - loss: 0.8789 - acc: 0.7270\n",
      "Epoch 13/20\n",
      " - 10s - loss: 0.8571 - acc: 0.7339\n",
      "Epoch 14/20\n",
      " - 10s - loss: 0.8428 - acc: 0.7367\n",
      "Epoch 15/20\n",
      " - 10s - loss: 0.8246 - acc: 0.7410\n",
      "Epoch 16/20\n",
      " - 11s - loss: 0.8095 - acc: 0.7454\n",
      "Epoch 17/20\n",
      " - 10s - loss: 0.7950 - acc: 0.7471\n",
      "Epoch 18/20\n",
      " - 11s - loss: 0.7769 - acc: 0.7539\n",
      "Epoch 19/20\n",
      " - 9s - loss: 0.7624 - acc: 0.7565\n",
      "Epoch 20/20\n",
      " - 10s - loss: 0.7529 - acc: 0.7593\n"
     ]
    },
    {
     "name": "stderr",
     "output_type": "stream",
     "text": [
      "C:\\Users\\Xiuquan\\Anaconda3\\lib\\site-packages\\ipykernel_launcher.py:3: UserWarning: Update your `Dense` call to the Keras 2 API: `Dense(activation=\"relu\", input_dim=450, units=512)`\n",
      "  This is separate from the ipykernel package so we can avoid doing imports until\n",
      "C:\\Users\\Xiuquan\\Anaconda3\\lib\\site-packages\\ipykernel_launcher.py:5: UserWarning: Update your `Dense` call to the Keras 2 API: `Dense(activation=\"relu\", units=256)`\n",
      "  \"\"\"\n",
      "C:\\Users\\Xiuquan\\Anaconda3\\lib\\site-packages\\ipykernel_launcher.py:7: UserWarning: Update your `Dense` call to the Keras 2 API: `Dense(activation=\"relu\", units=128)`\n",
      "  import sys\n",
      "C:\\Users\\Xiuquan\\Anaconda3\\lib\\site-packages\\ipykernel_launcher.py:9: UserWarning: Update your `Dense` call to the Keras 2 API: `Dense(activation=\"relu\", units=64)`\n",
      "  if __name__ == '__main__':\n",
      "C:\\Users\\Xiuquan\\Anaconda3\\lib\\site-packages\\ipykernel_launcher.py:12: UserWarning: Update your `Dense` call to the Keras 2 API: `Dense(activation=\"softmax\", units=38)`\n",
      "  if sys.path[0] == '':\n"
     ]
    },
    {
     "name": "stdout",
     "output_type": "stream",
     "text": [
      "Epoch 1/20\n",
      " - 9s - loss: 2.2257 - acc: 0.4009\n",
      "Epoch 2/20\n",
      " - 10s - loss: 1.4274 - acc: 0.6071\n",
      "Epoch 3/20\n",
      " - 9s - loss: 1.2425 - acc: 0.6463\n",
      "Epoch 4/20\n",
      " - 9s - loss: 1.1376 - acc: 0.6691\n",
      "Epoch 5/20\n",
      " - 9s - loss: 1.0748 - acc: 0.6836\n",
      "Epoch 6/20\n",
      " - 10s - loss: 1.0304 - acc: 0.6930\n",
      "Epoch 7/20\n",
      " - 10s - loss: 0.9855 - acc: 0.7027\n",
      "Epoch 8/20\n",
      " - 9s - loss: 0.9586 - acc: 0.7097\n",
      "Epoch 9/20\n",
      " - 10s - loss: 0.9303 - acc: 0.7158\n",
      "Epoch 10/20\n",
      " - 9s - loss: 0.9040 - acc: 0.7224\n",
      "Epoch 11/20\n",
      " - 10s - loss: 0.8830 - acc: 0.7260\n",
      "Epoch 12/20\n",
      " - 10s - loss: 0.8632 - acc: 0.7300\n",
      "Epoch 13/20\n",
      " - 10s - loss: 0.8397 - acc: 0.7385\n",
      "Epoch 14/20\n",
      " - 10s - loss: 0.8236 - acc: 0.7415\n",
      "Epoch 15/20\n",
      " - 8s - loss: 0.8107 - acc: 0.7437\n",
      "Epoch 16/20\n",
      " - 10s - loss: 0.7905 - acc: 0.7488\n",
      "Epoch 17/20\n",
      " - 9s - loss: 0.7752 - acc: 0.7537\n",
      "Epoch 18/20\n",
      " - 10s - loss: 0.7648 - acc: 0.7570\n",
      "Epoch 19/20\n",
      " - 10s - loss: 0.7469 - acc: 0.7622\n",
      "Epoch 20/20\n",
      " - 9s - loss: 0.7376 - acc: 0.7641\n"
     ]
    },
    {
     "name": "stderr",
     "output_type": "stream",
     "text": [
      "C:\\Users\\Xiuquan\\Anaconda3\\lib\\site-packages\\ipykernel_launcher.py:3: UserWarning: Update your `Dense` call to the Keras 2 API: `Dense(activation=\"relu\", input_dim=450, units=512)`\n",
      "  This is separate from the ipykernel package so we can avoid doing imports until\n",
      "C:\\Users\\Xiuquan\\Anaconda3\\lib\\site-packages\\ipykernel_launcher.py:5: UserWarning: Update your `Dense` call to the Keras 2 API: `Dense(activation=\"relu\", units=256)`\n",
      "  \"\"\"\n",
      "C:\\Users\\Xiuquan\\Anaconda3\\lib\\site-packages\\ipykernel_launcher.py:7: UserWarning: Update your `Dense` call to the Keras 2 API: `Dense(activation=\"relu\", units=128)`\n",
      "  import sys\n",
      "C:\\Users\\Xiuquan\\Anaconda3\\lib\\site-packages\\ipykernel_launcher.py:9: UserWarning: Update your `Dense` call to the Keras 2 API: `Dense(activation=\"relu\", units=64)`\n",
      "  if __name__ == '__main__':\n",
      "C:\\Users\\Xiuquan\\Anaconda3\\lib\\site-packages\\ipykernel_launcher.py:12: UserWarning: Update your `Dense` call to the Keras 2 API: `Dense(activation=\"softmax\", units=38)`\n",
      "  if sys.path[0] == '':\n"
     ]
    },
    {
     "name": "stdout",
     "output_type": "stream",
     "text": [
      "Epoch 1/20\n",
      " - 10s - loss: 2.2448 - acc: 0.4031\n",
      "Epoch 2/20\n",
      " - 11s - loss: 1.4507 - acc: 0.6018\n",
      "Epoch 3/20\n",
      " - 11s - loss: 1.2631 - acc: 0.6416\n",
      "Epoch 4/20\n",
      " - 10s - loss: 1.1573 - acc: 0.6627\n",
      "Epoch 5/20\n",
      " - 10s - loss: 1.0965 - acc: 0.6762\n",
      "Epoch 6/20\n",
      " - 9s - loss: 1.0468 - acc: 0.6874\n",
      "Epoch 7/20\n",
      " - 9s - loss: 1.0048 - acc: 0.6964\n",
      "Epoch 8/20\n",
      " - 9s - loss: 0.9820 - acc: 0.7030\n",
      "Epoch 9/20\n",
      " - 10s - loss: 0.9481 - acc: 0.7110\n",
      "Epoch 10/20\n",
      " - 10s - loss: 0.9162 - acc: 0.7159\n",
      "Epoch 11/20\n",
      " - 9s - loss: 0.9005 - acc: 0.7215\n",
      "Epoch 12/20\n",
      " - 9s - loss: 0.8818 - acc: 0.7259\n",
      "Epoch 13/20\n",
      " - 9s - loss: 0.8578 - acc: 0.7317\n",
      "Epoch 14/20\n",
      " - 9s - loss: 0.8393 - acc: 0.7361\n",
      "Epoch 15/20\n",
      " - 9s - loss: 0.8217 - acc: 0.7402\n",
      "Epoch 16/20\n",
      " - 9s - loss: 0.8104 - acc: 0.7433\n",
      "Epoch 17/20\n",
      " - 9s - loss: 0.7976 - acc: 0.7474\n",
      "Epoch 18/20\n",
      " - 9s - loss: 0.7754 - acc: 0.7525\n",
      "Epoch 19/20\n",
      " - 9s - loss: 0.7669 - acc: 0.7542\n",
      "Epoch 20/20\n",
      " - 9s - loss: 0.7546 - acc: 0.7584\n"
     ]
    },
    {
     "data": {
      "text/plain": [
       "'0:13:15.897387'"
      ]
     },
     "execution_count": 30,
     "metadata": {},
     "output_type": "execute_result"
    }
   ],
   "source": [
    "start = datetime.now()\n",
    "hist_cross_val = cross_validate(nn_4hl, X, y, scoring=scoring, cv=cv)\n",
    "end = datetime.now()\n",
    "str(end-start)"
   ]
  },
  {
   "cell_type": "code",
   "execution_count": 31,
   "metadata": {},
   "outputs": [
    {
     "data": {
      "text/plain": [
       "{'fit_time': array([200.58756852, 203.00107884, 191.14137602, 190.39683914]),\n",
       " 'score_time': array([2.72032475, 2.34955335, 2.60854077, 2.78828406]),\n",
       " 'test_accuracy': array([0.72657001, 0.72597299, 0.71527139, 0.73307956]),\n",
       " 'test_neg_log_loss': array([-0.85951196, -0.86465922, -0.92148312, -0.84053305])}"
      ]
     },
     "execution_count": 31,
     "metadata": {},
     "output_type": "execute_result"
    }
   ],
   "source": [
    "hist_cross_val"
   ]
  },
  {
   "cell_type": "code",
   "execution_count": 32,
   "metadata": {},
   "outputs": [
    {
     "data": {
      "text/plain": [
       "(0.7252234882849065, -0.8715468387687827)"
      ]
     },
     "execution_count": 32,
     "metadata": {},
     "output_type": "execute_result"
    }
   ],
   "source": [
    "hist_cross_val['test_accuracy'].mean(), hist_cross_val['test_neg_log_loss'].mean()"
   ]
  },
  {
   "cell_type": "code",
   "execution_count": 33,
   "metadata": {},
   "outputs": [],
   "source": [
    "nn_4hl = KerasClassifier(build_fn=create_model_4hl, epochs=15, batch_size=1000, verbose=2)"
   ]
  },
  {
   "cell_type": "code",
   "execution_count": 34,
   "metadata": {},
   "outputs": [
    {
     "name": "stderr",
     "output_type": "stream",
     "text": [
      "C:\\Users\\Xiuquan\\Anaconda3\\lib\\site-packages\\ipykernel_launcher.py:3: UserWarning: Update your `Dense` call to the Keras 2 API: `Dense(activation=\"relu\", input_dim=450, units=512)`\n",
      "  This is separate from the ipykernel package so we can avoid doing imports until\n",
      "C:\\Users\\Xiuquan\\Anaconda3\\lib\\site-packages\\ipykernel_launcher.py:5: UserWarning: Update your `Dense` call to the Keras 2 API: `Dense(activation=\"relu\", units=256)`\n",
      "  \"\"\"\n",
      "C:\\Users\\Xiuquan\\Anaconda3\\lib\\site-packages\\ipykernel_launcher.py:7: UserWarning: Update your `Dense` call to the Keras 2 API: `Dense(activation=\"relu\", units=128)`\n",
      "  import sys\n",
      "C:\\Users\\Xiuquan\\Anaconda3\\lib\\site-packages\\ipykernel_launcher.py:9: UserWarning: Update your `Dense` call to the Keras 2 API: `Dense(activation=\"relu\", units=64)`\n",
      "  if __name__ == '__main__':\n",
      "C:\\Users\\Xiuquan\\Anaconda3\\lib\\site-packages\\ipykernel_launcher.py:12: UserWarning: Update your `Dense` call to the Keras 2 API: `Dense(activation=\"softmax\", units=38)`\n",
      "  if sys.path[0] == '':\n"
     ]
    },
    {
     "name": "stdout",
     "output_type": "stream",
     "text": [
      "Epoch 1/15\n",
      " - 9s - loss: 2.2069 - acc: 0.4149\n",
      "Epoch 2/15\n",
      " - 7s - loss: 1.4447 - acc: 0.6031\n",
      "Epoch 3/15\n",
      " - 8s - loss: 1.2613 - acc: 0.6445\n",
      "Epoch 4/15\n",
      " - 8s - loss: 1.1542 - acc: 0.6662\n",
      "Epoch 5/15\n",
      " - 8s - loss: 1.0965 - acc: 0.6758\n",
      "Epoch 6/15\n",
      " - 8s - loss: 1.0442 - acc: 0.6882\n",
      "Epoch 7/15\n",
      " - 9s - loss: 1.0046 - acc: 0.6967\n",
      "Epoch 8/15\n",
      " - 7s - loss: 0.9791 - acc: 0.7020\n",
      "Epoch 9/15\n",
      " - 9s - loss: 0.9464 - acc: 0.7107\n",
      "Epoch 10/15\n",
      " - 9s - loss: 0.9177 - acc: 0.7182\n",
      "Epoch 11/15\n",
      " - 9s - loss: 0.8985 - acc: 0.7223\n",
      "Epoch 12/15\n",
      " - 9s - loss: 0.8792 - acc: 0.7254\n",
      "Epoch 13/15\n",
      " - 9s - loss: 0.8631 - acc: 0.7307\n",
      "Epoch 14/15\n",
      " - 10s - loss: 0.8377 - acc: 0.7367\n",
      "Epoch 15/15\n",
      " - 9s - loss: 0.8242 - acc: 0.7403\n"
     ]
    },
    {
     "name": "stderr",
     "output_type": "stream",
     "text": [
      "C:\\Users\\Xiuquan\\Anaconda3\\lib\\site-packages\\ipykernel_launcher.py:3: UserWarning: Update your `Dense` call to the Keras 2 API: `Dense(activation=\"relu\", input_dim=450, units=512)`\n",
      "  This is separate from the ipykernel package so we can avoid doing imports until\n",
      "C:\\Users\\Xiuquan\\Anaconda3\\lib\\site-packages\\ipykernel_launcher.py:5: UserWarning: Update your `Dense` call to the Keras 2 API: `Dense(activation=\"relu\", units=256)`\n",
      "  \"\"\"\n",
      "C:\\Users\\Xiuquan\\Anaconda3\\lib\\site-packages\\ipykernel_launcher.py:7: UserWarning: Update your `Dense` call to the Keras 2 API: `Dense(activation=\"relu\", units=128)`\n",
      "  import sys\n",
      "C:\\Users\\Xiuquan\\Anaconda3\\lib\\site-packages\\ipykernel_launcher.py:9: UserWarning: Update your `Dense` call to the Keras 2 API: `Dense(activation=\"relu\", units=64)`\n",
      "  if __name__ == '__main__':\n",
      "C:\\Users\\Xiuquan\\Anaconda3\\lib\\site-packages\\ipykernel_launcher.py:12: UserWarning: Update your `Dense` call to the Keras 2 API: `Dense(activation=\"softmax\", units=38)`\n",
      "  if sys.path[0] == '':\n"
     ]
    },
    {
     "name": "stdout",
     "output_type": "stream",
     "text": [
      "Epoch 1/15\n",
      " - 10s - loss: 2.2244 - acc: 0.4106\n",
      "Epoch 2/15\n",
      " - 11s - loss: 1.4675 - acc: 0.5987\n",
      "Epoch 3/15\n",
      " - 10s - loss: 1.2677 - acc: 0.6432\n",
      "Epoch 4/15\n",
      " - 11s - loss: 1.1681 - acc: 0.6633\n",
      "Epoch 5/15\n",
      " - 9s - loss: 1.1018 - acc: 0.6770\n",
      "Epoch 6/15\n",
      " - 9s - loss: 1.0502 - acc: 0.6877\n",
      "Epoch 7/15\n",
      " - 10s - loss: 1.0110 - acc: 0.6956\n",
      "Epoch 8/15\n",
      " - 12s - loss: 0.9810 - acc: 0.7027\n",
      "Epoch 9/15\n",
      " - 11s - loss: 0.9531 - acc: 0.7081\n",
      "Epoch 10/15\n",
      " - 13s - loss: 0.9242 - acc: 0.7157\n",
      "Epoch 11/15\n",
      " - 14s - loss: 0.9041 - acc: 0.7210\n",
      "Epoch 12/15\n",
      " - 10s - loss: 0.8809 - acc: 0.7269\n",
      "Epoch 13/15\n",
      " - 11s - loss: 0.8614 - acc: 0.7303\n",
      "Epoch 14/15\n",
      " - 11s - loss: 0.8426 - acc: 0.7352\n",
      "Epoch 15/15\n",
      " - 12s - loss: 0.8280 - acc: 0.7400\n"
     ]
    },
    {
     "name": "stderr",
     "output_type": "stream",
     "text": [
      "C:\\Users\\Xiuquan\\Anaconda3\\lib\\site-packages\\ipykernel_launcher.py:3: UserWarning: Update your `Dense` call to the Keras 2 API: `Dense(activation=\"relu\", input_dim=450, units=512)`\n",
      "  This is separate from the ipykernel package so we can avoid doing imports until\n",
      "C:\\Users\\Xiuquan\\Anaconda3\\lib\\site-packages\\ipykernel_launcher.py:5: UserWarning: Update your `Dense` call to the Keras 2 API: `Dense(activation=\"relu\", units=256)`\n",
      "  \"\"\"\n",
      "C:\\Users\\Xiuquan\\Anaconda3\\lib\\site-packages\\ipykernel_launcher.py:7: UserWarning: Update your `Dense` call to the Keras 2 API: `Dense(activation=\"relu\", units=128)`\n",
      "  import sys\n",
      "C:\\Users\\Xiuquan\\Anaconda3\\lib\\site-packages\\ipykernel_launcher.py:9: UserWarning: Update your `Dense` call to the Keras 2 API: `Dense(activation=\"relu\", units=64)`\n",
      "  if __name__ == '__main__':\n",
      "C:\\Users\\Xiuquan\\Anaconda3\\lib\\site-packages\\ipykernel_launcher.py:12: UserWarning: Update your `Dense` call to the Keras 2 API: `Dense(activation=\"softmax\", units=38)`\n",
      "  if sys.path[0] == '':\n"
     ]
    },
    {
     "name": "stdout",
     "output_type": "stream",
     "text": [
      "Epoch 1/15\n",
      " - 11s - loss: 2.2578 - acc: 0.4053\n",
      "Epoch 2/15\n",
      " - 9s - loss: 1.4409 - acc: 0.6049\n",
      "Epoch 3/15\n",
      " - 11s - loss: 1.2357 - acc: 0.6501\n",
      "Epoch 4/15\n",
      " - 11s - loss: 1.1334 - acc: 0.6709\n",
      "Epoch 5/15\n",
      " - 9s - loss: 1.0705 - acc: 0.6850\n",
      "Epoch 6/15\n",
      " - 9s - loss: 1.0239 - acc: 0.6938\n",
      "Epoch 7/15\n",
      " - 9s - loss: 0.9876 - acc: 0.7030\n",
      "Epoch 8/15\n",
      " - 9s - loss: 0.9526 - acc: 0.7100\n",
      "Epoch 9/15\n",
      " - 9s - loss: 0.9277 - acc: 0.7154\n",
      "Epoch 10/15\n",
      " - 9s - loss: 0.8999 - acc: 0.7224\n",
      "Epoch 11/15\n",
      " - 11s - loss: 0.8771 - acc: 0.7268\n",
      "Epoch 12/15\n",
      " - 11s - loss: 0.8576 - acc: 0.7333\n",
      "Epoch 13/15\n",
      " - 11s - loss: 0.8385 - acc: 0.7381\n",
      "Epoch 14/15\n",
      " - 10s - loss: 0.8217 - acc: 0.7439\n",
      "Epoch 15/15\n",
      " - 11s - loss: 0.8025 - acc: 0.7482\n"
     ]
    },
    {
     "name": "stderr",
     "output_type": "stream",
     "text": [
      "C:\\Users\\Xiuquan\\Anaconda3\\lib\\site-packages\\ipykernel_launcher.py:3: UserWarning: Update your `Dense` call to the Keras 2 API: `Dense(activation=\"relu\", input_dim=450, units=512)`\n",
      "  This is separate from the ipykernel package so we can avoid doing imports until\n",
      "C:\\Users\\Xiuquan\\Anaconda3\\lib\\site-packages\\ipykernel_launcher.py:5: UserWarning: Update your `Dense` call to the Keras 2 API: `Dense(activation=\"relu\", units=256)`\n",
      "  \"\"\"\n",
      "C:\\Users\\Xiuquan\\Anaconda3\\lib\\site-packages\\ipykernel_launcher.py:7: UserWarning: Update your `Dense` call to the Keras 2 API: `Dense(activation=\"relu\", units=128)`\n",
      "  import sys\n",
      "C:\\Users\\Xiuquan\\Anaconda3\\lib\\site-packages\\ipykernel_launcher.py:9: UserWarning: Update your `Dense` call to the Keras 2 API: `Dense(activation=\"relu\", units=64)`\n",
      "  if __name__ == '__main__':\n",
      "C:\\Users\\Xiuquan\\Anaconda3\\lib\\site-packages\\ipykernel_launcher.py:12: UserWarning: Update your `Dense` call to the Keras 2 API: `Dense(activation=\"softmax\", units=38)`\n",
      "  if sys.path[0] == '':\n"
     ]
    },
    {
     "name": "stdout",
     "output_type": "stream",
     "text": [
      "Epoch 1/15\n",
      " - 12s - loss: 2.2332 - acc: 0.4110\n",
      "Epoch 2/15\n",
      " - 14s - loss: 1.4572 - acc: 0.6018\n",
      "Epoch 3/15\n",
      " - 13s - loss: 1.2629 - acc: 0.6433\n",
      "Epoch 4/15\n",
      " - 14s - loss: 1.1562 - acc: 0.6640\n",
      "Epoch 5/15\n",
      " - 14s - loss: 1.0918 - acc: 0.6786\n",
      "Epoch 6/15\n",
      " - 13s - loss: 1.0399 - acc: 0.6896\n",
      "Epoch 7/15\n",
      " - 12s - loss: 0.9987 - acc: 0.6988\n",
      "Epoch 8/15\n",
      " - 11s - loss: 0.9717 - acc: 0.7036\n",
      "Epoch 9/15\n",
      " - 12s - loss: 0.9420 - acc: 0.7107\n",
      "Epoch 10/15\n",
      " - 11s - loss: 0.9209 - acc: 0.7162\n",
      "Epoch 11/15\n",
      " - 13s - loss: 0.8958 - acc: 0.7220\n",
      "Epoch 12/15\n",
      " - 11s - loss: 0.8799 - acc: 0.7254\n",
      "Epoch 13/15\n",
      " - 11s - loss: 0.8573 - acc: 0.7313\n",
      "Epoch 14/15\n",
      " - 11s - loss: 0.8424 - acc: 0.7366\n",
      "Epoch 15/15\n",
      " - 11s - loss: 0.8252 - acc: 0.7401\n"
     ]
    },
    {
     "data": {
      "text/plain": [
       "'0:10:43.635580'"
      ]
     },
     "execution_count": 34,
     "metadata": {},
     "output_type": "execute_result"
    }
   ],
   "source": [
    "start = datetime.now()\n",
    "hist_cross_val_v2 = cross_validate(nn_4hl, X, y, scoring=scoring, cv=cv)\n",
    "end = datetime.now()\n",
    "str(end-start)"
   ]
  },
  {
   "cell_type": "code",
   "execution_count": 36,
   "metadata": {},
   "outputs": [
    {
     "data": {
      "text/plain": [
       "{'fit_time': array([130.2818687 , 166.12338614, 150.34848142, 185.14223909]),\n",
       " 'score_time': array([2.42950368, 3.01914048, 3.10908747, 2.91204023]),\n",
       " 'test_accuracy': array([0.72769816, 0.71840642, 0.71430961, 0.73069522]),\n",
       " 'test_neg_log_loss': array([-0.85651473, -0.8751064 , -0.90993035, -0.835998  ])}"
      ]
     },
     "execution_count": 36,
     "metadata": {},
     "output_type": "execute_result"
    }
   ],
   "source": [
    "hist_cross_val_v2"
   ]
  },
  {
   "cell_type": "code",
   "execution_count": 37,
   "metadata": {},
   "outputs": [
    {
     "data": {
      "text/plain": [
       "(0.722777352720644, -0.8693873665420062)"
      ]
     },
     "execution_count": 37,
     "metadata": {},
     "output_type": "execute_result"
    }
   ],
   "source": [
    "hist_cross_val_v2['test_accuracy'].mean(), hist_cross_val_v2['test_neg_log_loss'].mean()"
   ]
  },
  {
   "cell_type": "code",
   "execution_count": null,
   "metadata": {},
   "outputs": [],
   "source": []
  }
 ],
 "metadata": {
  "kernelspec": {
   "display_name": "Python 3",
   "language": "python",
   "name": "python3"
  },
  "language_info": {
   "codemirror_mode": {
    "name": "ipython",
    "version": 3
   },
   "file_extension": ".py",
   "mimetype": "text/x-python",
   "name": "python",
   "nbconvert_exporter": "python",
   "pygments_lexer": "ipython3",
   "version": "3.7.3"
  }
 },
 "nbformat": 4,
 "nbformat_minor": 2
}
