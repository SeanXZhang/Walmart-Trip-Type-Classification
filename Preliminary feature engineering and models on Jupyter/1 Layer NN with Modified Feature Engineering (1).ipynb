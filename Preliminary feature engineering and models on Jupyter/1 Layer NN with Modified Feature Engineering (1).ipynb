{
 "cells": [
  {
   "cell_type": "code",
   "execution_count": 1,
   "metadata": {},
   "outputs": [],
   "source": [
    "import pandas as pd\n",
    "import numpy as np\n",
    "import calendar\n",
    "from time import time\n",
    "from datetime import datetime\n",
    "import re \n",
    "from sklearn.model_selection import train_test_split, StratifiedKFold, cross_val_score, cross_validate, RandomizedSearchCV\n",
    "from sklearn.metrics import log_loss, accuracy_score, classification_report\n",
    "import matplotlib.pyplot as plt\n",
    "%matplotlib inline"
   ]
  },
  {
   "cell_type": "code",
   "execution_count": 2,
   "metadata": {},
   "outputs": [],
   "source": [
    "data_train = pd.read_csv(\"train.csv\").replace(\"MENS WEAR\",\"MENSWEAR\")\n",
    "#data_train_orig = pd.read_csv(\"train.csv\").replace(\"MENS WEAR\",\"MENSWEAR\")"
   ]
  },
  {
   "cell_type": "code",
   "execution_count": 3,
   "metadata": {},
   "outputs": [],
   "source": [
    "dept_list = sorted(list(data_train.DepartmentDescription.dropna().unique()))"
   ]
  },
  {
   "cell_type": "code",
   "execution_count": 4,
   "metadata": {},
   "outputs": [],
   "source": [
    "weekdays = list(calendar.day_name)\n",
    "dept_list_sum = dict.fromkeys(dept_list, np.sum)\n",
    "weekday_dict = dict.fromkeys(weekdays, np.max)\n",
    "feature_dict = {\"TripType\": np.max, 'NumItems': np.sum, 'Return': np.max}\n",
    "feature_dict = {**feature_dict, **weekday_dict, **dept_list_sum}"
   ]
  },
  {
   "cell_type": "code",
   "execution_count": 5,
   "metadata": {},
   "outputs": [],
   "source": [
    "def transform_data(data):\n",
    "    dummies = pd.get_dummies(data.Weekday)\n",
    "    data[dummies.columns] = dummies\n",
    "    \n",
    "    dummies = pd.get_dummies(data.DepartmentDescription)\n",
    "    dummies = dummies.apply(lambda x: x*data[\"ScanCount\"])\n",
    "    data[dummies.columns] = dummies \n",
    "\n",
    "    data.loc[data.ScanCount < 0, 'Return'] = 1\n",
    "    data.loc[data.Return != 1, 'Return'] = 0\n",
    "    \n",
    "    data = data.rename(columns={\"ScanCount\":\"NumItems\"})\n",
    "    \n",
    "    grouped = data.groupby(\"VisitNumber\")\n",
    "    grouped = grouped.aggregate(feature_dict)\n",
    "    data = grouped[[\"TripType\", \"NumItems\", \"Return\"] + weekdays + dept_list]\n",
    "\n",
    "    return data"
   ]
  },
  {
   "cell_type": "code",
   "execution_count": 6,
   "metadata": {},
   "outputs": [],
   "source": [
    "data_new = transform_data(data_train)"
   ]
  },
  {
   "cell_type": "code",
   "execution_count": 7,
   "metadata": {},
   "outputs": [],
   "source": [
    "def add_category_counts(data):\n",
    "    alist = []\n",
    "    for array in np.asarray(data.loc[:, dept_list[0]:]):\n",
    "        count = 0\n",
    "        count = sum(x > 0 for x in array)\n",
    "        alist.append(count)\n",
    "    cat_counts = pd.DataFrame(alist)\n",
    "    cat_counts = cat_counts.rename(columns={0:\"CategoryCount\"})\n",
    "    cat_counts = cat_counts.set_index(data.index)\n",
    "    data.insert(3, 'CategoryCounts', cat_counts)\n",
    "    return data"
   ]
  },
  {
   "cell_type": "code",
   "execution_count": 8,
   "metadata": {},
   "outputs": [],
   "source": [
    "data_new = add_category_counts(data_new)"
   ]
  },
  {
   "cell_type": "code",
   "execution_count": 9,
   "metadata": {},
   "outputs": [
    {
     "data": {
      "text/plain": [
       "(95674, 78)"
      ]
     },
     "execution_count": 9,
     "metadata": {},
     "output_type": "execute_result"
    }
   ],
   "source": [
    "data_new.shape"
   ]
  },
  {
   "cell_type": "code",
   "execution_count": 10,
   "metadata": {},
   "outputs": [],
   "source": [
    "def fineline_dummies(data):\n",
    "    values = data.FinelineNumber\n",
    "    counts = values.value_counts()\n",
    "    mask = values.isin(counts[counts > 500].index)\n",
    "    values[~mask] = \"-\"\n",
    "    dummies = pd.get_dummies(values).drop('-', axis=1)\n",
    "\n",
    "    dummies.columns = ['fln_'+str(col) for col in dummies.columns]\n",
    "    dummies = pd.concat([dummies, data.VisitNumber], axis=1)\n",
    "    dummies = dummies.groupby(\"VisitNumber\")\n",
    "    dummies = dummies.aggregate(np.sum)\n",
    "    return dummies"
   ]
  },
  {
   "cell_type": "code",
   "execution_count": 11,
   "metadata": {},
   "outputs": [
    {
     "name": "stderr",
     "output_type": "stream",
     "text": [
      "C:\\Users\\Xiuquan\\Anaconda3\\lib\\site-packages\\ipykernel_launcher.py:5: SettingWithCopyWarning: \n",
      "A value is trying to be set on a copy of a slice from a DataFrame\n",
      "\n",
      "See the caveats in the documentation: http://pandas.pydata.org/pandas-docs/stable/indexing.html#indexing-view-versus-copy\n",
      "  \"\"\"\n"
     ]
    },
    {
     "data": {
      "text/plain": [
       "'0:00:20.542889'"
      ]
     },
     "execution_count": 11,
     "metadata": {},
     "output_type": "execute_result"
    }
   ],
   "source": [
    "start = datetime.now()\n",
    "fln_dummies = fineline_dummies(data_train)\n",
    "end = datetime.now()\n",
    "str(end-start)"
   ]
  },
  {
   "cell_type": "code",
   "execution_count": 12,
   "metadata": {},
   "outputs": [],
   "source": [
    "data_new = data_new.join(fln_dummies)"
   ]
  },
  {
   "cell_type": "code",
   "execution_count": 13,
   "metadata": {},
   "outputs": [
    {
     "data": {
      "text/plain": [
       "(95674, 351)"
      ]
     },
     "execution_count": 13,
     "metadata": {},
     "output_type": "execute_result"
    }
   ],
   "source": [
    "data_new.shape"
   ]
  },
  {
   "cell_type": "code",
   "execution_count": 14,
   "metadata": {},
   "outputs": [],
   "source": [
    "def Upc_dummies(data):\n",
    "    values = data.Upc\n",
    "    counts = values.value_counts()\n",
    "    mask = values.isin(counts[counts > 300].index)\n",
    "    values[~mask] = \"-\"\n",
    "    dummies = pd.get_dummies(values).drop('-', axis=1)\n",
    "\n",
    "    dummies.columns = ['upc_'+str(col) for col in dummies.columns]\n",
    "    dummies = pd.concat([dummies, data.VisitNumber], axis=1)\n",
    "    dummies = dummies.groupby(\"VisitNumber\")\n",
    "    dummies = dummies.aggregate(np.sum)\n",
    "    return dummies"
   ]
  },
  {
   "cell_type": "code",
   "execution_count": 15,
   "metadata": {},
   "outputs": [
    {
     "name": "stderr",
     "output_type": "stream",
     "text": [
      "C:\\Users\\Xiuquan\\Anaconda3\\lib\\site-packages\\ipykernel_launcher.py:5: SettingWithCopyWarning: \n",
      "A value is trying to be set on a copy of a slice from a DataFrame\n",
      "\n",
      "See the caveats in the documentation: http://pandas.pydata.org/pandas-docs/stable/indexing.html#indexing-view-versus-copy\n",
      "  \"\"\"\n"
     ]
    },
    {
     "data": {
      "text/plain": [
       "'0:00:08.350860'"
      ]
     },
     "execution_count": 15,
     "metadata": {},
     "output_type": "execute_result"
    }
   ],
   "source": [
    "start = datetime.now()\n",
    "upc_dummies = Upc_dummies(data_train)\n",
    "end = datetime.now()\n",
    "str(end-start)"
   ]
  },
  {
   "cell_type": "code",
   "execution_count": 16,
   "metadata": {},
   "outputs": [],
   "source": [
    "data_new = data_new.join(upc_dummies)"
   ]
  },
  {
   "cell_type": "code",
   "execution_count": 17,
   "metadata": {},
   "outputs": [
    {
     "data": {
      "text/plain": [
       "(95674, 451)"
      ]
     },
     "execution_count": 17,
     "metadata": {},
     "output_type": "execute_result"
    }
   ],
   "source": [
    "data_new.shape"
   ]
  },
  {
   "cell_type": "code",
   "execution_count": 18,
   "metadata": {},
   "outputs": [
    {
     "name": "stderr",
     "output_type": "stream",
     "text": [
      "Using TensorFlow backend.\n"
     ]
    }
   ],
   "source": [
    "from keras.models import Sequential\n",
    "from keras.layers import Dense, Dropout, Input\n",
    "from keras.wrappers.scikit_learn import KerasClassifier\n",
    "from keras.utils.np_utils import to_categorical\n",
    "from keras import regularizers\n",
    "from keras.callbacks import EarlyStopping, ModelCheckpoint\n",
    "from keras.models import load_model"
   ]
  },
  {
   "cell_type": "code",
   "execution_count": 19,
   "metadata": {},
   "outputs": [],
   "source": [
    "X = data_new.drop('TripType', axis=1)\n",
    "\n",
    "trip_types = sorted(data_train.TripType.unique())\n",
    "trip_types_map = dict(zip(trip_types, np.arange(0, len(trip_types))))\n",
    "y = data_new.TripType.map(trip_types_map)\n",
    "\n",
    "X_train, X_test, y_train, y_test = train_test_split(X, y, test_size=0.25, random_state=42)"
   ]
  },
  {
   "cell_type": "code",
   "execution_count": 20,
   "metadata": {},
   "outputs": [
    {
     "data": {
      "text/plain": [
       "450"
      ]
     },
     "execution_count": 20,
     "metadata": {},
     "output_type": "execute_result"
    }
   ],
   "source": [
    "len(X.columns)"
   ]
  },
  {
   "cell_type": "code",
   "execution_count": 66,
   "metadata": {},
   "outputs": [
    {
     "data": {
      "text/plain": [
       "VisitNumber\n",
       "5         37\n",
       "7         22\n",
       "8         18\n",
       "9          5\n",
       "10         5\n",
       "11        27\n",
       "12        33\n",
       "15        13\n",
       "17         3\n",
       "19        34\n",
       "20         4\n",
       "23         6\n",
       "25         5\n",
       "26        31\n",
       "28        17\n",
       "29         5\n",
       "30         6\n",
       "31         5\n",
       "32         5\n",
       "33         5\n",
       "40         5\n",
       "41         5\n",
       "42         5\n",
       "43        30\n",
       "45         5\n",
       "47        27\n",
       "49         9\n",
       "50         6\n",
       "51         5\n",
       "53         5\n",
       "          ..\n",
       "191276    13\n",
       "191277    36\n",
       "191280     5\n",
       "191283    36\n",
       "191286    32\n",
       "191287    18\n",
       "191289     5\n",
       "191291     5\n",
       "191293    28\n",
       "191298    32\n",
       "191301    34\n",
       "191304    28\n",
       "191305    23\n",
       "191311     6\n",
       "191312    34\n",
       "191313    22\n",
       "191318     4\n",
       "191322    30\n",
       "191324    32\n",
       "191326    30\n",
       "191329    16\n",
       "191331     6\n",
       "191335    24\n",
       "191337    30\n",
       "191342     5\n",
       "191343    17\n",
       "191344    14\n",
       "191345    31\n",
       "191346    31\n",
       "191347     5\n",
       "Name: TripType, Length: 95674, dtype: int64"
      ]
     },
     "execution_count": 66,
     "metadata": {},
     "output_type": "execute_result"
    }
   ],
   "source": [
    "y"
   ]
  },
  {
   "cell_type": "code",
   "execution_count": 37,
   "metadata": {},
   "outputs": [],
   "source": [
    "def create_model_1hl(nodes_l1=512, dropout_l1=0.3):\n",
    "    model = Sequential()\n",
    "    model.add(Dense(output_dim=nodes_l1, activation=\"relu\", input_dim=len(X.columns)))\n",
    "    model.add(Dropout(dropout_l1))\n",
    "            \n",
    "    model.add(Dense(output_dim=len(trip_types), activation=\"softmax\"))\n",
    "    \n",
    "    model.compile(loss=\"categorical_crossentropy\", optimizer=\"rmsprop\", metrics=[\"accuracy\"])\n",
    "    \n",
    "    return model"
   ]
  },
  {
   "cell_type": "code",
   "execution_count": 71,
   "metadata": {},
   "outputs": [],
   "source": [
    "model_1hl = KerasClassifier(build_fn=create_model_1hl, epochs=100, batch_size=1000, verbose=2)"
   ]
  },
  {
   "cell_type": "code",
   "execution_count": 72,
   "metadata": {},
   "outputs": [],
   "source": [
    "callbacks = [EarlyStopping(monitor=\"val_acc\", patience=20), \n",
    "             ModelCheckpoint(filepath=\"best_model.h5\", monitor=\"val_acc\", save_best_only=True)]"
   ]
  },
  {
   "cell_type": "code",
   "execution_count": 81,
   "metadata": {},
   "outputs": [
    {
     "name": "stderr",
     "output_type": "stream",
     "text": [
      "C:\\Users\\Xiuquan\\Anaconda3\\lib\\site-packages\\ipykernel_launcher.py:3: UserWarning: Update your `Dense` call to the Keras 2 API: `Dense(activation=\"relu\", input_dim=450, units=512)`\n",
      "  This is separate from the ipykernel package so we can avoid doing imports until\n",
      "C:\\Users\\Xiuquan\\Anaconda3\\lib\\site-packages\\ipykernel_launcher.py:6: UserWarning: Update your `Dense` call to the Keras 2 API: `Dense(activation=\"softmax\", units=38)`\n",
      "  \n"
     ]
    },
    {
     "name": "stdout",
     "output_type": "stream",
     "text": [
      "Train on 53816 samples, validate on 17939 samples\n",
      "Epoch 1/100\n",
      " - 6s - loss: 2.2080 - acc: 0.5035 - val_loss: 1.4943 - val_acc: 0.6294\n",
      "Epoch 2/100\n",
      " - 5s - loss: 1.3361 - acc: 0.6381 - val_loss: 1.1306 - val_acc: 0.6804\n",
      "Epoch 3/100\n",
      " - 5s - loss: 1.1048 - acc: 0.6716 - val_loss: 1.0162 - val_acc: 0.6939\n",
      "Epoch 4/100\n",
      " - 4s - loss: 1.0037 - acc: 0.6896 - val_loss: 0.9663 - val_acc: 0.7014\n",
      "Epoch 5/100\n",
      " - 4s - loss: 0.9415 - acc: 0.7038 - val_loss: 0.9207 - val_acc: 0.7064\n",
      "Epoch 6/100\n",
      " - 5s - loss: 0.8922 - acc: 0.7138 - val_loss: 0.8989 - val_acc: 0.7081\n",
      "Epoch 7/100\n",
      " - 5s - loss: 0.8563 - acc: 0.7217 - val_loss: 0.8800 - val_acc: 0.7095\n",
      "Epoch 8/100\n",
      " - 5s - loss: 0.8258 - acc: 0.7281 - val_loss: 0.8603 - val_acc: 0.7155\n",
      "Epoch 9/100\n",
      " - 5s - loss: 0.8023 - acc: 0.7340 - val_loss: 0.8490 - val_acc: 0.7162\n",
      "Epoch 10/100\n",
      " - 5s - loss: 0.7773 - acc: 0.7401 - val_loss: 0.8400 - val_acc: 0.7232\n",
      "Epoch 11/100\n",
      " - 4s - loss: 0.7585 - acc: 0.7444 - val_loss: 0.8301 - val_acc: 0.7214\n",
      "Epoch 12/100\n",
      " - 5s - loss: 0.7404 - acc: 0.7480 - val_loss: 0.8276 - val_acc: 0.7242\n",
      "Epoch 13/100\n",
      " - 5s - loss: 0.7216 - acc: 0.7547 - val_loss: 0.8186 - val_acc: 0.7244\n",
      "Epoch 14/100\n",
      " - 4s - loss: 0.7088 - acc: 0.7594 - val_loss: 0.8168 - val_acc: 0.7260\n",
      "Epoch 15/100\n",
      " - 4s - loss: 0.6962 - acc: 0.7613 - val_loss: 0.8131 - val_acc: 0.7240\n",
      "Epoch 16/100\n",
      " - 4s - loss: 0.6797 - acc: 0.7678 - val_loss: 0.8103 - val_acc: 0.7267\n",
      "Epoch 17/100\n",
      " - 5s - loss: 0.6696 - acc: 0.7709 - val_loss: 0.8132 - val_acc: 0.7239\n",
      "Epoch 18/100\n",
      " - 4s - loss: 0.6580 - acc: 0.7733 - val_loss: 0.8192 - val_acc: 0.7243\n",
      "Epoch 19/100\n",
      " - 4s - loss: 0.6450 - acc: 0.7780 - val_loss: 0.8084 - val_acc: 0.7271\n",
      "Epoch 20/100\n",
      " - 5s - loss: 0.6326 - acc: 0.7834 - val_loss: 0.8084 - val_acc: 0.7286\n",
      "Epoch 21/100\n",
      " - 4s - loss: 0.6220 - acc: 0.7874 - val_loss: 0.8102 - val_acc: 0.7276\n",
      "Epoch 22/100\n",
      " - 4s - loss: 0.6146 - acc: 0.7892 - val_loss: 0.8112 - val_acc: 0.7312\n",
      "Epoch 23/100\n",
      " - 4s - loss: 0.6029 - acc: 0.7914 - val_loss: 0.8106 - val_acc: 0.7290\n",
      "Epoch 24/100\n",
      " - 5s - loss: 0.5958 - acc: 0.7936 - val_loss: 0.8127 - val_acc: 0.7287\n",
      "Epoch 25/100\n",
      " - 4s - loss: 0.5869 - acc: 0.7976 - val_loss: 0.8134 - val_acc: 0.7313\n",
      "Epoch 26/100\n",
      " - 4s - loss: 0.5759 - acc: 0.8016 - val_loss: 0.8168 - val_acc: 0.7298\n",
      "Epoch 27/100\n",
      " - 4s - loss: 0.5698 - acc: 0.8033 - val_loss: 0.8166 - val_acc: 0.7306\n",
      "Epoch 28/100\n",
      " - 4s - loss: 0.5596 - acc: 0.8065 - val_loss: 0.8181 - val_acc: 0.7274\n",
      "Epoch 29/100\n",
      " - 4s - loss: 0.5531 - acc: 0.8100 - val_loss: 0.8216 - val_acc: 0.7290\n",
      "Epoch 30/100\n",
      " - 4s - loss: 0.5432 - acc: 0.8123 - val_loss: 0.8246 - val_acc: 0.7295\n",
      "Epoch 31/100\n",
      " - 5s - loss: 0.5354 - acc: 0.8152 - val_loss: 0.8254 - val_acc: 0.7296\n",
      "Epoch 32/100\n",
      " - 4s - loss: 0.5317 - acc: 0.8166 - val_loss: 0.8312 - val_acc: 0.7286\n",
      "Epoch 33/100\n",
      " - 4s - loss: 0.5212 - acc: 0.8210 - val_loss: 0.8337 - val_acc: 0.7253\n",
      "Epoch 34/100\n",
      " - 4s - loss: 0.5149 - acc: 0.8226 - val_loss: 0.8371 - val_acc: 0.7271\n",
      "Epoch 35/100\n",
      " - 5s - loss: 0.5094 - acc: 0.8244 - val_loss: 0.8386 - val_acc: 0.7278\n",
      "Epoch 36/100\n",
      " - 4s - loss: 0.5018 - acc: 0.8274 - val_loss: 0.8398 - val_acc: 0.7259\n",
      "Epoch 37/100\n",
      " - 4s - loss: 0.4949 - acc: 0.8287 - val_loss: 0.8429 - val_acc: 0.7274\n",
      "Epoch 38/100\n",
      " - 5s - loss: 0.4899 - acc: 0.8308 - val_loss: 0.8463 - val_acc: 0.7272\n",
      "Epoch 39/100\n",
      " - 4s - loss: 0.4817 - acc: 0.8337 - val_loss: 0.8514 - val_acc: 0.7262\n",
      "Epoch 40/100\n",
      " - 5s - loss: 0.4814 - acc: 0.8327 - val_loss: 0.8571 - val_acc: 0.7274\n",
      "Epoch 41/100\n",
      " - 4s - loss: 0.4694 - acc: 0.8377 - val_loss: 0.8592 - val_acc: 0.7271\n",
      "Epoch 42/100\n",
      " - 5s - loss: 0.4667 - acc: 0.8387 - val_loss: 0.8612 - val_acc: 0.7260\n",
      "Epoch 43/100\n",
      " - 4s - loss: 0.4622 - acc: 0.8399 - val_loss: 0.8667 - val_acc: 0.7257\n",
      "Epoch 44/100\n",
      " - 4s - loss: 0.4554 - acc: 0.8435 - val_loss: 0.8685 - val_acc: 0.7242\n",
      "Epoch 45/100\n",
      " - 5s - loss: 0.4511 - acc: 0.8438 - val_loss: 0.8741 - val_acc: 0.7252\n"
     ]
    },
    {
     "data": {
      "text/plain": [
       "'0:03:24.330713'"
      ]
     },
     "execution_count": 81,
     "metadata": {},
     "output_type": "execute_result"
    }
   ],
   "source": [
    "start = datetime.now()\n",
    "model_1hl.fit(X_train, y_train, validation_split=0.25, batch_size=1000, callbacks=callbacks)\n",
    "end = datetime.now()\n",
    "str(end-start)"
   ]
  },
  {
   "cell_type": "code",
   "execution_count": 82,
   "metadata": {},
   "outputs": [],
   "source": [
    "from keras import models"
   ]
  },
  {
   "cell_type": "code",
   "execution_count": 83,
   "metadata": {},
   "outputs": [],
   "source": [
    "model_1hl.model.save(\"my_model.h5\")"
   ]
  },
  {
   "cell_type": "code",
   "execution_count": 84,
   "metadata": {},
   "outputs": [],
   "source": [
    "model = load_model(\"my_model.h5\")"
   ]
  },
  {
   "cell_type": "code",
   "execution_count": 77,
   "metadata": {},
   "outputs": [
    {
     "data": {
      "text/plain": [
       "('loss', 'acc')"
      ]
     },
     "execution_count": 77,
     "metadata": {},
     "output_type": "execute_result"
    }
   ],
   "source": [
    "model.metrics_names[0], model.metrics_names[1]"
   ]
  },
  {
   "cell_type": "code",
   "execution_count": 85,
   "metadata": {},
   "outputs": [
    {
     "name": "stdout",
     "output_type": "stream",
     "text": [
      "95674/95674 [==============================] - 8s 88us/step\n"
     ]
    },
    {
     "data": {
      "text/plain": [
       "[0.5983671174825482, 0.8081610468821618]"
      ]
     },
     "execution_count": 85,
     "metadata": {},
     "output_type": "execute_result"
    }
   ],
   "source": [
    "model.evaluate(X, to_categorical(y))"
   ]
  },
  {
   "cell_type": "code",
   "execution_count": 86,
   "metadata": {},
   "outputs": [
    {
     "name": "stdout",
     "output_type": "stream",
     "text": [
      "23919/23919 [==============================] - 2s 89us/step\n"
     ]
    },
    {
     "data": {
      "text/plain": [
       "[0.8749101496374753, 0.7178811823386274]"
      ]
     },
     "execution_count": 86,
     "metadata": {},
     "output_type": "execute_result"
    }
   ],
   "source": [
    "model.evaluate(X_test, to_categorical(y_test))"
   ]
  },
  {
   "cell_type": "code",
   "execution_count": 79,
   "metadata": {},
   "outputs": [
    {
     "ename": "AttributeError",
     "evalue": "'Sequential' object has no attribute 'score'",
     "output_type": "error",
     "traceback": [
      "\u001b[1;31m---------------------------------------------------------------------------\u001b[0m",
      "\u001b[1;31mAttributeError\u001b[0m                            Traceback (most recent call last)",
      "\u001b[1;32m<ipython-input-79-1574e7273ce0>\u001b[0m in \u001b[0;36m<module>\u001b[1;34m\u001b[0m\n\u001b[1;32m----> 1\u001b[1;33m \u001b[0mmodel\u001b[0m\u001b[1;33m.\u001b[0m\u001b[0mscore\u001b[0m\u001b[1;33m(\u001b[0m\u001b[0mX_test\u001b[0m\u001b[1;33m,\u001b[0m \u001b[0my_test\u001b[0m\u001b[1;33m)\u001b[0m\u001b[1;33m\u001b[0m\u001b[1;33m\u001b[0m\u001b[0m\n\u001b[0m",
      "\u001b[1;31mAttributeError\u001b[0m: 'Sequential' object has no attribute 'score'"
     ]
    }
   ],
   "source": [
    "model.score(X_test, y_test)"
   ]
  },
  {
   "cell_type": "code",
   "execution_count": 25,
   "metadata": {},
   "outputs": [
    {
     "data": {
      "image/png": "[encoded data removed]",
      "text/plain": [
       "<Figure size 432x288 with 1 Axes>"
      ]
     },
     "metadata": {
      "needs_background": "light"
     },
     "output_type": "display_data"
    }
   ],
   "source": [
    "plt.plot(hist_1hl.history['acc'])\n",
    "plt.plot(hist_1hl.history['val_acc'])\n",
    "plt.title('model accuracy: batch size=1000')\n",
    "plt.ylabel('accuracy')\n",
    "plt.xlabel('epoch')\n",
    "plt.legend(['train', 'val'], loc='upper left')\n",
    "plt.show()"
   ]
  },
  {
   "cell_type": "code",
   "execution_count": 26,
   "metadata": {},
   "outputs": [
    {
     "data": {
      "image/png": "[encoded data removed]",
      "text/plain": [
       "<Figure size 432x288 with 1 Axes>"
      ]
     },
     "metadata": {
      "needs_background": "light"
     },
     "output_type": "display_data"
    }
   ],
   "source": [
    "plt.plot(hist_1hl.history['loss'])\n",
    "plt.plot(hist_1hl.history['val_loss'])\n",
    "plt.title('model loss: batch size=1000')\n",
    "plt.ylabel('loss')\n",
    "plt.xlabel('epoch')\n",
    "plt.legend(['train', 'val'], loc='upper left')\n",
    "plt.show()"
   ]
  },
  {
   "cell_type": "code",
   "execution_count": 27,
   "metadata": {},
   "outputs": [],
   "source": [
    "scoring = ['accuracy', 'neg_log_loss']\n",
    "cv = StratifiedKFold(n_splits=4)"
   ]
  },
  {
   "cell_type": "code",
   "execution_count": 28,
   "metadata": {},
   "outputs": [],
   "source": [
    "nn_1hl = KerasClassifier(build_fn=create_model_1hl, epochs=20, batch_size=1000, verbose=2)"
   ]
  },
  {
   "cell_type": "code",
   "execution_count": 29,
   "metadata": {},
   "outputs": [
    {
     "name": "stderr",
     "output_type": "stream",
     "text": [
      "C:\\Users\\Xiuquan\\Anaconda3\\lib\\site-packages\\ipykernel_launcher.py:3: UserWarning: Update your `Dense` call to the Keras 2 API: `Dense(activation=\"relu\", input_dim=450, units=512)`\n",
      "  This is separate from the ipykernel package so we can avoid doing imports until\n",
      "C:\\Users\\Xiuquan\\Anaconda3\\lib\\site-packages\\ipykernel_launcher.py:6: UserWarning: Update your `Dense` call to the Keras 2 API: `Dense(activation=\"softmax\", units=38)`\n",
      "  \n"
     ]
    },
    {
     "name": "stdout",
     "output_type": "stream",
     "text": [
      "Epoch 1/20\n",
      " - 11s - loss: 2.0312 - acc: 0.5238\n",
      "Epoch 2/20\n",
      " - 12s - loss: 1.2015 - acc: 0.6566\n",
      "Epoch 3/20\n",
      " - 8s - loss: 1.0257 - acc: 0.6860\n",
      "Epoch 4/20\n",
      " - 9s - loss: 0.9425 - acc: 0.7024\n",
      "Epoch 5/20\n",
      " - 12s - loss: 0.8871 - acc: 0.7124\n",
      "Epoch 6/20\n",
      " - 12s - loss: 0.8479 - acc: 0.7221\n",
      "Epoch 7/20\n",
      " - 10s - loss: 0.8178 - acc: 0.7281\n",
      "Epoch 8/20\n",
      " - 10s - loss: 0.7903 - acc: 0.7346\n",
      "Epoch 9/20\n",
      " - 8s - loss: 0.7694 - acc: 0.7404\n",
      "Epoch 10/20\n",
      " - 8s - loss: 0.7496 - acc: 0.7451\n",
      "Epoch 11/20\n",
      " - 7s - loss: 0.7304 - acc: 0.7499\n",
      "Epoch 12/20\n",
      " - 8s - loss: 0.7178 - acc: 0.7541\n",
      "Epoch 13/20\n",
      " - 7s - loss: 0.7006 - acc: 0.7598\n",
      "Epoch 14/20\n",
      " - 8s - loss: 0.6908 - acc: 0.7625\n",
      "Epoch 15/20\n",
      " - 7s - loss: 0.6775 - acc: 0.7672\n",
      "Epoch 16/20\n",
      " - 8s - loss: 0.6655 - acc: 0.7704\n",
      "Epoch 17/20\n",
      " - 7s - loss: 0.6543 - acc: 0.7733\n",
      "Epoch 18/20\n",
      " - 8s - loss: 0.6431 - acc: 0.7786\n",
      "Epoch 19/20\n",
      " - 8s - loss: 0.6334 - acc: 0.7797\n",
      "Epoch 20/20\n",
      " - 8s - loss: 0.6221 - acc: 0.7851\n"
     ]
    },
    {
     "name": "stderr",
     "output_type": "stream",
     "text": [
      "C:\\Users\\Xiuquan\\Anaconda3\\lib\\site-packages\\ipykernel_launcher.py:3: UserWarning: Update your `Dense` call to the Keras 2 API: `Dense(activation=\"relu\", input_dim=450, units=512)`\n",
      "  This is separate from the ipykernel package so we can avoid doing imports until\n",
      "C:\\Users\\Xiuquan\\Anaconda3\\lib\\site-packages\\ipykernel_launcher.py:6: UserWarning: Update your `Dense` call to the Keras 2 API: `Dense(activation=\"softmax\", units=38)`\n",
      "  \n"
     ]
    },
    {
     "name": "stdout",
     "output_type": "stream",
     "text": [
      "Epoch 1/20\n",
      " - 8s - loss: 2.0278 - acc: 0.5211\n",
      "Epoch 2/20\n",
      " - 8s - loss: 1.1982 - acc: 0.6594\n",
      "Epoch 3/20\n",
      " - 7s - loss: 1.0223 - acc: 0.6880\n",
      "Epoch 4/20\n",
      " - 8s - loss: 0.9396 - acc: 0.7031\n",
      "Epoch 5/20\n",
      " - 7s - loss: 0.8844 - acc: 0.7145\n",
      "Epoch 6/20\n",
      " - 8s - loss: 0.8464 - acc: 0.7234\n",
      "Epoch 7/20\n",
      " - 7s - loss: 0.8155 - acc: 0.7288\n",
      "Epoch 8/20\n",
      " - 8s - loss: 0.7905 - acc: 0.7356\n",
      "Epoch 9/20\n",
      " - 7s - loss: 0.7699 - acc: 0.7410\n",
      "Epoch 10/20\n",
      " - 7s - loss: 0.7485 - acc: 0.7476\n",
      "Epoch 11/20\n",
      " - 8s - loss: 0.7307 - acc: 0.7531\n",
      "Epoch 12/20\n",
      " - 7s - loss: 0.7182 - acc: 0.7554\n",
      "Epoch 13/20\n",
      " - 8s - loss: 0.7043 - acc: 0.7601\n",
      "Epoch 14/20\n",
      " - 8s - loss: 0.6904 - acc: 0.7656\n",
      "Epoch 15/20\n",
      " - 8s - loss: 0.6782 - acc: 0.7665\n",
      "Epoch 16/20\n",
      " - 7s - loss: 0.6666 - acc: 0.7719\n",
      "Epoch 17/20\n",
      " - 8s - loss: 0.6555 - acc: 0.7741\n",
      "Epoch 18/20\n",
      " - 7s - loss: 0.6436 - acc: 0.7780\n",
      "Epoch 19/20\n",
      " - 8s - loss: 0.6341 - acc: 0.7815\n",
      "Epoch 20/20\n",
      " - 7s - loss: 0.6233 - acc: 0.7854\n"
     ]
    },
    {
     "name": "stderr",
     "output_type": "stream",
     "text": [
      "C:\\Users\\Xiuquan\\Anaconda3\\lib\\site-packages\\ipykernel_launcher.py:3: UserWarning: Update your `Dense` call to the Keras 2 API: `Dense(activation=\"relu\", input_dim=450, units=512)`\n",
      "  This is separate from the ipykernel package so we can avoid doing imports until\n",
      "C:\\Users\\Xiuquan\\Anaconda3\\lib\\site-packages\\ipykernel_launcher.py:6: UserWarning: Update your `Dense` call to the Keras 2 API: `Dense(activation=\"softmax\", units=38)`\n",
      "  \n"
     ]
    },
    {
     "name": "stdout",
     "output_type": "stream",
     "text": [
      "Epoch 1/20\n",
      " - 6s - loss: 2.0251 - acc: 0.5287\n",
      "Epoch 2/20\n",
      " - 5s - loss: 1.1886 - acc: 0.6623\n",
      "Epoch 3/20\n",
      " - 5s - loss: 1.0120 - acc: 0.6915\n",
      "Epoch 4/20\n",
      " - 5s - loss: 0.9293 - acc: 0.7084\n",
      "Epoch 5/20\n",
      " - 5s - loss: 0.8744 - acc: 0.7178\n",
      "Epoch 6/20\n",
      " - 6s - loss: 0.8354 - acc: 0.7264\n",
      "Epoch 7/20\n",
      " - 5s - loss: 0.8016 - acc: 0.7343\n",
      "Epoch 8/20\n",
      " - 5s - loss: 0.7787 - acc: 0.7395\n",
      "Epoch 9/20\n",
      " - 5s - loss: 0.7555 - acc: 0.7455\n",
      "Epoch 10/20\n",
      " - 5s - loss: 0.7366 - acc: 0.7509\n",
      "Epoch 11/20\n",
      " - 5s - loss: 0.7177 - acc: 0.7558\n",
      "Epoch 12/20\n",
      " - 5s - loss: 0.7028 - acc: 0.7605\n",
      "Epoch 13/20\n",
      " - 5s - loss: 0.6901 - acc: 0.7633\n",
      "Epoch 14/20\n",
      " - 5s - loss: 0.6741 - acc: 0.7684\n",
      "Epoch 15/20\n",
      " - 5s - loss: 0.6622 - acc: 0.7720\n",
      "Epoch 16/20\n",
      " - 5s - loss: 0.6506 - acc: 0.7750\n",
      "Epoch 17/20\n",
      " - 5s - loss: 0.6394 - acc: 0.7800\n",
      "Epoch 18/20\n",
      " - 5s - loss: 0.6268 - acc: 0.7836\n",
      "Epoch 19/20\n",
      " - 5s - loss: 0.6185 - acc: 0.7851\n",
      "Epoch 20/20\n",
      " - 5s - loss: 0.6086 - acc: 0.7891\n"
     ]
    },
    {
     "name": "stderr",
     "output_type": "stream",
     "text": [
      "C:\\Users\\Xiuquan\\Anaconda3\\lib\\site-packages\\ipykernel_launcher.py:3: UserWarning: Update your `Dense` call to the Keras 2 API: `Dense(activation=\"relu\", input_dim=450, units=512)`\n",
      "  This is separate from the ipykernel package so we can avoid doing imports until\n",
      "C:\\Users\\Xiuquan\\Anaconda3\\lib\\site-packages\\ipykernel_launcher.py:6: UserWarning: Update your `Dense` call to the Keras 2 API: `Dense(activation=\"softmax\", units=38)`\n",
      "  \n"
     ]
    },
    {
     "name": "stdout",
     "output_type": "stream",
     "text": [
      "Epoch 1/20\n",
      " - 6s - loss: 2.0181 - acc: 0.5316\n",
      "Epoch 2/20\n",
      " - 5s - loss: 1.1926 - acc: 0.6575\n",
      "Epoch 3/20\n",
      " - 5s - loss: 1.0200 - acc: 0.6860\n",
      "Epoch 4/20\n",
      " - 6s - loss: 0.9374 - acc: 0.7012\n",
      "Epoch 5/20\n",
      " - 7s - loss: 0.8816 - acc: 0.7138\n",
      "Epoch 6/20\n",
      " - 8s - loss: 0.8412 - acc: 0.7227\n",
      "Epoch 7/20\n",
      " - 8s - loss: 0.8110 - acc: 0.7282\n",
      "Epoch 8/20\n",
      " - 8s - loss: 0.7870 - acc: 0.7343\n",
      "Epoch 9/20\n",
      " - 8s - loss: 0.7656 - acc: 0.7398\n",
      "Epoch 10/20\n",
      " - 8s - loss: 0.7468 - acc: 0.7457\n",
      "Epoch 11/20\n",
      " - 8s - loss: 0.7284 - acc: 0.7496\n",
      "Epoch 12/20\n",
      " - 7s - loss: 0.7155 - acc: 0.7548\n",
      "Epoch 13/20\n",
      " - 8s - loss: 0.7005 - acc: 0.7594\n",
      "Epoch 14/20\n",
      " - 7s - loss: 0.6873 - acc: 0.7645\n",
      "Epoch 15/20\n",
      " - 8s - loss: 0.6771 - acc: 0.7671\n",
      "Epoch 16/20\n",
      " - 7s - loss: 0.6648 - acc: 0.7709\n",
      "Epoch 17/20\n",
      " - 8s - loss: 0.6519 - acc: 0.7746\n",
      "Epoch 18/20\n",
      " - 7s - loss: 0.6429 - acc: 0.7779\n",
      "Epoch 19/20\n",
      " - 9s - loss: 0.6328 - acc: 0.7806\n",
      "Epoch 20/20\n",
      " - 7s - loss: 0.6233 - acc: 0.7844\n"
     ]
    },
    {
     "data": {
      "text/plain": [
       "'0:09:52.035571'"
      ]
     },
     "execution_count": 29,
     "metadata": {},
     "output_type": "execute_result"
    }
   ],
   "source": [
    "start = datetime.now()\n",
    "hist_cross_val = cross_validate(nn_1hl, X, y, scoring=scoring, cv=cv)\n",
    "end = datetime.now()\n",
    "str(end-start)"
   ]
  },
  {
   "cell_type": "code",
   "execution_count": 30,
   "metadata": {},
   "outputs": [
    {
     "data": {
      "text/plain": [
       "{'fit_time': array([180.30806828, 151.24317241, 106.47849917, 144.92785668]),\n",
       " 'score_time': array([2.43006611, 2.40151691, 1.47708988, 2.38353062]),\n",
       " 'test_accuracy': array([0.72815777, 0.72885749, 0.71744585, 0.73128085]),\n",
       " 'test_neg_log_loss': array([-0.79691686, -0.80656287, -0.85743657, -0.79650515])}"
      ]
     },
     "execution_count": 30,
     "metadata": {},
     "output_type": "execute_result"
    }
   ],
   "source": [
    "hist_cross_val"
   ]
  },
  {
   "cell_type": "code",
   "execution_count": 31,
   "metadata": {},
   "outputs": [
    {
     "data": {
      "text/plain": [
       "(0.7264354901592518, -0.8143553656094847)"
      ]
     },
     "execution_count": 31,
     "metadata": {},
     "output_type": "execute_result"
    }
   ],
   "source": [
    "hist_cross_val['test_accuracy'].mean(), hist_cross_val['test_neg_log_loss'].mean()"
   ]
  },
  {
   "cell_type": "code",
   "execution_count": 32,
   "metadata": {},
   "outputs": [],
   "source": [
    "nn_1hl = KerasClassifier(build_fn=create_model_1hl, epochs=30, batch_size=1000, verbose=2)"
   ]
  },
  {
   "cell_type": "code",
   "execution_count": null,
   "metadata": {},
   "outputs": [],
   "source": []
  },
  {
   "cell_type": "code",
   "execution_count": null,
   "metadata": {},
   "outputs": [],
   "source": []
  }
 ],
 "metadata": {
  "kernelspec": {
   "display_name": "Python 3",
   "language": "python",
   "name": "python3"
  },
  "language_info": {
   "codemirror_mode": {
    "name": "ipython",
    "version": 3
   },
   "file_extension": ".py",
   "mimetype": "text/x-python",
   "name": "python",
   "nbconvert_exporter": "python",
   "pygments_lexer": "ipython3",
   "version": "3.7.3"
  }
 },
 "nbformat": 4,
 "nbformat_minor": 2
}
