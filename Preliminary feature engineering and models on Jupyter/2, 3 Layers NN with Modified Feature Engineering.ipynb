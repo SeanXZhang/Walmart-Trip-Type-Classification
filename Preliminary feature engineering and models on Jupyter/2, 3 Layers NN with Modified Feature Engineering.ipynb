{
 "cells": [
  {
   "cell_type": "code",
   "execution_count": 1,
   "metadata": {},
   "outputs": [
    {
     "name": "stderr",
     "output_type": "stream",
     "text": [
      "Using TensorFlow backend.\n"
     ]
    }
   ],
   "source": [
    "import pandas as pd\n",
    "import numpy as np\n",
    "import calendar\n",
    "from time import time\n",
    "from datetime import datetime\n",
    "import re \n",
    "from sklearn.model_selection import train_test_split, StratifiedKFold, cross_val_score, cross_validate, RandomizedSearchCV\n",
    "from sklearn.metrics import log_loss, accuracy_score, classification_report\n",
    "from keras.models import load_model\n",
    "import matplotlib.pyplot as plt\n",
    "%matplotlib inline"
   ]
  },
  {
   "cell_type": "code",
   "execution_count": 2,
   "metadata": {},
   "outputs": [],
   "source": [
    "data_train = pd.read_csv(\"train.csv\").replace(\"MENS WEAR\",\"MENSWEAR\")\n",
    "#data_train_orig = pd.read_csv(\"train.csv\").replace(\"MENS WEAR\",\"MENSWEAR\")"
   ]
  },
  {
   "cell_type": "code",
   "execution_count": 3,
   "metadata": {},
   "outputs": [],
   "source": [
    "dept_list = sorted(list(data_train.DepartmentDescription.dropna().unique()))"
   ]
  },
  {
   "cell_type": "code",
   "execution_count": 4,
   "metadata": {},
   "outputs": [],
   "source": [
    "weekdays = list(calendar.day_name)\n",
    "dept_list_sum = dict.fromkeys(dept_list, np.sum)\n",
    "weekday_dict = dict.fromkeys(weekdays, np.max)\n",
    "feature_dict = {\"TripType\": np.max, 'NumItems': np.sum, 'Return': np.max}\n",
    "feature_dict = {**feature_dict, **weekday_dict, **dept_list_sum}"
   ]
  },
  {
   "cell_type": "code",
   "execution_count": 5,
   "metadata": {},
   "outputs": [],
   "source": [
    "def transform_data(data):\n",
    "    dummies = pd.get_dummies(data.Weekday)\n",
    "    data[dummies.columns] = dummies\n",
    "    \n",
    "    dummies = pd.get_dummies(data.DepartmentDescription)\n",
    "    dummies = dummies.apply(lambda x: x*data[\"ScanCount\"])\n",
    "    data[dummies.columns] = dummies \n",
    "\n",
    "    data.loc[data.ScanCount < 0, 'Return'] = 1\n",
    "    data.loc[data.Return != 1, 'Return'] = 0\n",
    "    \n",
    "    data = data.rename(columns={\"ScanCount\":\"NumItems\"})\n",
    "    \n",
    "    grouped = data.groupby(\"VisitNumber\")\n",
    "    grouped = grouped.aggregate(feature_dict)\n",
    "    data = grouped[[\"TripType\", \"NumItems\", \"Return\"] + weekdays + dept_list]\n",
    "\n",
    "    return data"
   ]
  },
  {
   "cell_type": "code",
   "execution_count": 6,
   "metadata": {},
   "outputs": [],
   "source": [
    "data_new = transform_data(data_train)"
   ]
  },
  {
   "cell_type": "code",
   "execution_count": 7,
   "metadata": {},
   "outputs": [],
   "source": [
    "def add_category_counts(data):\n",
    "    alist = []\n",
    "    for array in np.asarray(data.loc[:, dept_list[0]:]):\n",
    "        count = 0\n",
    "        count = sum(x > 0 for x in array)\n",
    "        alist.append(count)\n",
    "    cat_counts = pd.DataFrame(alist)\n",
    "    cat_counts = cat_counts.rename(columns={0:\"CategoryCount\"})\n",
    "    cat_counts = cat_counts.set_index(data.index)\n",
    "    data.insert(3, 'CategoryCounts', cat_counts)\n",
    "    return data"
   ]
  },
  {
   "cell_type": "code",
   "execution_count": 8,
   "metadata": {},
   "outputs": [],
   "source": [
    "data_new = add_category_counts(data_new)"
   ]
  },
  {
   "cell_type": "code",
   "execution_count": 9,
   "metadata": {},
   "outputs": [
    {
     "data": {
      "text/plain": [
       "(95674, 78)"
      ]
     },
     "execution_count": 9,
     "metadata": {},
     "output_type": "execute_result"
    }
   ],
   "source": [
    "data_new.shape"
   ]
  },
  {
   "cell_type": "code",
   "execution_count": 10,
   "metadata": {},
   "outputs": [],
   "source": [
    "def fineline_dummies(data):\n",
    "    values = data.FinelineNumber\n",
    "    counts = values.value_counts()\n",
    "    mask = values.isin(counts[counts > 500].index)\n",
    "    values[~mask] = \"-\"\n",
    "    dummies = pd.get_dummies(values).drop('-', axis=1)\n",
    "\n",
    "    dummies.columns = ['fln_'+str(col) for col in dummies.columns]\n",
    "    dummies = pd.concat([dummies, data.VisitNumber], axis=1)\n",
    "    dummies = dummies.groupby(\"VisitNumber\")\n",
    "    dummies = dummies.aggregate(np.sum)\n",
    "    return dummies"
   ]
  },
  {
   "cell_type": "code",
   "execution_count": 11,
   "metadata": {},
   "outputs": [
    {
     "name": "stderr",
     "output_type": "stream",
     "text": [
      "C:\\Users\\Xiuquan\\Anaconda3\\lib\\site-packages\\ipykernel_launcher.py:5: SettingWithCopyWarning: \n",
      "A value is trying to be set on a copy of a slice from a DataFrame\n",
      "\n",
      "See the caveats in the documentation: http://pandas.pydata.org/pandas-docs/stable/indexing.html#indexing-view-versus-copy\n",
      "  \"\"\"\n"
     ]
    },
    {
     "data": {
      "text/plain": [
       "'0:00:18.910371'"
      ]
     },
     "execution_count": 11,
     "metadata": {},
     "output_type": "execute_result"
    }
   ],
   "source": [
    "start = datetime.now()\n",
    "fln_dummies = fineline_dummies(data_train)\n",
    "end = datetime.now()\n",
    "str(end-start)"
   ]
  },
  {
   "cell_type": "code",
   "execution_count": 12,
   "metadata": {},
   "outputs": [],
   "source": [
    "data_new = data_new.join(fln_dummies)"
   ]
  },
  {
   "cell_type": "code",
   "execution_count": 13,
   "metadata": {},
   "outputs": [
    {
     "data": {
      "text/plain": [
       "(95674, 351)"
      ]
     },
     "execution_count": 13,
     "metadata": {},
     "output_type": "execute_result"
    }
   ],
   "source": [
    "data_new.shape"
   ]
  },
  {
   "cell_type": "code",
   "execution_count": 14,
   "metadata": {},
   "outputs": [],
   "source": [
    "def Upc_dummies(data):\n",
    "    values = data.Upc\n",
    "    counts = values.value_counts()\n",
    "    mask = values.isin(counts[counts > 300].index)\n",
    "    values[~mask] = \"-\"\n",
    "    dummies = pd.get_dummies(values).drop('-', axis=1)\n",
    "\n",
    "    dummies.columns = ['upc_'+str(col) for col in dummies.columns]\n",
    "    dummies = pd.concat([dummies, data.VisitNumber], axis=1)\n",
    "    dummies = dummies.groupby(\"VisitNumber\")\n",
    "    dummies = dummies.aggregate(np.sum)\n",
    "    return dummies"
   ]
  },
  {
   "cell_type": "code",
   "execution_count": 15,
   "metadata": {},
   "outputs": [
    {
     "name": "stderr",
     "output_type": "stream",
     "text": [
      "C:\\Users\\Xiuquan\\Anaconda3\\lib\\site-packages\\ipykernel_launcher.py:5: SettingWithCopyWarning: \n",
      "A value is trying to be set on a copy of a slice from a DataFrame\n",
      "\n",
      "See the caveats in the documentation: http://pandas.pydata.org/pandas-docs/stable/indexing.html#indexing-view-versus-copy\n",
      "  \"\"\"\n"
     ]
    },
    {
     "data": {
      "text/plain": [
       "'0:00:06.758646'"
      ]
     },
     "execution_count": 15,
     "metadata": {},
     "output_type": "execute_result"
    }
   ],
   "source": [
    "start = datetime.now()\n",
    "upc_dummies = Upc_dummies(data_train)\n",
    "end = datetime.now()\n",
    "str(end-start)"
   ]
  },
  {
   "cell_type": "code",
   "execution_count": 16,
   "metadata": {},
   "outputs": [],
   "source": [
    "data_new = data_new.join(upc_dummies)"
   ]
  },
  {
   "cell_type": "code",
   "execution_count": 17,
   "metadata": {},
   "outputs": [
    {
     "data": {
      "text/plain": [
       "(95674, 451)"
      ]
     },
     "execution_count": 17,
     "metadata": {},
     "output_type": "execute_result"
    }
   ],
   "source": [
    "data_new.shape"
   ]
  },
  {
   "cell_type": "code",
   "execution_count": 18,
   "metadata": {},
   "outputs": [
    {
     "name": "stderr",
     "output_type": "stream",
     "text": [
      "Using TensorFlow backend.\n"
     ]
    }
   ],
   "source": [
    "from keras.models import Sequential\n",
    "from keras.layers import Dense, Dropout, Input\n",
    "from keras.wrappers.scikit_learn import KerasClassifier\n",
    "from keras.utils.np_utils import to_categorical\n",
    "from keras import regularizers\n",
    "from keras.callbacks import EarlyStopping, ModelCheckpoint"
   ]
  },
  {
   "cell_type": "code",
   "execution_count": 19,
   "metadata": {},
   "outputs": [],
   "source": [
    "X = data_new.drop('TripType', axis=1)\n",
    "\n",
    "trip_types = sorted(data_train.TripType.unique())\n",
    "trip_types_map = dict(zip(trip_types, np.arange(0, len(trip_types))))\n",
    "y = data_new.TripType.map(trip_types_map)\n",
    "\n",
    "X_train, X_test, y_train, y_test = train_test_split(X, y, test_size=0.25, random_state=42)"
   ]
  },
  {
   "cell_type": "code",
   "execution_count": 20,
   "metadata": {},
   "outputs": [
    {
     "data": {
      "text/plain": [
       "450"
      ]
     },
     "execution_count": 20,
     "metadata": {},
     "output_type": "execute_result"
    }
   ],
   "source": [
    "len(X.columns)"
   ]
  },
  {
   "cell_type": "code",
   "execution_count": 21,
   "metadata": {},
   "outputs": [],
   "source": [
    "def create_model_2hl(nodes_l1=512, nodes_l2=128, dropout_l1=0.3, dropout_l2=0.2):\n",
    "    model = Sequential()\n",
    "    model.add(Dense(output_dim=nodes_l1, activation=\"relu\", input_dim=len(X.columns)))\n",
    "    model.add(Dropout(dropout_l1))\n",
    "    model.add(Dense(output_dim=nodes_l2, activation=\"relu\"))\n",
    "    model.add(Dropout(dropout_l2))\n",
    "            \n",
    "    model.add(Dense(output_dim=len(trip_types), activation=\"softmax\"))\n",
    "    \n",
    "    model.compile(loss=\"categorical_crossentropy\", optimizer=\"rmsprop\", metrics=[\"accuracy\"])\n",
    "    \n",
    "    return model"
   ]
  },
  {
   "cell_type": "code",
   "execution_count": 22,
   "metadata": {},
   "outputs": [],
   "source": [
    "model_2hl = KerasClassifier(build_fn=create_model_2hl, epochs=100, batch_size=1000, verbose=2)"
   ]
  },
  {
   "cell_type": "code",
   "execution_count": 23,
   "metadata": {},
   "outputs": [],
   "source": [
    "callbacks = [EarlyStopping(monitor=\"val_acc\", patience=20), \n",
    "             ModelCheckpoint(filepath=\"best_model.h5\", monitor=\"val_acc\", save_best_only=True)]"
   ]
  },
  {
   "cell_type": "code",
   "execution_count": 24,
   "metadata": {},
   "outputs": [
    {
     "name": "stderr",
     "output_type": "stream",
     "text": [
      "WARNING: Logging before flag parsing goes to stderr.\n",
      "W0911 00:37:56.967412 12748 deprecation_wrapper.py:119] From C:\\Users\\Xiuquan\\Anaconda3\\lib\\site-packages\\keras\\backend\\tensorflow_backend.py:66: The name tf.get_default_graph is deprecated. Please use tf.compat.v1.get_default_graph instead.\n",
      "\n",
      "C:\\Users\\Xiuquan\\Anaconda3\\lib\\site-packages\\ipykernel_launcher.py:3: UserWarning: Update your `Dense` call to the Keras 2 API: `Dense(activation=\"relu\", input_dim=450, units=512)`\n",
      "  This is separate from the ipykernel package so we can avoid doing imports until\n",
      "W0911 00:37:58.576237 12748 deprecation_wrapper.py:119] From C:\\Users\\Xiuquan\\Anaconda3\\lib\\site-packages\\keras\\backend\\tensorflow_backend.py:541: The name tf.placeholder is deprecated. Please use tf.compat.v1.placeholder instead.\n",
      "\n",
      "W0911 00:37:58.907596 12748 deprecation_wrapper.py:119] From C:\\Users\\Xiuquan\\Anaconda3\\lib\\site-packages\\keras\\backend\\tensorflow_backend.py:4432: The name tf.random_uniform is deprecated. Please use tf.random.uniform instead.\n",
      "\n",
      "W0911 00:37:59.053199 12748 deprecation_wrapper.py:119] From C:\\Users\\Xiuquan\\Anaconda3\\lib\\site-packages\\keras\\backend\\tensorflow_backend.py:148: The name tf.placeholder_with_default is deprecated. Please use tf.compat.v1.placeholder_with_default instead.\n",
      "\n",
      "W0911 00:37:59.101167 12748 deprecation.py:506] From C:\\Users\\Xiuquan\\Anaconda3\\lib\\site-packages\\keras\\backend\\tensorflow_backend.py:3733: calling dropout (from tensorflow.python.ops.nn_ops) with keep_prob is deprecated and will be removed in a future version.\n",
      "Instructions for updating:\n",
      "Please use `rate` instead of `keep_prob`. Rate should be set to `rate = 1 - keep_prob`.\n",
      "C:\\Users\\Xiuquan\\Anaconda3\\lib\\site-packages\\ipykernel_launcher.py:5: UserWarning: Update your `Dense` call to the Keras 2 API: `Dense(activation=\"relu\", units=128)`\n",
      "  \"\"\"\n",
      "C:\\Users\\Xiuquan\\Anaconda3\\lib\\site-packages\\ipykernel_launcher.py:8: UserWarning: Update your `Dense` call to the Keras 2 API: `Dense(activation=\"softmax\", units=38)`\n",
      "  \n",
      "W0911 00:37:59.389715 12748 deprecation_wrapper.py:119] From C:\\Users\\Xiuquan\\Anaconda3\\lib\\site-packages\\keras\\optimizers.py:793: The name tf.train.Optimizer is deprecated. Please use tf.compat.v1.train.Optimizer instead.\n",
      "\n",
      "W0911 00:37:59.475694 12748 deprecation_wrapper.py:119] From C:\\Users\\Xiuquan\\Anaconda3\\lib\\site-packages\\keras\\backend\\tensorflow_backend.py:3576: The name tf.log is deprecated. Please use tf.math.log instead.\n",
      "\n",
      "W0911 00:38:00.764082 12748 deprecation.py:323] From C:\\Users\\Xiuquan\\Anaconda3\\lib\\site-packages\\tensorflow\\python\\ops\\math_grad.py:1250: add_dispatch_support.<locals>.wrapper (from tensorflow.python.ops.array_ops) is deprecated and will be removed in a future version.\n",
      "Instructions for updating:\n",
      "Use tf.where in 2.0, which has the same broadcast rule as np.where\n"
     ]
    },
    {
     "name": "stdout",
     "output_type": "stream",
     "text": [
      "Train on 71755 samples, validate on 23919 samples\n",
      "Epoch 1/100\n",
      " - 12s - loss: 1.9432 - acc: 0.4980 - val_loss: 1.1862 - val_acc: 0.6672\n",
      "Epoch 2/100\n",
      " - 8s - loss: 1.1716 - acc: 0.6561 - val_loss: 0.9797 - val_acc: 0.6983\n",
      "Epoch 3/100\n",
      " - 8s - loss: 1.0325 - acc: 0.6786 - val_loss: 0.9140 - val_acc: 0.7092\n",
      "Epoch 4/100\n",
      " - 8s - loss: 0.9623 - acc: 0.6919 - val_loss: 0.8864 - val_acc: 0.7107\n",
      "Epoch 5/100\n",
      " - 8s - loss: 0.9200 - acc: 0.7022 - val_loss: 0.8526 - val_acc: 0.7170\n",
      "Epoch 6/100\n",
      " - 8s - loss: 0.8833 - acc: 0.7098 - val_loss: 0.8484 - val_acc: 0.7190\n",
      "Epoch 7/100\n",
      " - 8s - loss: 0.8567 - acc: 0.7160 - val_loss: 0.8333 - val_acc: 0.7187\n",
      "Epoch 8/100\n",
      " - 8s - loss: 0.8333 - acc: 0.7222 - val_loss: 0.8131 - val_acc: 0.7275\n",
      "Epoch 9/100\n",
      " - 8s - loss: 0.8098 - acc: 0.7281 - val_loss: 0.8107 - val_acc: 0.7254\n",
      "Epoch 10/100\n",
      " - 7s - loss: 0.7952 - acc: 0.7316 - val_loss: 0.8162 - val_acc: 0.7219\n",
      "Epoch 11/100\n",
      " - 8s - loss: 0.7770 - acc: 0.7381 - val_loss: 0.8052 - val_acc: 0.7300\n",
      "Epoch 12/100\n",
      " - 7s - loss: 0.7625 - acc: 0.7407 - val_loss: 0.8069 - val_acc: 0.7254\n",
      "Epoch 13/100\n",
      " - 8s - loss: 0.7470 - acc: 0.7453 - val_loss: 0.7997 - val_acc: 0.7240\n",
      "Epoch 14/100\n",
      " - 7s - loss: 0.7361 - acc: 0.7481 - val_loss: 0.7951 - val_acc: 0.7249\n",
      "Epoch 15/100\n",
      " - 8s - loss: 0.7220 - acc: 0.7516 - val_loss: 0.7954 - val_acc: 0.7272\n",
      "Epoch 16/100\n",
      " - 9s - loss: 0.7110 - acc: 0.7536 - val_loss: 0.7907 - val_acc: 0.7285\n",
      "Epoch 17/100\n",
      " - 8s - loss: 0.7007 - acc: 0.7589 - val_loss: 0.7894 - val_acc: 0.7273\n",
      "Epoch 18/100\n",
      " - 8s - loss: 0.6878 - acc: 0.7614 - val_loss: 0.7980 - val_acc: 0.7250\n",
      "Epoch 19/100\n",
      " - 8s - loss: 0.6747 - acc: 0.7674 - val_loss: 0.7928 - val_acc: 0.7288\n",
      "Epoch 20/100\n",
      " - 8s - loss: 0.6665 - acc: 0.7671 - val_loss: 0.7934 - val_acc: 0.7264\n",
      "Epoch 21/100\n",
      " - 9s - loss: 0.6558 - acc: 0.7736 - val_loss: 0.7945 - val_acc: 0.7267\n",
      "Epoch 22/100\n",
      " - 9s - loss: 0.6479 - acc: 0.7744 - val_loss: 0.7954 - val_acc: 0.7292\n",
      "Epoch 23/100\n",
      " - 9s - loss: 0.6405 - acc: 0.7757 - val_loss: 0.7960 - val_acc: 0.7276\n",
      "Epoch 24/100\n",
      " - 8s - loss: 0.6309 - acc: 0.7795 - val_loss: 0.8010 - val_acc: 0.7289\n",
      "Epoch 25/100\n",
      " - 8s - loss: 0.6205 - acc: 0.7833 - val_loss: 0.7989 - val_acc: 0.7303\n",
      "Epoch 26/100\n",
      " - 8s - loss: 0.6135 - acc: 0.7849 - val_loss: 0.8054 - val_acc: 0.7282\n",
      "Epoch 27/100\n",
      " - 8s - loss: 0.6044 - acc: 0.7886 - val_loss: 0.8028 - val_acc: 0.7296\n",
      "Epoch 28/100\n",
      " - 8s - loss: 0.5969 - acc: 0.7888 - val_loss: 0.8069 - val_acc: 0.7284\n",
      "Epoch 29/100\n",
      " - 8s - loss: 0.5888 - acc: 0.7941 - val_loss: 0.8267 - val_acc: 0.7290\n",
      "Epoch 30/100\n",
      " - 8s - loss: 0.5828 - acc: 0.7948 - val_loss: 0.8142 - val_acc: 0.7314\n",
      "Epoch 31/100\n",
      " - 9s - loss: 0.5758 - acc: 0.7967 - val_loss: 0.8209 - val_acc: 0.7270\n",
      "Epoch 32/100\n",
      " - 9s - loss: 0.5683 - acc: 0.7990 - val_loss: 0.8176 - val_acc: 0.7287\n",
      "Epoch 33/100\n",
      " - 9s - loss: 0.5615 - acc: 0.8017 - val_loss: 0.8273 - val_acc: 0.7268\n",
      "Epoch 34/100\n",
      " - 10s - loss: 0.5556 - acc: 0.8039 - val_loss: 0.8308 - val_acc: 0.7263\n",
      "Epoch 35/100\n",
      " - 9s - loss: 0.5475 - acc: 0.8058 - val_loss: 0.8374 - val_acc: 0.7281\n",
      "Epoch 36/100\n",
      " - 9s - loss: 0.5434 - acc: 0.8096 - val_loss: 0.8357 - val_acc: 0.7280\n",
      "Epoch 37/100\n",
      " - 9s - loss: 0.5362 - acc: 0.8105 - val_loss: 0.8422 - val_acc: 0.7285\n",
      "Epoch 38/100\n",
      " - 9s - loss: 0.5284 - acc: 0.8137 - val_loss: 0.8459 - val_acc: 0.7287\n",
      "Epoch 39/100\n",
      " - 8s - loss: 0.5236 - acc: 0.8143 - val_loss: 0.8483 - val_acc: 0.7261\n",
      "Epoch 40/100\n",
      " - 8s - loss: 0.5192 - acc: 0.8168 - val_loss: 0.8616 - val_acc: 0.7246\n",
      "Epoch 41/100\n",
      " - 8s - loss: 0.5136 - acc: 0.8176 - val_loss: 0.8626 - val_acc: 0.7254\n",
      "Epoch 42/100\n",
      " - 8s - loss: 0.5065 - acc: 0.8198 - val_loss: 0.8662 - val_acc: 0.7263\n",
      "Epoch 43/100\n",
      " - 9s - loss: 0.5042 - acc: 0.8207 - val_loss: 0.8777 - val_acc: 0.7265\n",
      "Epoch 44/100\n",
      " - 8s - loss: 0.5008 - acc: 0.8222 - val_loss: 0.8766 - val_acc: 0.7264\n",
      "Epoch 45/100\n",
      " - 8s - loss: 0.4961 - acc: 0.8256 - val_loss: 0.8929 - val_acc: 0.7259\n",
      "Epoch 46/100\n",
      " - 7s - loss: 0.4901 - acc: 0.8266 - val_loss: 0.8846 - val_acc: 0.7238\n",
      "Epoch 47/100\n",
      " - 8s - loss: 0.4893 - acc: 0.8260 - val_loss: 0.8934 - val_acc: 0.7246\n",
      "Epoch 48/100\n",
      " - 8s - loss: 0.4831 - acc: 0.8284 - val_loss: 0.8894 - val_acc: 0.7257\n",
      "Epoch 49/100\n",
      " - 9s - loss: 0.4774 - acc: 0.8294 - val_loss: 0.8960 - val_acc: 0.7228\n",
      "Epoch 50/100\n",
      " - 8s - loss: 0.4741 - acc: 0.8308 - val_loss: 0.9093 - val_acc: 0.7255\n"
     ]
    },
    {
     "data": {
      "text/plain": [
       "'0:06:59.811279'"
      ]
     },
     "execution_count": 24,
     "metadata": {},
     "output_type": "execute_result"
    }
   ],
   "source": [
    "start = datetime.now()\n",
    "hist_2hl = model_2hl.fit(X, y, validation_split=0.25, batch_size=1000, callbacks=callbacks)\n",
    "end = datetime.now()\n",
    "str(end-start)"
   ]
  },
  {
   "cell_type": "code",
   "execution_count": 25,
   "metadata": {},
   "outputs": [
    {
     "data": {
      "image/png": "[encoded data removed]",
      "text/plain": [
       "<Figure size 432x288 with 1 Axes>"
      ]
     },
     "metadata": {
      "needs_background": "light"
     },
     "output_type": "display_data"
    }
   ],
   "source": [
    "plt.plot(hist_2hl.history['acc'])\n",
    "plt.plot(hist_2hl.history['val_acc'])\n",
    "plt.title('model accuracy: batch size=1000')\n",
    "plt.ylabel('accuracy')\n",
    "plt.xlabel('epoch')\n",
    "plt.legend(['train', 'val'], loc='upper left')\n",
    "plt.show()"
   ]
  },
  {
   "cell_type": "code",
   "execution_count": 26,
   "metadata": {},
   "outputs": [
    {
     "data": {
      "image/png": "[encoded data removed]",
      "text/plain": [
       "<Figure size 432x288 with 1 Axes>"
      ]
     },
     "metadata": {
      "needs_background": "light"
     },
     "output_type": "display_data"
    }
   ],
   "source": [
    "plt.plot(hist_2hl.history['loss'])\n",
    "plt.plot(hist_2hl.history['val_loss'])\n",
    "plt.title('model loss: batch size=1000')\n",
    "plt.ylabel('loss')\n",
    "plt.xlabel('epoch')\n",
    "plt.legend(['train', 'val'], loc='upper left')\n",
    "plt.show()"
   ]
  },
  {
   "cell_type": "code",
   "execution_count": 27,
   "metadata": {},
   "outputs": [],
   "source": [
    "scoring = ['accuracy', 'neg_log_loss']\n",
    "cv = StratifiedKFold(n_splits=4)"
   ]
  },
  {
   "cell_type": "code",
   "execution_count": 28,
   "metadata": {},
   "outputs": [],
   "source": [
    "nn_2hl = KerasClassifier(build_fn=create_model_2hl, epochs=20, batch_size=1000, verbose=2)"
   ]
  },
  {
   "cell_type": "code",
   "execution_count": 29,
   "metadata": {},
   "outputs": [
    {
     "name": "stderr",
     "output_type": "stream",
     "text": [
      "C:\\Users\\Xiuquan\\Anaconda3\\lib\\site-packages\\ipykernel_launcher.py:3: UserWarning: Update your `Dense` call to the Keras 2 API: `Dense(activation=\"relu\", input_dim=450, units=512)`\n",
      "  This is separate from the ipykernel package so we can avoid doing imports until\n",
      "C:\\Users\\Xiuquan\\Anaconda3\\lib\\site-packages\\ipykernel_launcher.py:5: UserWarning: Update your `Dense` call to the Keras 2 API: `Dense(activation=\"relu\", units=128)`\n",
      "  \"\"\"\n",
      "C:\\Users\\Xiuquan\\Anaconda3\\lib\\site-packages\\ipykernel_launcher.py:8: UserWarning: Update your `Dense` call to the Keras 2 API: `Dense(activation=\"softmax\", units=38)`\n",
      "  \n"
     ]
    },
    {
     "name": "stdout",
     "output_type": "stream",
     "text": [
      "Epoch 1/20\n",
      " - 9s - loss: 1.9715 - acc: 0.4894\n",
      "Epoch 2/20\n",
      " - 8s - loss: 1.1839 - acc: 0.6543\n",
      "Epoch 3/20\n",
      " - 8s - loss: 1.0359 - acc: 0.6787\n",
      "Epoch 4/20\n",
      " - 8s - loss: 0.9631 - acc: 0.6929\n",
      "Epoch 5/20\n",
      " - 8s - loss: 0.9175 - acc: 0.7056\n",
      "Epoch 6/20\n",
      " - 7s - loss: 0.8845 - acc: 0.7115\n",
      "Epoch 7/20\n",
      " - 8s - loss: 0.8541 - acc: 0.7171\n",
      "Epoch 8/20\n",
      " - 7s - loss: 0.8318 - acc: 0.7225\n",
      "Epoch 9/20\n",
      " - 7s - loss: 0.8104 - acc: 0.7290\n",
      "Epoch 10/20\n",
      " - 7s - loss: 0.7938 - acc: 0.7337\n",
      "Epoch 11/20\n",
      " - 7s - loss: 0.7790 - acc: 0.7383\n",
      "Epoch 12/20\n",
      " - 8s - loss: 0.7620 - acc: 0.7416\n",
      "Epoch 13/20\n",
      " - 7s - loss: 0.7462 - acc: 0.7459\n",
      "Epoch 14/20\n",
      " - 7s - loss: 0.7376 - acc: 0.7472\n",
      "Epoch 15/20\n",
      " - 7s - loss: 0.7213 - acc: 0.7539\n",
      "Epoch 16/20\n",
      " - 7s - loss: 0.7114 - acc: 0.7548\n",
      "Epoch 17/20\n",
      " - 7s - loss: 0.7020 - acc: 0.7572\n",
      "Epoch 18/20\n",
      " - 8s - loss: 0.6907 - acc: 0.7608\n",
      "Epoch 19/20\n",
      " - 7s - loss: 0.6780 - acc: 0.7657\n",
      "Epoch 20/20\n",
      " - 7s - loss: 0.6647 - acc: 0.7699\n"
     ]
    },
    {
     "name": "stderr",
     "output_type": "stream",
     "text": [
      "C:\\Users\\Xiuquan\\Anaconda3\\lib\\site-packages\\ipykernel_launcher.py:3: UserWarning: Update your `Dense` call to the Keras 2 API: `Dense(activation=\"relu\", input_dim=450, units=512)`\n",
      "  This is separate from the ipykernel package so we can avoid doing imports until\n",
      "C:\\Users\\Xiuquan\\Anaconda3\\lib\\site-packages\\ipykernel_launcher.py:5: UserWarning: Update your `Dense` call to the Keras 2 API: `Dense(activation=\"relu\", units=128)`\n",
      "  \"\"\"\n",
      "C:\\Users\\Xiuquan\\Anaconda3\\lib\\site-packages\\ipykernel_launcher.py:8: UserWarning: Update your `Dense` call to the Keras 2 API: `Dense(activation=\"softmax\", units=38)`\n",
      "  \n"
     ]
    },
    {
     "name": "stdout",
     "output_type": "stream",
     "text": [
      "Epoch 1/20\n",
      " - 8s - loss: 1.9845 - acc: 0.4885\n",
      "Epoch 2/20\n",
      " - 9s - loss: 1.1845 - acc: 0.6536\n",
      "Epoch 3/20\n",
      " - 7s - loss: 1.0357 - acc: 0.6811\n",
      "Epoch 4/20\n",
      " - 7s - loss: 0.9640 - acc: 0.6955\n",
      "Epoch 5/20\n",
      " - 7s - loss: 0.9198 - acc: 0.7041\n",
      "Epoch 6/20\n",
      " - 7s - loss: 0.8854 - acc: 0.7106\n",
      "Epoch 7/20\n",
      " - 7s - loss: 0.8585 - acc: 0.7164\n",
      "Epoch 8/20\n",
      " - 7s - loss: 0.8355 - acc: 0.7240\n",
      "Epoch 9/20\n",
      " - 7s - loss: 0.8144 - acc: 0.7283\n",
      "Epoch 10/20\n",
      " - 7s - loss: 0.7980 - acc: 0.7322\n",
      "Epoch 11/20\n",
      " - 7s - loss: 0.7813 - acc: 0.7369\n",
      "Epoch 12/20\n",
      " - 7s - loss: 0.7650 - acc: 0.7409\n",
      "Epoch 13/20\n",
      " - 7s - loss: 0.7504 - acc: 0.7445\n",
      "Epoch 14/20\n",
      " - 8s - loss: 0.7385 - acc: 0.7472\n",
      "Epoch 15/20\n",
      " - 7s - loss: 0.7273 - acc: 0.7524\n",
      "Epoch 16/20\n",
      " - 7s - loss: 0.7122 - acc: 0.7550\n",
      "Epoch 17/20\n",
      " - 7s - loss: 0.6992 - acc: 0.7588\n",
      "Epoch 18/20\n",
      " - 7s - loss: 0.6906 - acc: 0.7606\n",
      "Epoch 19/20\n",
      " - 7s - loss: 0.6819 - acc: 0.7637\n",
      "Epoch 20/20\n",
      " - 7s - loss: 0.6697 - acc: 0.7694\n"
     ]
    },
    {
     "name": "stderr",
     "output_type": "stream",
     "text": [
      "C:\\Users\\Xiuquan\\Anaconda3\\lib\\site-packages\\ipykernel_launcher.py:3: UserWarning: Update your `Dense` call to the Keras 2 API: `Dense(activation=\"relu\", input_dim=450, units=512)`\n",
      "  This is separate from the ipykernel package so we can avoid doing imports until\n",
      "C:\\Users\\Xiuquan\\Anaconda3\\lib\\site-packages\\ipykernel_launcher.py:5: UserWarning: Update your `Dense` call to the Keras 2 API: `Dense(activation=\"relu\", units=128)`\n",
      "  \"\"\"\n",
      "C:\\Users\\Xiuquan\\Anaconda3\\lib\\site-packages\\ipykernel_launcher.py:8: UserWarning: Update your `Dense` call to the Keras 2 API: `Dense(activation=\"softmax\", units=38)`\n",
      "  \n"
     ]
    },
    {
     "name": "stdout",
     "output_type": "stream",
     "text": [
      "Epoch 1/20\n",
      " - 7s - loss: 1.9513 - acc: 0.5069\n",
      "Epoch 2/20\n",
      " - 7s - loss: 1.1703 - acc: 0.6580\n",
      "Epoch 3/20\n",
      " - 7s - loss: 1.0200 - acc: 0.6862\n",
      "Epoch 4/20\n",
      " - 7s - loss: 0.9488 - acc: 0.6992\n",
      "Epoch 5/20\n",
      " - 7s - loss: 0.9015 - acc: 0.7090\n",
      "Epoch 6/20\n",
      " - 7s - loss: 0.8667 - acc: 0.7169\n",
      "Epoch 7/20\n",
      " - 7s - loss: 0.8395 - acc: 0.7219\n",
      "Epoch 8/20\n",
      " - 7s - loss: 0.8117 - acc: 0.7301\n",
      "Epoch 9/20\n",
      " - 8s - loss: 0.7979 - acc: 0.7333\n",
      "Epoch 10/20\n",
      " - 7s - loss: 0.7804 - acc: 0.7387\n",
      "Epoch 11/20\n",
      " - 7s - loss: 0.7627 - acc: 0.7442\n",
      "Epoch 12/20\n",
      " - 9s - loss: 0.7441 - acc: 0.7468\n",
      "Epoch 13/20\n",
      " - 8s - loss: 0.7335 - acc: 0.7494\n",
      "Epoch 14/20\n",
      " - 7s - loss: 0.7194 - acc: 0.7534\n",
      "Epoch 15/20\n",
      " - 11s - loss: 0.7069 - acc: 0.7575\n",
      "Epoch 16/20\n",
      " - 9s - loss: 0.6977 - acc: 0.7611\n",
      "Epoch 17/20\n",
      " - 10s - loss: 0.6856 - acc: 0.7614\n",
      "Epoch 18/20\n",
      " - 8s - loss: 0.6721 - acc: 0.7676\n",
      "Epoch 19/20\n",
      " - 8s - loss: 0.6624 - acc: 0.7688\n",
      "Epoch 20/20\n",
      " - 9s - loss: 0.6539 - acc: 0.7727\n"
     ]
    },
    {
     "name": "stderr",
     "output_type": "stream",
     "text": [
      "C:\\Users\\Xiuquan\\Anaconda3\\lib\\site-packages\\ipykernel_launcher.py:3: UserWarning: Update your `Dense` call to the Keras 2 API: `Dense(activation=\"relu\", input_dim=450, units=512)`\n",
      "  This is separate from the ipykernel package so we can avoid doing imports until\n",
      "C:\\Users\\Xiuquan\\Anaconda3\\lib\\site-packages\\ipykernel_launcher.py:5: UserWarning: Update your `Dense` call to the Keras 2 API: `Dense(activation=\"relu\", units=128)`\n",
      "  \"\"\"\n",
      "C:\\Users\\Xiuquan\\Anaconda3\\lib\\site-packages\\ipykernel_launcher.py:8: UserWarning: Update your `Dense` call to the Keras 2 API: `Dense(activation=\"softmax\", units=38)`\n",
      "  \n"
     ]
    },
    {
     "name": "stdout",
     "output_type": "stream",
     "text": [
      "Epoch 1/20\n",
      " - 8s - loss: 1.9595 - acc: 0.4984\n",
      "Epoch 2/20\n",
      " - 7s - loss: 1.1859 - acc: 0.6536\n",
      "Epoch 3/20\n",
      " - 7s - loss: 1.0333 - acc: 0.6799\n",
      "Epoch 4/20\n",
      " - 7s - loss: 0.9651 - acc: 0.6935\n",
      "Epoch 5/20\n",
      " - 7s - loss: 0.9177 - acc: 0.7048\n",
      "Epoch 6/20\n",
      " - 7s - loss: 0.8810 - acc: 0.7108\n",
      "Epoch 7/20\n",
      " - 8s - loss: 0.8562 - acc: 0.7170\n",
      "Epoch 8/20\n",
      " - 7s - loss: 0.8324 - acc: 0.7227\n",
      "Epoch 9/20\n",
      " - 7s - loss: 0.8143 - acc: 0.7274\n",
      "Epoch 10/20\n",
      " - 7s - loss: 0.7942 - acc: 0.7327\n",
      "Epoch 11/20\n",
      " - 7s - loss: 0.7761 - acc: 0.7372\n",
      "Epoch 12/20\n",
      " - 7s - loss: 0.7654 - acc: 0.7395\n",
      "Epoch 13/20\n",
      " - 7s - loss: 0.7466 - acc: 0.7460\n",
      "Epoch 14/20\n",
      " - 7s - loss: 0.7394 - acc: 0.7470\n",
      "Epoch 15/20\n",
      " - 7s - loss: 0.7226 - acc: 0.7523\n",
      "Epoch 16/20\n",
      " - 7s - loss: 0.7127 - acc: 0.7544\n",
      "Epoch 17/20\n",
      " - 7s - loss: 0.6979 - acc: 0.7600\n",
      "Epoch 18/20\n",
      " - 7s - loss: 0.6904 - acc: 0.7596\n",
      "Epoch 19/20\n",
      " - 7s - loss: 0.6787 - acc: 0.7643\n",
      "Epoch 20/20\n",
      " - 7s - loss: 0.6705 - acc: 0.7652\n"
     ]
    },
    {
     "data": {
      "text/plain": [
       "'0:09:56.896955'"
      ]
     },
     "execution_count": 29,
     "metadata": {},
     "output_type": "execute_result"
    }
   ],
   "source": [
    "start = datetime.now()\n",
    "hist_cross_val = cross_validate(nn_2hl, X, y, scoring=scoring, cv=cv)\n",
    "end = datetime.now()\n",
    "str(end-start)"
   ]
  },
  {
   "cell_type": "code",
   "execution_count": 30,
   "metadata": {},
   "outputs": [
    {
     "data": {
      "text/plain": [
       "{'fit_time': array([148.16743779, 141.11721659, 157.36728048, 140.71090937]),\n",
       " 'score_time': array([2.28163695, 2.28758931, 2.43350124, 2.32650757]),\n",
       " 'test_accuracy': array([0.72669536, 0.72584758, 0.71531321, 0.72638668]),\n",
       " 'test_neg_log_loss': array([-0.80170125, -0.80467751, -0.85229934, -0.80976613])}"
      ]
     },
     "execution_count": 30,
     "metadata": {},
     "output_type": "execute_result"
    }
   ],
   "source": [
    "hist_cross_val"
   ]
  },
  {
   "cell_type": "code",
   "execution_count": 31,
   "metadata": {},
   "outputs": [
    {
     "data": {
      "text/plain": [
       "(0.7235607065796017, -0.8171110548636173)"
      ]
     },
     "execution_count": 31,
     "metadata": {},
     "output_type": "execute_result"
    }
   ],
   "source": [
    "hist_cross_val['test_accuracy'].mean(), hist_cross_val['test_neg_log_loss'].mean()"
   ]
  },
  {
   "cell_type": "code",
   "execution_count": 32,
   "metadata": {},
   "outputs": [],
   "source": [
    "nn_2hl = KerasClassifier(build_fn=create_model_2hl, epochs=25, batch_size=1000, verbose=2)"
   ]
  },
  {
   "cell_type": "code",
   "execution_count": 33,
   "metadata": {},
   "outputs": [
    {
     "name": "stderr",
     "output_type": "stream",
     "text": [
      "C:\\Users\\Xiuquan\\Anaconda3\\lib\\site-packages\\ipykernel_launcher.py:3: UserWarning: Update your `Dense` call to the Keras 2 API: `Dense(activation=\"relu\", input_dim=450, units=512)`\n",
      "  This is separate from the ipykernel package so we can avoid doing imports until\n",
      "C:\\Users\\Xiuquan\\Anaconda3\\lib\\site-packages\\ipykernel_launcher.py:5: UserWarning: Update your `Dense` call to the Keras 2 API: `Dense(activation=\"relu\", units=128)`\n",
      "  \"\"\"\n",
      "C:\\Users\\Xiuquan\\Anaconda3\\lib\\site-packages\\ipykernel_launcher.py:8: UserWarning: Update your `Dense` call to the Keras 2 API: `Dense(activation=\"softmax\", units=38)`\n",
      "  \n"
     ]
    },
    {
     "name": "stdout",
     "output_type": "stream",
     "text": [
      "Epoch 1/25\n",
      " - 8s - loss: 1.9484 - acc: 0.5022\n",
      "Epoch 2/25\n",
      " - 8s - loss: 1.1805 - acc: 0.6552\n",
      "Epoch 3/25\n",
      " - 7s - loss: 1.0320 - acc: 0.6821\n",
      "Epoch 4/25\n",
      " - 9s - loss: 0.9615 - acc: 0.6938\n",
      "Epoch 5/25\n",
      " - 7s - loss: 0.9142 - acc: 0.7056\n",
      "Epoch 6/25\n",
      " - 9s - loss: 0.8837 - acc: 0.7107\n",
      "Epoch 7/25\n",
      " - 8s - loss: 0.8526 - acc: 0.7195\n",
      "Epoch 8/25\n",
      " - 8s - loss: 0.8311 - acc: 0.7244\n",
      "Epoch 9/25\n",
      " - 7s - loss: 0.8100 - acc: 0.7283\n",
      "Epoch 10/25\n",
      " - 8s - loss: 0.7949 - acc: 0.7351\n",
      "Epoch 11/25\n",
      " - 8s - loss: 0.7758 - acc: 0.7373\n",
      "Epoch 12/25\n",
      " - 10s - loss: 0.7601 - acc: 0.7414\n",
      "Epoch 13/25\n",
      " - 7s - loss: 0.7450 - acc: 0.7464\n",
      "Epoch 14/25\n",
      " - 7s - loss: 0.7306 - acc: 0.7514\n",
      "Epoch 15/25\n",
      " - 7s - loss: 0.7214 - acc: 0.7537\n",
      "Epoch 16/25\n",
      " - 8s - loss: 0.7067 - acc: 0.7571\n",
      "Epoch 17/25\n",
      " - 8s - loss: 0.6965 - acc: 0.7598\n",
      "Epoch 18/25\n",
      " - 8s - loss: 0.6847 - acc: 0.7627\n",
      "Epoch 19/25\n",
      " - 8s - loss: 0.6724 - acc: 0.7668\n",
      "Epoch 20/25\n",
      " - 8s - loss: 0.6631 - acc: 0.7692\n",
      "Epoch 21/25\n",
      " - 8s - loss: 0.6551 - acc: 0.7721\n",
      "Epoch 22/25\n",
      " - 8s - loss: 0.6450 - acc: 0.7757\n",
      "Epoch 23/25\n",
      " - 7s - loss: 0.6367 - acc: 0.7783\n",
      "Epoch 24/25\n",
      " - 7s - loss: 0.6275 - acc: 0.7809\n",
      "Epoch 25/25\n",
      " - 8s - loss: 0.6186 - acc: 0.7838\n"
     ]
    },
    {
     "name": "stderr",
     "output_type": "stream",
     "text": [
      "C:\\Users\\Xiuquan\\Anaconda3\\lib\\site-packages\\ipykernel_launcher.py:3: UserWarning: Update your `Dense` call to the Keras 2 API: `Dense(activation=\"relu\", input_dim=450, units=512)`\n",
      "  This is separate from the ipykernel package so we can avoid doing imports until\n",
      "C:\\Users\\Xiuquan\\Anaconda3\\lib\\site-packages\\ipykernel_launcher.py:5: UserWarning: Update your `Dense` call to the Keras 2 API: `Dense(activation=\"relu\", units=128)`\n",
      "  \"\"\"\n",
      "C:\\Users\\Xiuquan\\Anaconda3\\lib\\site-packages\\ipykernel_launcher.py:8: UserWarning: Update your `Dense` call to the Keras 2 API: `Dense(activation=\"softmax\", units=38)`\n",
      "  \n"
     ]
    },
    {
     "name": "stdout",
     "output_type": "stream",
     "text": [
      "Epoch 1/25\n",
      " - 10s - loss: 1.9285 - acc: 0.5031\n",
      "Epoch 2/25\n",
      " - 7s - loss: 1.1707 - acc: 0.6569\n",
      "Epoch 3/25\n",
      " - 7s - loss: 1.0339 - acc: 0.6817\n",
      "Epoch 4/25\n",
      " - 8s - loss: 0.9620 - acc: 0.6949\n",
      "Epoch 5/25\n",
      " - 8s - loss: 0.9175 - acc: 0.7054\n",
      "Epoch 6/25\n",
      " - 7s - loss: 0.8824 - acc: 0.7127\n",
      "Epoch 7/25\n",
      " - 8s - loss: 0.8543 - acc: 0.7191\n",
      "Epoch 8/25\n",
      " - 7s - loss: 0.8326 - acc: 0.7240\n",
      "Epoch 9/25\n",
      " - 9s - loss: 0.8118 - acc: 0.7299\n",
      "Epoch 10/25\n",
      " - 7s - loss: 0.7946 - acc: 0.7333\n",
      "Epoch 11/25\n",
      " - 8s - loss: 0.7816 - acc: 0.7371\n",
      "Epoch 12/25\n",
      " - 7s - loss: 0.7597 - acc: 0.7433\n",
      "Epoch 13/25\n",
      " - 7s - loss: 0.7498 - acc: 0.7450\n",
      "Epoch 14/25\n",
      " - 7s - loss: 0.7332 - acc: 0.7496\n",
      "Epoch 15/25\n",
      " - 8s - loss: 0.7239 - acc: 0.7534\n",
      "Epoch 16/25\n",
      " - 7s - loss: 0.7107 - acc: 0.7558\n",
      "Epoch 17/25\n",
      " - 8s - loss: 0.6967 - acc: 0.7610\n",
      "Epoch 18/25\n",
      " - 8s - loss: 0.6853 - acc: 0.7611\n",
      "Epoch 19/25\n",
      " - 7s - loss: 0.6776 - acc: 0.7669\n",
      "Epoch 20/25\n",
      " - 7s - loss: 0.6690 - acc: 0.7687\n",
      "Epoch 21/25\n",
      " - 7s - loss: 0.6537 - acc: 0.7729\n",
      "Epoch 22/25\n",
      " - 7s - loss: 0.6484 - acc: 0.7746\n",
      "Epoch 23/25\n",
      " - 7s - loss: 0.6382 - acc: 0.7781\n",
      "Epoch 24/25\n",
      " - 7s - loss: 0.6294 - acc: 0.7809\n",
      "Epoch 25/25\n",
      " - 7s - loss: 0.6212 - acc: 0.7827\n"
     ]
    },
    {
     "name": "stderr",
     "output_type": "stream",
     "text": [
      "C:\\Users\\Xiuquan\\Anaconda3\\lib\\site-packages\\ipykernel_launcher.py:3: UserWarning: Update your `Dense` call to the Keras 2 API: `Dense(activation=\"relu\", input_dim=450, units=512)`\n",
      "  This is separate from the ipykernel package so we can avoid doing imports until\n",
      "C:\\Users\\Xiuquan\\Anaconda3\\lib\\site-packages\\ipykernel_launcher.py:5: UserWarning: Update your `Dense` call to the Keras 2 API: `Dense(activation=\"relu\", units=128)`\n",
      "  \"\"\"\n",
      "C:\\Users\\Xiuquan\\Anaconda3\\lib\\site-packages\\ipykernel_launcher.py:8: UserWarning: Update your `Dense` call to the Keras 2 API: `Dense(activation=\"softmax\", units=38)`\n",
      "  \n"
     ]
    },
    {
     "name": "stdout",
     "output_type": "stream",
     "text": [
      "Epoch 1/25\n",
      " - 8s - loss: 1.9322 - acc: 0.5011\n",
      "Epoch 2/25\n",
      " - 7s - loss: 1.1624 - acc: 0.6600\n",
      "Epoch 3/25\n",
      " - 8s - loss: 1.0145 - acc: 0.6858\n",
      "Epoch 4/25\n",
      " - 7s - loss: 0.9428 - acc: 0.6995\n",
      "Epoch 5/25\n",
      " - 8s - loss: 0.8987 - acc: 0.7087\n",
      "Epoch 6/25\n",
      " - 8s - loss: 0.8644 - acc: 0.7169\n",
      "Epoch 7/25\n",
      " - 7s - loss: 0.8381 - acc: 0.7231\n",
      "Epoch 8/25\n",
      " - 7s - loss: 0.8167 - acc: 0.7278\n",
      "Epoch 9/25\n",
      " - 7s - loss: 0.7917 - acc: 0.7350\n",
      "Epoch 10/25\n",
      " - 8s - loss: 0.7821 - acc: 0.7368\n",
      "Epoch 11/25\n",
      " - 7s - loss: 0.7636 - acc: 0.7420\n",
      "Epoch 12/25\n",
      " - 7s - loss: 0.7478 - acc: 0.7449\n",
      "Epoch 13/25\n",
      " - 7s - loss: 0.7349 - acc: 0.7482\n",
      "Epoch 14/25\n",
      " - 8s - loss: 0.7200 - acc: 0.7552\n",
      "Epoch 15/25\n",
      " - 7s - loss: 0.7049 - acc: 0.7592\n",
      "Epoch 16/25\n",
      " - 7s - loss: 0.6941 - acc: 0.7613\n",
      "Epoch 17/25\n",
      " - 7s - loss: 0.6843 - acc: 0.7645\n",
      "Epoch 18/25\n",
      " - 7s - loss: 0.6749 - acc: 0.7662\n",
      "Epoch 19/25\n",
      " - 8s - loss: 0.6591 - acc: 0.7706\n",
      "Epoch 20/25\n",
      " - 8s - loss: 0.6528 - acc: 0.7730\n",
      "Epoch 21/25\n",
      " - 8s - loss: 0.6428 - acc: 0.7767\n",
      "Epoch 22/25\n",
      " - 7s - loss: 0.6346 - acc: 0.7797\n",
      "Epoch 23/25\n",
      " - 7s - loss: 0.6227 - acc: 0.7835\n",
      "Epoch 24/25\n",
      " - 7s - loss: 0.6137 - acc: 0.7850\n",
      "Epoch 25/25\n",
      " - 7s - loss: 0.6056 - acc: 0.7887\n"
     ]
    },
    {
     "name": "stderr",
     "output_type": "stream",
     "text": [
      "C:\\Users\\Xiuquan\\Anaconda3\\lib\\site-packages\\ipykernel_launcher.py:3: UserWarning: Update your `Dense` call to the Keras 2 API: `Dense(activation=\"relu\", input_dim=450, units=512)`\n",
      "  This is separate from the ipykernel package so we can avoid doing imports until\n",
      "C:\\Users\\Xiuquan\\Anaconda3\\lib\\site-packages\\ipykernel_launcher.py:5: UserWarning: Update your `Dense` call to the Keras 2 API: `Dense(activation=\"relu\", units=128)`\n",
      "  \"\"\"\n",
      "C:\\Users\\Xiuquan\\Anaconda3\\lib\\site-packages\\ipykernel_launcher.py:8: UserWarning: Update your `Dense` call to the Keras 2 API: `Dense(activation=\"softmax\", units=38)`\n",
      "  \n"
     ]
    },
    {
     "name": "stdout",
     "output_type": "stream",
     "text": [
      "Epoch 1/25\n",
      " - 9s - loss: 1.9586 - acc: 0.4996\n",
      "Epoch 2/25\n",
      " - 10s - loss: 1.1842 - acc: 0.6526\n",
      "Epoch 3/25\n",
      " - 10s - loss: 1.0388 - acc: 0.6791\n",
      "Epoch 4/25\n",
      " - 7s - loss: 0.9647 - acc: 0.6935\n",
      "Epoch 5/25\n",
      " - 8s - loss: 0.9234 - acc: 0.7012\n",
      "Epoch 6/25\n",
      " - 7s - loss: 0.8846 - acc: 0.7095\n",
      "Epoch 7/25\n",
      " - 8s - loss: 0.8565 - acc: 0.7169\n",
      "Epoch 8/25\n",
      " - 7s - loss: 0.8354 - acc: 0.7214\n",
      "Epoch 9/25\n",
      " - 8s - loss: 0.8151 - acc: 0.7270\n",
      "Epoch 10/25\n",
      " - 8s - loss: 0.7976 - acc: 0.7319\n",
      "Epoch 11/25\n",
      " - 7s - loss: 0.7788 - acc: 0.7373\n",
      "Epoch 12/25\n",
      " - 7s - loss: 0.7631 - acc: 0.7419\n",
      "Epoch 13/25\n",
      " - 7s - loss: 0.7482 - acc: 0.7449\n",
      "Epoch 14/25\n",
      " - 7s - loss: 0.7378 - acc: 0.7483\n",
      "Epoch 15/25\n",
      " - 7s - loss: 0.7246 - acc: 0.7528\n",
      "Epoch 16/25\n",
      " - 8s - loss: 0.7115 - acc: 0.7569\n",
      "Epoch 17/25\n",
      " - 7s - loss: 0.6998 - acc: 0.7599\n",
      "Epoch 18/25\n",
      " - 7s - loss: 0.6893 - acc: 0.7623\n",
      "Epoch 19/25\n",
      " - 7s - loss: 0.6782 - acc: 0.7638\n",
      "Epoch 20/25\n",
      " - 7s - loss: 0.6699 - acc: 0.7692\n",
      "Epoch 21/25\n",
      " - 8s - loss: 0.6550 - acc: 0.7720\n",
      "Epoch 22/25\n",
      " - 7s - loss: 0.6527 - acc: 0.7746\n",
      "Epoch 23/25\n",
      " - 8s - loss: 0.6408 - acc: 0.7751\n",
      "Epoch 24/25\n",
      " - 7s - loss: 0.6315 - acc: 0.7810\n",
      "Epoch 25/25\n",
      " - 7s - loss: 0.6222 - acc: 0.7830\n"
     ]
    },
    {
     "data": {
      "text/plain": [
       "'0:12:48.127506'"
      ]
     },
     "execution_count": 33,
     "metadata": {},
     "output_type": "execute_result"
    }
   ],
   "source": [
    "start = datetime.now()\n",
    "hist_cross_val = cross_validate(nn_2hl, X, y, scoring=scoring, cv=cv)\n",
    "end = datetime.now()\n",
    "str(end-start)"
   ]
  },
  {
   "cell_type": "code",
   "execution_count": 34,
   "metadata": {},
   "outputs": [
    {
     "data": {
      "text/plain": [
       "{'fit_time': array([196.83171916, 188.92661357, 183.6908927 , 189.82669473]),\n",
       " 'score_time': array([2.38952923, 2.05273533, 2.00980282, 2.1036973 ]),\n",
       " 'test_accuracy': array([0.73179292, 0.72760336, 0.71769675, 0.73006777]),\n",
       " 'test_neg_log_loss': array([-0.80699333, -0.81443609, -0.8712659 , -0.80156985])}"
      ]
     },
     "execution_count": 34,
     "metadata": {},
     "output_type": "execute_result"
    }
   ],
   "source": [
    "hist_cross_val"
   ]
  },
  {
   "cell_type": "code",
   "execution_count": 35,
   "metadata": {},
   "outputs": [
    {
     "data": {
      "text/plain": [
       "(0.7267901987651547, -0.8235662922703799)"
      ]
     },
     "execution_count": 35,
     "metadata": {},
     "output_type": "execute_result"
    }
   ],
   "source": [
    "hist_cross_val['test_accuracy'].mean(), hist_cross_val['test_neg_log_loss'].mean()"
   ]
  },
  {
   "cell_type": "code",
   "execution_count": null,
   "metadata": {},
   "outputs": [],
   "source": []
  },
  {
   "cell_type": "code",
   "execution_count": 36,
   "metadata": {},
   "outputs": [],
   "source": [
    "def create_model_2hl(nodes_l1=400, nodes_l2=120, dropout_l1=0.3, dropout_l2=0.2):\n",
    "    model = Sequential()\n",
    "    model.add(Dense(output_dim=nodes_l1, activation=\"relu\", input_dim=len(X.columns)))\n",
    "    model.add(Dropout(dropout_l1))\n",
    "    model.add(Dense(output_dim=nodes_l2, activation=\"relu\"))\n",
    "    model.add(Dropout(dropout_l2))\n",
    "            \n",
    "    model.add(Dense(output_dim=len(trip_types), activation=\"softmax\"))\n",
    "    \n",
    "    model.compile(loss=\"categorical_crossentropy\", optimizer=\"rmsprop\", metrics=[\"accuracy\"])\n",
    "    \n",
    "    return model"
   ]
  },
  {
   "cell_type": "code",
   "execution_count": 37,
   "metadata": {},
   "outputs": [
    {
     "name": "stderr",
     "output_type": "stream",
     "text": [
      "C:\\Users\\Xiuquan\\Anaconda3\\lib\\site-packages\\ipykernel_launcher.py:3: UserWarning: Update your `Dense` call to the Keras 2 API: `Dense(activation=\"relu\", input_dim=450, units=512)`\n",
      "  This is separate from the ipykernel package so we can avoid doing imports until\n",
      "C:\\Users\\Xiuquan\\Anaconda3\\lib\\site-packages\\ipykernel_launcher.py:5: UserWarning: Update your `Dense` call to the Keras 2 API: `Dense(activation=\"relu\", units=128)`\n",
      "  \"\"\"\n",
      "C:\\Users\\Xiuquan\\Anaconda3\\lib\\site-packages\\ipykernel_launcher.py:8: UserWarning: Update your `Dense` call to the Keras 2 API: `Dense(activation=\"softmax\", units=38)`\n",
      "  \n"
     ]
    },
    {
     "name": "stdout",
     "output_type": "stream",
     "text": [
      "Train on 71755 samples, validate on 23919 samples\n",
      "Epoch 1/100\n",
      " - 9s - loss: 2.0216 - acc: 0.4917 - val_loss: 1.2107 - val_acc: 0.6562\n",
      "Epoch 2/100\n",
      " - 8s - loss: 1.1979 - acc: 0.6509 - val_loss: 0.9838 - val_acc: 0.6973\n",
      "Epoch 3/100\n",
      " - 8s - loss: 1.0350 - acc: 0.6821 - val_loss: 0.9111 - val_acc: 0.7099\n",
      "Epoch 4/100\n",
      " - 8s - loss: 0.9687 - acc: 0.6927 - val_loss: 0.8817 - val_acc: 0.7107\n",
      "Epoch 5/100\n",
      " - 10s - loss: 0.9193 - acc: 0.7030 - val_loss: 0.8545 - val_acc: 0.7205\n",
      "Epoch 6/100\n",
      " - 10s - loss: 0.8859 - acc: 0.7099 - val_loss: 0.8398 - val_acc: 0.7235\n",
      "Epoch 7/100\n",
      " - 11s - loss: 0.8592 - acc: 0.7159 - val_loss: 0.8289 - val_acc: 0.7238\n",
      "Epoch 8/100\n",
      " - 9s - loss: 0.8352 - acc: 0.7222 - val_loss: 0.8178 - val_acc: 0.7267\n",
      "Epoch 9/100\n",
      " - 8s - loss: 0.8137 - acc: 0.7284 - val_loss: 0.8118 - val_acc: 0.7269\n",
      "Epoch 10/100\n",
      " - 8s - loss: 0.7965 - acc: 0.7314 - val_loss: 0.8107 - val_acc: 0.7254\n",
      "Epoch 11/100\n",
      " - 8s - loss: 0.7775 - acc: 0.7373 - val_loss: 0.8054 - val_acc: 0.7285\n",
      "Epoch 12/100\n",
      " - 9s - loss: 0.7701 - acc: 0.7382 - val_loss: 0.8043 - val_acc: 0.7244\n",
      "Epoch 13/100\n",
      " - 8s - loss: 0.7509 - acc: 0.7437 - val_loss: 0.7903 - val_acc: 0.7294\n",
      "Epoch 14/100\n",
      " - 9s - loss: 0.7335 - acc: 0.7499 - val_loss: 0.7889 - val_acc: 0.7307\n",
      "Epoch 15/100\n",
      " - 8s - loss: 0.7215 - acc: 0.7525 - val_loss: 0.7912 - val_acc: 0.7324\n",
      "Epoch 16/100\n",
      " - 8s - loss: 0.7154 - acc: 0.7537 - val_loss: 0.7904 - val_acc: 0.7293\n",
      "Epoch 17/100\n",
      " - 8s - loss: 0.7031 - acc: 0.7582 - val_loss: 0.7899 - val_acc: 0.7291\n",
      "Epoch 18/100\n",
      " - 8s - loss: 0.6887 - acc: 0.7627 - val_loss: 0.7901 - val_acc: 0.7260\n",
      "Epoch 19/100\n",
      " - 8s - loss: 0.6796 - acc: 0.7637 - val_loss: 0.7927 - val_acc: 0.7252\n",
      "Epoch 20/100\n",
      " - 9s - loss: 0.6686 - acc: 0.7694 - val_loss: 0.7860 - val_acc: 0.7312\n",
      "Epoch 21/100\n",
      " - 8s - loss: 0.6575 - acc: 0.7716 - val_loss: 0.7941 - val_acc: 0.7296\n",
      "Epoch 22/100\n",
      " - 8s - loss: 0.6476 - acc: 0.7733 - val_loss: 0.7878 - val_acc: 0.7286\n",
      "Epoch 23/100\n",
      " - 8s - loss: 0.6378 - acc: 0.7766 - val_loss: 0.7945 - val_acc: 0.7280\n",
      "Epoch 24/100\n",
      " - 8s - loss: 0.6323 - acc: 0.7784 - val_loss: 0.7898 - val_acc: 0.7307\n",
      "Epoch 25/100\n",
      " - 8s - loss: 0.6223 - acc: 0.7818 - val_loss: 0.7931 - val_acc: 0.7311\n",
      "Epoch 26/100\n",
      " - 8s - loss: 0.6125 - acc: 0.7852 - val_loss: 0.7991 - val_acc: 0.7311\n",
      "Epoch 27/100\n",
      " - 8s - loss: 0.6060 - acc: 0.7872 - val_loss: 0.8038 - val_acc: 0.7276\n",
      "Epoch 28/100\n",
      " - 8s - loss: 0.5961 - acc: 0.7901 - val_loss: 0.8053 - val_acc: 0.7310\n",
      "Epoch 29/100\n",
      " - 8s - loss: 0.5907 - acc: 0.7917 - val_loss: 0.8051 - val_acc: 0.7273\n",
      "Epoch 30/100\n",
      " - 10s - loss: 0.5830 - acc: 0.7943 - val_loss: 0.8105 - val_acc: 0.7245\n",
      "Epoch 31/100\n",
      " - 10s - loss: 0.5732 - acc: 0.7985 - val_loss: 0.8155 - val_acc: 0.7276\n",
      "Epoch 32/100\n",
      " - 10s - loss: 0.5705 - acc: 0.8001 - val_loss: 0.8102 - val_acc: 0.7244\n",
      "Epoch 33/100\n",
      " - 14s - loss: 0.5604 - acc: 0.8019 - val_loss: 0.8243 - val_acc: 0.7281\n",
      "Epoch 34/100\n",
      " - 12s - loss: 0.5572 - acc: 0.8018 - val_loss: 0.8284 - val_acc: 0.7277\n",
      "Epoch 35/100\n",
      " - 10s - loss: 0.5509 - acc: 0.8049 - val_loss: 0.8267 - val_acc: 0.7278\n"
     ]
    },
    {
     "data": {
      "text/plain": [
       "'0:05:13.788798'"
      ]
     },
     "execution_count": 37,
     "metadata": {},
     "output_type": "execute_result"
    }
   ],
   "source": [
    "start = datetime.now()\n",
    "hist_2hl_v2= model_2hl.fit(X, y, validation_split=0.25, batch_size=1000, callbacks=callbacks)\n",
    "end = datetime.now()\n",
    "str(end-start)"
   ]
  },
  {
   "cell_type": "code",
   "execution_count": 38,
   "metadata": {},
   "outputs": [
    {
     "data": {
      "image/png": "[encoded data removed]",
      "text/plain": [
       "<Figure size 432x288 with 1 Axes>"
      ]
     },
     "metadata": {
      "needs_background": "light"
     },
     "output_type": "display_data"
    }
   ],
   "source": [
    "plt.plot(hist_2hl_v2.history['acc'])\n",
    "plt.plot(hist_2hl_v2.history['val_acc'])\n",
    "plt.title('model accuracy: batch size=1000')\n",
    "plt.ylabel('accuracy')\n",
    "plt.xlabel('epoch')\n",
    "plt.legend(['train', 'val'], loc='upper left')\n",
    "plt.show()"
   ]
  },
  {
   "cell_type": "code",
   "execution_count": 39,
   "metadata": {},
   "outputs": [
    {
     "data": {
      "image/png": "[encoded data removed]",
      "text/plain": [
       "<Figure size 432x288 with 1 Axes>"
      ]
     },
     "metadata": {
      "needs_background": "light"
     },
     "output_type": "display_data"
    }
   ],
   "source": [
    "plt.plot(hist_2hl_v2.history['loss'])\n",
    "plt.plot(hist_2hl_v2.history['val_loss'])\n",
    "plt.title('model loss: batch size=1000')\n",
    "plt.ylabel('loss')\n",
    "plt.xlabel('epoch')\n",
    "plt.legend(['train', 'val'], loc='upper left')\n",
    "plt.show()"
   ]
  },
  {
   "cell_type": "code",
   "execution_count": 41,
   "metadata": {},
   "outputs": [],
   "source": [
    "nn_2hl = KerasClassifier(build_fn=create_model_2hl, epochs=15, batch_size=1000, verbose=2)"
   ]
  },
  {
   "cell_type": "code",
   "execution_count": 42,
   "metadata": {},
   "outputs": [
    {
     "name": "stderr",
     "output_type": "stream",
     "text": [
      "C:\\Users\\Xiuquan\\Anaconda3\\lib\\site-packages\\ipykernel_launcher.py:3: UserWarning: Update your `Dense` call to the Keras 2 API: `Dense(activation=\"relu\", input_dim=450, units=400)`\n",
      "  This is separate from the ipykernel package so we can avoid doing imports until\n",
      "C:\\Users\\Xiuquan\\Anaconda3\\lib\\site-packages\\ipykernel_launcher.py:5: UserWarning: Update your `Dense` call to the Keras 2 API: `Dense(activation=\"relu\", units=120)`\n",
      "  \"\"\"\n",
      "C:\\Users\\Xiuquan\\Anaconda3\\lib\\site-packages\\ipykernel_launcher.py:8: UserWarning: Update your `Dense` call to the Keras 2 API: `Dense(activation=\"softmax\", units=38)`\n",
      "  \n"
     ]
    },
    {
     "name": "stdout",
     "output_type": "stream",
     "text": [
      "Epoch 1/15\n",
      " - 6s - loss: 2.0882 - acc: 0.4788\n",
      "Epoch 2/15\n",
      " - 6s - loss: 1.2379 - acc: 0.6475\n",
      "Epoch 3/15\n",
      " - 5s - loss: 1.0696 - acc: 0.6758\n",
      "Epoch 4/15\n",
      " - 5s - loss: 0.9900 - acc: 0.6910\n",
      "Epoch 5/15\n",
      " - 6s - loss: 0.9424 - acc: 0.7001\n",
      "Epoch 6/15\n",
      " - 5s - loss: 0.9078 - acc: 0.7069\n",
      "Epoch 7/15\n",
      " - 5s - loss: 0.8821 - acc: 0.7119\n",
      "Epoch 8/15\n",
      " - 5s - loss: 0.8578 - acc: 0.7183\n",
      "Epoch 9/15\n",
      " - 5s - loss: 0.8368 - acc: 0.7230\n",
      "Epoch 10/15\n",
      " - 6s - loss: 0.8216 - acc: 0.7264\n",
      "Epoch 11/15\n",
      " - 7s - loss: 0.8022 - acc: 0.7315\n",
      "Epoch 12/15\n",
      " - 7s - loss: 0.7904 - acc: 0.7335\n",
      "Epoch 13/15\n",
      " - 7s - loss: 0.7773 - acc: 0.7377\n",
      "Epoch 14/15\n",
      " - 6s - loss: 0.7619 - acc: 0.7411\n",
      "Epoch 15/15\n",
      " - 7s - loss: 0.7522 - acc: 0.7436\n"
     ]
    },
    {
     "name": "stderr",
     "output_type": "stream",
     "text": [
      "C:\\Users\\Xiuquan\\Anaconda3\\lib\\site-packages\\ipykernel_launcher.py:3: UserWarning: Update your `Dense` call to the Keras 2 API: `Dense(activation=\"relu\", input_dim=450, units=400)`\n",
      "  This is separate from the ipykernel package so we can avoid doing imports until\n",
      "C:\\Users\\Xiuquan\\Anaconda3\\lib\\site-packages\\ipykernel_launcher.py:5: UserWarning: Update your `Dense` call to the Keras 2 API: `Dense(activation=\"relu\", units=120)`\n",
      "  \"\"\"\n",
      "C:\\Users\\Xiuquan\\Anaconda3\\lib\\site-packages\\ipykernel_launcher.py:8: UserWarning: Update your `Dense` call to the Keras 2 API: `Dense(activation=\"softmax\", units=38)`\n",
      "  \n"
     ]
    },
    {
     "name": "stdout",
     "output_type": "stream",
     "text": [
      "Epoch 1/15\n",
      " - 7s - loss: 2.0424 - acc: 0.4852\n",
      "Epoch 2/15\n",
      " - 7s - loss: 1.2235 - acc: 0.6471\n",
      "Epoch 3/15\n",
      " - 7s - loss: 1.0561 - acc: 0.6766\n",
      "Epoch 4/15\n",
      " - 6s - loss: 0.9812 - acc: 0.6932\n",
      "Epoch 5/15\n",
      " - 7s - loss: 0.9357 - acc: 0.7007\n",
      "Epoch 6/15\n",
      " - 6s - loss: 0.8991 - acc: 0.7062\n",
      "Epoch 7/15\n",
      " - 6s - loss: 0.8760 - acc: 0.7148\n",
      "Epoch 8/15\n",
      " - 6s - loss: 0.8505 - acc: 0.7191\n",
      "Epoch 9/15\n",
      " - 6s - loss: 0.8306 - acc: 0.7241\n",
      "Epoch 10/15\n",
      " - 6s - loss: 0.8136 - acc: 0.7280\n",
      "Epoch 11/15\n",
      " - 6s - loss: 0.7964 - acc: 0.7339\n",
      "Epoch 12/15\n",
      " - 6s - loss: 0.7824 - acc: 0.7367\n",
      "Epoch 13/15\n",
      " - 6s - loss: 0.7704 - acc: 0.7392\n",
      "Epoch 14/15\n",
      " - 6s - loss: 0.7572 - acc: 0.7432\n",
      "Epoch 15/15\n",
      " - 7s - loss: 0.7451 - acc: 0.7454\n"
     ]
    },
    {
     "name": "stderr",
     "output_type": "stream",
     "text": [
      "C:\\Users\\Xiuquan\\Anaconda3\\lib\\site-packages\\ipykernel_launcher.py:3: UserWarning: Update your `Dense` call to the Keras 2 API: `Dense(activation=\"relu\", input_dim=450, units=400)`\n",
      "  This is separate from the ipykernel package so we can avoid doing imports until\n",
      "C:\\Users\\Xiuquan\\Anaconda3\\lib\\site-packages\\ipykernel_launcher.py:5: UserWarning: Update your `Dense` call to the Keras 2 API: `Dense(activation=\"relu\", units=120)`\n",
      "  \"\"\"\n",
      "C:\\Users\\Xiuquan\\Anaconda3\\lib\\site-packages\\ipykernel_launcher.py:8: UserWarning: Update your `Dense` call to the Keras 2 API: `Dense(activation=\"softmax\", units=38)`\n",
      "  \n"
     ]
    },
    {
     "name": "stdout",
     "output_type": "stream",
     "text": [
      "Epoch 1/15\n",
      " - 7s - loss: 2.0622 - acc: 0.4827\n",
      "Epoch 2/15\n",
      " - 7s - loss: 1.2233 - acc: 0.6490\n",
      "Epoch 3/15\n",
      " - 6s - loss: 1.0504 - acc: 0.6799\n",
      "Epoch 4/15\n",
      " - 7s - loss: 0.9736 - acc: 0.6950\n",
      "Epoch 5/15\n",
      " - 6s - loss: 0.9262 - acc: 0.7040\n",
      "Epoch 6/15\n",
      " - 6s - loss: 0.8941 - acc: 0.7110\n",
      "Epoch 7/15\n",
      " - 6s - loss: 0.8661 - acc: 0.7185\n",
      "Epoch 8/15\n",
      " - 6s - loss: 0.8421 - acc: 0.7234\n",
      "Epoch 9/15\n",
      " - 7s - loss: 0.8212 - acc: 0.7273\n",
      "Epoch 10/15\n",
      " - 6s - loss: 0.8043 - acc: 0.7316\n",
      "Epoch 11/15\n",
      " - 6s - loss: 0.7881 - acc: 0.7363\n",
      "Epoch 12/15\n",
      " - 8s - loss: 0.7761 - acc: 0.7407\n",
      "Epoch 13/15\n",
      " - 6s - loss: 0.7633 - acc: 0.7421\n",
      "Epoch 14/15\n",
      " - 6s - loss: 0.7482 - acc: 0.7471\n",
      "Epoch 15/15\n",
      " - 6s - loss: 0.7362 - acc: 0.7503\n"
     ]
    },
    {
     "name": "stderr",
     "output_type": "stream",
     "text": [
      "C:\\Users\\Xiuquan\\Anaconda3\\lib\\site-packages\\ipykernel_launcher.py:3: UserWarning: Update your `Dense` call to the Keras 2 API: `Dense(activation=\"relu\", input_dim=450, units=400)`\n",
      "  This is separate from the ipykernel package so we can avoid doing imports until\n",
      "C:\\Users\\Xiuquan\\Anaconda3\\lib\\site-packages\\ipykernel_launcher.py:5: UserWarning: Update your `Dense` call to the Keras 2 API: `Dense(activation=\"relu\", units=120)`\n",
      "  \"\"\"\n",
      "C:\\Users\\Xiuquan\\Anaconda3\\lib\\site-packages\\ipykernel_launcher.py:8: UserWarning: Update your `Dense` call to the Keras 2 API: `Dense(activation=\"softmax\", units=38)`\n",
      "  \n"
     ]
    },
    {
     "name": "stdout",
     "output_type": "stream",
     "text": [
      "Epoch 1/15\n",
      " - 8s - loss: 2.0219 - acc: 0.4844\n",
      "Epoch 2/15\n",
      " - 6s - loss: 1.2243 - acc: 0.6464\n",
      "Epoch 3/15\n",
      " - 6s - loss: 1.0626 - acc: 0.6752\n",
      "Epoch 4/15\n",
      " - 6s - loss: 0.9884 - acc: 0.6871\n",
      "Epoch 5/15\n",
      " - 6s - loss: 0.9409 - acc: 0.6982\n",
      "Epoch 6/15\n",
      " - 6s - loss: 0.9072 - acc: 0.7063\n",
      "Epoch 7/15\n",
      " - 6s - loss: 0.8744 - acc: 0.7128\n",
      "Epoch 8/15\n",
      " - 6s - loss: 0.8569 - acc: 0.7184\n",
      "Epoch 9/15\n",
      " - 8s - loss: 0.8342 - acc: 0.7235\n",
      "Epoch 10/15\n",
      " - 7s - loss: 0.8181 - acc: 0.7268\n",
      "Epoch 11/15\n",
      " - 8s - loss: 0.8026 - acc: 0.7305\n",
      "Epoch 12/15\n",
      " - 7s - loss: 0.7844 - acc: 0.7371\n",
      "Epoch 13/15\n",
      " - 7s - loss: 0.7734 - acc: 0.7385\n",
      "Epoch 14/15\n",
      " - 7s - loss: 0.7634 - acc: 0.7408\n",
      "Epoch 15/15\n",
      " - 7s - loss: 0.7480 - acc: 0.7460\n"
     ]
    },
    {
     "data": {
      "text/plain": [
       "'0:06:35.494751'"
      ]
     },
     "execution_count": 42,
     "metadata": {},
     "output_type": "execute_result"
    }
   ],
   "source": [
    "start = datetime.now()\n",
    "hist_cross_val_v2 = cross_validate(nn_2hl, X, y, scoring=scoring, cv=cv)\n",
    "end = datetime.now()\n",
    "str(end-start)"
   ]
  },
  {
   "cell_type": "code",
   "execution_count": 43,
   "metadata": {},
   "outputs": [
    {
     "data": {
      "text/plain": [
       "{'fit_time': array([ 90.73396873,  96.60047722,  97.37056613, 101.94318676]),\n",
       " 'score_time': array([2.29858422, 1.91881824, 1.96678734, 2.44549012]),\n",
       " 'test_accuracy': array([0.72569256, 0.72785419, 0.71410053, 0.73123902]),\n",
       " 'test_neg_log_loss': array([-0.801276  , -0.80024194, -0.85705825, -0.79371171])}"
      ]
     },
     "execution_count": 43,
     "metadata": {},
     "output_type": "execute_result"
    }
   ],
   "source": [
    "hist_cross_val_v2"
   ]
  },
  {
   "cell_type": "code",
   "execution_count": 45,
   "metadata": {
    "scrolled": true
   },
   "outputs": [
    {
     "data": {
      "text/plain": [
       "(0.7247215728677722, -0.8130719737860261)"
      ]
     },
     "execution_count": 45,
     "metadata": {},
     "output_type": "execute_result"
    }
   ],
   "source": [
    "hist_cross_val_v2['test_accuracy'].mean(), hist_cross_val_v2['test_neg_log_loss'].mean()"
   ]
  },
  {
   "cell_type": "code",
   "execution_count": null,
   "metadata": {},
   "outputs": [],
   "source": []
  },
  {
   "cell_type": "code",
   "execution_count": null,
   "metadata": {},
   "outputs": [],
   "source": []
  },
  {
   "cell_type": "code",
   "execution_count": null,
   "metadata": {},
   "outputs": [],
   "source": []
  },
  {
   "cell_type": "code",
   "execution_count": 51,
   "metadata": {},
   "outputs": [],
   "source": [
    "def create_model_3hl(nodes_l1=500, nodes_l2=200, nodes_l3=80, dropout_l1=0.3, dropout_l2=0.2, dropout_l3=0.2):\n",
    "    model = Sequential()\n",
    "    model.add(Dense(output_dim=nodes_l1, activation=\"relu\", input_dim=len(X.columns)))\n",
    "    model.add(Dropout(dropout_l1))\n",
    "    model.add(Dense(output_dim=nodes_l2, activation=\"relu\"))\n",
    "    model.add(Dropout(dropout_l2))\n",
    "    model.add(Dense(output_dim=nodes_l2, activation=\"relu\"))\n",
    "    model.add(Dropout(dropout_l3))\n",
    "            \n",
    "    model.add(Dense(output_dim=len(trip_types), activation=\"softmax\"))\n",
    "    \n",
    "    model.compile(loss=\"categorical_crossentropy\", optimizer=\"rmsprop\", metrics=[\"accuracy\"])\n",
    "    \n",
    "    return model"
   ]
  },
  {
   "cell_type": "code",
   "execution_count": 52,
   "metadata": {},
   "outputs": [],
   "source": [
    "model_3hl = KerasClassifier(build_fn=create_model_3hl, epochs=100, batch_size=1000, verbose=2)"
   ]
  },
  {
   "cell_type": "code",
   "execution_count": 53,
   "metadata": {},
   "outputs": [
    {
     "name": "stderr",
     "output_type": "stream",
     "text": [
      "C:\\Users\\Xiuquan\\Anaconda3\\lib\\site-packages\\ipykernel_launcher.py:3: UserWarning: Update your `Dense` call to the Keras 2 API: `Dense(activation=\"relu\", input_dim=450, units=500)`\n",
      "  This is separate from the ipykernel package so we can avoid doing imports until\n",
      "C:\\Users\\Xiuquan\\Anaconda3\\lib\\site-packages\\ipykernel_launcher.py:5: UserWarning: Update your `Dense` call to the Keras 2 API: `Dense(activation=\"relu\", units=200)`\n",
      "  \"\"\"\n",
      "C:\\Users\\Xiuquan\\Anaconda3\\lib\\site-packages\\ipykernel_launcher.py:7: UserWarning: Update your `Dense` call to the Keras 2 API: `Dense(activation=\"relu\", units=200)`\n",
      "  import sys\n",
      "C:\\Users\\Xiuquan\\Anaconda3\\lib\\site-packages\\ipykernel_launcher.py:10: UserWarning: Update your `Dense` call to the Keras 2 API: `Dense(activation=\"softmax\", units=38)`\n",
      "  # Remove the CWD from sys.path while we load stuff.\n"
     ]
    },
    {
     "name": "stdout",
     "output_type": "stream",
     "text": [
      "Train on 71755 samples, validate on 23919 samples\n",
      "Epoch 1/100\n",
      " - 12s - loss: 1.9236 - acc: 0.4849 - val_loss: 1.1581 - val_acc: 0.6648\n",
      "Epoch 2/100\n",
      " - 10s - loss: 1.2160 - acc: 0.6439 - val_loss: 1.0094 - val_acc: 0.6828\n",
      "Epoch 3/100\n",
      " - 10s - loss: 1.0723 - acc: 0.6695 - val_loss: 0.9934 - val_acc: 0.6726\n",
      "Epoch 4/100\n",
      " - 10s - loss: 0.9961 - acc: 0.6863 - val_loss: 0.8911 - val_acc: 0.7133\n",
      "Epoch 5/100\n",
      " - 10s - loss: 0.9498 - acc: 0.6978 - val_loss: 0.8556 - val_acc: 0.7205\n",
      "Epoch 6/100\n",
      " - 10s - loss: 0.9102 - acc: 0.7051 - val_loss: 0.8636 - val_acc: 0.7152\n",
      "Epoch 7/100\n",
      " - 12s - loss: 0.8731 - acc: 0.7130 - val_loss: 0.8834 - val_acc: 0.7087\n",
      "Epoch 8/100\n",
      " - 11s - loss: 0.8515 - acc: 0.7206 - val_loss: 0.8229 - val_acc: 0.7245\n",
      "Epoch 9/100\n",
      " - 10s - loss: 0.8270 - acc: 0.7259 - val_loss: 0.8227 - val_acc: 0.7288\n",
      "Epoch 10/100\n",
      " - 10s - loss: 0.8060 - acc: 0.7305 - val_loss: 0.8037 - val_acc: 0.7323\n",
      "Epoch 11/100\n",
      " - 10s - loss: 0.7853 - acc: 0.7363 - val_loss: 0.8337 - val_acc: 0.7210\n",
      "Epoch 12/100\n",
      " - 10s - loss: 0.7639 - acc: 0.7407 - val_loss: 0.8108 - val_acc: 0.7280\n",
      "Epoch 13/100\n",
      " - 11s - loss: 0.7478 - acc: 0.7474 - val_loss: 0.7894 - val_acc: 0.7324\n",
      "Epoch 14/100\n",
      " - 11s - loss: 0.7320 - acc: 0.7518 - val_loss: 0.8076 - val_acc: 0.7310\n",
      "Epoch 15/100\n",
      " - 12s - loss: 0.7143 - acc: 0.7563 - val_loss: 0.8039 - val_acc: 0.7289\n",
      "Epoch 16/100\n",
      " - 12s - loss: 0.7043 - acc: 0.7593 - val_loss: 0.7996 - val_acc: 0.7313\n",
      "Epoch 17/100\n",
      " - 11s - loss: 0.6868 - acc: 0.7647 - val_loss: 0.7949 - val_acc: 0.7294\n",
      "Epoch 18/100\n",
      " - 11s - loss: 0.6748 - acc: 0.7688 - val_loss: 0.8029 - val_acc: 0.7313\n",
      "Epoch 19/100\n",
      " - 11s - loss: 0.6634 - acc: 0.7722 - val_loss: 0.7927 - val_acc: 0.7325\n",
      "Epoch 20/100\n",
      " - 12s - loss: 0.6479 - acc: 0.7764 - val_loss: 0.8041 - val_acc: 0.7296\n",
      "Epoch 21/100\n",
      " - 11s - loss: 0.6384 - acc: 0.7778 - val_loss: 0.8087 - val_acc: 0.7328\n",
      "Epoch 22/100\n",
      " - 11s - loss: 0.6283 - acc: 0.7813 - val_loss: 0.8053 - val_acc: 0.7298\n",
      "Epoch 23/100\n",
      " - 11s - loss: 0.6183 - acc: 0.7855 - val_loss: 0.8023 - val_acc: 0.7344\n",
      "Epoch 24/100\n",
      " - 11s - loss: 0.6103 - acc: 0.7870 - val_loss: 0.8310 - val_acc: 0.7310\n",
      "Epoch 25/100\n",
      " - 12s - loss: 0.5967 - acc: 0.7914 - val_loss: 0.8249 - val_acc: 0.7306\n",
      "Epoch 26/100\n",
      " - 12s - loss: 0.5898 - acc: 0.7942 - val_loss: 0.8245 - val_acc: 0.7321\n",
      "Epoch 27/100\n",
      " - 11s - loss: 0.5786 - acc: 0.7977 - val_loss: 0.8463 - val_acc: 0.7308\n",
      "Epoch 28/100\n",
      " - 11s - loss: 0.5670 - acc: 0.8018 - val_loss: 0.8420 - val_acc: 0.7301\n",
      "Epoch 29/100\n",
      " - 11s - loss: 0.5604 - acc: 0.8026 - val_loss: 0.8515 - val_acc: 0.7246\n",
      "Epoch 30/100\n",
      " - 12s - loss: 0.5534 - acc: 0.8048 - val_loss: 0.8478 - val_acc: 0.7286\n",
      "Epoch 31/100\n",
      " - 12s - loss: 0.5454 - acc: 0.8092 - val_loss: 0.8673 - val_acc: 0.7311\n",
      "Epoch 32/100\n",
      " - 11s - loss: 0.5363 - acc: 0.8120 - val_loss: 0.8673 - val_acc: 0.7283\n",
      "Epoch 33/100\n",
      " - 11s - loss: 0.5331 - acc: 0.8128 - val_loss: 0.8774 - val_acc: 0.7251\n",
      "Epoch 34/100\n",
      " - 11s - loss: 0.5280 - acc: 0.8137 - val_loss: 0.8745 - val_acc: 0.7273\n",
      "Epoch 35/100\n",
      " - 11s - loss: 0.5142 - acc: 0.8174 - val_loss: 0.8731 - val_acc: 0.7272\n",
      "Epoch 36/100\n",
      " - 12s - loss: 0.5102 - acc: 0.8188 - val_loss: 0.8837 - val_acc: 0.7250\n",
      "Epoch 37/100\n",
      " - 12s - loss: 0.5042 - acc: 0.8225 - val_loss: 0.9113 - val_acc: 0.7267\n",
      "Epoch 38/100\n",
      " - 12s - loss: 0.4999 - acc: 0.8237 - val_loss: 0.8924 - val_acc: 0.7267\n",
      "Epoch 39/100\n",
      " - 12s - loss: 0.4926 - acc: 0.8254 - val_loss: 0.9023 - val_acc: 0.7280\n",
      "Epoch 40/100\n",
      " - 12s - loss: 0.4873 - acc: 0.8282 - val_loss: 0.9084 - val_acc: 0.7248\n",
      "Epoch 41/100\n",
      " - 12s - loss: 0.4830 - acc: 0.8305 - val_loss: 0.9193 - val_acc: 0.7220\n",
      "Epoch 42/100\n",
      " - 11s - loss: 0.4806 - acc: 0.8306 - val_loss: 0.9289 - val_acc: 0.7215\n",
      "Epoch 43/100\n",
      " - 11s - loss: 0.4732 - acc: 0.8330 - val_loss: 0.9223 - val_acc: 0.7269\n"
     ]
    },
    {
     "data": {
      "text/plain": [
       "'0:08:01.991870'"
      ]
     },
     "execution_count": 53,
     "metadata": {},
     "output_type": "execute_result"
    }
   ],
   "source": [
    "start = datetime.now()\n",
    "hist_3hl = model_3hl.fit(X, y, validation_split=0.25, batch_size=1000, callbacks=callbacks)\n",
    "end = datetime.now()\n",
    "str(end-start)"
   ]
  },
  {
   "cell_type": "code",
   "execution_count": 54,
   "metadata": {},
   "outputs": [
    {
     "data": {
      "image/png": "[encoded data removed]",
      "text/plain": [
       "<Figure size 432x288 with 1 Axes>"
      ]
     },
     "metadata": {
      "needs_background": "light"
     },
     "output_type": "display_data"
    }
   ],
   "source": [
    "plt.plot(hist_3hl.history['acc'])\n",
    "plt.plot(hist_3hl.history['val_acc'])\n",
    "plt.title('model accuracy: batch size=1000')\n",
    "plt.ylabel('accuracy')\n",
    "plt.xlabel('epoch')\n",
    "plt.legend(['train', 'val'], loc='upper left')\n",
    "plt.show()"
   ]
  },
  {
   "cell_type": "code",
   "execution_count": 55,
   "metadata": {},
   "outputs": [
    {
     "data": {
      "image/png": "[encoded data removed]",
      "text/plain": [
       "<Figure size 432x288 with 1 Axes>"
      ]
     },
     "metadata": {
      "needs_background": "light"
     },
     "output_type": "display_data"
    }
   ],
   "source": [
    "plt.plot(hist_3hl.history['loss'])\n",
    "plt.plot(hist_3hl.history['val_loss'])\n",
    "plt.title('model loss: batch size=1000')\n",
    "plt.ylabel('loss')\n",
    "plt.xlabel('epoch')\n",
    "plt.legend(['train', 'val'], loc='upper left')\n",
    "plt.show()"
   ]
  },
  {
   "cell_type": "code",
   "execution_count": 71,
   "metadata": {},
   "outputs": [],
   "source": [
    "nn_3hl = KerasClassifier(build_fn=create_model_3hl, epochs=15, batch_size=1000, verbose=2)"
   ]
  },
  {
   "cell_type": "code",
   "execution_count": 72,
   "metadata": {},
   "outputs": [
    {
     "name": "stderr",
     "output_type": "stream",
     "text": [
      "C:\\Users\\Xiuquan\\Anaconda3\\lib\\site-packages\\ipykernel_launcher.py:3: UserWarning: Update your `Dense` call to the Keras 2 API: `Dense(activation=\"relu\", input_dim=450, units=400)`\n",
      "  This is separate from the ipykernel package so we can avoid doing imports until\n",
      "C:\\Users\\Xiuquan\\Anaconda3\\lib\\site-packages\\ipykernel_launcher.py:5: UserWarning: Update your `Dense` call to the Keras 2 API: `Dense(activation=\"relu\", units=200)`\n",
      "  \"\"\"\n",
      "C:\\Users\\Xiuquan\\Anaconda3\\lib\\site-packages\\ipykernel_launcher.py:7: UserWarning: Update your `Dense` call to the Keras 2 API: `Dense(activation=\"relu\", units=200)`\n",
      "  import sys\n",
      "C:\\Users\\Xiuquan\\Anaconda3\\lib\\site-packages\\ipykernel_launcher.py:10: UserWarning: Update your `Dense` call to the Keras 2 API: `Dense(activation=\"softmax\", units=38)`\n",
      "  # Remove the CWD from sys.path while we load stuff.\n"
     ]
    },
    {
     "name": "stdout",
     "output_type": "stream",
     "text": [
      "Epoch 1/15\n",
      " - 9s - loss: 1.9923 - acc: 0.4699\n",
      "Epoch 2/15\n",
      " - 8s - loss: 1.2457 - acc: 0.6408\n",
      "Epoch 3/15\n",
      " - 7s - loss: 1.0891 - acc: 0.6704\n",
      "Epoch 4/15\n",
      " - 8s - loss: 1.0197 - acc: 0.6804\n",
      "Epoch 5/15\n",
      " - 8s - loss: 0.9664 - acc: 0.6936\n",
      "Epoch 6/15\n",
      " - 8s - loss: 0.9247 - acc: 0.7016\n",
      "Epoch 7/15\n",
      " - 7s - loss: 0.8932 - acc: 0.7103\n",
      "Epoch 8/15\n",
      " - 8s - loss: 0.8682 - acc: 0.7153\n",
      "Epoch 9/15\n",
      " - 7s - loss: 0.8470 - acc: 0.7212\n",
      "Epoch 10/15\n",
      " - 8s - loss: 0.8230 - acc: 0.7269\n",
      "Epoch 11/15\n",
      " - 7s - loss: 0.8029 - acc: 0.7320\n",
      "Epoch 12/15\n",
      " - 7s - loss: 0.7873 - acc: 0.7346\n",
      "Epoch 13/15\n",
      " - 7s - loss: 0.7706 - acc: 0.7401\n",
      "Epoch 14/15\n",
      " - 8s - loss: 0.7556 - acc: 0.7444\n",
      "Epoch 15/15\n",
      " - 7s - loss: 0.7433 - acc: 0.7492\n"
     ]
    },
    {
     "name": "stderr",
     "output_type": "stream",
     "text": [
      "C:\\Users\\Xiuquan\\Anaconda3\\lib\\site-packages\\ipykernel_launcher.py:3: UserWarning: Update your `Dense` call to the Keras 2 API: `Dense(activation=\"relu\", input_dim=450, units=400)`\n",
      "  This is separate from the ipykernel package so we can avoid doing imports until\n",
      "C:\\Users\\Xiuquan\\Anaconda3\\lib\\site-packages\\ipykernel_launcher.py:5: UserWarning: Update your `Dense` call to the Keras 2 API: `Dense(activation=\"relu\", units=200)`\n",
      "  \"\"\"\n",
      "C:\\Users\\Xiuquan\\Anaconda3\\lib\\site-packages\\ipykernel_launcher.py:7: UserWarning: Update your `Dense` call to the Keras 2 API: `Dense(activation=\"relu\", units=200)`\n",
      "  import sys\n",
      "C:\\Users\\Xiuquan\\Anaconda3\\lib\\site-packages\\ipykernel_launcher.py:10: UserWarning: Update your `Dense` call to the Keras 2 API: `Dense(activation=\"softmax\", units=38)`\n",
      "  # Remove the CWD from sys.path while we load stuff.\n"
     ]
    },
    {
     "name": "stdout",
     "output_type": "stream",
     "text": [
      "Epoch 1/15\n",
      " - 10s - loss: 1.9828 - acc: 0.4723\n",
      "Epoch 2/15\n",
      " - 7s - loss: 1.2356 - acc: 0.6413\n",
      "Epoch 3/15\n",
      " - 8s - loss: 1.0875 - acc: 0.6688\n",
      "Epoch 4/15\n",
      " - 7s - loss: 1.0086 - acc: 0.6840\n",
      "Epoch 5/15\n",
      " - 8s - loss: 0.9561 - acc: 0.6954\n",
      "Epoch 6/15\n",
      " - 8s - loss: 0.9215 - acc: 0.7032\n",
      "Epoch 7/15\n",
      " - 8s - loss: 0.8931 - acc: 0.7108\n",
      "Epoch 8/15\n",
      " - 7s - loss: 0.8608 - acc: 0.7182\n",
      "Epoch 9/15\n",
      " - 8s - loss: 0.8377 - acc: 0.7246\n",
      "Epoch 10/15\n",
      " - 8s - loss: 0.8194 - acc: 0.7281\n",
      "Epoch 11/15\n",
      " - 9s - loss: 0.7969 - acc: 0.7347\n",
      "Epoch 12/15\n",
      " - 8s - loss: 0.7829 - acc: 0.7362\n",
      "Epoch 13/15\n",
      " - 9s - loss: 0.7683 - acc: 0.7423\n",
      "Epoch 14/15\n",
      " - 8s - loss: 0.7506 - acc: 0.7469\n",
      "Epoch 15/15\n",
      " - 8s - loss: 0.7339 - acc: 0.7519\n"
     ]
    },
    {
     "name": "stderr",
     "output_type": "stream",
     "text": [
      "C:\\Users\\Xiuquan\\Anaconda3\\lib\\site-packages\\ipykernel_launcher.py:3: UserWarning: Update your `Dense` call to the Keras 2 API: `Dense(activation=\"relu\", input_dim=450, units=400)`\n",
      "  This is separate from the ipykernel package so we can avoid doing imports until\n",
      "C:\\Users\\Xiuquan\\Anaconda3\\lib\\site-packages\\ipykernel_launcher.py:5: UserWarning: Update your `Dense` call to the Keras 2 API: `Dense(activation=\"relu\", units=200)`\n",
      "  \"\"\"\n",
      "C:\\Users\\Xiuquan\\Anaconda3\\lib\\site-packages\\ipykernel_launcher.py:7: UserWarning: Update your `Dense` call to the Keras 2 API: `Dense(activation=\"relu\", units=200)`\n",
      "  import sys\n",
      "C:\\Users\\Xiuquan\\Anaconda3\\lib\\site-packages\\ipykernel_launcher.py:10: UserWarning: Update your `Dense` call to the Keras 2 API: `Dense(activation=\"softmax\", units=38)`\n",
      "  # Remove the CWD from sys.path while we load stuff.\n"
     ]
    },
    {
     "name": "stdout",
     "output_type": "stream",
     "text": [
      "Epoch 1/15\n",
      " - 10s - loss: 1.9337 - acc: 0.4868\n",
      "Epoch 2/15\n",
      " - 10s - loss: 1.2114 - acc: 0.6469\n",
      "Epoch 3/15\n",
      " - 10s - loss: 1.0653 - acc: 0.6748\n",
      "Epoch 4/15\n",
      " - 10s - loss: 0.9893 - acc: 0.6890\n",
      "Epoch 5/15\n",
      " - 10s - loss: 0.9436 - acc: 0.6996\n",
      "Epoch 6/15\n",
      " - 9s - loss: 0.9045 - acc: 0.7096\n",
      "Epoch 7/15\n",
      " - 9s - loss: 0.8721 - acc: 0.7173\n",
      "Epoch 8/15\n",
      " - 10s - loss: 0.8477 - acc: 0.7207\n",
      "Epoch 9/15\n",
      " - 9s - loss: 0.8239 - acc: 0.7280\n",
      "Epoch 10/15\n",
      " - 9s - loss: 0.8001 - acc: 0.7330\n",
      "Epoch 11/15\n",
      " - 9s - loss: 0.7780 - acc: 0.7405\n",
      "Epoch 12/15\n",
      " - 10s - loss: 0.7643 - acc: 0.7436\n",
      "Epoch 13/15\n",
      " - 10s - loss: 0.7498 - acc: 0.7468\n",
      "Epoch 14/15\n",
      " - 9s - loss: 0.7308 - acc: 0.7517\n",
      "Epoch 15/15\n",
      " - 11s - loss: 0.7185 - acc: 0.7544\n"
     ]
    },
    {
     "name": "stderr",
     "output_type": "stream",
     "text": [
      "C:\\Users\\Xiuquan\\Anaconda3\\lib\\site-packages\\ipykernel_launcher.py:3: UserWarning: Update your `Dense` call to the Keras 2 API: `Dense(activation=\"relu\", input_dim=450, units=400)`\n",
      "  This is separate from the ipykernel package so we can avoid doing imports until\n",
      "C:\\Users\\Xiuquan\\Anaconda3\\lib\\site-packages\\ipykernel_launcher.py:5: UserWarning: Update your `Dense` call to the Keras 2 API: `Dense(activation=\"relu\", units=200)`\n",
      "  \"\"\"\n",
      "C:\\Users\\Xiuquan\\Anaconda3\\lib\\site-packages\\ipykernel_launcher.py:7: UserWarning: Update your `Dense` call to the Keras 2 API: `Dense(activation=\"relu\", units=200)`\n",
      "  import sys\n",
      "C:\\Users\\Xiuquan\\Anaconda3\\lib\\site-packages\\ipykernel_launcher.py:10: UserWarning: Update your `Dense` call to the Keras 2 API: `Dense(activation=\"softmax\", units=38)`\n",
      "  # Remove the CWD from sys.path while we load stuff.\n"
     ]
    },
    {
     "name": "stdout",
     "output_type": "stream",
     "text": [
      "Epoch 1/15\n",
      " - 14s - loss: 1.9779 - acc: 0.4729\n",
      "Epoch 2/15\n",
      " - 10s - loss: 1.2444 - acc: 0.6384\n",
      "Epoch 3/15\n",
      " - 10s - loss: 1.0880 - acc: 0.6652\n",
      "Epoch 4/15\n",
      " - 10s - loss: 1.0120 - acc: 0.6825\n",
      "Epoch 5/15\n",
      " - 9s - loss: 0.9651 - acc: 0.6916\n",
      "Epoch 6/15\n",
      " - 8s - loss: 0.9232 - acc: 0.7011\n",
      "Epoch 7/15\n",
      " - 9s - loss: 0.8922 - acc: 0.7091\n",
      "Epoch 8/15\n",
      " - 8s - loss: 0.8707 - acc: 0.7148\n",
      "Epoch 9/15\n",
      " - 9s - loss: 0.8429 - acc: 0.7215\n",
      "Epoch 10/15\n",
      " - 8s - loss: 0.8194 - acc: 0.7269\n",
      "Epoch 11/15\n",
      " - 9s - loss: 0.8027 - acc: 0.7310\n",
      "Epoch 12/15\n",
      " - 8s - loss: 0.7838 - acc: 0.7356\n",
      "Epoch 13/15\n",
      " - 9s - loss: 0.7714 - acc: 0.7401\n",
      "Epoch 14/15\n",
      " - 8s - loss: 0.7557 - acc: 0.7448\n",
      "Epoch 15/15\n",
      " - 8s - loss: 0.7400 - acc: 0.7484\n"
     ]
    },
    {
     "data": {
      "text/plain": [
       "'0:08:55.521134'"
      ]
     },
     "execution_count": 72,
     "metadata": {},
     "output_type": "execute_result"
    }
   ],
   "source": [
    "start = datetime.now()\n",
    "hist_cross_val = cross_validate(nn_3hl, X, y, scoring=scoring, cv=cv)\n",
    "end = datetime.now()\n",
    "str(end-start)"
   ]
  },
  {
   "cell_type": "code",
   "execution_count": 79,
   "metadata": {},
   "outputs": [
    {
     "data": {
      "text/plain": [
       "{'fit_time': array([115.50482845, 121.67103148, 145.03272271, 140.45477915]),\n",
       " 'score_time': array([2.50245714, 2.54443002, 4.42197394, 3.10708308]),\n",
       " 'test_accuracy': array([0.73304642, 0.7260566 , 0.71376599, 0.73119719]),\n",
       " 'test_neg_log_loss': array([-0.80554453, -0.8069721 , -0.87296957, -0.80074112])}"
      ]
     },
     "execution_count": 79,
     "metadata": {},
     "output_type": "execute_result"
    }
   ],
   "source": [
    "hist_cross_val"
   ]
  },
  {
   "cell_type": "code",
   "execution_count": 74,
   "metadata": {},
   "outputs": [
    {
     "data": {
      "text/plain": [
       "(0.7260165520122847, -0.8215568299849783)"
      ]
     },
     "execution_count": 74,
     "metadata": {},
     "output_type": "execute_result"
    }
   ],
   "source": [
    "hist_cross_val['test_accuracy'].mean(), hist_cross_val['test_neg_log_loss'].mean()"
   ]
  },
  {
   "cell_type": "code",
   "execution_count": 75,
   "metadata": {},
   "outputs": [],
   "source": [
    "nn_3hl = KerasClassifier(build_fn=create_model_3hl, epochs=20, batch_size=1000, verbose=2)"
   ]
  },
  {
   "cell_type": "code",
   "execution_count": 76,
   "metadata": {},
   "outputs": [
    {
     "name": "stderr",
     "output_type": "stream",
     "text": [
      "C:\\Users\\Xiuquan\\Anaconda3\\lib\\site-packages\\ipykernel_launcher.py:3: UserWarning: Update your `Dense` call to the Keras 2 API: `Dense(activation=\"relu\", input_dim=450, units=400)`\n",
      "  This is separate from the ipykernel package so we can avoid doing imports until\n",
      "C:\\Users\\Xiuquan\\Anaconda3\\lib\\site-packages\\ipykernel_launcher.py:5: UserWarning: Update your `Dense` call to the Keras 2 API: `Dense(activation=\"relu\", units=200)`\n",
      "  \"\"\"\n",
      "C:\\Users\\Xiuquan\\Anaconda3\\lib\\site-packages\\ipykernel_launcher.py:7: UserWarning: Update your `Dense` call to the Keras 2 API: `Dense(activation=\"relu\", units=200)`\n",
      "  import sys\n",
      "C:\\Users\\Xiuquan\\Anaconda3\\lib\\site-packages\\ipykernel_launcher.py:10: UserWarning: Update your `Dense` call to the Keras 2 API: `Dense(activation=\"softmax\", units=38)`\n",
      "  # Remove the CWD from sys.path while we load stuff.\n"
     ]
    },
    {
     "name": "stdout",
     "output_type": "stream",
     "text": [
      "Epoch 1/20\n",
      " - 12s - loss: 1.9604 - acc: 0.4761\n",
      "Epoch 2/20\n",
      " - 9s - loss: 1.2393 - acc: 0.6400\n",
      "Epoch 3/20\n",
      " - 9s - loss: 1.0854 - acc: 0.6685\n",
      "Epoch 4/20\n",
      " - 9s - loss: 1.0131 - acc: 0.6823\n",
      "Epoch 5/20\n",
      " - 9s - loss: 0.9592 - acc: 0.6961\n",
      "Epoch 6/20\n",
      " - 9s - loss: 0.9200 - acc: 0.7030\n",
      "Epoch 7/20\n",
      " - 9s - loss: 0.8922 - acc: 0.7107\n",
      "Epoch 8/20\n",
      " - 9s - loss: 0.8643 - acc: 0.7161\n",
      "Epoch 9/20\n",
      " - 8s - loss: 0.8432 - acc: 0.7206\n",
      "Epoch 10/20\n",
      " - 8s - loss: 0.8187 - acc: 0.7267\n",
      "Epoch 11/20\n",
      " - 9s - loss: 0.8039 - acc: 0.7312\n",
      "Epoch 12/20\n",
      " - 8s - loss: 0.7842 - acc: 0.7383\n",
      "Epoch 13/20\n",
      " - 8s - loss: 0.7690 - acc: 0.7396\n",
      "Epoch 14/20\n",
      " - 8s - loss: 0.7502 - acc: 0.7477\n",
      "Epoch 15/20\n",
      " - 8s - loss: 0.7385 - acc: 0.7513\n",
      "Epoch 16/20\n",
      " - 8s - loss: 0.7247 - acc: 0.7538\n",
      "Epoch 17/20\n",
      " - 8s - loss: 0.7104 - acc: 0.7561\n",
      "Epoch 18/20\n",
      " - 8s - loss: 0.6994 - acc: 0.7581\n",
      "Epoch 19/20\n",
      " - 9s - loss: 0.6890 - acc: 0.7623\n",
      "Epoch 20/20\n",
      " - 8s - loss: 0.6816 - acc: 0.7661\n"
     ]
    },
    {
     "name": "stderr",
     "output_type": "stream",
     "text": [
      "C:\\Users\\Xiuquan\\Anaconda3\\lib\\site-packages\\ipykernel_launcher.py:3: UserWarning: Update your `Dense` call to the Keras 2 API: `Dense(activation=\"relu\", input_dim=450, units=400)`\n",
      "  This is separate from the ipykernel package so we can avoid doing imports until\n",
      "C:\\Users\\Xiuquan\\Anaconda3\\lib\\site-packages\\ipykernel_launcher.py:5: UserWarning: Update your `Dense` call to the Keras 2 API: `Dense(activation=\"relu\", units=200)`\n",
      "  \"\"\"\n",
      "C:\\Users\\Xiuquan\\Anaconda3\\lib\\site-packages\\ipykernel_launcher.py:7: UserWarning: Update your `Dense` call to the Keras 2 API: `Dense(activation=\"relu\", units=200)`\n",
      "  import sys\n",
      "C:\\Users\\Xiuquan\\Anaconda3\\lib\\site-packages\\ipykernel_launcher.py:10: UserWarning: Update your `Dense` call to the Keras 2 API: `Dense(activation=\"softmax\", units=38)`\n",
      "  # Remove the CWD from sys.path while we load stuff.\n"
     ]
    },
    {
     "name": "stdout",
     "output_type": "stream",
     "text": [
      "Epoch 1/20\n",
      " - 11s - loss: 1.9639 - acc: 0.4763\n",
      "Epoch 2/20\n",
      " - 9s - loss: 1.2296 - acc: 0.6398\n",
      "Epoch 3/20\n",
      " - 8s - loss: 1.0843 - acc: 0.6701\n",
      "Epoch 4/20\n",
      " - 8s - loss: 1.0091 - acc: 0.6831\n",
      "Epoch 5/20\n",
      " - 8s - loss: 0.9613 - acc: 0.6945\n",
      "Epoch 6/20\n",
      " - 9s - loss: 0.9229 - acc: 0.7027\n",
      "Epoch 7/20\n",
      " - 8s - loss: 0.8888 - acc: 0.7124\n",
      "Epoch 8/20\n",
      " - 8s - loss: 0.8622 - acc: 0.7161\n",
      "Epoch 9/20\n",
      " - 8s - loss: 0.8406 - acc: 0.7219\n",
      "Epoch 10/20\n",
      " - 8s - loss: 0.8194 - acc: 0.7282\n",
      "Epoch 11/20\n",
      " - 8s - loss: 0.7993 - acc: 0.7320\n",
      "Epoch 12/20\n",
      " - 9s - loss: 0.7833 - acc: 0.7366\n",
      "Epoch 13/20\n",
      " - 8s - loss: 0.7622 - acc: 0.7433\n",
      "Epoch 14/20\n",
      " - 9s - loss: 0.7491 - acc: 0.7458\n",
      "Epoch 15/20\n",
      " - 8s - loss: 0.7339 - acc: 0.7502\n",
      "Epoch 16/20\n",
      " - 8s - loss: 0.7210 - acc: 0.7537\n",
      "Epoch 17/20\n",
      " - 8s - loss: 0.7105 - acc: 0.7582\n",
      "Epoch 18/20\n",
      " - 8s - loss: 0.6975 - acc: 0.7610\n",
      "Epoch 19/20\n",
      " - 8s - loss: 0.6835 - acc: 0.7662\n",
      "Epoch 20/20\n",
      " - 8s - loss: 0.6731 - acc: 0.7662\n"
     ]
    },
    {
     "name": "stderr",
     "output_type": "stream",
     "text": [
      "C:\\Users\\Xiuquan\\Anaconda3\\lib\\site-packages\\ipykernel_launcher.py:3: UserWarning: Update your `Dense` call to the Keras 2 API: `Dense(activation=\"relu\", input_dim=450, units=400)`\n",
      "  This is separate from the ipykernel package so we can avoid doing imports until\n",
      "C:\\Users\\Xiuquan\\Anaconda3\\lib\\site-packages\\ipykernel_launcher.py:5: UserWarning: Update your `Dense` call to the Keras 2 API: `Dense(activation=\"relu\", units=200)`\n",
      "  \"\"\"\n",
      "C:\\Users\\Xiuquan\\Anaconda3\\lib\\site-packages\\ipykernel_launcher.py:7: UserWarning: Update your `Dense` call to the Keras 2 API: `Dense(activation=\"relu\", units=200)`\n",
      "  import sys\n",
      "C:\\Users\\Xiuquan\\Anaconda3\\lib\\site-packages\\ipykernel_launcher.py:10: UserWarning: Update your `Dense` call to the Keras 2 API: `Dense(activation=\"softmax\", units=38)`\n",
      "  # Remove the CWD from sys.path while we load stuff.\n"
     ]
    },
    {
     "name": "stdout",
     "output_type": "stream",
     "text": [
      "Epoch 1/20\n",
      " - 11s - loss: 1.9567 - acc: 0.4772\n",
      "Epoch 2/20\n",
      " - 8s - loss: 1.2138 - acc: 0.6457\n",
      "Epoch 3/20\n",
      " - 8s - loss: 1.0664 - acc: 0.6741\n",
      "Epoch 4/20\n",
      " - 8s - loss: 0.9904 - acc: 0.6884\n",
      "Epoch 5/20\n",
      " - 8s - loss: 0.9426 - acc: 0.7005\n",
      "Epoch 6/20\n",
      " - 8s - loss: 0.9070 - acc: 0.7084\n",
      "Epoch 7/20\n",
      " - 8s - loss: 0.8727 - acc: 0.7151\n",
      "Epoch 8/20\n",
      " - 8s - loss: 0.8523 - acc: 0.7211\n",
      "Epoch 9/20\n",
      " - 8s - loss: 0.8240 - acc: 0.7279\n",
      "Epoch 10/20\n",
      " - 8s - loss: 0.8033 - acc: 0.7324\n",
      "Epoch 11/20\n",
      " - 8s - loss: 0.7857 - acc: 0.7370\n",
      "Epoch 12/20\n",
      " - 8s - loss: 0.7698 - acc: 0.7403\n",
      "Epoch 13/20\n",
      " - 8s - loss: 0.7509 - acc: 0.7467\n",
      "Epoch 14/20\n",
      " - 8s - loss: 0.7347 - acc: 0.7498\n",
      "Epoch 15/20\n",
      " - 8s - loss: 0.7198 - acc: 0.7551\n",
      "Epoch 16/20\n",
      " - 8s - loss: 0.7091 - acc: 0.7584\n",
      "Epoch 17/20\n",
      " - 8s - loss: 0.6954 - acc: 0.7608\n",
      "Epoch 18/20\n",
      " - 8s - loss: 0.6817 - acc: 0.7676\n",
      "Epoch 19/20\n",
      " - 8s - loss: 0.6735 - acc: 0.7681\n",
      "Epoch 20/20\n",
      " - 8s - loss: 0.6638 - acc: 0.7696\n"
     ]
    },
    {
     "name": "stderr",
     "output_type": "stream",
     "text": [
      "C:\\Users\\Xiuquan\\Anaconda3\\lib\\site-packages\\ipykernel_launcher.py:3: UserWarning: Update your `Dense` call to the Keras 2 API: `Dense(activation=\"relu\", input_dim=450, units=400)`\n",
      "  This is separate from the ipykernel package so we can avoid doing imports until\n",
      "C:\\Users\\Xiuquan\\Anaconda3\\lib\\site-packages\\ipykernel_launcher.py:5: UserWarning: Update your `Dense` call to the Keras 2 API: `Dense(activation=\"relu\", units=200)`\n",
      "  \"\"\"\n",
      "C:\\Users\\Xiuquan\\Anaconda3\\lib\\site-packages\\ipykernel_launcher.py:7: UserWarning: Update your `Dense` call to the Keras 2 API: `Dense(activation=\"relu\", units=200)`\n",
      "  import sys\n",
      "C:\\Users\\Xiuquan\\Anaconda3\\lib\\site-packages\\ipykernel_launcher.py:10: UserWarning: Update your `Dense` call to the Keras 2 API: `Dense(activation=\"softmax\", units=38)`\n",
      "  # Remove the CWD from sys.path while we load stuff.\n"
     ]
    },
    {
     "name": "stdout",
     "output_type": "stream",
     "text": [
      "Epoch 1/20\n",
      " - 12s - loss: 1.9845 - acc: 0.4702\n",
      "Epoch 2/20\n",
      " - 8s - loss: 1.2322 - acc: 0.6402\n",
      "Epoch 3/20\n",
      " - 8s - loss: 1.0833 - acc: 0.6694\n",
      "Epoch 4/20\n",
      " - 8s - loss: 1.0081 - acc: 0.6827\n",
      "Epoch 5/20\n",
      " - 8s - loss: 0.9630 - acc: 0.6928\n",
      "Epoch 6/20\n",
      " - 8s - loss: 0.9255 - acc: 0.7026\n",
      "Epoch 7/20\n",
      " - 8s - loss: 0.8951 - acc: 0.7088\n",
      "Epoch 8/20\n",
      " - 8s - loss: 0.8682 - acc: 0.7148\n",
      "Epoch 9/20\n",
      " - 8s - loss: 0.8439 - acc: 0.7212\n",
      "Epoch 10/20\n",
      " - 8s - loss: 0.8255 - acc: 0.7249\n",
      "Epoch 11/20\n",
      " - 8s - loss: 0.8050 - acc: 0.7311\n",
      "Epoch 12/20\n",
      " - 8s - loss: 0.7858 - acc: 0.7362\n",
      "Epoch 13/20\n",
      " - 8s - loss: 0.7750 - acc: 0.7405\n",
      "Epoch 14/20\n",
      " - 8s - loss: 0.7568 - acc: 0.7445\n",
      "Epoch 15/20\n",
      " - 8s - loss: 0.7435 - acc: 0.7490\n",
      "Epoch 16/20\n",
      " - 8s - loss: 0.7317 - acc: 0.7504\n",
      "Epoch 17/20\n",
      " - 8s - loss: 0.7184 - acc: 0.7541\n",
      "Epoch 18/20\n",
      " - 8s - loss: 0.7050 - acc: 0.7590\n",
      "Epoch 19/20\n",
      " - 9s - loss: 0.6935 - acc: 0.7628\n",
      "Epoch 20/20\n",
      " - 8s - loss: 0.6848 - acc: 0.7651\n"
     ]
    },
    {
     "data": {
      "text/plain": [
       "'0:11:18.399518'"
      ]
     },
     "execution_count": 76,
     "metadata": {},
     "output_type": "execute_result"
    }
   ],
   "source": [
    "start = datetime.now()\n",
    "hist_cross_val_v2 = cross_validate(nn_3hl, X, y, scoring=scoring, cv=cv)\n",
    "end = datetime.now()\n",
    "str(end-start)"
   ]
  },
  {
   "cell_type": "code",
   "execution_count": 77,
   "metadata": {},
   "outputs": [
    {
     "data": {
      "text/plain": [
       "{'fit_time': array([173.37916923, 167.80360389, 160.93183565, 163.93451738]),\n",
       " 'score_time': array([2.89721537, 2.83025408, 2.95218229, 3.41689372]),\n",
       " 'test_accuracy': array([0.72544186, 0.72672547, 0.71497867, 0.73211746]),\n",
       " 'test_neg_log_loss': array([-0.80503169, -0.80122706, -0.86342535, -0.80422905])}"
      ]
     },
     "execution_count": 77,
     "metadata": {},
     "output_type": "execute_result"
    }
   ],
   "source": [
    "hist_cross_val_v2"
   ]
  },
  {
   "cell_type": "code",
   "execution_count": 78,
   "metadata": {},
   "outputs": [
    {
     "data": {
      "text/plain": [
       "(0.7248158658742692, -0.8184782840801821)"
      ]
     },
     "execution_count": 78,
     "metadata": {},
     "output_type": "execute_result"
    }
   ],
   "source": [
    "hist_cross_val_v2['test_accuracy'].mean(), hist_cross_val_v2['test_neg_log_loss'].mean()"
   ]
  },
  {
   "cell_type": "code",
   "execution_count": null,
   "metadata": {},
   "outputs": [],
   "source": []
  },
  {
   "cell_type": "code",
   "execution_count": 62,
   "metadata": {},
   "outputs": [],
   "source": [
    "def create_model_3hl(nodes_l1=400, nodes_l2=200, nodes_l3=100, dropout_l1=0.3, dropout_l2=0.2, dropout_l3=0.2):\n",
    "    model = Sequential()\n",
    "    model.add(Dense(output_dim=nodes_l1, activation=\"relu\", input_dim=len(X.columns)))\n",
    "    model.add(Dropout(dropout_l1))\n",
    "    model.add(Dense(output_dim=nodes_l2, activation=\"relu\"))\n",
    "    model.add(Dropout(dropout_l2))\n",
    "    model.add(Dense(output_dim=nodes_l2, activation=\"relu\"))\n",
    "    model.add(Dropout(dropout_l3))\n",
    "            \n",
    "    model.add(Dense(output_dim=len(trip_types), activation=\"softmax\"))\n",
    "    \n",
    "    model.compile(loss=\"categorical_crossentropy\", optimizer=\"rmsprop\", metrics=[\"accuracy\"])\n",
    "    \n",
    "    return model"
   ]
  },
  {
   "cell_type": "code",
   "execution_count": 63,
   "metadata": {},
   "outputs": [],
   "source": [
    "model_3hl = KerasClassifier(build_fn=create_model_3hl, epochs=100, batch_size=1000, verbose=2)"
   ]
  },
  {
   "cell_type": "code",
   "execution_count": 64,
   "metadata": {},
   "outputs": [
    {
     "name": "stderr",
     "output_type": "stream",
     "text": [
      "C:\\Users\\Xiuquan\\Anaconda3\\lib\\site-packages\\ipykernel_launcher.py:3: UserWarning: Update your `Dense` call to the Keras 2 API: `Dense(activation=\"relu\", input_dim=450, units=400)`\n",
      "  This is separate from the ipykernel package so we can avoid doing imports until\n",
      "C:\\Users\\Xiuquan\\Anaconda3\\lib\\site-packages\\ipykernel_launcher.py:5: UserWarning: Update your `Dense` call to the Keras 2 API: `Dense(activation=\"relu\", units=200)`\n",
      "  \"\"\"\n",
      "C:\\Users\\Xiuquan\\Anaconda3\\lib\\site-packages\\ipykernel_launcher.py:7: UserWarning: Update your `Dense` call to the Keras 2 API: `Dense(activation=\"relu\", units=200)`\n",
      "  import sys\n",
      "C:\\Users\\Xiuquan\\Anaconda3\\lib\\site-packages\\ipykernel_launcher.py:10: UserWarning: Update your `Dense` call to the Keras 2 API: `Dense(activation=\"softmax\", units=38)`\n",
      "  # Remove the CWD from sys.path while we load stuff.\n"
     ]
    },
    {
     "name": "stdout",
     "output_type": "stream",
     "text": [
      "Train on 71755 samples, validate on 23919 samples\n",
      "Epoch 1/100\n",
      " - 15s - loss: 1.9834 - acc: 0.4713 - val_loss: 1.2404 - val_acc: 0.6457\n",
      "Epoch 2/100\n",
      " - 12s - loss: 1.2493 - acc: 0.6376 - val_loss: 1.0411 - val_acc: 0.6808\n",
      "Epoch 3/100\n",
      " - 12s - loss: 1.0966 - acc: 0.6671 - val_loss: 0.9775 - val_acc: 0.6852\n",
      "Epoch 4/100\n",
      " - 11s - loss: 1.0197 - acc: 0.6814 - val_loss: 0.9385 - val_acc: 0.6953\n",
      "Epoch 5/100\n",
      " - 11s - loss: 0.9672 - acc: 0.6938 - val_loss: 0.8770 - val_acc: 0.7153\n",
      "Epoch 6/100\n",
      " - 12s - loss: 0.9294 - acc: 0.7005 - val_loss: 0.8731 - val_acc: 0.7140\n",
      "Epoch 7/100\n",
      " - 12s - loss: 0.8910 - acc: 0.7121 - val_loss: 0.8487 - val_acc: 0.7209\n",
      "Epoch 8/100\n",
      " - 12s - loss: 0.8690 - acc: 0.7152 - val_loss: 0.8302 - val_acc: 0.7217\n",
      "Epoch 9/100\n",
      " - 11s - loss: 0.8479 - acc: 0.7214 - val_loss: 0.8184 - val_acc: 0.7216\n",
      "Epoch 10/100\n",
      " - 12s - loss: 0.8255 - acc: 0.7263 - val_loss: 0.8121 - val_acc: 0.7288\n",
      "Epoch 11/100\n",
      " - 12s - loss: 0.8063 - acc: 0.7313 - val_loss: 0.8085 - val_acc: 0.7314\n",
      "Epoch 12/100\n",
      " - 11s - loss: 0.7895 - acc: 0.7339 - val_loss: 0.8044 - val_acc: 0.7303\n",
      "Epoch 13/100\n",
      " - 11s - loss: 0.7729 - acc: 0.7400 - val_loss: 0.7981 - val_acc: 0.7321\n",
      "Epoch 14/100\n",
      " - 12s - loss: 0.7566 - acc: 0.7441 - val_loss: 0.7940 - val_acc: 0.7327\n",
      "Epoch 15/100\n",
      " - 12s - loss: 0.7427 - acc: 0.7494 - val_loss: 0.7903 - val_acc: 0.7308\n",
      "Epoch 16/100\n",
      " - 11s - loss: 0.7286 - acc: 0.7513 - val_loss: 0.7880 - val_acc: 0.7312\n",
      "Epoch 17/100\n",
      " - 12s - loss: 0.7165 - acc: 0.7575 - val_loss: 0.7878 - val_acc: 0.7328\n",
      "Epoch 18/100\n",
      " - 14s - loss: 0.6993 - acc: 0.7599 - val_loss: 0.7910 - val_acc: 0.7316\n",
      "Epoch 19/100\n",
      " - 13s - loss: 0.6918 - acc: 0.7630 - val_loss: 0.7921 - val_acc: 0.7328\n",
      "Epoch 20/100\n",
      " - 14s - loss: 0.6806 - acc: 0.7658 - val_loss: 0.7985 - val_acc: 0.7246\n",
      "Epoch 21/100\n",
      " - 13s - loss: 0.6649 - acc: 0.7712 - val_loss: 0.7955 - val_acc: 0.7320\n",
      "Epoch 22/100\n",
      " - 13s - loss: 0.6585 - acc: 0.7721 - val_loss: 0.7933 - val_acc: 0.7313\n",
      "Epoch 23/100\n",
      " - 13s - loss: 0.6509 - acc: 0.7751 - val_loss: 0.8236 - val_acc: 0.7305\n",
      "Epoch 24/100\n",
      " - 13s - loss: 0.6420 - acc: 0.7763 - val_loss: 0.7981 - val_acc: 0.7337\n",
      "Epoch 25/100\n",
      " - 12s - loss: 0.6285 - acc: 0.7835 - val_loss: 0.8015 - val_acc: 0.7331\n",
      "Epoch 26/100\n",
      " - 12s - loss: 0.6225 - acc: 0.7847 - val_loss: 0.8127 - val_acc: 0.7316\n",
      "Epoch 27/100\n",
      " - 12s - loss: 0.6140 - acc: 0.7878 - val_loss: 0.8165 - val_acc: 0.7311\n",
      "Epoch 28/100\n",
      " - 12s - loss: 0.6025 - acc: 0.7903 - val_loss: 0.8216 - val_acc: 0.7286\n",
      "Epoch 29/100\n",
      " - 12s - loss: 0.5972 - acc: 0.7914 - val_loss: 0.8259 - val_acc: 0.7304\n",
      "Epoch 30/100\n",
      " - 11s - loss: 0.5888 - acc: 0.7955 - val_loss: 0.8314 - val_acc: 0.7302\n",
      "Epoch 31/100\n",
      " - 12s - loss: 0.5816 - acc: 0.7969 - val_loss: 0.8289 - val_acc: 0.7307\n",
      "Epoch 32/100\n",
      " - 12s - loss: 0.5744 - acc: 0.7982 - val_loss: 0.8294 - val_acc: 0.7303\n",
      "Epoch 33/100\n",
      " - 12s - loss: 0.5671 - acc: 0.8014 - val_loss: 0.8433 - val_acc: 0.7291\n",
      "Epoch 34/100\n",
      " - 11s - loss: 0.5627 - acc: 0.8034 - val_loss: 0.8380 - val_acc: 0.7298\n",
      "Epoch 35/100\n",
      " - 12s - loss: 0.5566 - acc: 0.8055 - val_loss: 0.8443 - val_acc: 0.7298\n",
      "Epoch 36/100\n",
      " - 12s - loss: 0.5489 - acc: 0.8070 - val_loss: 0.8649 - val_acc: 0.7267\n",
      "Epoch 37/100\n",
      " - 12s - loss: 0.5418 - acc: 0.8109 - val_loss: 0.8597 - val_acc: 0.7270\n",
      "Epoch 38/100\n",
      " - 12s - loss: 0.5374 - acc: 0.8096 - val_loss: 0.8712 - val_acc: 0.7278\n",
      "Epoch 39/100\n",
      " - 12s - loss: 0.5369 - acc: 0.8116 - val_loss: 0.8745 - val_acc: 0.7253\n",
      "Epoch 40/100\n",
      " - 12s - loss: 0.5285 - acc: 0.8135 - val_loss: 0.8657 - val_acc: 0.7273\n",
      "Epoch 41/100\n",
      " - 12s - loss: 0.5218 - acc: 0.8151 - val_loss: 0.8852 - val_acc: 0.7276\n",
      "Epoch 42/100\n",
      " - 12s - loss: 0.5188 - acc: 0.8182 - val_loss: 0.8794 - val_acc: 0.7279\n",
      "Epoch 43/100\n",
      " - 12s - loss: 0.5118 - acc: 0.8198 - val_loss: 0.8873 - val_acc: 0.7263\n",
      "Epoch 44/100\n",
      " - 12s - loss: 0.5071 - acc: 0.8211 - val_loss: 0.9018 - val_acc: 0.7303\n"
     ]
    },
    {
     "data": {
      "text/plain": [
       "'0:08:54.747503'"
      ]
     },
     "execution_count": 64,
     "metadata": {},
     "output_type": "execute_result"
    }
   ],
   "source": [
    "start = datetime.now()\n",
    "hist_3hl = model_3hl.fit(X, y, validation_split=0.25, batch_size=1000, callbacks=callbacks)\n",
    "end = datetime.now()\n",
    "str(end-start)"
   ]
  },
  {
   "cell_type": "code",
   "execution_count": 65,
   "metadata": {},
   "outputs": [
    {
     "data": {
      "image/png": "[encoded data removed]",
      "text/plain": [
       "<Figure size 432x288 with 1 Axes>"
      ]
     },
     "metadata": {
      "needs_background": "light"
     },
     "output_type": "display_data"
    }
   ],
   "source": [
    "plt.plot(hist_3hl.history['acc'])\n",
    "plt.plot(hist_3hl.history['val_acc'])\n",
    "plt.title('model accuracy: batch size=1000')\n",
    "plt.ylabel('accuracy')\n",
    "plt.xlabel('epoch')\n",
    "plt.legend(['train', 'val'], loc='upper left')\n",
    "plt.show()"
   ]
  },
  {
   "cell_type": "code",
   "execution_count": 66,
   "metadata": {},
   "outputs": [
    {
     "data": {
      "image/png": "[encoded data removed]",
      "text/plain": [
       "<Figure size 432x288 with 1 Axes>"
      ]
     },
     "metadata": {
      "needs_background": "light"
     },
     "output_type": "display_data"
    }
   ],
   "source": [
    "plt.plot(hist_3hl.history['loss'])\n",
    "plt.plot(hist_3hl.history['val_loss'])\n",
    "plt.title('model loss: batch size=1000')\n",
    "plt.ylabel('loss')\n",
    "plt.xlabel('epoch')\n",
    "plt.legend(['train', 'val'], loc='upper left')\n",
    "plt.show()"
   ]
  },
  {
   "cell_type": "code",
   "execution_count": 81,
   "metadata": {},
   "outputs": [],
   "source": [
    "nn_3hl = KerasClassifier(build_fn=create_model_3hl, epochs=20, batch_size=1000, verbose=2)"
   ]
  },
  {
   "cell_type": "code",
   "execution_count": 82,
   "metadata": {},
   "outputs": [
    {
     "name": "stderr",
     "output_type": "stream",
     "text": [
      "C:\\Users\\Xiuquan\\Anaconda3\\lib\\site-packages\\ipykernel_launcher.py:3: UserWarning: Update your `Dense` call to the Keras 2 API: `Dense(activation=\"relu\", input_dim=450, units=400)`\n",
      "  This is separate from the ipykernel package so we can avoid doing imports until\n",
      "C:\\Users\\Xiuquan\\Anaconda3\\lib\\site-packages\\ipykernel_launcher.py:5: UserWarning: Update your `Dense` call to the Keras 2 API: `Dense(activation=\"relu\", units=200)`\n",
      "  \"\"\"\n",
      "C:\\Users\\Xiuquan\\Anaconda3\\lib\\site-packages\\ipykernel_launcher.py:7: UserWarning: Update your `Dense` call to the Keras 2 API: `Dense(activation=\"relu\", units=200)`\n",
      "  import sys\n",
      "C:\\Users\\Xiuquan\\Anaconda3\\lib\\site-packages\\ipykernel_launcher.py:10: UserWarning: Update your `Dense` call to the Keras 2 API: `Dense(activation=\"softmax\", units=38)`\n",
      "  # Remove the CWD from sys.path while we load stuff.\n"
     ]
    },
    {
     "name": "stdout",
     "output_type": "stream",
     "text": [
      "Epoch 1/20\n",
      " - 9s - loss: 1.9828 - acc: 0.4766\n",
      "Epoch 2/20\n",
      " - 7s - loss: 1.2418 - acc: 0.6397\n",
      "Epoch 3/20\n",
      " - 7s - loss: 1.0858 - acc: 0.6701\n",
      "Epoch 4/20\n",
      " - 7s - loss: 1.0102 - acc: 0.6851\n",
      "Epoch 5/20\n",
      " - 7s - loss: 0.9580 - acc: 0.6952\n",
      "Epoch 6/20\n",
      " - 7s - loss: 0.9204 - acc: 0.7034\n",
      "Epoch 7/20\n",
      " - 7s - loss: 0.8917 - acc: 0.7107\n",
      "Epoch 8/20\n",
      " - 7s - loss: 0.8682 - acc: 0.7150\n",
      "Epoch 9/20\n",
      " - 7s - loss: 0.8375 - acc: 0.7228\n",
      "Epoch 10/20\n",
      " - 7s - loss: 0.8183 - acc: 0.7283\n",
      "Epoch 11/20\n",
      " - 8s - loss: 0.8002 - acc: 0.7315\n",
      "Epoch 12/20\n",
      " - 7s - loss: 0.7833 - acc: 0.7364\n",
      "Epoch 13/20\n",
      " - 8s - loss: 0.7645 - acc: 0.7422\n",
      "Epoch 14/20\n",
      " - 7s - loss: 0.7544 - acc: 0.7440\n",
      "Epoch 15/20\n",
      " - 7s - loss: 0.7376 - acc: 0.7507\n",
      "Epoch 16/20\n",
      " - 8s - loss: 0.7257 - acc: 0.7533\n",
      "Epoch 17/20\n",
      " - 7s - loss: 0.7120 - acc: 0.7562\n",
      "Epoch 18/20\n",
      " - 8s - loss: 0.7014 - acc: 0.7601\n",
      "Epoch 19/20\n",
      " - 7s - loss: 0.6878 - acc: 0.7629\n",
      "Epoch 20/20\n",
      " - 7s - loss: 0.6761 - acc: 0.7688\n"
     ]
    },
    {
     "name": "stderr",
     "output_type": "stream",
     "text": [
      "C:\\Users\\Xiuquan\\Anaconda3\\lib\\site-packages\\ipykernel_launcher.py:3: UserWarning: Update your `Dense` call to the Keras 2 API: `Dense(activation=\"relu\", input_dim=450, units=400)`\n",
      "  This is separate from the ipykernel package so we can avoid doing imports until\n",
      "C:\\Users\\Xiuquan\\Anaconda3\\lib\\site-packages\\ipykernel_launcher.py:5: UserWarning: Update your `Dense` call to the Keras 2 API: `Dense(activation=\"relu\", units=200)`\n",
      "  \"\"\"\n",
      "C:\\Users\\Xiuquan\\Anaconda3\\lib\\site-packages\\ipykernel_launcher.py:7: UserWarning: Update your `Dense` call to the Keras 2 API: `Dense(activation=\"relu\", units=200)`\n",
      "  import sys\n",
      "C:\\Users\\Xiuquan\\Anaconda3\\lib\\site-packages\\ipykernel_launcher.py:10: UserWarning: Update your `Dense` call to the Keras 2 API: `Dense(activation=\"softmax\", units=38)`\n",
      "  # Remove the CWD from sys.path while we load stuff.\n"
     ]
    },
    {
     "name": "stdout",
     "output_type": "stream",
     "text": [
      "Epoch 1/20\n",
      " - 10s - loss: 1.9703 - acc: 0.4727\n",
      "Epoch 2/20\n",
      " - 7s - loss: 1.2380 - acc: 0.6418\n",
      "Epoch 3/20\n",
      " - 7s - loss: 1.0825 - acc: 0.6708\n",
      "Epoch 4/20\n",
      " - 8s - loss: 1.0074 - acc: 0.6862\n",
      "Epoch 5/20\n",
      " - 7s - loss: 0.9612 - acc: 0.6950\n",
      "Epoch 6/20\n",
      " - 8s - loss: 0.9202 - acc: 0.7049\n",
      "Epoch 7/20\n",
      " - 7s - loss: 0.8909 - acc: 0.7103\n",
      "Epoch 8/20\n",
      " - 8s - loss: 0.8663 - acc: 0.7175\n",
      "Epoch 9/20\n",
      " - 8s - loss: 0.8445 - acc: 0.7219\n",
      "Epoch 10/20\n",
      " - 9s - loss: 0.8219 - acc: 0.7275\n",
      "Epoch 11/20\n",
      " - 9s - loss: 0.8043 - acc: 0.7307\n",
      "Epoch 12/20\n",
      " - 9s - loss: 0.7885 - acc: 0.7364\n",
      "Epoch 13/20\n",
      " - 9s - loss: 0.7686 - acc: 0.7423\n",
      "Epoch 14/20\n",
      " - 8s - loss: 0.7570 - acc: 0.7461\n",
      "Epoch 15/20\n",
      " - 8s - loss: 0.7384 - acc: 0.7475\n",
      "Epoch 16/20\n",
      " - 8s - loss: 0.7293 - acc: 0.7524\n",
      "Epoch 17/20\n",
      " - 8s - loss: 0.7145 - acc: 0.7567\n",
      "Epoch 18/20\n",
      " - 8s - loss: 0.7003 - acc: 0.7593\n",
      "Epoch 19/20\n",
      " - 8s - loss: 0.6938 - acc: 0.7624\n",
      "Epoch 20/20\n",
      " - 8s - loss: 0.6784 - acc: 0.7664\n"
     ]
    },
    {
     "name": "stderr",
     "output_type": "stream",
     "text": [
      "C:\\Users\\Xiuquan\\Anaconda3\\lib\\site-packages\\ipykernel_launcher.py:3: UserWarning: Update your `Dense` call to the Keras 2 API: `Dense(activation=\"relu\", input_dim=450, units=400)`\n",
      "  This is separate from the ipykernel package so we can avoid doing imports until\n",
      "C:\\Users\\Xiuquan\\Anaconda3\\lib\\site-packages\\ipykernel_launcher.py:5: UserWarning: Update your `Dense` call to the Keras 2 API: `Dense(activation=\"relu\", units=200)`\n",
      "  \"\"\"\n",
      "C:\\Users\\Xiuquan\\Anaconda3\\lib\\site-packages\\ipykernel_launcher.py:7: UserWarning: Update your `Dense` call to the Keras 2 API: `Dense(activation=\"relu\", units=200)`\n",
      "  import sys\n",
      "C:\\Users\\Xiuquan\\Anaconda3\\lib\\site-packages\\ipykernel_launcher.py:10: UserWarning: Update your `Dense` call to the Keras 2 API: `Dense(activation=\"softmax\", units=38)`\n",
      "  # Remove the CWD from sys.path while we load stuff.\n"
     ]
    },
    {
     "name": "stdout",
     "output_type": "stream",
     "text": [
      "Epoch 1/20\n",
      " - 11s - loss: 1.9555 - acc: 0.4759\n",
      "Epoch 2/20\n",
      " - 8s - loss: 1.2285 - acc: 0.6409\n",
      "Epoch 3/20\n",
      " - 8s - loss: 1.0719 - acc: 0.6731\n",
      "Epoch 4/20\n",
      " - 8s - loss: 0.9996 - acc: 0.6888\n",
      "Epoch 5/20\n",
      " - 8s - loss: 0.9500 - acc: 0.6971\n",
      "Epoch 6/20\n",
      " - 8s - loss: 0.9102 - acc: 0.7067\n",
      "Epoch 7/20\n",
      " - 9s - loss: 0.8800 - acc: 0.7133\n",
      "Epoch 8/20\n",
      " - 8s - loss: 0.8490 - acc: 0.7212\n",
      "Epoch 9/20\n",
      " - 8s - loss: 0.8255 - acc: 0.7264\n",
      "Epoch 10/20\n",
      " - 8s - loss: 0.8086 - acc: 0.7307\n",
      "Epoch 11/20\n",
      " - 8s - loss: 0.7868 - acc: 0.7373\n",
      "Epoch 12/20\n",
      " - 8s - loss: 0.7705 - acc: 0.7408\n",
      "Epoch 13/20\n",
      " - 8s - loss: 0.7521 - acc: 0.7467\n",
      "Epoch 14/20\n",
      " - 9s - loss: 0.7403 - acc: 0.7497\n",
      "Epoch 15/20\n",
      " - 8s - loss: 0.7228 - acc: 0.7551\n",
      "Epoch 16/20\n",
      " - 8s - loss: 0.7114 - acc: 0.7583\n",
      "Epoch 17/20\n",
      " - 8s - loss: 0.6975 - acc: 0.7603\n",
      "Epoch 18/20\n",
      " - 8s - loss: 0.6867 - acc: 0.7639\n",
      "Epoch 19/20\n",
      " - 8s - loss: 0.6719 - acc: 0.7676\n",
      "Epoch 20/20\n",
      " - 9s - loss: 0.6597 - acc: 0.7736\n"
     ]
    },
    {
     "name": "stderr",
     "output_type": "stream",
     "text": [
      "C:\\Users\\Xiuquan\\Anaconda3\\lib\\site-packages\\ipykernel_launcher.py:3: UserWarning: Update your `Dense` call to the Keras 2 API: `Dense(activation=\"relu\", input_dim=450, units=400)`\n",
      "  This is separate from the ipykernel package so we can avoid doing imports until\n",
      "C:\\Users\\Xiuquan\\Anaconda3\\lib\\site-packages\\ipykernel_launcher.py:5: UserWarning: Update your `Dense` call to the Keras 2 API: `Dense(activation=\"relu\", units=200)`\n",
      "  \"\"\"\n",
      "C:\\Users\\Xiuquan\\Anaconda3\\lib\\site-packages\\ipykernel_launcher.py:7: UserWarning: Update your `Dense` call to the Keras 2 API: `Dense(activation=\"relu\", units=200)`\n",
      "  import sys\n",
      "C:\\Users\\Xiuquan\\Anaconda3\\lib\\site-packages\\ipykernel_launcher.py:10: UserWarning: Update your `Dense` call to the Keras 2 API: `Dense(activation=\"softmax\", units=38)`\n",
      "  # Remove the CWD from sys.path while we load stuff.\n"
     ]
    },
    {
     "name": "stdout",
     "output_type": "stream",
     "text": [
      "Epoch 1/20\n",
      " - 12s - loss: 1.9628 - acc: 0.4757\n",
      "Epoch 2/20\n",
      " - 8s - loss: 1.2425 - acc: 0.6357\n",
      "Epoch 3/20\n",
      " - 9s - loss: 1.0884 - acc: 0.6688\n",
      "Epoch 4/20\n",
      " - 8s - loss: 1.0126 - acc: 0.6835\n",
      "Epoch 5/20\n",
      " - 8s - loss: 0.9619 - acc: 0.6954\n",
      "Epoch 6/20\n",
      " - 8s - loss: 0.9243 - acc: 0.7009\n",
      "Epoch 7/20\n",
      " - 8s - loss: 0.8946 - acc: 0.7076\n",
      "Epoch 8/20\n",
      " - 8s - loss: 0.8673 - acc: 0.7149\n",
      "Epoch 9/20\n",
      " - 9s - loss: 0.8422 - acc: 0.7229\n",
      "Epoch 10/20\n",
      " - 9s - loss: 0.8235 - acc: 0.7268\n",
      "Epoch 11/20\n",
      " - 9s - loss: 0.8026 - acc: 0.7308\n",
      "Epoch 12/20\n",
      " - 8s - loss: 0.7874 - acc: 0.7362\n",
      "Epoch 13/20\n",
      " - 8s - loss: 0.7707 - acc: 0.7409\n",
      "Epoch 14/20\n",
      " - 8s - loss: 0.7568 - acc: 0.7440\n",
      "Epoch 15/20\n",
      " - 8s - loss: 0.7427 - acc: 0.7481\n",
      "Epoch 16/20\n",
      " - 9s - loss: 0.7302 - acc: 0.7528\n",
      "Epoch 17/20\n",
      " - 8s - loss: 0.7127 - acc: 0.7569\n",
      "Epoch 18/20\n",
      " - 8s - loss: 0.6992 - acc: 0.7615\n",
      "Epoch 19/20\n",
      " - 8s - loss: 0.6888 - acc: 0.7621\n",
      "Epoch 20/20\n",
      " - 8s - loss: 0.6785 - acc: 0.7659\n"
     ]
    },
    {
     "data": {
      "text/plain": [
       "'0:11:02.965685'"
      ]
     },
     "execution_count": 82,
     "metadata": {},
     "output_type": "execute_result"
    }
   ],
   "source": [
    "start = datetime.now()\n",
    "hist_cross_val_3hl = cross_validate(nn_3hl, X, y, scoring=scoring, cv=cv)\n",
    "end = datetime.now()\n",
    "str(end-start)"
   ]
  },
  {
   "cell_type": "code",
   "execution_count": 83,
   "metadata": {},
   "outputs": [
    {
     "data": {
      "text/plain": [
       "{'fit_time': array([147.34291553, 164.11799955, 168.72503614, 171.09557629]),\n",
       " 'score_time': array([2.49146485, 2.83425164, 2.92819405, 3.07846069]),\n",
       " 'test_accuracy': array([0.72962019, 0.72614021, 0.71794765, 0.72801807]),\n",
       " 'test_neg_log_loss': array([-0.80472507, -0.80823425, -0.86650177, -0.79781113])}"
      ]
     },
     "execution_count": 83,
     "metadata": {},
     "output_type": "execute_result"
    }
   ],
   "source": [
    "hist_cross_val_3hl"
   ]
  },
  {
   "cell_type": "code",
   "execution_count": 84,
   "metadata": {},
   "outputs": [
    {
     "data": {
      "text/plain": [
       "(0.7254315294333997, -0.8193180549432808)"
      ]
     },
     "execution_count": 84,
     "metadata": {},
     "output_type": "execute_result"
    }
   ],
   "source": [
    "hist_cross_val_3hl['test_accuracy'].mean(), hist_cross_val_3hl['test_neg_log_loss'].mean()"
   ]
  },
  {
   "cell_type": "code",
   "execution_count": null,
   "metadata": {},
   "outputs": [],
   "source": []
  }
 ],
 "metadata": {
  "kernelspec": {
   "display_name": "Python 3",
   "language": "python",
   "name": "python3"
  },
  "language_info": {
   "codemirror_mode": {
    "name": "ipython",
    "version": 3
   },
   "file_extension": ".py",
   "mimetype": "text/x-python",
   "name": "python",
   "nbconvert_exporter": "python",
   "pygments_lexer": "ipython3",
   "version": "3.7.3"
  }
 },
 "nbformat": 4,
 "nbformat_minor": 2
}
