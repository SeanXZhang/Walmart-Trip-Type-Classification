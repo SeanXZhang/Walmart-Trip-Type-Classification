{
 "cells": [
  {
   "cell_type": "code",
   "execution_count": 1,
   "metadata": {},
   "outputs": [
    {
     "name": "stderr",
     "output_type": "stream",
     "text": [
      "Using TensorFlow backend.\n"
     ]
    }
   ],
   "source": [
    "import pandas as pd\n",
    "import numpy as np\n",
    "import calendar\n",
    "from time import time\n",
    "from datetime import datetime\n",
    "import re \n",
    "from sklearn.model_selection import train_test_split, StratifiedKFold, cross_val_score, RandomizedSearchCV\n",
    "from sklearn.metrics import log_loss, accuracy_score, classification_report\n",
    "from keras.models import load_model\n",
    "import matplotlib.pyplot as plt\n",
    "%matplotlib inline"
   ]
  },
  {
   "cell_type": "code",
   "execution_count": 2,
   "metadata": {},
   "outputs": [],
   "source": [
    "data_train = pd.read_csv(\"train.csv\").replace(\"MENS WEAR\",\"MENSWEAR\")\n",
    "#data_train_orig = pd.read_csv(\"train.csv\").replace(\"MENS WEAR\",\"MENSWEAR\")"
   ]
  },
  {
   "cell_type": "code",
   "execution_count": 3,
   "metadata": {},
   "outputs": [],
   "source": [
    "dept_list = sorted(list(data_train.DepartmentDescription.dropna().unique()))"
   ]
  },
  {
   "cell_type": "code",
   "execution_count": 4,
   "metadata": {},
   "outputs": [],
   "source": [
    "weekdays = list(calendar.day_name)\n",
    "dept_list_sum = dict.fromkeys(dept_list, np.sum)\n",
    "weekday_dict = dict.fromkeys(weekdays, np.max)\n",
    "feature_dict = {\"TripType\": np.max, 'NumItems': np.sum, 'Return': np.max}\n",
    "feature_dict = {**feature_dict, **weekday_dict, **dept_list_sum}"
   ]
  },
  {
   "cell_type": "code",
   "execution_count": 5,
   "metadata": {},
   "outputs": [],
   "source": [
    "def transform_data(data):\n",
    "    dummies = pd.get_dummies(data.Weekday)\n",
    "    data[dummies.columns] = dummies\n",
    "    \n",
    "    dummies = pd.get_dummies(data.DepartmentDescription)\n",
    "    dummies = dummies.apply(lambda x: x*data[\"ScanCount\"])\n",
    "    data[dummies.columns] = dummies \n",
    "\n",
    "    data.loc[data.ScanCount < 0, 'Return'] = 1\n",
    "    data.loc[data.Return != 1, 'Return'] = 0\n",
    "    \n",
    "    data = data.rename(columns={\"ScanCount\":\"NumItems\"})\n",
    "    \n",
    "    grouped = data.groupby(\"VisitNumber\")\n",
    "    grouped = grouped.aggregate(feature_dict)\n",
    "    data = grouped[[\"TripType\", \"NumItems\", \"Return\"] + weekdays + dept_list]\n",
    "\n",
    "    return data"
   ]
  },
  {
   "cell_type": "code",
   "execution_count": 6,
   "metadata": {},
   "outputs": [],
   "source": [
    "data_new = transform_data(data_train)"
   ]
  },
  {
   "cell_type": "code",
   "execution_count": 7,
   "metadata": {},
   "outputs": [],
   "source": [
    "def add_category_counts(data):\n",
    "    alist = []\n",
    "    for array in np.asarray(data.loc[:, dept_list[0]:]):\n",
    "        count = 0\n",
    "        count = sum(x > 0 for x in array)\n",
    "        alist.append(count)\n",
    "    cat_counts = pd.DataFrame(alist)\n",
    "    cat_counts = cat_counts.rename(columns={0:\"CategoryCount\"})\n",
    "    cat_counts = cat_counts.set_index(data.index)\n",
    "    data.insert(3, 'CategoryCounts', cat_counts)\n",
    "    return data"
   ]
  },
  {
   "cell_type": "code",
   "execution_count": 8,
   "metadata": {},
   "outputs": [],
   "source": [
    "data_new = add_category_counts(data_new)"
   ]
  },
  {
   "cell_type": "code",
   "execution_count": 9,
   "metadata": {},
   "outputs": [
    {
     "data": {
      "text/plain": [
       "(95674, 78)"
      ]
     },
     "execution_count": 9,
     "metadata": {},
     "output_type": "execute_result"
    }
   ],
   "source": [
    "data_new.shape"
   ]
  },
  {
   "cell_type": "code",
   "execution_count": 10,
   "metadata": {},
   "outputs": [],
   "source": [
    "def fineline_dummies(data):\n",
    "    values = data.FinelineNumber\n",
    "    counts = values.value_counts()\n",
    "    mask = values.isin(counts[counts > 500].index)\n",
    "    values[~mask] = \"-\"\n",
    "    dummies = pd.get_dummies(values).drop('-', axis=1)\n",
    "\n",
    "    dummies.columns = ['fln_'+str(col) for col in dummies.columns]\n",
    "    dummies = pd.concat([dummies, data.VisitNumber], axis=1)\n",
    "    dummies = dummies.groupby(\"VisitNumber\")\n",
    "    dummies = dummies.aggregate(np.sum)\n",
    "    return dummies"
   ]
  },
  {
   "cell_type": "code",
   "execution_count": 11,
   "metadata": {},
   "outputs": [
    {
     "name": "stderr",
     "output_type": "stream",
     "text": [
      "C:\\Users\\Xiuquan\\Anaconda3\\lib\\site-packages\\ipykernel_launcher.py:5: SettingWithCopyWarning: \n",
      "A value is trying to be set on a copy of a slice from a DataFrame\n",
      "\n",
      "See the caveats in the documentation: http://pandas.pydata.org/pandas-docs/stable/indexing.html#indexing-view-versus-copy\n",
      "  \"\"\"\n"
     ]
    },
    {
     "data": {
      "text/plain": [
       "'0:00:14.553735'"
      ]
     },
     "execution_count": 11,
     "metadata": {},
     "output_type": "execute_result"
    }
   ],
   "source": [
    "start = datetime.now()\n",
    "fln_dummies = fineline_dummies(data_train)\n",
    "end = datetime.now()\n",
    "str(end-start)"
   ]
  },
  {
   "cell_type": "code",
   "execution_count": 12,
   "metadata": {},
   "outputs": [],
   "source": [
    "data_new = data_new.join(fln_dummies)"
   ]
  },
  {
   "cell_type": "code",
   "execution_count": 13,
   "metadata": {},
   "outputs": [
    {
     "data": {
      "text/plain": [
       "(95674, 351)"
      ]
     },
     "execution_count": 13,
     "metadata": {},
     "output_type": "execute_result"
    }
   ],
   "source": [
    "data_new.shape"
   ]
  },
  {
   "cell_type": "code",
   "execution_count": 14,
   "metadata": {},
   "outputs": [],
   "source": [
    "def Upc_dummies(data):\n",
    "    values = data.Upc\n",
    "    counts = values.value_counts()\n",
    "    mask = values.isin(counts[counts > 300].index)\n",
    "    values[~mask] = \"-\"\n",
    "    dummies = pd.get_dummies(values).drop('-', axis=1)\n",
    "\n",
    "    dummies.columns = ['upc_'+str(col) for col in dummies.columns]\n",
    "    dummies = pd.concat([dummies, data.VisitNumber], axis=1)\n",
    "    dummies = dummies.groupby(\"VisitNumber\")\n",
    "    dummies = dummies.aggregate(np.sum)\n",
    "    return dummies"
   ]
  },
  {
   "cell_type": "code",
   "execution_count": 15,
   "metadata": {},
   "outputs": [
    {
     "name": "stderr",
     "output_type": "stream",
     "text": [
      "C:\\Users\\Xiuquan\\Anaconda3\\lib\\site-packages\\ipykernel_launcher.py:5: SettingWithCopyWarning: \n",
      "A value is trying to be set on a copy of a slice from a DataFrame\n",
      "\n",
      "See the caveats in the documentation: http://pandas.pydata.org/pandas-docs/stable/indexing.html#indexing-view-versus-copy\n",
      "  \"\"\"\n"
     ]
    },
    {
     "data": {
      "text/plain": [
       "'0:00:05.561673'"
      ]
     },
     "execution_count": 15,
     "metadata": {},
     "output_type": "execute_result"
    }
   ],
   "source": [
    "start = datetime.now()\n",
    "upc_dummies = Upc_dummies(data_train)\n",
    "end = datetime.now()\n",
    "str(end-start)"
   ]
  },
  {
   "cell_type": "code",
   "execution_count": 16,
   "metadata": {},
   "outputs": [],
   "source": [
    "data_new = data_new.join(upc_dummies)"
   ]
  },
  {
   "cell_type": "code",
   "execution_count": 17,
   "metadata": {},
   "outputs": [
    {
     "data": {
      "text/plain": [
       "(95674, 451)"
      ]
     },
     "execution_count": 17,
     "metadata": {},
     "output_type": "execute_result"
    }
   ],
   "source": [
    "data_new.shape"
   ]
  },
  {
   "cell_type": "code",
   "execution_count": 18,
   "metadata": {},
   "outputs": [
    {
     "name": "stderr",
     "output_type": "stream",
     "text": [
      "Using TensorFlow backend.\n"
     ]
    }
   ],
   "source": [
    "from keras.models import Sequential\n",
    "from keras.layers import Dense, Dropout, Input\n",
    "from keras.wrappers.scikit_learn import KerasClassifier\n",
    "from keras.utils.np_utils import to_categorical\n",
    "from keras import regularizers\n",
    "from keras.callbacks import EarlyStopping, ModelCheckpoint"
   ]
  },
  {
   "cell_type": "code",
   "execution_count": 19,
   "metadata": {},
   "outputs": [],
   "source": [
    "X = data_new.drop('TripType', axis=1)\n",
    "\n",
    "trip_types = sorted(data_train.TripType.unique())\n",
    "trip_types_map = dict(zip(trip_types, np.arange(0, len(trip_types))))\n",
    "y = data_new.TripType.map(trip_types_map)\n",
    "\n",
    "X_train, X_test, y_train, y_test = train_test_split(X, y, test_size=0.25, random_state=42)"
   ]
  },
  {
   "cell_type": "code",
   "execution_count": 20,
   "metadata": {},
   "outputs": [],
   "source": [
    "def create_model_4hl(nodes_l1=512, nodes_l2=256, nodes_l3=128, nodes_l4=64, dropout_l1=0.3, dropout_l2=0.3, dropout_l3=0.2, dropout_l4=0.2):\n",
    "    model = Sequential()\n",
    "    model.add(Dense(output_dim=nodes_l1, activation=\"relu\", input_dim=len(X.columns)))\n",
    "    model.add(Dropout(dropout_l1))\n",
    "    model.add(Dense(output_dim=nodes_l2, activation=\"relu\"))\n",
    "    model.add(Dropout(dropout_l2))\n",
    "    model.add(Dense(output_dim=nodes_l3, activation=\"relu\"))\n",
    "    model.add(Dropout(dropout_l3))\n",
    "    model.add(Dense(output_dim=nodes_l4, activation=\"relu\"))\n",
    "    model.add(Dropout(dropout_l3))\n",
    "            \n",
    "    model.add(Dense(output_dim=len(trip_types), activation=\"softmax\"))\n",
    "    \n",
    "    model.compile(loss=\"categorical_crossentropy\", optimizer=\"rmsprop\", metrics=[\"accuracy\"])\n",
    "    \n",
    "    return model"
   ]
  },
  {
   "cell_type": "code",
   "execution_count": 21,
   "metadata": {},
   "outputs": [
    {
     "data": {
      "text/plain": [
       "450"
      ]
     },
     "execution_count": 21,
     "metadata": {},
     "output_type": "execute_result"
    }
   ],
   "source": [
    "len(X.columns)"
   ]
  },
  {
   "cell_type": "code",
   "execution_count": 22,
   "metadata": {},
   "outputs": [],
   "source": [
    "model_4hl = KerasClassifier(build_fn=create_model_4hl, epochs=70, batch_size=1000, verbose=2)"
   ]
  },
  {
   "cell_type": "code",
   "execution_count": 23,
   "metadata": {},
   "outputs": [],
   "source": [
    "callbacks = [EarlyStopping(monitor=\"val_acc\", patience=20), \n",
    "             ModelCheckpoint(filepath=\"best_model.h5\", monitor=\"val_acc\", save_best_only=True)]"
   ]
  },
  {
   "cell_type": "code",
   "execution_count": 24,
   "metadata": {},
   "outputs": [
    {
     "name": "stderr",
     "output_type": "stream",
     "text": [
      "WARNING: Logging before flag parsing goes to stderr.\n",
      "W0907 03:21:56.454077 10248 deprecation_wrapper.py:119] From C:\\Users\\Xiuquan\\Anaconda3\\lib\\site-packages\\keras\\backend\\tensorflow_backend.py:66: The name tf.get_default_graph is deprecated. Please use tf.compat.v1.get_default_graph instead.\n",
      "\n",
      "C:\\Users\\Xiuquan\\Anaconda3\\lib\\site-packages\\ipykernel_launcher.py:3: UserWarning: Update your `Dense` call to the Keras 2 API: `Dense(activation=\"relu\", input_dim=450, units=512)`\n",
      "  This is separate from the ipykernel package so we can avoid doing imports until\n",
      "W0907 03:21:57.264008 10248 deprecation_wrapper.py:119] From C:\\Users\\Xiuquan\\Anaconda3\\lib\\site-packages\\keras\\backend\\tensorflow_backend.py:541: The name tf.placeholder is deprecated. Please use tf.compat.v1.placeholder instead.\n",
      "\n",
      "W0907 03:21:57.366949 10248 deprecation_wrapper.py:119] From C:\\Users\\Xiuquan\\Anaconda3\\lib\\site-packages\\keras\\backend\\tensorflow_backend.py:4432: The name tf.random_uniform is deprecated. Please use tf.random.uniform instead.\n",
      "\n",
      "W0907 03:21:57.668360 10248 deprecation_wrapper.py:119] From C:\\Users\\Xiuquan\\Anaconda3\\lib\\site-packages\\keras\\backend\\tensorflow_backend.py:148: The name tf.placeholder_with_default is deprecated. Please use tf.compat.v1.placeholder_with_default instead.\n",
      "\n",
      "W0907 03:21:57.690347 10248 deprecation.py:506] From C:\\Users\\Xiuquan\\Anaconda3\\lib\\site-packages\\keras\\backend\\tensorflow_backend.py:3733: calling dropout (from tensorflow.python.ops.nn_ops) with keep_prob is deprecated and will be removed in a future version.\n",
      "Instructions for updating:\n",
      "Please use `rate` instead of `keep_prob`. Rate should be set to `rate = 1 - keep_prob`.\n",
      "C:\\Users\\Xiuquan\\Anaconda3\\lib\\site-packages\\ipykernel_launcher.py:5: UserWarning: Update your `Dense` call to the Keras 2 API: `Dense(activation=\"relu\", units=256)`\n",
      "  \"\"\"\n",
      "C:\\Users\\Xiuquan\\Anaconda3\\lib\\site-packages\\ipykernel_launcher.py:7: UserWarning: Update your `Dense` call to the Keras 2 API: `Dense(activation=\"relu\", units=128)`\n",
      "  import sys\n",
      "C:\\Users\\Xiuquan\\Anaconda3\\lib\\site-packages\\ipykernel_launcher.py:9: UserWarning: Update your `Dense` call to the Keras 2 API: `Dense(activation=\"relu\", units=64)`\n",
      "  if __name__ == '__main__':\n",
      "C:\\Users\\Xiuquan\\Anaconda3\\lib\\site-packages\\ipykernel_launcher.py:12: UserWarning: Update your `Dense` call to the Keras 2 API: `Dense(activation=\"softmax\", units=38)`\n",
      "  if sys.path[0] == '':\n",
      "W0907 03:21:57.919206 10248 deprecation_wrapper.py:119] From C:\\Users\\Xiuquan\\Anaconda3\\lib\\site-packages\\keras\\optimizers.py:793: The name tf.train.Optimizer is deprecated. Please use tf.compat.v1.train.Optimizer instead.\n",
      "\n",
      "W0907 03:21:57.980168 10248 deprecation_wrapper.py:119] From C:\\Users\\Xiuquan\\Anaconda3\\lib\\site-packages\\keras\\backend\\tensorflow_backend.py:3576: The name tf.log is deprecated. Please use tf.math.log instead.\n",
      "\n",
      "W0907 03:21:58.869820 10248 deprecation.py:323] From C:\\Users\\Xiuquan\\Anaconda3\\lib\\site-packages\\tensorflow\\python\\ops\\math_grad.py:1250: add_dispatch_support.<locals>.wrapper (from tensorflow.python.ops.array_ops) is deprecated and will be removed in a future version.\n",
      "Instructions for updating:\n",
      "Use tf.where in 2.0, which has the same broadcast rule as np.where\n"
     ]
    },
    {
     "name": "stdout",
     "output_type": "stream",
     "text": [
      "Train on 71755 samples, validate on 23919 samples\n",
      "Epoch 1/100\n",
      " - 12s - loss: 2.5617 - acc: 0.3193 - val_loss: 1.7171 - val_acc: 0.5612\n",
      "Epoch 2/100\n",
      " - 9s - loss: 1.6997 - acc: 0.5429 - val_loss: 1.2986 - val_acc: 0.6393\n",
      "Epoch 3/100\n",
      " - 8s - loss: 1.4420 - acc: 0.6035 - val_loss: 1.1303 - val_acc: 0.6736\n",
      "Epoch 4/100\n",
      " - 9s - loss: 1.3133 - acc: 0.6319 - val_loss: 1.1520 - val_acc: 0.6531\n",
      "Epoch 5/100\n",
      " - 8s - loss: 1.2291 - acc: 0.6462 - val_loss: 1.0248 - val_acc: 0.6915\n",
      "Epoch 6/100\n",
      " - 9s - loss: 1.1688 - acc: 0.6602 - val_loss: 0.9624 - val_acc: 0.7127\n",
      "Epoch 7/100\n",
      " - 8s - loss: 1.1169 - acc: 0.6723 - val_loss: 0.9896 - val_acc: 0.6905\n",
      "Epoch 8/100\n",
      " - 9s - loss: 1.0784 - acc: 0.6793 - val_loss: 0.9372 - val_acc: 0.7051\n",
      "Epoch 9/100\n",
      " - 8s - loss: 1.0453 - acc: 0.6874 - val_loss: 0.9685 - val_acc: 0.6879\n",
      "Epoch 10/100\n",
      " - 9s - loss: 1.0244 - acc: 0.6917 - val_loss: 0.9026 - val_acc: 0.7179\n",
      "Epoch 11/100\n",
      " - 9s - loss: 0.9977 - acc: 0.6980 - val_loss: 0.9137 - val_acc: 0.7083\n",
      "Epoch 12/100\n",
      " - 8s - loss: 0.9739 - acc: 0.7052 - val_loss: 0.9131 - val_acc: 0.7134\n",
      "Epoch 13/100\n",
      " - 9s - loss: 0.9610 - acc: 0.7079 - val_loss: 0.8777 - val_acc: 0.7231\n",
      "Epoch 14/100\n",
      " - 8s - loss: 0.9375 - acc: 0.7125 - val_loss: 0.8744 - val_acc: 0.7242\n",
      "Epoch 15/100\n",
      " - 8s - loss: 0.9263 - acc: 0.7145 - val_loss: 0.8638 - val_acc: 0.7264\n",
      "Epoch 16/100\n",
      " - 8s - loss: 0.9049 - acc: 0.7205 - val_loss: 0.8834 - val_acc: 0.7218\n",
      "Epoch 17/100\n",
      " - 10s - loss: 0.8879 - acc: 0.7256 - val_loss: 0.8710 - val_acc: 0.7241\n",
      "Epoch 18/100\n",
      " - 14s - loss: 0.8783 - acc: 0.7261 - val_loss: 0.8608 - val_acc: 0.7288\n",
      "Epoch 19/100\n",
      " - 13s - loss: 0.8556 - acc: 0.7323 - val_loss: 0.8475 - val_acc: 0.7278\n",
      "Epoch 20/100\n",
      " - 13s - loss: 0.8483 - acc: 0.7345 - val_loss: 0.8461 - val_acc: 0.7288\n",
      "Epoch 21/100\n",
      " - 13s - loss: 0.8313 - acc: 0.7391 - val_loss: 0.8679 - val_acc: 0.7216\n",
      "Epoch 22/100\n",
      " - 12s - loss: 0.8219 - acc: 0.7414 - val_loss: 0.8496 - val_acc: 0.7272\n",
      "Epoch 23/100\n",
      " - 12s - loss: 0.8093 - acc: 0.7441 - val_loss: 0.8683 - val_acc: 0.7211\n",
      "Epoch 24/100\n",
      " - 12s - loss: 0.7991 - acc: 0.7456 - val_loss: 0.8433 - val_acc: 0.7281\n",
      "Epoch 25/100\n",
      " - 12s - loss: 0.7882 - acc: 0.7511 - val_loss: 0.8428 - val_acc: 0.7323\n",
      "Epoch 26/100\n",
      " - 12s - loss: 0.7782 - acc: 0.7529 - val_loss: 0.8563 - val_acc: 0.7305\n",
      "Epoch 27/100\n",
      " - 12s - loss: 0.7670 - acc: 0.7553 - val_loss: 0.8589 - val_acc: 0.7243\n",
      "Epoch 28/100\n",
      " - 12s - loss: 0.7599 - acc: 0.7580 - val_loss: 0.8517 - val_acc: 0.7329\n",
      "Epoch 29/100\n",
      " - 14s - loss: 0.7429 - acc: 0.7633 - val_loss: 0.8522 - val_acc: 0.7293\n",
      "Epoch 30/100\n",
      " - 14s - loss: 0.7368 - acc: 0.7627 - val_loss: 0.8989 - val_acc: 0.7204\n",
      "Epoch 31/100\n",
      " - 15s - loss: 0.7264 - acc: 0.7691 - val_loss: 0.8574 - val_acc: 0.7290\n",
      "Epoch 32/100\n",
      " - 14s - loss: 0.7117 - acc: 0.7721 - val_loss: 0.8910 - val_acc: 0.7225\n",
      "Epoch 33/100\n",
      " - 14s - loss: 0.7079 - acc: 0.7735 - val_loss: 0.8778 - val_acc: 0.7274\n",
      "Epoch 34/100\n",
      " - 12s - loss: 0.6986 - acc: 0.7760 - val_loss: 0.8714 - val_acc: 0.7277\n",
      "Epoch 35/100\n",
      " - 13s - loss: 0.6943 - acc: 0.7765 - val_loss: 0.8945 - val_acc: 0.7290\n",
      "Epoch 36/100\n",
      " - 13s - loss: 0.6824 - acc: 0.7811 - val_loss: 0.8780 - val_acc: 0.7302\n",
      "Epoch 37/100\n",
      " - 13s - loss: 0.6706 - acc: 0.7832 - val_loss: 0.8908 - val_acc: 0.7245\n",
      "Epoch 38/100\n",
      " - 12s - loss: 0.6686 - acc: 0.7832 - val_loss: 0.9031 - val_acc: 0.7226\n",
      "Epoch 39/100\n",
      " - 13s - loss: 0.6606 - acc: 0.7871 - val_loss: 0.8923 - val_acc: 0.7246\n",
      "Epoch 40/100\n",
      " - 13s - loss: 0.6510 - acc: 0.7897 - val_loss: 0.9029 - val_acc: 0.7259\n",
      "Epoch 41/100\n",
      " - 12s - loss: 0.6414 - acc: 0.7934 - val_loss: 0.9252 - val_acc: 0.7295\n",
      "Epoch 42/100\n",
      " - 14s - loss: 0.6369 - acc: 0.7940 - val_loss: 0.9032 - val_acc: 0.7253\n",
      "Epoch 43/100\n",
      " - 16s - loss: 0.6309 - acc: 0.7945 - val_loss: 0.9162 - val_acc: 0.7257\n",
      "Epoch 44/100\n",
      " - 14s - loss: 0.6231 - acc: 0.7973 - val_loss: 0.9118 - val_acc: 0.7241\n",
      "Epoch 45/100\n",
      " - 18s - loss: 0.6139 - acc: 0.7999 - val_loss: 0.9360 - val_acc: 0.7275\n",
      "Epoch 46/100\n",
      " - 17s - loss: 0.6091 - acc: 0.8023 - val_loss: 0.9347 - val_acc: 0.7272\n",
      "Epoch 47/100\n",
      " - 15s - loss: 0.6042 - acc: 0.8043 - val_loss: 0.9242 - val_acc: 0.7196\n",
      "Epoch 48/100\n",
      " - 14s - loss: 0.5978 - acc: 0.8047 - val_loss: 0.9591 - val_acc: 0.7214\n"
     ]
    },
    {
     "data": {
      "text/plain": [
       "'0:09:29.404261'"
      ]
     },
     "execution_count": 24,
     "metadata": {},
     "output_type": "execute_result"
    }
   ],
   "source": [
    "start = datetime.now()\n",
    "hist_4hl = model_4hl.fit(X, y, validation_split=0.25, epochs=100, batch_size=2000, callbacks=callbacks)\n",
    "end = datetime.now()\n",
    "str(end-start)"
   ]
  },
  {
   "cell_type": "code",
   "execution_count": 25,
   "metadata": {},
   "outputs": [
    {
     "data": {
      "image/png": "[encoded data removed]",
      "text/plain": [
       "<Figure size 432x288 with 1 Axes>"
      ]
     },
     "metadata": {
      "needs_background": "light"
     },
     "output_type": "display_data"
    }
   ],
   "source": [
    "plt.plot(hist_4hl.history['acc'])\n",
    "plt.plot(hist_4hl.history['val_acc'])\n",
    "plt.title('model accuracy')\n",
    "plt.ylabel('accuracy')\n",
    "plt.xlabel('epoch')\n",
    "plt.legend(['train', 'val'], loc='upper left')\n",
    "plt.show()"
   ]
  },
  {
   "cell_type": "code",
   "execution_count": 26,
   "metadata": {},
   "outputs": [
    {
     "data": {
      "image/png": "[encoded data removed]",
      "text/plain": [
       "<Figure size 432x288 with 1 Axes>"
      ]
     },
     "metadata": {
      "needs_background": "light"
     },
     "output_type": "display_data"
    }
   ],
   "source": [
    "plt.plot(hist_4hl.history['loss'])\n",
    "plt.plot(hist_4hl.history['val_loss'])\n",
    "plt.title('model loss')\n",
    "plt.ylabel('loss')\n",
    "plt.xlabel('epoch')\n",
    "plt.legend(['train', 'val'], loc='upper left')\n",
    "plt.show()"
   ]
  },
  {
   "cell_type": "code",
   "execution_count": null,
   "metadata": {},
   "outputs": [],
   "source": []
  },
  {
   "cell_type": "code",
   "execution_count": null,
   "metadata": {},
   "outputs": [],
   "source": []
  },
  {
   "cell_type": "code",
   "execution_count": 27,
   "metadata": {},
   "outputs": [
    {
     "name": "stderr",
     "output_type": "stream",
     "text": [
      "C:\\Users\\Xiuquan\\Anaconda3\\lib\\site-packages\\ipykernel_launcher.py:3: UserWarning: Update your `Dense` call to the Keras 2 API: `Dense(activation=\"relu\", input_dim=450, units=512)`\n",
      "  This is separate from the ipykernel package so we can avoid doing imports until\n",
      "C:\\Users\\Xiuquan\\Anaconda3\\lib\\site-packages\\ipykernel_launcher.py:5: UserWarning: Update your `Dense` call to the Keras 2 API: `Dense(activation=\"relu\", units=256)`\n",
      "  \"\"\"\n",
      "C:\\Users\\Xiuquan\\Anaconda3\\lib\\site-packages\\ipykernel_launcher.py:7: UserWarning: Update your `Dense` call to the Keras 2 API: `Dense(activation=\"relu\", units=128)`\n",
      "  import sys\n",
      "C:\\Users\\Xiuquan\\Anaconda3\\lib\\site-packages\\ipykernel_launcher.py:9: UserWarning: Update your `Dense` call to the Keras 2 API: `Dense(activation=\"relu\", units=64)`\n",
      "  if __name__ == '__main__':\n",
      "C:\\Users\\Xiuquan\\Anaconda3\\lib\\site-packages\\ipykernel_launcher.py:12: UserWarning: Update your `Dense` call to the Keras 2 API: `Dense(activation=\"softmax\", units=38)`\n",
      "  if sys.path[0] == '':\n"
     ]
    },
    {
     "name": "stdout",
     "output_type": "stream",
     "text": [
      "Train on 71755 samples, validate on 23919 samples\n",
      "Epoch 1/100\n",
      " - 17s - loss: 2.2668 - acc: 0.4005 - val_loss: 1.3710 - val_acc: 0.6252\n",
      "Epoch 2/100\n",
      " - 10s - loss: 1.4710 - acc: 0.5991 - val_loss: 1.2022 - val_acc: 0.6517\n",
      "Epoch 3/100\n",
      " - 9s - loss: 1.2711 - acc: 0.6409 - val_loss: 1.0095 - val_acc: 0.7037\n",
      "Epoch 4/100\n",
      " - 10s - loss: 1.1620 - acc: 0.6630 - val_loss: 0.9549 - val_acc: 0.7133\n",
      "Epoch 5/100\n",
      " - 9s - loss: 1.0962 - acc: 0.6769 - val_loss: 0.9362 - val_acc: 0.7130\n",
      "Epoch 6/100\n",
      " - 9s - loss: 1.0499 - acc: 0.6870 - val_loss: 0.9087 - val_acc: 0.7175\n",
      "Epoch 7/100\n",
      " - 9s - loss: 1.0112 - acc: 0.6955 - val_loss: 0.8853 - val_acc: 0.7231\n",
      "Epoch 8/100\n",
      " - 9s - loss: 0.9761 - acc: 0.7046 - val_loss: 0.8739 - val_acc: 0.7259\n",
      "Epoch 9/100\n",
      " - 9s - loss: 0.9506 - acc: 0.7111 - val_loss: 0.8647 - val_acc: 0.7243\n",
      "Epoch 10/100\n",
      " - 9s - loss: 0.9261 - acc: 0.7168 - val_loss: 0.8513 - val_acc: 0.7293\n",
      "Epoch 11/100\n",
      " - 9s - loss: 0.9020 - acc: 0.7214 - val_loss: 0.8599 - val_acc: 0.7255\n",
      "Epoch 12/100\n",
      " - 9s - loss: 0.8816 - acc: 0.7271 - val_loss: 0.8461 - val_acc: 0.7313\n",
      "Epoch 13/100\n",
      " - 9s - loss: 0.8625 - acc: 0.7313 - val_loss: 0.8452 - val_acc: 0.7270\n",
      "Epoch 14/100\n",
      " - 10s - loss: 0.8440 - acc: 0.7357 - val_loss: 0.8439 - val_acc: 0.7274\n",
      "Epoch 15/100\n",
      " - 10s - loss: 0.8261 - acc: 0.7416 - val_loss: 0.8404 - val_acc: 0.7292\n",
      "Epoch 16/100\n",
      " - 10s - loss: 0.8107 - acc: 0.7454 - val_loss: 0.8370 - val_acc: 0.7292\n",
      "Epoch 17/100\n",
      " - 9s - loss: 0.7964 - acc: 0.7493 - val_loss: 0.8429 - val_acc: 0.7321\n",
      "Epoch 18/100\n",
      " - 9s - loss: 0.7819 - acc: 0.7527 - val_loss: 0.8527 - val_acc: 0.7258\n",
      "Epoch 19/100\n",
      " - 9s - loss: 0.7684 - acc: 0.7554 - val_loss: 0.8452 - val_acc: 0.7348\n",
      "Epoch 20/100\n",
      " - 9s - loss: 0.7557 - acc: 0.7597 - val_loss: 0.8503 - val_acc: 0.7312\n",
      "Epoch 21/100\n",
      " - 9s - loss: 0.7432 - acc: 0.7618 - val_loss: 0.8616 - val_acc: 0.7186\n",
      "Epoch 22/100\n",
      " - 9s - loss: 0.7255 - acc: 0.7680 - val_loss: 0.8534 - val_acc: 0.7276\n",
      "Epoch 23/100\n",
      " - 10s - loss: 0.7171 - acc: 0.7695 - val_loss: 0.8550 - val_acc: 0.7284\n",
      "Epoch 24/100\n",
      " - 9s - loss: 0.7045 - acc: 0.7739 - val_loss: 0.8650 - val_acc: 0.7279\n",
      "Epoch 25/100\n",
      " - 10s - loss: 0.6927 - acc: 0.7773 - val_loss: 0.8595 - val_acc: 0.7315\n",
      "Epoch 26/100\n",
      " - 11s - loss: 0.6824 - acc: 0.7803 - val_loss: 0.8581 - val_acc: 0.7311\n",
      "Epoch 27/100\n",
      " - 13s - loss: 0.6720 - acc: 0.7833 - val_loss: 0.8953 - val_acc: 0.7295\n",
      "Epoch 28/100\n",
      " - 15s - loss: 0.6652 - acc: 0.7846 - val_loss: 0.8877 - val_acc: 0.7264\n",
      "Epoch 29/100\n",
      " - 14s - loss: 0.6501 - acc: 0.7905 - val_loss: 0.8959 - val_acc: 0.7294\n",
      "Epoch 30/100\n",
      " - 14s - loss: 0.6442 - acc: 0.7910 - val_loss: 0.9056 - val_acc: 0.7219\n",
      "Epoch 31/100\n",
      " - 14s - loss: 0.6365 - acc: 0.7933 - val_loss: 0.8864 - val_acc: 0.7253\n",
      "Epoch 32/100\n",
      " - 14s - loss: 0.6254 - acc: 0.7982 - val_loss: 0.9133 - val_acc: 0.7260\n",
      "Epoch 33/100\n",
      " - 15s - loss: 0.6192 - acc: 0.7996 - val_loss: 0.9299 - val_acc: 0.7269\n",
      "Epoch 34/100\n",
      " - 15s - loss: 0.6122 - acc: 0.8009 - val_loss: 0.9109 - val_acc: 0.7231\n",
      "Epoch 35/100\n",
      " - 14s - loss: 0.6030 - acc: 0.8035 - val_loss: 0.9242 - val_acc: 0.7254\n",
      "Epoch 36/100\n",
      " - 14s - loss: 0.5942 - acc: 0.8062 - val_loss: 0.9633 - val_acc: 0.7259\n",
      "Epoch 37/100\n",
      " - 13s - loss: 0.5880 - acc: 0.8074 - val_loss: 0.9258 - val_acc: 0.7225\n",
      "Epoch 38/100\n",
      " - 13s - loss: 0.5797 - acc: 0.8105 - val_loss: 0.9587 - val_acc: 0.7226\n",
      "Epoch 39/100\n",
      " - 13s - loss: 0.5746 - acc: 0.8123 - val_loss: 0.9943 - val_acc: 0.7238\n"
     ]
    },
    {
     "data": {
      "text/plain": [
       "'0:07:27.372223'"
      ]
     },
     "execution_count": 27,
     "metadata": {},
     "output_type": "execute_result"
    }
   ],
   "source": [
    "start = datetime.now()\n",
    "hist_4hl_a = model_4hl.fit(X, y, validation_split=0.25, epochs=100, batch_size=1000, callbacks=callbacks)\n",
    "end = datetime.now()\n",
    "str(end-start)"
   ]
  },
  {
   "cell_type": "code",
   "execution_count": 31,
   "metadata": {},
   "outputs": [
    {
     "data": {
      "image/png": "[encoded data removed]",
      "text/plain": [
       "<Figure size 432x288 with 1 Axes>"
      ]
     },
     "metadata": {
      "needs_background": "light"
     },
     "output_type": "display_data"
    }
   ],
   "source": [
    "plt.plot(hist_4hl_a.history['acc'])\n",
    "plt.plot(hist_4hl_a.history['val_acc'])\n",
    "plt.title('model accuracy')\n",
    "plt.ylabel('accuracy')\n",
    "plt.xlabel('epoch')\n",
    "plt.legend(['train', 'val'], loc='upper left')\n",
    "plt.show()"
   ]
  },
  {
   "cell_type": "code",
   "execution_count": 32,
   "metadata": {},
   "outputs": [
    {
     "data": {
      "image/png": "[encoded data removed]",
      "text/plain": [
       "<Figure size 432x288 with 1 Axes>"
      ]
     },
     "metadata": {
      "needs_background": "light"
     },
     "output_type": "display_data"
    }
   ],
   "source": [
    "plt.plot(hist_4hl_a.history['loss'])\n",
    "plt.plot(hist_4hl_a.history['val_loss'])\n",
    "plt.title('model loss')\n",
    "plt.ylabel('loss')\n",
    "plt.xlabel('epoch')\n",
    "plt.legend(['train', 'val'], loc='upper left')\n",
    "plt.show()"
   ]
  },
  {
   "cell_type": "code",
   "execution_count": 33,
   "metadata": {},
   "outputs": [
    {
     "data": {
      "image/png": "[encoded data removed]",
      "text/plain": [
       "<Figure size 432x288 with 1 Axes>"
      ]
     },
     "metadata": {
      "needs_background": "light"
     },
     "output_type": "display_data"
    }
   ],
   "source": [
    "plt.plot(hist_4hl_a.history['acc'][5:26])\n",
    "plt.plot(hist_4hl_a.history['val_acc'][5:26])\n",
    "plt.title('model accuracy')\n",
    "plt.ylabel('accuracy')\n",
    "plt.xlabel('epoch')\n",
    "plt.legend(['train', 'val'], loc='upper left')\n",
    "plt.show()"
   ]
  },
  {
   "cell_type": "code",
   "execution_count": 34,
   "metadata": {},
   "outputs": [
    {
     "data": {
      "image/png": "[encoded data removed]",
      "text/plain": [
       "<Figure size 432x288 with 1 Axes>"
      ]
     },
     "metadata": {
      "needs_background": "light"
     },
     "output_type": "display_data"
    }
   ],
   "source": [
    "plt.plot(hist_4hl_a.history['loss'][5:26])\n",
    "plt.plot(hist_4hl_a.history['val_loss'][5:26])\n",
    "plt.title('model loss')\n",
    "plt.ylabel('loss')\n",
    "plt.xlabel('epoch')\n",
    "plt.legend(['train', 'val'], loc='upper left')\n",
    "plt.show()"
   ]
  },
  {
   "cell_type": "code",
   "execution_count": 39,
   "metadata": {},
   "outputs": [],
   "source": [
    "nn_4hl = KerasClassifier(build_fn=create_model_4hl, epochs=20, batch_size=1000, verbose=2)"
   ]
  },
  {
   "cell_type": "code",
   "execution_count": 46,
   "metadata": {},
   "outputs": [],
   "source": [
    "scoring = ['accuracy', 'neg_log_loss']\n",
    "from sklearn.model_selection import cross_validate"
   ]
  },
  {
   "cell_type": "code",
   "execution_count": 48,
   "metadata": {},
   "outputs": [
    {
     "name": "stderr",
     "output_type": "stream",
     "text": [
      "C:\\Users\\Xiuquan\\Anaconda3\\lib\\site-packages\\ipykernel_launcher.py:3: UserWarning: Update your `Dense` call to the Keras 2 API: `Dense(activation=\"relu\", input_dim=450, units=512)`\n",
      "  This is separate from the ipykernel package so we can avoid doing imports until\n",
      "C:\\Users\\Xiuquan\\Anaconda3\\lib\\site-packages\\ipykernel_launcher.py:5: UserWarning: Update your `Dense` call to the Keras 2 API: `Dense(activation=\"relu\", units=256)`\n",
      "  \"\"\"\n",
      "C:\\Users\\Xiuquan\\Anaconda3\\lib\\site-packages\\ipykernel_launcher.py:7: UserWarning: Update your `Dense` call to the Keras 2 API: `Dense(activation=\"relu\", units=128)`\n",
      "  import sys\n",
      "C:\\Users\\Xiuquan\\Anaconda3\\lib\\site-packages\\ipykernel_launcher.py:9: UserWarning: Update your `Dense` call to the Keras 2 API: `Dense(activation=\"relu\", units=64)`\n",
      "  if __name__ == '__main__':\n",
      "C:\\Users\\Xiuquan\\Anaconda3\\lib\\site-packages\\ipykernel_launcher.py:12: UserWarning: Update your `Dense` call to the Keras 2 API: `Dense(activation=\"softmax\", units=38)`\n",
      "  if sys.path[0] == '':\n"
     ]
    },
    {
     "name": "stdout",
     "output_type": "stream",
     "text": [
      "Epoch 1/20\n",
      " - 10s - loss: 2.2411 - acc: 0.4017\n",
      "Epoch 2/20\n",
      " - 9s - loss: 1.4695 - acc: 0.5995\n",
      "Epoch 3/20\n",
      " - 8s - loss: 1.2570 - acc: 0.6442\n",
      "Epoch 4/20\n",
      " - 8s - loss: 1.1567 - acc: 0.6658\n",
      "Epoch 5/20\n",
      " - 10s - loss: 1.0954 - acc: 0.6793\n",
      "Epoch 6/20\n",
      " - 8s - loss: 1.0434 - acc: 0.6891\n",
      "Epoch 7/20\n",
      " - 8s - loss: 1.0023 - acc: 0.6972\n",
      "Epoch 8/20\n",
      " - 8s - loss: 0.9685 - acc: 0.7057\n",
      "Epoch 9/20\n",
      " - 8s - loss: 0.9443 - acc: 0.7100\n",
      "Epoch 10/20\n",
      " - 8s - loss: 0.9208 - acc: 0.7163\n",
      "Epoch 11/20\n",
      " - 8s - loss: 0.8980 - acc: 0.7220\n",
      "Epoch 12/20\n",
      " - 10s - loss: 0.8804 - acc: 0.7265\n",
      "Epoch 13/20\n",
      " - 11s - loss: 0.8571 - acc: 0.7332\n",
      "Epoch 14/20\n",
      " - 12s - loss: 0.8378 - acc: 0.7370\n",
      "Epoch 15/20\n",
      " - 12s - loss: 0.8217 - acc: 0.7410\n",
      "Epoch 16/20\n",
      " - 10s - loss: 0.8063 - acc: 0.7450\n",
      "Epoch 17/20\n",
      " - 9s - loss: 0.7906 - acc: 0.7502\n",
      "Epoch 18/20\n",
      " - 11s - loss: 0.7774 - acc: 0.7535\n",
      "Epoch 19/20\n",
      " - 10s - loss: 0.7643 - acc: 0.7561\n",
      "Epoch 20/20\n",
      " - 10s - loss: 0.7506 - acc: 0.7603\n"
     ]
    },
    {
     "name": "stderr",
     "output_type": "stream",
     "text": [
      "C:\\Users\\Xiuquan\\Anaconda3\\lib\\site-packages\\ipykernel_launcher.py:3: UserWarning: Update your `Dense` call to the Keras 2 API: `Dense(activation=\"relu\", input_dim=450, units=512)`\n",
      "  This is separate from the ipykernel package so we can avoid doing imports until\n",
      "C:\\Users\\Xiuquan\\Anaconda3\\lib\\site-packages\\ipykernel_launcher.py:5: UserWarning: Update your `Dense` call to the Keras 2 API: `Dense(activation=\"relu\", units=256)`\n",
      "  \"\"\"\n",
      "C:\\Users\\Xiuquan\\Anaconda3\\lib\\site-packages\\ipykernel_launcher.py:7: UserWarning: Update your `Dense` call to the Keras 2 API: `Dense(activation=\"relu\", units=128)`\n",
      "  import sys\n",
      "C:\\Users\\Xiuquan\\Anaconda3\\lib\\site-packages\\ipykernel_launcher.py:9: UserWarning: Update your `Dense` call to the Keras 2 API: `Dense(activation=\"relu\", units=64)`\n",
      "  if __name__ == '__main__':\n",
      "C:\\Users\\Xiuquan\\Anaconda3\\lib\\site-packages\\ipykernel_launcher.py:12: UserWarning: Update your `Dense` call to the Keras 2 API: `Dense(activation=\"softmax\", units=38)`\n",
      "  if sys.path[0] == '':\n"
     ]
    },
    {
     "name": "stdout",
     "output_type": "stream",
     "text": [
      "Epoch 1/20\n",
      " - 12s - loss: 2.2631 - acc: 0.3973\n",
      "Epoch 2/20\n",
      " - 10s - loss: 1.4859 - acc: 0.5958\n",
      "Epoch 3/20\n",
      " - 10s - loss: 1.2744 - acc: 0.6387\n",
      "Epoch 4/20\n",
      " - 9s - loss: 1.1602 - acc: 0.6652\n",
      "Epoch 5/20\n",
      " - 13s - loss: 1.0953 - acc: 0.6774\n",
      "Epoch 6/20\n",
      " - 10s - loss: 1.0437 - acc: 0.6892\n",
      "Epoch 7/20\n",
      " - 11s - loss: 1.0048 - acc: 0.6969\n",
      "Epoch 8/20\n",
      " - 10s - loss: 0.9712 - acc: 0.7054\n",
      "Epoch 9/20\n",
      " - 9s - loss: 0.9429 - acc: 0.7114\n",
      "Epoch 10/20\n",
      " - 10s - loss: 0.9169 - acc: 0.7179\n",
      "Epoch 11/20\n",
      " - 12s - loss: 0.8978 - acc: 0.7216\n",
      "Epoch 12/20\n",
      " - 10s - loss: 0.8758 - acc: 0.7276\n",
      "Epoch 13/20\n",
      " - 10s - loss: 0.8523 - acc: 0.7328\n",
      "Epoch 14/20\n",
      " - 9s - loss: 0.8358 - acc: 0.7368\n",
      "Epoch 15/20\n",
      " - 9s - loss: 0.8188 - acc: 0.7418\n",
      "Epoch 16/20\n",
      " - 9s - loss: 0.8036 - acc: 0.7461\n",
      "Epoch 17/20\n",
      " - 10s - loss: 0.7859 - acc: 0.7503\n",
      "Epoch 18/20\n",
      " - 13s - loss: 0.7678 - acc: 0.7552\n",
      "Epoch 19/20\n",
      " - 12s - loss: 0.7586 - acc: 0.7583\n",
      "Epoch 20/20\n",
      " - 12s - loss: 0.7466 - acc: 0.7605\n"
     ]
    },
    {
     "name": "stderr",
     "output_type": "stream",
     "text": [
      "C:\\Users\\Xiuquan\\Anaconda3\\lib\\site-packages\\ipykernel_launcher.py:3: UserWarning: Update your `Dense` call to the Keras 2 API: `Dense(activation=\"relu\", input_dim=450, units=512)`\n",
      "  This is separate from the ipykernel package so we can avoid doing imports until\n",
      "C:\\Users\\Xiuquan\\Anaconda3\\lib\\site-packages\\ipykernel_launcher.py:5: UserWarning: Update your `Dense` call to the Keras 2 API: `Dense(activation=\"relu\", units=256)`\n",
      "  \"\"\"\n",
      "C:\\Users\\Xiuquan\\Anaconda3\\lib\\site-packages\\ipykernel_launcher.py:7: UserWarning: Update your `Dense` call to the Keras 2 API: `Dense(activation=\"relu\", units=128)`\n",
      "  import sys\n",
      "C:\\Users\\Xiuquan\\Anaconda3\\lib\\site-packages\\ipykernel_launcher.py:9: UserWarning: Update your `Dense` call to the Keras 2 API: `Dense(activation=\"relu\", units=64)`\n",
      "  if __name__ == '__main__':\n",
      "C:\\Users\\Xiuquan\\Anaconda3\\lib\\site-packages\\ipykernel_launcher.py:12: UserWarning: Update your `Dense` call to the Keras 2 API: `Dense(activation=\"softmax\", units=38)`\n",
      "  if sys.path[0] == '':\n"
     ]
    },
    {
     "name": "stdout",
     "output_type": "stream",
     "text": [
      "Epoch 1/20\n",
      " - 11s - loss: 2.2171 - acc: 0.4011\n",
      "Epoch 2/20\n",
      " - 11s - loss: 1.4365 - acc: 0.6056\n",
      "Epoch 3/20\n",
      " - 12s - loss: 1.2393 - acc: 0.6469\n",
      "Epoch 4/20\n",
      " - 13s - loss: 1.1437 - acc: 0.6694\n",
      "Epoch 5/20\n",
      " - 13s - loss: 1.0819 - acc: 0.6815\n",
      "Epoch 6/20\n",
      " - 10s - loss: 1.0315 - acc: 0.6934\n",
      "Epoch 7/20\n",
      " - 10s - loss: 0.9933 - acc: 0.7035\n",
      "Epoch 8/20\n",
      " - 10s - loss: 0.9636 - acc: 0.7085\n",
      "Epoch 9/20\n",
      " - 10s - loss: 0.9334 - acc: 0.7149\n",
      "Epoch 10/20\n",
      " - 10s - loss: 0.9091 - acc: 0.7196\n",
      "Epoch 11/20\n",
      " - 10s - loss: 0.8876 - acc: 0.7247\n",
      "Epoch 12/20\n",
      " - 9s - loss: 0.8606 - acc: 0.7316\n",
      "Epoch 13/20\n",
      " - 10s - loss: 0.8457 - acc: 0.7371\n",
      "Epoch 14/20\n",
      " - 11s - loss: 0.8307 - acc: 0.7393\n",
      "Epoch 15/20\n",
      " - 12s - loss: 0.8089 - acc: 0.7461\n",
      "Epoch 16/20\n",
      " - 11s - loss: 0.7922 - acc: 0.7498\n",
      "Epoch 17/20\n",
      " - 12s - loss: 0.7810 - acc: 0.7523\n",
      "Epoch 18/20\n",
      " - 11s - loss: 0.7647 - acc: 0.7552\n",
      "Epoch 19/20\n",
      " - 11s - loss: 0.7522 - acc: 0.7600\n",
      "Epoch 20/20\n",
      " - 11s - loss: 0.7398 - acc: 0.7642\n"
     ]
    },
    {
     "name": "stderr",
     "output_type": "stream",
     "text": [
      "C:\\Users\\Xiuquan\\Anaconda3\\lib\\site-packages\\ipykernel_launcher.py:3: UserWarning: Update your `Dense` call to the Keras 2 API: `Dense(activation=\"relu\", input_dim=450, units=512)`\n",
      "  This is separate from the ipykernel package so we can avoid doing imports until\n",
      "C:\\Users\\Xiuquan\\Anaconda3\\lib\\site-packages\\ipykernel_launcher.py:5: UserWarning: Update your `Dense` call to the Keras 2 API: `Dense(activation=\"relu\", units=256)`\n",
      "  \"\"\"\n",
      "C:\\Users\\Xiuquan\\Anaconda3\\lib\\site-packages\\ipykernel_launcher.py:7: UserWarning: Update your `Dense` call to the Keras 2 API: `Dense(activation=\"relu\", units=128)`\n",
      "  import sys\n",
      "C:\\Users\\Xiuquan\\Anaconda3\\lib\\site-packages\\ipykernel_launcher.py:9: UserWarning: Update your `Dense` call to the Keras 2 API: `Dense(activation=\"relu\", units=64)`\n",
      "  if __name__ == '__main__':\n",
      "C:\\Users\\Xiuquan\\Anaconda3\\lib\\site-packages\\ipykernel_launcher.py:12: UserWarning: Update your `Dense` call to the Keras 2 API: `Dense(activation=\"softmax\", units=38)`\n",
      "  if sys.path[0] == '':\n"
     ]
    },
    {
     "name": "stdout",
     "output_type": "stream",
     "text": [
      "Epoch 1/20\n",
      " - 14s - loss: 2.2319 - acc: 0.4095\n",
      "Epoch 2/20\n",
      " - 14s - loss: 1.4553 - acc: 0.6005\n",
      "Epoch 3/20\n",
      " - 11s - loss: 1.2564 - acc: 0.6456\n",
      "Epoch 4/20\n",
      " - 12s - loss: 1.1618 - acc: 0.6620\n",
      "Epoch 5/20\n",
      " - 12s - loss: 1.0912 - acc: 0.6776\n",
      "Epoch 6/20\n",
      " - 11s - loss: 1.0475 - acc: 0.6884\n",
      "Epoch 7/20\n",
      " - 11s - loss: 1.0047 - acc: 0.6982\n",
      "Epoch 8/20\n",
      " - 11s - loss: 0.9723 - acc: 0.7052\n",
      "Epoch 9/20\n",
      " - 10s - loss: 0.9490 - acc: 0.7100\n",
      "Epoch 10/20\n",
      " - 10s - loss: 0.9174 - acc: 0.7177\n",
      "Epoch 11/20\n",
      " - 12s - loss: 0.8971 - acc: 0.7207\n",
      "Epoch 12/20\n",
      " - 11s - loss: 0.8756 - acc: 0.7292\n",
      "Epoch 13/20\n",
      " - 11s - loss: 0.8561 - acc: 0.7312\n",
      "Epoch 14/20\n",
      " - 11s - loss: 0.8480 - acc: 0.7327\n",
      "Epoch 15/20\n",
      " - 11s - loss: 0.8296 - acc: 0.7376\n",
      "Epoch 16/20\n",
      " - 10s - loss: 0.8084 - acc: 0.7437\n",
      "Epoch 17/20\n",
      " - 15s - loss: 0.7919 - acc: 0.7488\n",
      "Epoch 18/20\n",
      " - 15s - loss: 0.7843 - acc: 0.7522\n",
      "Epoch 19/20\n",
      " - 14s - loss: 0.7688 - acc: 0.7566\n",
      "Epoch 20/20\n",
      " - 13s - loss: 0.7535 - acc: 0.7595\n"
     ]
    },
    {
     "data": {
      "text/plain": [
       "'0:14:36.481918'"
      ]
     },
     "execution_count": 48,
     "metadata": {},
     "output_type": "execute_result"
    }
   ],
   "source": [
    "start = datetime.now()\n",
    "hist_cross_val = cross_validate(nn_4hl, X, y, scoring=scoring, cv=StratifiedKFold(n_splits=4))\n",
    "end = datetime.now()\n",
    "str(end-start)"
   ]
  },
  {
   "cell_type": "code",
   "execution_count": 49,
   "metadata": {},
   "outputs": [
    {
     "data": {
      "text/plain": [
       "{'fit_time': array([190.55857563, 213.8244009 , 221.35653377, 237.76630521]),\n",
       " 'score_time': array([2.83225417, 3.41089487, 2.74235511, 3.50883722]),\n",
       " 'test_accuracy': array([0.72034429, 0.72392459, 0.71610772, 0.73404166]),\n",
       " 'test_neg_log_loss': array([-0.86366527, -0.85815901, -0.92450708, -0.8418027 ])}"
      ]
     },
     "execution_count": 49,
     "metadata": {},
     "output_type": "execute_result"
    }
   ],
   "source": [
    "hist_cross_val"
   ]
  },
  {
   "cell_type": "code",
   "execution_count": 53,
   "metadata": {},
   "outputs": [
    {
     "data": {
      "text/plain": [
       "(0.7236045655224399, -0.8720335169581802)"
      ]
     },
     "execution_count": 53,
     "metadata": {},
     "output_type": "execute_result"
    }
   ],
   "source": [
    "hist_cross_val['test_accuracy'].mean(), hist_cross_val['test_neg_log_loss'].mean()"
   ]
  },
  {
   "cell_type": "code",
   "execution_count": null,
   "metadata": {},
   "outputs": [],
   "source": []
  },
  {
   "cell_type": "code",
   "execution_count": 29,
   "metadata": {},
   "outputs": [
    {
     "name": "stderr",
     "output_type": "stream",
     "text": [
      "C:\\Users\\Xiuquan\\Anaconda3\\lib\\site-packages\\ipykernel_launcher.py:3: UserWarning: Update your `Dense` call to the Keras 2 API: `Dense(activation=\"relu\", input_dim=450, units=512)`\n",
      "  This is separate from the ipykernel package so we can avoid doing imports until\n",
      "C:\\Users\\Xiuquan\\Anaconda3\\lib\\site-packages\\ipykernel_launcher.py:5: UserWarning: Update your `Dense` call to the Keras 2 API: `Dense(activation=\"relu\", units=256)`\n",
      "  \"\"\"\n",
      "C:\\Users\\Xiuquan\\Anaconda3\\lib\\site-packages\\ipykernel_launcher.py:7: UserWarning: Update your `Dense` call to the Keras 2 API: `Dense(activation=\"relu\", units=128)`\n",
      "  import sys\n",
      "C:\\Users\\Xiuquan\\Anaconda3\\lib\\site-packages\\ipykernel_launcher.py:9: UserWarning: Update your `Dense` call to the Keras 2 API: `Dense(activation=\"relu\", units=64)`\n",
      "  if __name__ == '__main__':\n",
      "C:\\Users\\Xiuquan\\Anaconda3\\lib\\site-packages\\ipykernel_launcher.py:12: UserWarning: Update your `Dense` call to the Keras 2 API: `Dense(activation=\"softmax\", units=38)`\n",
      "  if sys.path[0] == '':\n"
     ]
    },
    {
     "name": "stdout",
     "output_type": "stream",
     "text": [
      "Train on 71755 samples, validate on 23919 samples\n",
      "Epoch 1/100\n",
      " - 12s - loss: 1.9549 - acc: 0.4779 - val_loss: 1.2040 - val_acc: 0.6655\n",
      "Epoch 2/100\n",
      " - 9s - loss: 1.3012 - acc: 0.6353 - val_loss: 1.0282 - val_acc: 0.6960\n",
      "Epoch 3/100\n",
      " - 10s - loss: 1.1540 - acc: 0.6630 - val_loss: 0.9480 - val_acc: 0.7114\n",
      "Epoch 4/100\n",
      " - 10s - loss: 1.0720 - acc: 0.6815 - val_loss: 0.9237 - val_acc: 0.7145\n",
      "Epoch 5/100\n",
      " - 10s - loss: 1.0188 - acc: 0.6942 - val_loss: 0.8943 - val_acc: 0.7237\n",
      "Epoch 6/100\n",
      " - 10s - loss: 0.9779 - acc: 0.7049 - val_loss: 0.8798 - val_acc: 0.7237\n",
      "Epoch 7/100\n",
      " - 9s - loss: 0.9434 - acc: 0.7125 - val_loss: 0.8700 - val_acc: 0.7250\n",
      "Epoch 8/100\n",
      " - 9s - loss: 0.9185 - acc: 0.7176 - val_loss: 0.8651 - val_acc: 0.7237\n",
      "Epoch 9/100\n",
      " - 9s - loss: 0.8894 - acc: 0.7268 - val_loss: 0.8556 - val_acc: 0.7266\n",
      "Epoch 10/100\n",
      " - 10s - loss: 0.8697 - acc: 0.7308 - val_loss: 0.8532 - val_acc: 0.7296\n",
      "Epoch 11/100\n",
      " - 14s - loss: 0.8455 - acc: 0.7364 - val_loss: 0.8559 - val_acc: 0.7287\n",
      "Epoch 12/100\n",
      " - 14s - loss: 0.8256 - acc: 0.7419 - val_loss: 0.8503 - val_acc: 0.7297\n",
      "Epoch 13/100\n",
      " - 14s - loss: 0.8105 - acc: 0.7465 - val_loss: 0.8458 - val_acc: 0.7333\n",
      "Epoch 14/100\n",
      " - 14s - loss: 0.7938 - acc: 0.7495 - val_loss: 0.8484 - val_acc: 0.7294\n",
      "Epoch 15/100\n",
      " - 13s - loss: 0.7752 - acc: 0.7548 - val_loss: 0.8608 - val_acc: 0.7285\n",
      "Epoch 16/100\n",
      " - 13s - loss: 0.7644 - acc: 0.7567 - val_loss: 0.8639 - val_acc: 0.7276\n",
      "Epoch 17/100\n",
      " - 14s - loss: 0.7488 - acc: 0.7630 - val_loss: 0.8610 - val_acc: 0.7308\n",
      "Epoch 18/100\n",
      " - 14s - loss: 0.7316 - acc: 0.7678 - val_loss: 0.8555 - val_acc: 0.7294\n",
      "Epoch 19/100\n",
      " - 14s - loss: 0.7208 - acc: 0.7704 - val_loss: 0.8649 - val_acc: 0.7284\n",
      "Epoch 20/100\n",
      " - 14s - loss: 0.7083 - acc: 0.7747 - val_loss: 0.8738 - val_acc: 0.7256\n",
      "Epoch 21/100\n",
      " - 14s - loss: 0.6950 - acc: 0.7764 - val_loss: 0.8872 - val_acc: 0.7287\n",
      "Epoch 22/100\n",
      " - 15s - loss: 0.6806 - acc: 0.7812 - val_loss: 0.8746 - val_acc: 0.7275\n",
      "Epoch 23/100\n",
      " - 14s - loss: 0.6740 - acc: 0.7827 - val_loss: 0.9108 - val_acc: 0.7285\n",
      "Epoch 24/100\n",
      " - 14s - loss: 0.6596 - acc: 0.7866 - val_loss: 0.9070 - val_acc: 0.7246\n",
      "Epoch 25/100\n",
      " - 14s - loss: 0.6501 - acc: 0.7907 - val_loss: 0.9167 - val_acc: 0.7285\n",
      "Epoch 26/100\n",
      " - 15s - loss: 0.6391 - acc: 0.7938 - val_loss: 0.9223 - val_acc: 0.7261\n",
      "Epoch 27/100\n",
      " - 16s - loss: 0.6350 - acc: 0.7949 - val_loss: 0.9220 - val_acc: 0.7252\n",
      "Epoch 28/100\n",
      " - 16s - loss: 0.6231 - acc: 0.7990 - val_loss: 0.9550 - val_acc: 0.7192\n",
      "Epoch 29/100\n",
      " - 17s - loss: 0.6155 - acc: 0.8018 - val_loss: 0.9225 - val_acc: 0.7277\n",
      "Epoch 30/100\n",
      " - 15s - loss: 0.6126 - acc: 0.8020 - val_loss: 0.9233 - val_acc: 0.7226\n",
      "Epoch 31/100\n",
      " - 14s - loss: 0.6012 - acc: 0.8055 - val_loss: 0.9634 - val_acc: 0.7239\n",
      "Epoch 32/100\n",
      " - 14s - loss: 0.5953 - acc: 0.8067 - val_loss: 0.9600 - val_acc: 0.7221\n",
      "Epoch 33/100\n",
      " - 14s - loss: 0.5869 - acc: 0.8088 - val_loss: 0.9670 - val_acc: 0.7226\n"
     ]
    },
    {
     "data": {
      "text/plain": [
       "'0:07:08.884566'"
      ]
     },
     "execution_count": 29,
     "metadata": {},
     "output_type": "execute_result"
    }
   ],
   "source": [
    "start = datetime.now()\n",
    "hist_4hl_b = model_4hl.fit(X, y, validation_split=0.25, epochs=100, batch_size=500, callbacks=callbacks)\n",
    "end = datetime.now()\n",
    "str(end-start)"
   ]
  },
  {
   "cell_type": "code",
   "execution_count": 30,
   "metadata": {},
   "outputs": [
    {
     "name": "stderr",
     "output_type": "stream",
     "text": [
      "C:\\Users\\Xiuquan\\Anaconda3\\lib\\site-packages\\ipykernel_launcher.py:3: UserWarning: Update your `Dense` call to the Keras 2 API: `Dense(activation=\"relu\", input_dim=450, units=512)`\n",
      "  This is separate from the ipykernel package so we can avoid doing imports until\n",
      "C:\\Users\\Xiuquan\\Anaconda3\\lib\\site-packages\\ipykernel_launcher.py:5: UserWarning: Update your `Dense` call to the Keras 2 API: `Dense(activation=\"relu\", units=256)`\n",
      "  \"\"\"\n",
      "C:\\Users\\Xiuquan\\Anaconda3\\lib\\site-packages\\ipykernel_launcher.py:7: UserWarning: Update your `Dense` call to the Keras 2 API: `Dense(activation=\"relu\", units=128)`\n",
      "  import sys\n",
      "C:\\Users\\Xiuquan\\Anaconda3\\lib\\site-packages\\ipykernel_launcher.py:9: UserWarning: Update your `Dense` call to the Keras 2 API: `Dense(activation=\"relu\", units=64)`\n",
      "  if __name__ == '__main__':\n",
      "C:\\Users\\Xiuquan\\Anaconda3\\lib\\site-packages\\ipykernel_launcher.py:12: UserWarning: Update your `Dense` call to the Keras 2 API: `Dense(activation=\"softmax\", units=38)`\n",
      "  if sys.path[0] == '':\n"
     ]
    },
    {
     "name": "stdout",
     "output_type": "stream",
     "text": [
      "Train on 71755 samples, validate on 23919 samples\n",
      "Epoch 1/100\n",
      " - 9s - loss: 2.8089 - acc: 0.2677 - val_loss: 1.8294 - val_acc: 0.5051\n",
      "Epoch 2/100\n",
      " - 8s - loss: 1.9019 - acc: 0.4934 - val_loss: 1.3999 - val_acc: 0.6296\n",
      "Epoch 3/100\n",
      " - 8s - loss: 1.6023 - acc: 0.5668 - val_loss: 1.2247 - val_acc: 0.6588\n",
      "Epoch 4/100\n",
      " - 9s - loss: 1.4470 - acc: 0.5999 - val_loss: 1.1395 - val_acc: 0.6795\n",
      "Epoch 5/100\n",
      " - 8s - loss: 1.3352 - acc: 0.6264 - val_loss: 1.0800 - val_acc: 0.6864\n",
      "Epoch 6/100\n",
      " - 9s - loss: 1.2577 - acc: 0.6422 - val_loss: 1.0310 - val_acc: 0.6918\n",
      "Epoch 7/100\n",
      " - 8s - loss: 1.2096 - acc: 0.6521 - val_loss: 1.0218 - val_acc: 0.6873\n",
      "Epoch 8/100\n",
      " - 8s - loss: 1.1562 - acc: 0.6641 - val_loss: 0.9839 - val_acc: 0.6960\n",
      "Epoch 9/100\n",
      " - 8s - loss: 1.1234 - acc: 0.6695 - val_loss: 0.9553 - val_acc: 0.7055\n",
      "Epoch 10/100\n",
      " - 8s - loss: 1.0931 - acc: 0.6758 - val_loss: 0.9509 - val_acc: 0.7050\n",
      "Epoch 11/100\n",
      " - 8s - loss: 1.0715 - acc: 0.6794 - val_loss: 0.9272 - val_acc: 0.7154\n",
      "Epoch 12/100\n",
      " - 8s - loss: 1.0411 - acc: 0.6857 - val_loss: 0.9201 - val_acc: 0.7173\n",
      "Epoch 13/100\n",
      " - 8s - loss: 1.0236 - acc: 0.6903 - val_loss: 0.9374 - val_acc: 0.7119\n",
      "Epoch 14/100\n",
      " - 8s - loss: 1.0098 - acc: 0.6944 - val_loss: 0.9063 - val_acc: 0.7127\n",
      "Epoch 15/100\n",
      " - 12s - loss: 0.9797 - acc: 0.7028 - val_loss: 0.8822 - val_acc: 0.7201\n",
      "Epoch 16/100\n",
      " - 12s - loss: 0.9762 - acc: 0.7028 - val_loss: 0.8775 - val_acc: 0.7202\n",
      "Epoch 17/100\n",
      " - 14s - loss: 0.9483 - acc: 0.7090 - val_loss: 0.8719 - val_acc: 0.7279\n",
      "Epoch 18/100\n",
      " - 13s - loss: 0.9425 - acc: 0.7109 - val_loss: 0.8986 - val_acc: 0.7187\n",
      "Epoch 19/100\n",
      " - 13s - loss: 0.9238 - acc: 0.7148 - val_loss: 0.8753 - val_acc: 0.7211\n",
      "Epoch 20/100\n",
      " - 13s - loss: 0.9095 - acc: 0.7184 - val_loss: 0.8740 - val_acc: 0.7171\n",
      "Epoch 21/100\n",
      " - 13s - loss: 0.9035 - acc: 0.7204 - val_loss: 0.8727 - val_acc: 0.7199\n",
      "Epoch 22/100\n",
      " - 12s - loss: 0.8862 - acc: 0.7244 - val_loss: 0.8875 - val_acc: 0.7101\n",
      "Epoch 23/100\n",
      " - 12s - loss: 0.8791 - acc: 0.7267 - val_loss: 0.8646 - val_acc: 0.7195\n",
      "Epoch 24/100\n",
      " - 15s - loss: 0.8660 - acc: 0.7315 - val_loss: 0.8488 - val_acc: 0.7262\n",
      "Epoch 25/100\n",
      " - 13s - loss: 0.8571 - acc: 0.7327 - val_loss: 0.8505 - val_acc: 0.7321\n",
      "Epoch 26/100\n",
      " - 12s - loss: 0.8485 - acc: 0.7329 - val_loss: 0.8557 - val_acc: 0.7292\n",
      "Epoch 27/100\n",
      " - 12s - loss: 0.8335 - acc: 0.7380 - val_loss: 0.8433 - val_acc: 0.7297\n",
      "Epoch 28/100\n",
      " - 12s - loss: 0.8157 - acc: 0.7420 - val_loss: 0.8617 - val_acc: 0.7230\n",
      "Epoch 29/100\n",
      " - 12s - loss: 0.8129 - acc: 0.7442 - val_loss: 0.8699 - val_acc: 0.7253\n",
      "Epoch 30/100\n",
      " - 12s - loss: 0.8059 - acc: 0.7439 - val_loss: 0.8624 - val_acc: 0.7226\n",
      "Epoch 31/100\n",
      " - 11s - loss: 0.7949 - acc: 0.7478 - val_loss: 0.8559 - val_acc: 0.7299\n",
      "Epoch 32/100\n",
      " - 12s - loss: 0.7858 - acc: 0.7505 - val_loss: 0.8631 - val_acc: 0.7306\n",
      "Epoch 33/100\n",
      " - 13s - loss: 0.7779 - acc: 0.7545 - val_loss: 0.8573 - val_acc: 0.7274\n",
      "Epoch 34/100\n",
      " - 12s - loss: 0.7687 - acc: 0.7566 - val_loss: 0.8614 - val_acc: 0.7328\n",
      "Epoch 35/100\n",
      " - 12s - loss: 0.7597 - acc: 0.7576 - val_loss: 0.8639 - val_acc: 0.7283\n",
      "Epoch 36/100\n",
      " - 12s - loss: 0.7526 - acc: 0.7601 - val_loss: 0.8583 - val_acc: 0.7280\n",
      "Epoch 37/100\n",
      " - 12s - loss: 0.7412 - acc: 0.7636 - val_loss: 0.8722 - val_acc: 0.7298\n",
      "Epoch 38/100\n",
      " - 12s - loss: 0.7393 - acc: 0.7630 - val_loss: 0.8584 - val_acc: 0.7288\n",
      "Epoch 39/100\n",
      " - 12s - loss: 0.7309 - acc: 0.7647 - val_loss: 0.8660 - val_acc: 0.7283\n",
      "Epoch 40/100\n",
      " - 12s - loss: 0.7151 - acc: 0.7709 - val_loss: 0.8616 - val_acc: 0.7314\n",
      "Epoch 41/100\n",
      " - 13s - loss: 0.7104 - acc: 0.7717 - val_loss: 0.8819 - val_acc: 0.7289\n",
      "Epoch 42/100\n",
      " - 12s - loss: 0.7071 - acc: 0.7738 - val_loss: 0.8855 - val_acc: 0.7248\n",
      "Epoch 43/100\n",
      " - 12s - loss: 0.6969 - acc: 0.7753 - val_loss: 0.8710 - val_acc: 0.7303\n",
      "Epoch 44/100\n",
      " - 13s - loss: 0.6893 - acc: 0.7767 - val_loss: 0.8692 - val_acc: 0.7289\n",
      "Epoch 45/100\n",
      " - 14s - loss: 0.6809 - acc: 0.7815 - val_loss: 0.8758 - val_acc: 0.7301\n",
      "Epoch 46/100\n",
      " - 14s - loss: 0.6728 - acc: 0.7812 - val_loss: 0.8772 - val_acc: 0.7303\n",
      "Epoch 47/100\n",
      " - 13s - loss: 0.6703 - acc: 0.7853 - val_loss: 0.8888 - val_acc: 0.7286\n",
      "Epoch 48/100\n",
      " - 13s - loss: 0.6697 - acc: 0.7838 - val_loss: 0.9283 - val_acc: 0.7148\n",
      "Epoch 49/100\n",
      " - 12s - loss: 0.6525 - acc: 0.7895 - val_loss: 0.8988 - val_acc: 0.7285\n",
      "Epoch 50/100\n",
      " - 12s - loss: 0.6503 - acc: 0.7890 - val_loss: 0.9132 - val_acc: 0.7272\n",
      "Epoch 51/100\n",
      " - 13s - loss: 0.6451 - acc: 0.7909 - val_loss: 0.9046 - val_acc: 0.7277\n",
      "Epoch 52/100\n",
      " - 13s - loss: 0.6365 - acc: 0.7931 - val_loss: 0.9429 - val_acc: 0.7259\n",
      "Epoch 53/100\n",
      " - 12s - loss: 0.6333 - acc: 0.7951 - val_loss: 0.9124 - val_acc: 0.7199\n",
      "Epoch 54/100\n",
      " - 11s - loss: 0.6227 - acc: 0.7977 - val_loss: 0.9047 - val_acc: 0.7237\n"
     ]
    },
    {
     "data": {
      "text/plain": [
       "'0:10:19.688551'"
      ]
     },
     "execution_count": 30,
     "metadata": {},
     "output_type": "execute_result"
    }
   ],
   "source": [
    "start = datetime.now()\n",
    "hist_4hl_c = model_4hl.fit(X, y, validation_split=0.25, epochs=100, batch_size=3000, callbacks=callbacks)\n",
    "end = datetime.now()\n",
    "str(end-start)"
   ]
  },
  {
   "cell_type": "code",
   "execution_count": null,
   "metadata": {},
   "outputs": [],
   "source": []
  }
 ],
 "metadata": {
  "kernelspec": {
   "display_name": "Python 3",
   "language": "python",
   "name": "python3"
  },
  "language_info": {
   "codemirror_mode": {
    "name": "ipython",
    "version": 3
   },
   "file_extension": ".py",
   "mimetype": "text/x-python",
   "name": "python",
   "nbconvert_exporter": "python",
   "pygments_lexer": "ipython3",
   "version": "3.7.3"
  }
 },
 "nbformat": 4,
 "nbformat_minor": 2
}
