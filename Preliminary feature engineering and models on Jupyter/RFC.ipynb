{
 "cells": [
  {
   "cell_type": "code",
   "execution_count": 26,
   "metadata": {},
   "outputs": [],
   "source": [
    "import pandas as pd\n",
    "import numpy as np\n",
    "import calendar\n",
    "from time import time\n",
    "from datetime import datetime\n",
    "import re\n",
    "from sklearn.model_selection import train_test_split, StratifiedKFold, cross_val_score, cross_validate, RandomizedSearchCV, GridSearchCV\n",
    "from sklearn.metrics import log_loss, accuracy_score, classification_report\n",
    "from mlxtend.classifier import StackingClassifier\n",
    "import matplotlib.pyplot as plt\n",
    "%matplotlib inline"
   ]
  },
  {
   "cell_type": "code",
   "execution_count": 2,
   "metadata": {},
   "outputs": [],
   "source": [
    "data_train = pd.read_csv(\"train.csv\").replace(\"MENS WEAR\",\"MENSWEAR\")"
   ]
  },
  {
   "cell_type": "code",
   "execution_count": 3,
   "metadata": {},
   "outputs": [],
   "source": [
    "dept_list = sorted(list(data_train.DepartmentDescription.dropna().unique()))"
   ]
  },
  {
   "cell_type": "code",
   "execution_count": 4,
   "metadata": {},
   "outputs": [],
   "source": [
    "weekdays = list(calendar.day_name)\n",
    "dept_list_sum = dict.fromkeys(dept_list, np.sum)\n",
    "weekday_dict = dict.fromkeys(weekdays, np.max)\n",
    "feature_dict = {\"TripType\": np.max, 'NumItems': np.sum, 'Return': np.max}\n",
    "feature_dict = {**feature_dict, **weekday_dict, **dept_list_sum}"
   ]
  },
  {
   "cell_type": "code",
   "execution_count": 5,
   "metadata": {},
   "outputs": [],
   "source": [
    "def transform_data(data):\n",
    "    dummies = pd.get_dummies(data.Weekday)\n",
    "    data[dummies.columns] = dummies\n",
    "    \n",
    "    dummies = pd.get_dummies(data.DepartmentDescription)\n",
    "    dummies = dummies.apply(lambda x: x*data[\"ScanCount\"])\n",
    "    data[dummies.columns] = dummies \n",
    "\n",
    "    data.loc[data.ScanCount < 0, 'Return'] = 1\n",
    "    data.loc[data.Return != 1, 'Return'] = 0\n",
    "    \n",
    "    data = data.rename(columns={\"ScanCount\":\"NumItems\"})\n",
    "    \n",
    "    grouped = data.groupby(\"VisitNumber\")\n",
    "    grouped = grouped.aggregate(feature_dict)\n",
    "    data = grouped[[\"TripType\", \"NumItems\", \"Return\"] + weekdays + dept_list]\n",
    "\n",
    "    return data"
   ]
  },
  {
   "cell_type": "code",
   "execution_count": 6,
   "metadata": {},
   "outputs": [],
   "source": [
    "data_new = transform_data(data_train)"
   ]
  },
  {
   "cell_type": "code",
   "execution_count": 7,
   "metadata": {},
   "outputs": [],
   "source": [
    "def add_category_counts(data):\n",
    "    alist = []\n",
    "    for array in np.asarray(data.loc[:, dept_list[0]:]):\n",
    "        count = 0\n",
    "        count = sum(x > 0 for x in array)\n",
    "        alist.append(count)\n",
    "    cat_counts = pd.DataFrame(alist)\n",
    "    cat_counts = cat_counts.rename(columns={0:\"CategoryCount\"})\n",
    "    cat_counts = cat_counts.set_index(data.index)\n",
    "    data.insert(3, 'CategoryCounts', cat_counts)\n",
    "    return data"
   ]
  },
  {
   "cell_type": "code",
   "execution_count": 8,
   "metadata": {},
   "outputs": [],
   "source": [
    "data_new = add_category_counts(data_new)"
   ]
  },
  {
   "cell_type": "code",
   "execution_count": 9,
   "metadata": {},
   "outputs": [
    {
     "data": {
      "text/plain": [
       "(95674, 78)"
      ]
     },
     "execution_count": 9,
     "metadata": {},
     "output_type": "execute_result"
    }
   ],
   "source": [
    "data_new.shape"
   ]
  },
  {
   "cell_type": "code",
   "execution_count": 10,
   "metadata": {},
   "outputs": [],
   "source": [
    "def fineline_dummies(data):\n",
    "    values = data.FinelineNumber\n",
    "    counts = values.value_counts()\n",
    "    mask = values.isin(counts[counts > 500].index)\n",
    "    values[~mask] = \"-\"\n",
    "    dummies = pd.get_dummies(values).drop('-', axis=1)\n",
    "\n",
    "    dummies.columns = ['fln_'+str(col) for col in dummies.columns]\n",
    "    dummies = pd.concat([dummies, data.VisitNumber], axis=1)\n",
    "    dummies = dummies.groupby(\"VisitNumber\")\n",
    "    dummies = dummies.aggregate(np.sum)\n",
    "    return dummies"
   ]
  },
  {
   "cell_type": "code",
   "execution_count": 11,
   "metadata": {},
   "outputs": [
    {
     "name": "stderr",
     "output_type": "stream",
     "text": [
      "C:\\Users\\Xiuquan\\Anaconda3\\lib\\site-packages\\ipykernel_launcher.py:5: SettingWithCopyWarning: \n",
      "A value is trying to be set on a copy of a slice from a DataFrame\n",
      "\n",
      "See the caveats in the documentation: http://pandas.pydata.org/pandas-docs/stable/indexing.html#indexing-view-versus-copy\n",
      "  \"\"\"\n"
     ]
    },
    {
     "data": {
      "text/plain": [
       "'0:00:13.157992'"
      ]
     },
     "execution_count": 11,
     "metadata": {},
     "output_type": "execute_result"
    }
   ],
   "source": [
    "start = datetime.now()\n",
    "fln_dummies = fineline_dummies(data_train)\n",
    "end = datetime.now()\n",
    "str(end-start)"
   ]
  },
  {
   "cell_type": "code",
   "execution_count": 12,
   "metadata": {},
   "outputs": [],
   "source": [
    "data_new = data_new.join(fln_dummies)"
   ]
  },
  {
   "cell_type": "code",
   "execution_count": 13,
   "metadata": {},
   "outputs": [
    {
     "data": {
      "text/plain": [
       "(95674, 351)"
      ]
     },
     "execution_count": 13,
     "metadata": {},
     "output_type": "execute_result"
    }
   ],
   "source": [
    "data_new.shape"
   ]
  },
  {
   "cell_type": "code",
   "execution_count": 14,
   "metadata": {},
   "outputs": [],
   "source": [
    "def Upc_dummies(data):\n",
    "    values = data.Upc\n",
    "    counts = values.value_counts()\n",
    "    mask = values.isin(counts[counts > 300].index)\n",
    "    values[~mask] = \"-\"\n",
    "    dummies = pd.get_dummies(values).drop('-', axis=1)\n",
    "\n",
    "    dummies.columns = ['upc_'+str(col) for col in dummies.columns]\n",
    "    dummies = pd.concat([dummies, data.VisitNumber], axis=1)\n",
    "    dummies = dummies.groupby(\"VisitNumber\")\n",
    "    dummies = dummies.aggregate(np.sum)\n",
    "    return dummies"
   ]
  },
  {
   "cell_type": "code",
   "execution_count": 15,
   "metadata": {},
   "outputs": [
    {
     "name": "stderr",
     "output_type": "stream",
     "text": [
      "C:\\Users\\Xiuquan\\Anaconda3\\lib\\site-packages\\ipykernel_launcher.py:5: SettingWithCopyWarning: \n",
      "A value is trying to be set on a copy of a slice from a DataFrame\n",
      "\n",
      "See the caveats in the documentation: http://pandas.pydata.org/pandas-docs/stable/indexing.html#indexing-view-versus-copy\n",
      "  \"\"\"\n"
     ]
    },
    {
     "data": {
      "text/plain": [
       "'0:00:05.555006'"
      ]
     },
     "execution_count": 15,
     "metadata": {},
     "output_type": "execute_result"
    }
   ],
   "source": [
    "start = datetime.now()\n",
    "upc_dummies = Upc_dummies(data_train)\n",
    "end = datetime.now()\n",
    "str(end-start)"
   ]
  },
  {
   "cell_type": "code",
   "execution_count": 16,
   "metadata": {},
   "outputs": [],
   "source": [
    "data_new = data_new.join(upc_dummies)"
   ]
  },
  {
   "cell_type": "code",
   "execution_count": 17,
   "metadata": {},
   "outputs": [
    {
     "data": {
      "text/plain": [
       "(95674, 451)"
      ]
     },
     "execution_count": 17,
     "metadata": {},
     "output_type": "execute_result"
    }
   ],
   "source": [
    "data_new.shape"
   ]
  },
  {
   "cell_type": "code",
   "execution_count": 18,
   "metadata": {},
   "outputs": [],
   "source": [
    "X = data_new.drop('TripType', axis=1)\n",
    "\n",
    "trip_types = sorted(data_train.TripType.unique())\n",
    "trip_types_map = dict(zip(trip_types, np.arange(0, len(trip_types))))\n",
    "y = data_new.TripType.map(trip_types_map)\n",
    "\n",
    "X_train, X_test, y_train, y_test = train_test_split(X, y, test_size=0.25, stratify=y, random_state=42)"
   ]
  },
  {
   "cell_type": "code",
   "execution_count": 19,
   "metadata": {},
   "outputs": [
    {
     "data": {
      "text/plain": [
       "450"
      ]
     },
     "execution_count": 19,
     "metadata": {},
     "output_type": "execute_result"
    }
   ],
   "source": [
    "len(X.columns)"
   ]
  },
  {
   "cell_type": "code",
   "execution_count": 20,
   "metadata": {},
   "outputs": [],
   "source": [
    "from sklearn.linear_model import LogisticRegression\n",
    "from sklearn.neighbors import KNeighborsClassifier\n",
    "from sklearn.naive_bayes import GaussianNB \n",
    "from sklearn.ensemble import RandomForestClassifier, AdaBoostClassifier, ExtraTreesClassifier\n",
    "from xgboost import XGBClassifier\n",
    "from mlxtend.classifier import StackingClassifier"
   ]
  },
  {
   "cell_type": "code",
   "execution_count": 21,
   "metadata": {},
   "outputs": [],
   "source": [
    "from sklearn.decomposition import PCA"
   ]
  },
  {
   "cell_type": "code",
   "execution_count": 22,
   "metadata": {},
   "outputs": [],
   "source": [
    "pca = PCA(n_components=100)\n",
    "X_train=pca.fit_transform(X_train)\n",
    "X_test=pca.transform(X_test)"
   ]
  },
  {
   "cell_type": "code",
   "execution_count": 23,
   "metadata": {},
   "outputs": [],
   "source": [
    "scoring = ['neg_log_loss', 'accuracy']"
   ]
  },
  {
   "cell_type": "code",
   "execution_count": 24,
   "metadata": {},
   "outputs": [],
   "source": [
    "rfc = RandomForestClassifier(n_estimators=50, random_state=42)"
   ]
  },
  {
   "cell_type": "code",
   "execution_count": 31,
   "metadata": {},
   "outputs": [],
   "source": [
    "rfc_params = {'bootstrap': [True, False], 'max_depth': np.arange(50, 90, 10), 'min_samples_split': [3, 5, 7], \n",
    "              'min_samples_leaf': [2, 4], 'max_features': ['sqrt'], 'n_estimators': [50]}\n",
    "rfc_GS = GridSearchCV(rfc, param_grid=rfc_params, scoring=scoring, cv=4, \n",
    "                      refit='accuracy', verbose=1, n_jobs=-1)"
   ]
  },
  {
   "cell_type": "code",
   "execution_count": 32,
   "metadata": {},
   "outputs": [
    {
     "name": "stdout",
     "output_type": "stream",
     "text": [
      "Fitting 4 folds for each of 48 candidates, totalling 192 fits\n"
     ]
    },
    {
     "name": "stderr",
     "output_type": "stream",
     "text": [
      "[Parallel(n_jobs=-1)]: Using backend LokyBackend with 4 concurrent workers.\n",
      "[Parallel(n_jobs=-1)]: Done  42 tasks      | elapsed: 10.3min\n",
      "[Parallel(n_jobs=-1)]: Done 192 out of 192 | elapsed: 62.8min finished\n"
     ]
    },
    {
     "data": {
      "text/plain": [
       "'1:03:48.991848'"
      ]
     },
     "execution_count": 32,
     "metadata": {},
     "output_type": "execute_result"
    }
   ],
   "source": [
    "start = datetime.now()\n",
    "rfc_GS.fit(X, y)\n",
    "end = datetime.now()\n",
    "str(end-start)"
   ]
  },
  {
   "cell_type": "code",
   "execution_count": 33,
   "metadata": {},
   "outputs": [
    {
     "data": {
      "text/plain": [
       "Index(['mean_fit_time', 'std_fit_time', 'mean_score_time', 'std_score_time',\n",
       "       'param_bootstrap', 'param_max_depth', 'param_max_features',\n",
       "       'param_min_samples_leaf', 'param_min_samples_split',\n",
       "       'param_n_estimators', 'params', 'split0_test_neg_log_loss',\n",
       "       'split1_test_neg_log_loss', 'split2_test_neg_log_loss',\n",
       "       'split3_test_neg_log_loss', 'mean_test_neg_log_loss',\n",
       "       'std_test_neg_log_loss', 'rank_test_neg_log_loss',\n",
       "       'split0_test_accuracy', 'split1_test_accuracy', 'split2_test_accuracy',\n",
       "       'split3_test_accuracy', 'mean_test_accuracy', 'std_test_accuracy',\n",
       "       'rank_test_accuracy'],\n",
       "      dtype='object')"
      ]
     },
     "execution_count": 33,
     "metadata": {},
     "output_type": "execute_result"
    }
   ],
   "source": [
    "pd.DataFrame(rfc_GS.cv_results_).columns"
   ]
  },
  {
   "cell_type": "code",
   "execution_count": 34,
   "metadata": {},
   "outputs": [
    {
     "data": {
      "text/plain": [
       "({'bootstrap': False,\n",
       "  'max_depth': 80,\n",
       "  'max_features': 'sqrt',\n",
       "  'min_samples_leaf': 2,\n",
       "  'min_samples_split': 5,\n",
       "  'n_estimators': 50},\n",
       " 0.6957689654451575)"
      ]
     },
     "execution_count": 34,
     "metadata": {},
     "output_type": "execute_result"
    }
   ],
   "source": [
    "rfc_GS.best_params_, rfc_GS.best_score_"
   ]
  },
  {
   "cell_type": "code",
   "execution_count": 35,
   "metadata": {},
   "outputs": [],
   "source": [
    "cols = ['rank_test_neg_log_loss', 'mean_test_neg_log_loss', 'rank_test_accuracy', 'mean_test_accuracy', 'param_bootstrap', 'param_min_samples_split', 'param_min_samples_leaf', 'param_max_features', 'param_max_depth']\n",
    "df_rfc = pd.DataFrame(rfc_GS.cv_results_)"
   ]
  },
  {
   "cell_type": "code",
   "execution_count": 36,
   "metadata": {},
   "outputs": [
    {
     "data": {
      "text/html": [
       "<div>\n",
       "<style scoped>\n",
       "    .dataframe tbody tr th:only-of-type {\n",
       "        vertical-align: middle;\n",
       "    }\n",
       "\n",
       "    .dataframe tbody tr th {\n",
       "        vertical-align: top;\n",
       "    }\n",
       "\n",
       "    .dataframe thead th {\n",
       "        text-align: right;\n",
       "    }\n",
       "</style>\n",
       "<table border=\"1\" class=\"dataframe\">\n",
       "  <thead>\n",
       "    <tr style=\"text-align: right;\">\n",
       "      <th></th>\n",
       "      <th>rank_test_neg_log_loss</th>\n",
       "      <th>mean_test_neg_log_loss</th>\n",
       "      <th>rank_test_accuracy</th>\n",
       "      <th>mean_test_accuracy</th>\n",
       "      <th>param_bootstrap</th>\n",
       "      <th>param_min_samples_split</th>\n",
       "      <th>param_min_samples_leaf</th>\n",
       "      <th>param_max_features</th>\n",
       "      <th>param_max_depth</th>\n",
       "    </tr>\n",
       "  </thead>\n",
       "  <tbody>\n",
       "    <tr>\n",
       "      <th>12</th>\n",
       "      <td>13</td>\n",
       "      <td>-1.057193</td>\n",
       "      <td>15</td>\n",
       "      <td>0.689790</td>\n",
       "      <td>True</td>\n",
       "      <td>3</td>\n",
       "      <td>2</td>\n",
       "      <td>sqrt</td>\n",
       "      <td>70</td>\n",
       "    </tr>\n",
       "    <tr>\n",
       "      <th>18</th>\n",
       "      <td>10</td>\n",
       "      <td>-1.048834</td>\n",
       "      <td>13</td>\n",
       "      <td>0.690188</td>\n",
       "      <td>True</td>\n",
       "      <td>3</td>\n",
       "      <td>2</td>\n",
       "      <td>sqrt</td>\n",
       "      <td>80</td>\n",
       "    </tr>\n",
       "    <tr>\n",
       "      <th>19</th>\n",
       "      <td>11</td>\n",
       "      <td>-1.051243</td>\n",
       "      <td>12</td>\n",
       "      <td>0.690386</td>\n",
       "      <td>True</td>\n",
       "      <td>5</td>\n",
       "      <td>2</td>\n",
       "      <td>sqrt</td>\n",
       "      <td>80</td>\n",
       "    </tr>\n",
       "    <tr>\n",
       "      <th>24</th>\n",
       "      <td>27</td>\n",
       "      <td>-1.080362</td>\n",
       "      <td>11</td>\n",
       "      <td>0.690741</td>\n",
       "      <td>False</td>\n",
       "      <td>3</td>\n",
       "      <td>2</td>\n",
       "      <td>sqrt</td>\n",
       "      <td>50</td>\n",
       "    </tr>\n",
       "    <tr>\n",
       "      <th>25</th>\n",
       "      <td>26</td>\n",
       "      <td>-1.079359</td>\n",
       "      <td>13</td>\n",
       "      <td>0.690188</td>\n",
       "      <td>False</td>\n",
       "      <td>5</td>\n",
       "      <td>2</td>\n",
       "      <td>sqrt</td>\n",
       "      <td>50</td>\n",
       "    </tr>\n",
       "    <tr>\n",
       "      <th>26</th>\n",
       "      <td>22</td>\n",
       "      <td>-1.074975</td>\n",
       "      <td>10</td>\n",
       "      <td>0.690898</td>\n",
       "      <td>False</td>\n",
       "      <td>7</td>\n",
       "      <td>2</td>\n",
       "      <td>sqrt</td>\n",
       "      <td>50</td>\n",
       "    </tr>\n",
       "    <tr>\n",
       "      <th>30</th>\n",
       "      <td>9</td>\n",
       "      <td>-1.046993</td>\n",
       "      <td>8</td>\n",
       "      <td>0.692320</td>\n",
       "      <td>False</td>\n",
       "      <td>3</td>\n",
       "      <td>2</td>\n",
       "      <td>sqrt</td>\n",
       "      <td>60</td>\n",
       "    </tr>\n",
       "    <tr>\n",
       "      <th>31</th>\n",
       "      <td>7</td>\n",
       "      <td>-1.042066</td>\n",
       "      <td>7</td>\n",
       "      <td>0.693020</td>\n",
       "      <td>False</td>\n",
       "      <td>5</td>\n",
       "      <td>2</td>\n",
       "      <td>sqrt</td>\n",
       "      <td>60</td>\n",
       "    </tr>\n",
       "    <tr>\n",
       "      <th>32</th>\n",
       "      <td>8</td>\n",
       "      <td>-1.045168</td>\n",
       "      <td>9</td>\n",
       "      <td>0.692288</td>\n",
       "      <td>False</td>\n",
       "      <td>7</td>\n",
       "      <td>2</td>\n",
       "      <td>sqrt</td>\n",
       "      <td>60</td>\n",
       "    </tr>\n",
       "    <tr>\n",
       "      <th>36</th>\n",
       "      <td>5</td>\n",
       "      <td>-1.028702</td>\n",
       "      <td>3</td>\n",
       "      <td>0.695267</td>\n",
       "      <td>False</td>\n",
       "      <td>3</td>\n",
       "      <td>2</td>\n",
       "      <td>sqrt</td>\n",
       "      <td>70</td>\n",
       "    </tr>\n",
       "    <tr>\n",
       "      <th>37</th>\n",
       "      <td>6</td>\n",
       "      <td>-1.032625</td>\n",
       "      <td>4</td>\n",
       "      <td>0.694849</td>\n",
       "      <td>False</td>\n",
       "      <td>5</td>\n",
       "      <td>2</td>\n",
       "      <td>sqrt</td>\n",
       "      <td>70</td>\n",
       "    </tr>\n",
       "    <tr>\n",
       "      <th>38</th>\n",
       "      <td>4</td>\n",
       "      <td>-1.027498</td>\n",
       "      <td>6</td>\n",
       "      <td>0.693720</td>\n",
       "      <td>False</td>\n",
       "      <td>7</td>\n",
       "      <td>2</td>\n",
       "      <td>sqrt</td>\n",
       "      <td>70</td>\n",
       "    </tr>\n",
       "    <tr>\n",
       "      <th>42</th>\n",
       "      <td>3</td>\n",
       "      <td>-1.025454</td>\n",
       "      <td>2</td>\n",
       "      <td>0.695623</td>\n",
       "      <td>False</td>\n",
       "      <td>3</td>\n",
       "      <td>2</td>\n",
       "      <td>sqrt</td>\n",
       "      <td>80</td>\n",
       "    </tr>\n",
       "    <tr>\n",
       "      <th>43</th>\n",
       "      <td>2</td>\n",
       "      <td>-1.022597</td>\n",
       "      <td>1</td>\n",
       "      <td>0.695769</td>\n",
       "      <td>False</td>\n",
       "      <td>5</td>\n",
       "      <td>2</td>\n",
       "      <td>sqrt</td>\n",
       "      <td>80</td>\n",
       "    </tr>\n",
       "    <tr>\n",
       "      <th>44</th>\n",
       "      <td>1</td>\n",
       "      <td>-1.020985</td>\n",
       "      <td>5</td>\n",
       "      <td>0.694598</td>\n",
       "      <td>False</td>\n",
       "      <td>7</td>\n",
       "      <td>2</td>\n",
       "      <td>sqrt</td>\n",
       "      <td>80</td>\n",
       "    </tr>\n",
       "  </tbody>\n",
       "</table>\n",
       "</div>"
      ],
      "text/plain": [
       "    rank_test_neg_log_loss  mean_test_neg_log_loss  rank_test_accuracy  \\\n",
       "12                      13               -1.057193                  15   \n",
       "18                      10               -1.048834                  13   \n",
       "19                      11               -1.051243                  12   \n",
       "24                      27               -1.080362                  11   \n",
       "25                      26               -1.079359                  13   \n",
       "26                      22               -1.074975                  10   \n",
       "30                       9               -1.046993                   8   \n",
       "31                       7               -1.042066                   7   \n",
       "32                       8               -1.045168                   9   \n",
       "36                       5               -1.028702                   3   \n",
       "37                       6               -1.032625                   4   \n",
       "38                       4               -1.027498                   6   \n",
       "42                       3               -1.025454                   2   \n",
       "43                       2               -1.022597                   1   \n",
       "44                       1               -1.020985                   5   \n",
       "\n",
       "    mean_test_accuracy param_bootstrap param_min_samples_split  \\\n",
       "12            0.689790            True                       3   \n",
       "18            0.690188            True                       3   \n",
       "19            0.690386            True                       5   \n",
       "24            0.690741           False                       3   \n",
       "25            0.690188           False                       5   \n",
       "26            0.690898           False                       7   \n",
       "30            0.692320           False                       3   \n",
       "31            0.693020           False                       5   \n",
       "32            0.692288           False                       7   \n",
       "36            0.695267           False                       3   \n",
       "37            0.694849           False                       5   \n",
       "38            0.693720           False                       7   \n",
       "42            0.695623           False                       3   \n",
       "43            0.695769           False                       5   \n",
       "44            0.694598           False                       7   \n",
       "\n",
       "   param_min_samples_leaf param_max_features param_max_depth  \n",
       "12                      2               sqrt              70  \n",
       "18                      2               sqrt              80  \n",
       "19                      2               sqrt              80  \n",
       "24                      2               sqrt              50  \n",
       "25                      2               sqrt              50  \n",
       "26                      2               sqrt              50  \n",
       "30                      2               sqrt              60  \n",
       "31                      2               sqrt              60  \n",
       "32                      2               sqrt              60  \n",
       "36                      2               sqrt              70  \n",
       "37                      2               sqrt              70  \n",
       "38                      2               sqrt              70  \n",
       "42                      2               sqrt              80  \n",
       "43                      2               sqrt              80  \n",
       "44                      2               sqrt              80  "
      ]
     },
     "execution_count": 36,
     "metadata": {},
     "output_type": "execute_result"
    }
   ],
   "source": [
    "df_rfc.loc[df_rfc.rank_test_accuracy <= 15, cols]"
   ]
  },
  {
   "cell_type": "code",
   "execution_count": null,
   "metadata": {},
   "outputs": [],
   "source": []
  },
  {
   "cell_type": "code",
   "execution_count": null,
   "metadata": {},
   "outputs": [],
   "source": []
  },
  {
   "cell_type": "code",
   "execution_count": null,
   "metadata": {},
   "outputs": [],
   "source": []
  }
 ],
 "metadata": {
  "kernelspec": {
   "display_name": "Python 3",
   "language": "python",
   "name": "python3"
  },
  "language_info": {
   "codemirror_mode": {
    "name": "ipython",
    "version": 3
   },
   "file_extension": ".py",
   "mimetype": "text/x-python",
   "name": "python",
   "nbconvert_exporter": "python",
   "pygments_lexer": "ipython3",
   "version": "3.7.3"
  }
 },
 "nbformat": 4,
 "nbformat_minor": 2
}
