{
 "cells": [
  {
   "cell_type": "code",
   "execution_count": 1,
   "metadata": {},
   "outputs": [],
   "source": [
    "import pandas as pd\n",
    "import numpy as np\n",
    "import calendar\n",
    "import time\n",
    "import re \n",
    "import matplotlib.pyplot as plt\n",
    "from sklearn.model_selection import train_test_split\n",
    "from sklearn.model_selection import cross_val_score\n",
    "from sklearn.model_selection import cross_validate\n",
    "from sklearn.model_selection import GridSearchCV\n",
    "from sklearn.model_selection import RandomizedSearchCV\n",
    "from sklearn.metrics import log_loss, accuracy_score, classification_report\n",
    "%matplotlib inline"
   ]
  },
  {
   "cell_type": "code",
   "execution_count": 2,
   "metadata": {},
   "outputs": [],
   "source": [
    "data_train = pd.read_csv(\"train.csv\").replace(\"MENS WEAR\",\"MENSWEAR\")\n",
    "data_train_orig = pd.read_csv(\"train.csv\").replace(\"MENS WEAR\",\"MENSWEAR\")\n",
    "data_test = pd.read_csv(\"test.csv\").replace(\"MENS WEAR\",\"MENSWEAR\")"
   ]
  },
  {
   "cell_type": "code",
   "execution_count": 3,
   "metadata": {},
   "outputs": [
    {
     "data": {
      "text/plain": [
       "['1-HR PHOTO',\n",
       " 'ACCESSORIES',\n",
       " 'AUTOMOTIVE',\n",
       " 'BAKERY',\n",
       " 'BATH AND SHOWER',\n",
       " 'BEAUTY',\n",
       " 'BEDDING',\n",
       " 'BOOKS AND MAGAZINES',\n",
       " 'BOYS WEAR',\n",
       " 'BRAS & SHAPEWEAR',\n",
       " 'CAMERAS AND SUPPLIES',\n",
       " 'CANDY, TOBACCO, COOKIES',\n",
       " 'CELEBRATION',\n",
       " 'COMM BREAD',\n",
       " 'CONCEPT STORES',\n",
       " 'COOK AND DINE',\n",
       " 'DAIRY',\n",
       " 'DSD GROCERY',\n",
       " 'ELECTRONICS',\n",
       " 'FABRICS AND CRAFTS',\n",
       " 'FINANCIAL SERVICES',\n",
       " 'FROZEN FOODS',\n",
       " 'FURNITURE',\n",
       " 'GIRLS WEAR, 4-6X  AND 7-14',\n",
       " 'GROCERY DRY GOODS',\n",
       " 'HARDWARE',\n",
       " 'HEALTH AND BEAUTY AIDS',\n",
       " 'HOME DECOR',\n",
       " 'HOME MANAGEMENT',\n",
       " 'HORTICULTURE AND ACCESS',\n",
       " 'HOUSEHOLD CHEMICALS/SUPP',\n",
       " 'HOUSEHOLD PAPER GOODS',\n",
       " 'IMPULSE MERCHANDISE',\n",
       " 'INFANT APPAREL',\n",
       " 'INFANT CONSUMABLE HARDLINES',\n",
       " 'JEWELRY AND SUNGLASSES',\n",
       " 'LADIES SOCKS',\n",
       " 'LADIESWEAR',\n",
       " 'LARGE HOUSEHOLD GOODS',\n",
       " 'LAWN AND GARDEN',\n",
       " 'LIQUOR,WINE,BEER',\n",
       " 'MEAT - FRESH & FROZEN',\n",
       " 'MEDIA AND GAMING',\n",
       " 'MENSWEAR',\n",
       " 'OFFICE SUPPLIES',\n",
       " 'OPTICAL - FRAMES',\n",
       " 'OPTICAL - LENSES',\n",
       " 'OTHER DEPARTMENTS',\n",
       " 'PAINT AND ACCESSORIES',\n",
       " 'PERSONAL CARE',\n",
       " 'PETS AND SUPPLIES',\n",
       " 'PHARMACY OTC',\n",
       " 'PHARMACY RX',\n",
       " 'PLAYERS AND ELECTRONICS',\n",
       " 'PLUS AND MATERNITY',\n",
       " 'PRE PACKED DELI',\n",
       " 'PRODUCE',\n",
       " 'SEAFOOD',\n",
       " 'SEASONAL',\n",
       " 'SERVICE DELI',\n",
       " 'SHEER HOSIERY',\n",
       " 'SHOES',\n",
       " 'SLEEPWEAR/FOUNDATIONS',\n",
       " 'SPORTING GOODS',\n",
       " 'SWIMWEAR/OUTERWEAR',\n",
       " 'TOYS',\n",
       " 'WIRELESS']"
      ]
     },
     "execution_count": 3,
     "metadata": {},
     "output_type": "execute_result"
    }
   ],
   "source": [
    "dept_list = sorted(list(data_train.DepartmentDescription.dropna().unique()))\n",
    "dept_list"
   ]
  },
  {
   "cell_type": "code",
   "execution_count": 4,
   "metadata": {},
   "outputs": [],
   "source": [
    "weekdays = list(calendar.day_name)\n",
    "dept_list_sum = dict.fromkeys(dept_list, np.sum)\n",
    "weekday_dict = dict.fromkeys(weekdays, np.max)\n",
    "feature_dict = {\"TripType\": np.max, 'NumItems': np.sum, 'Return': np.max}\n",
    "feature_dict = {**feature_dict, **weekday_dict, **dept_list_sum}"
   ]
  },
  {
   "cell_type": "code",
   "execution_count": 5,
   "metadata": {},
   "outputs": [],
   "source": [
    "def transform_data(data):\n",
    "    dummies = pd.get_dummies(data.Weekday)\n",
    "    data[dummies.columns] = dummies\n",
    "    \n",
    "    dummies = pd.get_dummies(data.DepartmentDescription)\n",
    "    dummies = dummies.apply(lambda x: x*data[\"ScanCount\"])\n",
    "    data[dummies.columns] = dummies \n",
    "\n",
    "    data.loc[data.ScanCount < 0, 'Return'] = 1\n",
    "    data.loc[data.Return != 1, 'Return'] = 0\n",
    "    \n",
    "    data = data.rename(columns={\"ScanCount\":\"NumItems\"})\n",
    "    \n",
    "    grouped = data.groupby(\"VisitNumber\")\n",
    "    grouped = grouped.aggregate(feature_dict)\n",
    "    data = grouped[[\"TripType\", \"NumItems\", \"Return\"] + weekdays + dept_list]\n",
    "\n",
    "    return data"
   ]
  },
  {
   "cell_type": "code",
   "execution_count": 6,
   "metadata": {},
   "outputs": [],
   "source": [
    "data_new = transform_data(data_train)"
   ]
  },
  {
   "cell_type": "code",
   "execution_count": 7,
   "metadata": {},
   "outputs": [],
   "source": [
    "def add_category_counts(data):\n",
    "    alist = []\n",
    "    for array in np.asarray(data.loc[:, dept_list[0]:]):\n",
    "        count = 0\n",
    "        count = sum(x > 0 for x in array)\n",
    "        alist.append(count)\n",
    "    cat_counts = pd.DataFrame(alist)\n",
    "    cat_counts = cat_counts.rename(columns={0:\"CategoryCount\"})\n",
    "    cat_counts = cat_counts.set_index(data.index)\n",
    "    data.insert(3, 'CategoryCounts', cat_counts)\n",
    "    return data"
   ]
  },
  {
   "cell_type": "code",
   "execution_count": 8,
   "metadata": {},
   "outputs": [],
   "source": [
    "data_new_cat = add_category_counts(data_new)"
   ]
  },
  {
   "cell_type": "code",
   "execution_count": 9,
   "metadata": {},
   "outputs": [],
   "source": [
    "X = data_new_cat.drop('TripType', axis=1)\n",
    "y = data_new_cat.TripType\n",
    "X_train, X_test, y_train, y_test = train_test_split(X, y, test_size=0.3, random_state=42)"
   ]
  },
  {
   "cell_type": "code",
   "execution_count": 10,
   "metadata": {},
   "outputs": [],
   "source": [
    "from sklearn.ensemble import RandomForestClassifier"
   ]
  },
  {
   "cell_type": "code",
   "execution_count": 11,
   "metadata": {},
   "outputs": [
    {
     "data": {
      "text/plain": [
       "90.32282066345215"
      ]
     },
     "execution_count": 11,
     "metadata": {},
     "output_type": "execute_result"
    }
   ],
   "source": [
    "rfc = RandomForestClassifier(n_estimators=200, random_state=42, oob_score=True)\n",
    "start = time.time()\n",
    "rfc = rfc.fit(X, y)\n",
    "end = time.time()\n",
    "end - start"
   ]
  },
  {
   "cell_type": "code",
   "execution_count": 12,
   "metadata": {},
   "outputs": [
    {
     "data": {
      "text/plain": [
       "0.6762861383447959"
      ]
     },
     "execution_count": 12,
     "metadata": {},
     "output_type": "execute_result"
    }
   ],
   "source": [
    "rfc.oob_score_"
   ]
  },
  {
   "cell_type": "code",
   "execution_count": 13,
   "metadata": {},
   "outputs": [
    {
     "data": {
      "text/plain": [
       "56.49003839492798"
      ]
     },
     "execution_count": 13,
     "metadata": {},
     "output_type": "execute_result"
    }
   ],
   "source": [
    "rfc = RandomForestClassifier(n_estimators=200, random_state=42)\n",
    "start = time.time()\n",
    "rfc = rfc.fit(X_train, y_train)\n",
    "predictions = rfc.predict(X_test)\n",
    "end = time.time()\n",
    "end - start"
   ]
  },
  {
   "cell_type": "code",
   "execution_count": 14,
   "metadata": {},
   "outputs": [
    {
     "data": {
      "text/plain": [
       "0.6768978852384768"
      ]
     },
     "execution_count": 14,
     "metadata": {},
     "output_type": "execute_result"
    }
   ],
   "source": [
    "accuracy_score(y_test, predictions)"
   ]
  },
  {
   "cell_type": "code",
   "execution_count": 15,
   "metadata": {},
   "outputs": [
    {
     "data": {
      "text/plain": [
       "667.6873359680176"
      ]
     },
     "execution_count": 15,
     "metadata": {},
     "output_type": "execute_result"
    }
   ],
   "source": [
    "rfc = RandomForestClassifier(n_estimators=500, random_state=42, oob_score=True)\n",
    "start = time.time()\n",
    "rfc = rfc.fit(X, y)\n",
    "end = time.time()\n",
    "end - start"
   ]
  },
  {
   "cell_type": "code",
   "execution_count": 16,
   "metadata": {},
   "outputs": [
    {
     "data": {
      "text/plain": [
       "0.6780316491418776"
      ]
     },
     "execution_count": 16,
     "metadata": {},
     "output_type": "execute_result"
    }
   ],
   "source": [
    "rfc.oob_score_"
   ]
  },
  {
   "cell_type": "code",
   "execution_count": 17,
   "metadata": {},
   "outputs": [
    {
     "data": {
      "text/plain": [
       "191.64001488685608"
      ]
     },
     "execution_count": 17,
     "metadata": {},
     "output_type": "execute_result"
    }
   ],
   "source": [
    "rfc = RandomForestClassifier(n_estimators=500, random_state=42)\n",
    "start = time.time()\n",
    "rfc = rfc.fit(X_train, y_train)\n",
    "predictions = rfc.predict(X_test)\n",
    "end = time.time()\n",
    "end - start"
   ]
  },
  {
   "cell_type": "code",
   "execution_count": 18,
   "metadata": {},
   "outputs": [
    {
     "data": {
      "text/plain": [
       "0.677803713897502"
      ]
     },
     "execution_count": 18,
     "metadata": {},
     "output_type": "execute_result"
    }
   ],
   "source": [
    "accuracy_score(y_test, predictions)"
   ]
  },
  {
   "cell_type": "code",
   "execution_count": 19,
   "metadata": {},
   "outputs": [
    {
     "data": {
      "text/plain": [
       "Text(0.5, 1.0, 'Feature Importance in Random Forest')"
      ]
     },
     "execution_count": 19,
     "metadata": {},
     "output_type": "execute_result"
    },
    {
     "data": {
      "image/png": "[encoded data removed]",
      "text/plain": [
       "<Figure size 720x1440 with 1 Axes>"
      ]
     },
     "metadata": {
      "needs_background": "light"
     },
     "output_type": "display_data"
    }
   ],
   "source": [
    "graphing_results = pd.DataFrame(rfc.feature_importances_)\n",
    "graphing_results[\"Features\"] = X.columns\n",
    "graphing_results = graphing_results.set_index(\"Features\").sort_values(by=0, ascending=True)\n",
    "graphing_results.plot(kind=\"barh\", figsize=(10,20), rot=0)\n",
    "plt.rc('xtick', labelsize=10)\n",
    "plt.rc('ytick', labelsize=10)\n",
    "plt.title(\"Feature Importance in Random Forest\", size=20)"
   ]
  },
  {
   "cell_type": "code",
   "execution_count": 20,
   "metadata": {},
   "outputs": [
    {
     "data": {
      "text/html": [
       "<div>\n",
       "<style scoped>\n",
       "    .dataframe tbody tr th:only-of-type {\n",
       "        vertical-align: middle;\n",
       "    }\n",
       "\n",
       "    .dataframe tbody tr th {\n",
       "        vertical-align: top;\n",
       "    }\n",
       "\n",
       "    .dataframe thead th {\n",
       "        text-align: right;\n",
       "    }\n",
       "</style>\n",
       "<table border=\"1\" class=\"dataframe\">\n",
       "  <thead>\n",
       "    <tr style=\"text-align: right;\">\n",
       "      <th></th>\n",
       "      <th>0</th>\n",
       "    </tr>\n",
       "  </thead>\n",
       "  <tbody>\n",
       "    <tr>\n",
       "      <th>DepartmentofPurchase</th>\n",
       "      <td>0.671548</td>\n",
       "    </tr>\n",
       "    <tr>\n",
       "      <th>NumItems</th>\n",
       "      <td>0.145753</td>\n",
       "    </tr>\n",
       "    <tr>\n",
       "      <th>CategoryCounts</th>\n",
       "      <td>0.086850</td>\n",
       "    </tr>\n",
       "    <tr>\n",
       "      <th>DayofWeek</th>\n",
       "      <td>0.076148</td>\n",
       "    </tr>\n",
       "    <tr>\n",
       "      <th>Return</th>\n",
       "      <td>0.019701</td>\n",
       "    </tr>\n",
       "  </tbody>\n",
       "</table>\n",
       "</div>"
      ],
      "text/plain": [
       "                             0\n",
       "DepartmentofPurchase  0.671548\n",
       "NumItems              0.145753\n",
       "CategoryCounts        0.086850\n",
       "DayofWeek             0.076148\n",
       "Return                0.019701"
      ]
     },
     "execution_count": 20,
     "metadata": {},
     "output_type": "execute_result"
    }
   ],
   "source": [
    "df = graphing_results.loc[[\"NumItems\", \"CategoryCounts\", \"Return\"]]\n",
    "df_DayofWeek = pd.DataFrame({\"DayofWeek\": np.sum(graphing_results.loc[weekdays])})\n",
    "df_Dept = pd.DataFrame({\"DepartmentofPurchase\": np.sum(graphing_results.loc[dept_list])}) \n",
    "df = df.append(df_DayofWeek.T)\n",
    "df = df.append(df_Dept.T)\n",
    "df = df.sort_values(by=0, ascending=False)\n",
    "df"
   ]
  },
  {
   "cell_type": "code",
   "execution_count": 21,
   "metadata": {},
   "outputs": [
    {
     "data": {
      "text/plain": [
       "Text(0.5, 1.0, 'Feature Importance in Random Forest')"
      ]
     },
     "execution_count": 21,
     "metadata": {},
     "output_type": "execute_result"
    },
    {
     "data": {
      "image/png": "[encoded data removed]",
      "text/plain": [
       "<Figure size 720x360 with 1 Axes>"
      ]
     },
     "metadata": {
      "needs_background": "light"
     },
     "output_type": "display_data"
    }
   ],
   "source": [
    "df.plot(kind=\"bar\", figsize=(10,5), rot=0, legend=False)\n",
    "plt.rc('xtick', labelsize=10)\n",
    "plt.rc('ytick', labelsize=10)\n",
    "plt.title(\"Feature Importance in Random Forest\", size=20)"
   ]
  },
  {
   "cell_type": "code",
   "execution_count": 22,
   "metadata": {},
   "outputs": [],
   "source": [
    "scoring = ['neg_log_loss', 'accuracy']"
   ]
  },
  {
   "cell_type": "code",
   "execution_count": 35,
   "metadata": {},
   "outputs": [],
   "source": [
    "params = {'bootstrap': [True, False], 'max_depth': np.arange(50, 100, 10), 'min_samples_split': [3, 5, 7, 9],  \n",
    "          'min_samples_leaf': [2, 4, 6, 8], 'max_features': ['auto', 'sqrt'], 'n_estimators': [100]}\n",
    "RS = RandomizedSearchCV(rfc, param_distributions = params, scoring=scoring, cv = 4, \n",
    "                        n_iter = 100, refit='accuracy', random_state=42, n_jobs = -1)"
   ]
  },
  {
   "cell_type": "code",
   "execution_count": 36,
   "metadata": {},
   "outputs": [
    {
     "data": {
      "text/plain": [
       "40878.21320080757"
      ]
     },
     "execution_count": 36,
     "metadata": {},
     "output_type": "execute_result"
    }
   ],
   "source": [
    "start = time.time()\n",
    "RS.fit(X, y)\n",
    "end = time.time()\n",
    "end - start"
   ]
  },
  {
   "cell_type": "code",
   "execution_count": 37,
   "metadata": {},
   "outputs": [
    {
     "data": {
      "text/plain": [
       "Index(['mean_fit_time', 'std_fit_time', 'mean_score_time', 'std_score_time',\n",
       "       'param_n_estimators', 'param_min_samples_split',\n",
       "       'param_min_samples_leaf', 'param_max_features', 'param_max_depth',\n",
       "       'param_bootstrap', 'params', 'split0_test_neg_log_loss',\n",
       "       'split1_test_neg_log_loss', 'split2_test_neg_log_loss',\n",
       "       'split3_test_neg_log_loss', 'mean_test_neg_log_loss',\n",
       "       'std_test_neg_log_loss', 'rank_test_neg_log_loss',\n",
       "       'split0_test_accuracy', 'split1_test_accuracy', 'split2_test_accuracy',\n",
       "       'split3_test_accuracy', 'mean_test_accuracy', 'std_test_accuracy',\n",
       "       'rank_test_accuracy'],\n",
       "      dtype='object')"
      ]
     },
     "execution_count": 37,
     "metadata": {},
     "output_type": "execute_result"
    }
   ],
   "source": [
    "pd.DataFrame(RS.cv_results_).columns"
   ]
  },
  {
   "cell_type": "code",
   "execution_count": 38,
   "metadata": {},
   "outputs": [
    {
     "data": {
      "text/plain": [
       "{'n_estimators': 100,\n",
       " 'min_samples_split': 3,\n",
       " 'min_samples_leaf': 2,\n",
       " 'max_features': 'sqrt',\n",
       " 'max_depth': 50,\n",
       " 'bootstrap': False}"
      ]
     },
     "execution_count": 38,
     "metadata": {},
     "output_type": "execute_result"
    }
   ],
   "source": [
    "RS.best_params_"
   ]
  },
  {
   "cell_type": "code",
   "execution_count": 39,
   "metadata": {},
   "outputs": [
    {
     "data": {
      "text/plain": [
       "0.6832263728912766"
      ]
     },
     "execution_count": 39,
     "metadata": {},
     "output_type": "execute_result"
    }
   ],
   "source": [
    "RS.best_score_"
   ]
  },
  {
   "cell_type": "code",
   "execution_count": 46,
   "metadata": {},
   "outputs": [],
   "source": [
    "cols = ['rank_test_neg_log_loss', 'mean_test_neg_log_loss', 'rank_test_accuracy', 'mean_test_accuracy', 'param_bootstrap', 'param_min_samples_split', 'param_min_samples_leaf', 'param_max_features', 'param_max_depth', ]\n",
    "df = pd.DataFrame(RS.cv_results_)"
   ]
  },
  {
   "cell_type": "code",
   "execution_count": 49,
   "metadata": {},
   "outputs": [
    {
     "data": {
      "text/html": [
       "<div>\n",
       "<style scoped>\n",
       "    .dataframe tbody tr th:only-of-type {\n",
       "        vertical-align: middle;\n",
       "    }\n",
       "\n",
       "    .dataframe tbody tr th {\n",
       "        vertical-align: top;\n",
       "    }\n",
       "\n",
       "    .dataframe thead th {\n",
       "        text-align: right;\n",
       "    }\n",
       "</style>\n",
       "<table border=\"1\" class=\"dataframe\">\n",
       "  <thead>\n",
       "    <tr style=\"text-align: right;\">\n",
       "      <th></th>\n",
       "      <th>rank_test_neg_log_loss</th>\n",
       "      <th>mean_test_neg_log_loss</th>\n",
       "      <th>rank_test_accuracy</th>\n",
       "      <th>mean_test_accuracy</th>\n",
       "      <th>param_bootstrap</th>\n",
       "      <th>param_min_samples_split</th>\n",
       "      <th>param_min_samples_leaf</th>\n",
       "      <th>param_max_features</th>\n",
       "      <th>param_max_depth</th>\n",
       "    </tr>\n",
       "  </thead>\n",
       "  <tbody>\n",
       "    <tr>\n",
       "      <th>9</th>\n",
       "      <td>8</td>\n",
       "      <td>-1.019521</td>\n",
       "      <td>5</td>\n",
       "      <td>0.683028</td>\n",
       "      <td>False</td>\n",
       "      <td>3</td>\n",
       "      <td>2</td>\n",
       "      <td>auto</td>\n",
       "      <td>70</td>\n",
       "    </tr>\n",
       "    <tr>\n",
       "      <th>13</th>\n",
       "      <td>8</td>\n",
       "      <td>-1.019521</td>\n",
       "      <td>5</td>\n",
       "      <td>0.683028</td>\n",
       "      <td>False</td>\n",
       "      <td>3</td>\n",
       "      <td>2</td>\n",
       "      <td>sqrt</td>\n",
       "      <td>70</td>\n",
       "    </tr>\n",
       "    <tr>\n",
       "      <th>36</th>\n",
       "      <td>13</td>\n",
       "      <td>-1.023998</td>\n",
       "      <td>1</td>\n",
       "      <td>0.683226</td>\n",
       "      <td>False</td>\n",
       "      <td>3</td>\n",
       "      <td>2</td>\n",
       "      <td>sqrt</td>\n",
       "      <td>50</td>\n",
       "    </tr>\n",
       "    <tr>\n",
       "      <th>41</th>\n",
       "      <td>4</td>\n",
       "      <td>-1.017265</td>\n",
       "      <td>10</td>\n",
       "      <td>0.682620</td>\n",
       "      <td>False</td>\n",
       "      <td>5</td>\n",
       "      <td>2</td>\n",
       "      <td>auto</td>\n",
       "      <td>60</td>\n",
       "    </tr>\n",
       "    <tr>\n",
       "      <th>47</th>\n",
       "      <td>10</td>\n",
       "      <td>-1.019561</td>\n",
       "      <td>3</td>\n",
       "      <td>0.683111</td>\n",
       "      <td>False</td>\n",
       "      <td>7</td>\n",
       "      <td>2</td>\n",
       "      <td>auto</td>\n",
       "      <td>60</td>\n",
       "    </tr>\n",
       "    <tr>\n",
       "      <th>48</th>\n",
       "      <td>3</td>\n",
       "      <td>-1.016811</td>\n",
       "      <td>8</td>\n",
       "      <td>0.682756</td>\n",
       "      <td>False</td>\n",
       "      <td>7</td>\n",
       "      <td>2</td>\n",
       "      <td>auto</td>\n",
       "      <td>70</td>\n",
       "    </tr>\n",
       "    <tr>\n",
       "      <th>49</th>\n",
       "      <td>14</td>\n",
       "      <td>-1.024496</td>\n",
       "      <td>9</td>\n",
       "      <td>0.682735</td>\n",
       "      <td>False</td>\n",
       "      <td>5</td>\n",
       "      <td>2</td>\n",
       "      <td>sqrt</td>\n",
       "      <td>50</td>\n",
       "    </tr>\n",
       "    <tr>\n",
       "      <th>52</th>\n",
       "      <td>1</td>\n",
       "      <td>-1.014689</td>\n",
       "      <td>12</td>\n",
       "      <td>0.682495</td>\n",
       "      <td>False</td>\n",
       "      <td>5</td>\n",
       "      <td>2</td>\n",
       "      <td>auto</td>\n",
       "      <td>90</td>\n",
       "    </tr>\n",
       "    <tr>\n",
       "      <th>60</th>\n",
       "      <td>10</td>\n",
       "      <td>-1.019561</td>\n",
       "      <td>3</td>\n",
       "      <td>0.683111</td>\n",
       "      <td>False</td>\n",
       "      <td>7</td>\n",
       "      <td>2</td>\n",
       "      <td>sqrt</td>\n",
       "      <td>60</td>\n",
       "    </tr>\n",
       "    <tr>\n",
       "      <th>63</th>\n",
       "      <td>2</td>\n",
       "      <td>-1.016636</td>\n",
       "      <td>11</td>\n",
       "      <td>0.682516</td>\n",
       "      <td>False</td>\n",
       "      <td>7</td>\n",
       "      <td>2</td>\n",
       "      <td>auto</td>\n",
       "      <td>80</td>\n",
       "    </tr>\n",
       "    <tr>\n",
       "      <th>88</th>\n",
       "      <td>5</td>\n",
       "      <td>-1.017578</td>\n",
       "      <td>2</td>\n",
       "      <td>0.683174</td>\n",
       "      <td>False</td>\n",
       "      <td>3</td>\n",
       "      <td>2</td>\n",
       "      <td>sqrt</td>\n",
       "      <td>80</td>\n",
       "    </tr>\n",
       "    <tr>\n",
       "      <th>89</th>\n",
       "      <td>12</td>\n",
       "      <td>-1.020431</td>\n",
       "      <td>7</td>\n",
       "      <td>0.683007</td>\n",
       "      <td>False</td>\n",
       "      <td>3</td>\n",
       "      <td>2</td>\n",
       "      <td>auto</td>\n",
       "      <td>90</td>\n",
       "    </tr>\n",
       "  </tbody>\n",
       "</table>\n",
       "</div>"
      ],
      "text/plain": [
       "    rank_test_neg_log_loss  mean_test_neg_log_loss  rank_test_accuracy  \\\n",
       "9                        8               -1.019521                   5   \n",
       "13                       8               -1.019521                   5   \n",
       "36                      13               -1.023998                   1   \n",
       "41                       4               -1.017265                  10   \n",
       "47                      10               -1.019561                   3   \n",
       "48                       3               -1.016811                   8   \n",
       "49                      14               -1.024496                   9   \n",
       "52                       1               -1.014689                  12   \n",
       "60                      10               -1.019561                   3   \n",
       "63                       2               -1.016636                  11   \n",
       "88                       5               -1.017578                   2   \n",
       "89                      12               -1.020431                   7   \n",
       "\n",
       "    mean_test_accuracy param_bootstrap param_min_samples_split  \\\n",
       "9             0.683028           False                       3   \n",
       "13            0.683028           False                       3   \n",
       "36            0.683226           False                       3   \n",
       "41            0.682620           False                       5   \n",
       "47            0.683111           False                       7   \n",
       "48            0.682756           False                       7   \n",
       "49            0.682735           False                       5   \n",
       "52            0.682495           False                       5   \n",
       "60            0.683111           False                       7   \n",
       "63            0.682516           False                       7   \n",
       "88            0.683174           False                       3   \n",
       "89            0.683007           False                       3   \n",
       "\n",
       "   param_min_samples_leaf param_max_features param_max_depth  \n",
       "9                       2               auto              70  \n",
       "13                      2               sqrt              70  \n",
       "36                      2               sqrt              50  \n",
       "41                      2               auto              60  \n",
       "47                      2               auto              60  \n",
       "48                      2               auto              70  \n",
       "49                      2               sqrt              50  \n",
       "52                      2               auto              90  \n",
       "60                      2               sqrt              60  \n",
       "63                      2               auto              80  \n",
       "88                      2               sqrt              80  \n",
       "89                      2               auto              90  "
      ]
     },
     "execution_count": 49,
     "metadata": {},
     "output_type": "execute_result"
    }
   ],
   "source": [
    "df.loc[df.rank_test_accuracy <= 12, cols]"
   ]
  },
  {
   "cell_type": "code",
   "execution_count": 53,
   "metadata": {},
   "outputs": [],
   "source": [
    "params = {'bootstrap': [False], 'max_depth': np.arange(30, 90, 10), 'min_samples_split': [3, 5, 7, 9],  \n",
    "          'min_samples_leaf': [2], 'max_features': ['log2', 'sqrt'], 'n_estimators': [100]}\n",
    "RS_new = RandomizedSearchCV(rfc, param_distributions = params, scoring=scoring, cv = 4, \n",
    "                        n_iter = 30, refit='accuracy', return_train_score=True, random_state=42, n_jobs = -1)"
   ]
  },
  {
   "cell_type": "code",
   "execution_count": 54,
   "metadata": {},
   "outputs": [
    {
     "data": {
      "text/plain": [
       "3681.591612100601"
      ]
     },
     "execution_count": 54,
     "metadata": {},
     "output_type": "execute_result"
    }
   ],
   "source": [
    "start = time.time()\n",
    "RS_new.fit(X, y)\n",
    "end = time.time()\n",
    "end - start"
   ]
  },
  {
   "cell_type": "code",
   "execution_count": 57,
   "metadata": {},
   "outputs": [
    {
     "data": {
      "text/plain": [
       "{'n_estimators': 100,\n",
       " 'min_samples_split': 7,\n",
       " 'min_samples_leaf': 2,\n",
       " 'max_features': 'sqrt',\n",
       " 'max_depth': 60,\n",
       " 'bootstrap': False}"
      ]
     },
     "execution_count": 57,
     "metadata": {},
     "output_type": "execute_result"
    }
   ],
   "source": [
    "RS_new.best_params_"
   ]
  },
  {
   "cell_type": "code",
   "execution_count": 58,
   "metadata": {},
   "outputs": [
    {
     "data": {
      "text/plain": [
       "0.6831113991261993"
      ]
     },
     "execution_count": 58,
     "metadata": {},
     "output_type": "execute_result"
    }
   ],
   "source": [
    "RS_new.best_score_"
   ]
  },
  {
   "cell_type": "code",
   "execution_count": 62,
   "metadata": {},
   "outputs": [],
   "source": [
    "params = {'bootstrap': [False], 'max_depth': np.arange(10, 50, 10), 'min_samples_split': [2, 3, 5, 7, 9],  \n",
    "          'min_samples_leaf': [2], 'max_features': ['sqrt'], 'n_estimators': [100]}\n",
    "GS = GridSearchCV(rfc, param_grid = params, scoring=scoring, cv = 4, \n",
    "                refit='accuracy', return_train_score=True, n_jobs = -1)"
   ]
  },
  {
   "cell_type": "code",
   "execution_count": 63,
   "metadata": {},
   "outputs": [
    {
     "data": {
      "text/plain": [
       "2467.6692304611206"
      ]
     },
     "execution_count": 63,
     "metadata": {},
     "output_type": "execute_result"
    }
   ],
   "source": [
    "start = time.time()\n",
    "GS.fit(X, y)\n",
    "end = time.time()\n",
    "end - start"
   ]
  },
  {
   "cell_type": "code",
   "execution_count": 64,
   "metadata": {},
   "outputs": [
    {
     "data": {
      "text/plain": [
       "{'bootstrap': False,\n",
       " 'max_depth': 40,\n",
       " 'max_features': 'sqrt',\n",
       " 'min_samples_leaf': 2,\n",
       " 'min_samples_split': 5,\n",
       " 'n_estimators': 100}"
      ]
     },
     "execution_count": 64,
     "metadata": {},
     "output_type": "execute_result"
    }
   ],
   "source": [
    "GS.best_params_"
   ]
  },
  {
   "cell_type": "code",
   "execution_count": 65,
   "metadata": {},
   "outputs": [
    {
     "data": {
      "text/plain": [
       "0.6817108096243494"
      ]
     },
     "execution_count": 65,
     "metadata": {},
     "output_type": "execute_result"
    }
   ],
   "source": [
    "GS.best_score_"
   ]
  }
 ],
 "metadata": {
  "kernelspec": {
   "display_name": "Python 3",
   "language": "python",
   "name": "python3"
  },
  "language_info": {
   "codemirror_mode": {
    "name": "ipython",
    "version": 3
   },
   "file_extension": ".py",
   "mimetype": "text/x-python",
   "name": "python",
   "nbconvert_exporter": "python",
   "pygments_lexer": "ipython3",
   "version": "3.7.3"
  }
 },
 "nbformat": 4,
 "nbformat_minor": 2
}
