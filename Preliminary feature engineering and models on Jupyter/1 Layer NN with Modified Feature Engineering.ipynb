{
 "cells": [
  {
   "cell_type": "code",
   "execution_count": 22,
   "metadata": {},
   "outputs": [],
   "source": [
    "import pandas as pd\n",
    "import numpy as np\n",
    "import calendar\n",
    "from time import time\n",
    "from datetime import datetime\n",
    "import re \n",
    "from sklearn.model_selection import train_test_split, StratifiedKFold, cross_val_score, cross_validate, RandomizedSearchCV\n",
    "from sklearn.metrics import log_loss, accuracy_score, classification_report\n",
    "import matplotlib.pyplot as plt\n",
    "%matplotlib inline"
   ]
  },
  {
   "cell_type": "code",
   "execution_count": 2,
   "metadata": {},
   "outputs": [],
   "source": [
    "data_train = pd.read_csv(\"train.csv\").replace(\"MENS WEAR\",\"MENSWEAR\")\n",
    "#data_train_orig = pd.read_csv(\"train.csv\").replace(\"MENS WEAR\",\"MENSWEAR\")"
   ]
  },
  {
   "cell_type": "code",
   "execution_count": 3,
   "metadata": {},
   "outputs": [],
   "source": [
    "dept_list = sorted(list(data_train.DepartmentDescription.dropna().unique()))"
   ]
  },
  {
   "cell_type": "code",
   "execution_count": 4,
   "metadata": {},
   "outputs": [],
   "source": [
    "weekdays = list(calendar.day_name)\n",
    "dept_list_sum = dict.fromkeys(dept_list, np.sum)\n",
    "weekday_dict = dict.fromkeys(weekdays, np.max)\n",
    "feature_dict = {\"TripType\": np.max, 'NumItems': np.sum, 'Return': np.max}\n",
    "feature_dict = {**feature_dict, **weekday_dict, **dept_list_sum}"
   ]
  },
  {
   "cell_type": "code",
   "execution_count": 5,
   "metadata": {},
   "outputs": [],
   "source": [
    "def transform_data(data):\n",
    "    dummies = pd.get_dummies(data.Weekday)\n",
    "    data[dummies.columns] = dummies\n",
    "    \n",
    "    dummies = pd.get_dummies(data.DepartmentDescription)\n",
    "    dummies = dummies.apply(lambda x: x*data[\"ScanCount\"])\n",
    "    data[dummies.columns] = dummies \n",
    "\n",
    "    data.loc[data.ScanCount < 0, 'Return'] = 1\n",
    "    data.loc[data.Return != 1, 'Return'] = 0\n",
    "    \n",
    "    data = data.rename(columns={\"ScanCount\":\"NumItems\"})\n",
    "    \n",
    "    grouped = data.groupby(\"VisitNumber\")\n",
    "    grouped = grouped.aggregate(feature_dict)\n",
    "    data = grouped[[\"TripType\", \"NumItems\", \"Return\"] + weekdays + dept_list]\n",
    "\n",
    "    return data"
   ]
  },
  {
   "cell_type": "code",
   "execution_count": 6,
   "metadata": {},
   "outputs": [],
   "source": [
    "data_new = transform_data(data_train)"
   ]
  },
  {
   "cell_type": "code",
   "execution_count": 7,
   "metadata": {},
   "outputs": [],
   "source": [
    "def add_category_counts(data):\n",
    "    alist = []\n",
    "    for array in np.asarray(data.loc[:, dept_list[0]:]):\n",
    "        count = 0\n",
    "        count = sum(x > 0 for x in array)\n",
    "        alist.append(count)\n",
    "    cat_counts = pd.DataFrame(alist)\n",
    "    cat_counts = cat_counts.rename(columns={0:\"CategoryCount\"})\n",
    "    cat_counts = cat_counts.set_index(data.index)\n",
    "    data.insert(3, 'CategoryCounts', cat_counts)\n",
    "    return data"
   ]
  },
  {
   "cell_type": "code",
   "execution_count": 8,
   "metadata": {},
   "outputs": [],
   "source": [
    "data_new = add_category_counts(data_new)"
   ]
  },
  {
   "cell_type": "code",
   "execution_count": 9,
   "metadata": {},
   "outputs": [
    {
     "data": {
      "text/plain": [
       "(95674, 78)"
      ]
     },
     "execution_count": 9,
     "metadata": {},
     "output_type": "execute_result"
    }
   ],
   "source": [
    "data_new.shape"
   ]
  },
  {
   "cell_type": "code",
   "execution_count": 10,
   "metadata": {},
   "outputs": [],
   "source": [
    "def fineline_dummies(data):\n",
    "    values = data.FinelineNumber\n",
    "    counts = values.value_counts()\n",
    "    mask = values.isin(counts[counts > 500].index)\n",
    "    values[~mask] = \"-\"\n",
    "    dummies = pd.get_dummies(values).drop('-', axis=1)\n",
    "\n",
    "    dummies.columns = ['fln_'+str(col) for col in dummies.columns]\n",
    "    dummies = pd.concat([dummies, data.VisitNumber], axis=1)\n",
    "    dummies = dummies.groupby(\"VisitNumber\")\n",
    "    dummies = dummies.aggregate(np.sum)\n",
    "    return dummies"
   ]
  },
  {
   "cell_type": "code",
   "execution_count": 11,
   "metadata": {},
   "outputs": [
    {
     "name": "stderr",
     "output_type": "stream",
     "text": [
      "C:\\Users\\Xiuquan\\Anaconda3\\lib\\site-packages\\ipykernel_launcher.py:5: SettingWithCopyWarning: \n",
      "A value is trying to be set on a copy of a slice from a DataFrame\n",
      "\n",
      "See the caveats in the documentation: http://pandas.pydata.org/pandas-docs/stable/indexing.html#indexing-view-versus-copy\n",
      "  \"\"\"\n"
     ]
    },
    {
     "data": {
      "text/plain": [
       "'0:00:30.842203'"
      ]
     },
     "execution_count": 11,
     "metadata": {},
     "output_type": "execute_result"
    }
   ],
   "source": [
    "start = datetime.now()\n",
    "fln_dummies = fineline_dummies(data_train)\n",
    "end = datetime.now()\n",
    "str(end-start)"
   ]
  },
  {
   "cell_type": "code",
   "execution_count": 12,
   "metadata": {},
   "outputs": [],
   "source": [
    "data_new = data_new.join(fln_dummies)"
   ]
  },
  {
   "cell_type": "code",
   "execution_count": 13,
   "metadata": {},
   "outputs": [
    {
     "data": {
      "text/plain": [
       "(95674, 351)"
      ]
     },
     "execution_count": 13,
     "metadata": {},
     "output_type": "execute_result"
    }
   ],
   "source": [
    "data_new.shape"
   ]
  },
  {
   "cell_type": "code",
   "execution_count": 14,
   "metadata": {},
   "outputs": [],
   "source": [
    "def Upc_dummies(data):\n",
    "    values = data.Upc\n",
    "    counts = values.value_counts()\n",
    "    mask = values.isin(counts[counts > 300].index)\n",
    "    values[~mask] = \"-\"\n",
    "    dummies = pd.get_dummies(values).drop('-', axis=1)\n",
    "\n",
    "    dummies.columns = ['upc_'+str(col) for col in dummies.columns]\n",
    "    dummies = pd.concat([dummies, data.VisitNumber], axis=1)\n",
    "    dummies = dummies.groupby(\"VisitNumber\")\n",
    "    dummies = dummies.aggregate(np.sum)\n",
    "    return dummies"
   ]
  },
  {
   "cell_type": "code",
   "execution_count": 15,
   "metadata": {},
   "outputs": [
    {
     "name": "stderr",
     "output_type": "stream",
     "text": [
      "C:\\Users\\Xiuquan\\Anaconda3\\lib\\site-packages\\ipykernel_launcher.py:5: SettingWithCopyWarning: \n",
      "A value is trying to be set on a copy of a slice from a DataFrame\n",
      "\n",
      "See the caveats in the documentation: http://pandas.pydata.org/pandas-docs/stable/indexing.html#indexing-view-versus-copy\n",
      "  \"\"\"\n"
     ]
    },
    {
     "data": {
      "text/plain": [
       "'0:00:09.122040'"
      ]
     },
     "execution_count": 15,
     "metadata": {},
     "output_type": "execute_result"
    }
   ],
   "source": [
    "start = datetime.now()\n",
    "upc_dummies = Upc_dummies(data_train)\n",
    "end = datetime.now()\n",
    "str(end-start)"
   ]
  },
  {
   "cell_type": "code",
   "execution_count": 16,
   "metadata": {},
   "outputs": [],
   "source": [
    "data_new = data_new.join(upc_dummies)"
   ]
  },
  {
   "cell_type": "code",
   "execution_count": 17,
   "metadata": {},
   "outputs": [
    {
     "data": {
      "text/plain": [
       "(95674, 451)"
      ]
     },
     "execution_count": 17,
     "metadata": {},
     "output_type": "execute_result"
    }
   ],
   "source": [
    "data_new.shape"
   ]
  },
  {
   "cell_type": "code",
   "execution_count": 1,
   "metadata": {},
   "outputs": [
    {
     "name": "stderr",
     "output_type": "stream",
     "text": [
      "Using TensorFlow backend.\n"
     ]
    }
   ],
   "source": [
    "from keras.models import Sequential\n",
    "from keras.layers import Dense, Dropout, Input\n",
    "from keras.wrappers.scikit_learn import KerasClassifier\n",
    "from keras.utils.np_utils import to_categorical\n",
    "from keras import regularizers\n",
    "from keras.callbacks import EarlyStopping, ModelCheckpoint\n",
    "from keras.models import load_model"
   ]
  },
  {
   "cell_type": "code",
   "execution_count": 19,
   "metadata": {},
   "outputs": [],
   "source": [
    "X = data_new.drop('TripType', axis=1)\n",
    "\n",
    "trip_types = sorted(data_train.TripType.unique())\n",
    "trip_types_map = dict(zip(trip_types, np.arange(0, len(trip_types))))\n",
    "y = data_new.TripType.map(trip_types_map)\n",
    "\n",
    "X_train, X_test, y_train, y_test = train_test_split(X, y, test_size=0.25, random_state=42)"
   ]
  },
  {
   "cell_type": "code",
   "execution_count": 20,
   "metadata": {},
   "outputs": [
    {
     "data": {
      "text/plain": [
       "450"
      ]
     },
     "execution_count": 20,
     "metadata": {},
     "output_type": "execute_result"
    }
   ],
   "source": [
    "len(X.columns)"
   ]
  },
  {
   "cell_type": "code",
   "execution_count": 23,
   "metadata": {},
   "outputs": [],
   "source": [
    "def create_model_1hl(nodes_l1=512, dropout_l1=0.3):\n",
    "    model = Sequential()\n",
    "    model.add(Dense(output_dim=nodes_l1, activation=\"relu\", input_dim=len(X.columns)))\n",
    "    model.add(Dropout(dropout_l1))\n",
    "            \n",
    "    model.add(Dense(output_dim=len(trip_types), activation=\"softmax\"))\n",
    "    \n",
    "    model.compile(loss=\"categorical_crossentropy\", optimizer=\"rmsprop\", metrics=[\"accuracy\"])\n",
    "    \n",
    "    return model"
   ]
  },
  {
   "cell_type": "code",
   "execution_count": 24,
   "metadata": {},
   "outputs": [],
   "source": [
    "model_1hl = KerasClassifier(build_fn=create_model_1hl, epochs=100, batch_size=1000, verbose=2)"
   ]
  },
  {
   "cell_type": "code",
   "execution_count": 25,
   "metadata": {},
   "outputs": [],
   "source": [
    "callbacks = [EarlyStopping(monitor=\"val_acc\", patience=20), \n",
    "             ModelCheckpoint(filepath=\"best_model.h5\", monitor=\"val_acc\", save_best_only=True)]"
   ]
  },
  {
   "cell_type": "code",
   "execution_count": 26,
   "metadata": {},
   "outputs": [
    {
     "name": "stderr",
     "output_type": "stream",
     "text": [
      "WARNING: Logging before flag parsing goes to stderr.\n",
      "W0909 12:49:15.959316 25548 deprecation_wrapper.py:119] From C:\\Users\\Xiuquan\\Anaconda3\\lib\\site-packages\\keras\\backend\\tensorflow_backend.py:66: The name tf.get_default_graph is deprecated. Please use tf.compat.v1.get_default_graph instead.\n",
      "\n",
      "C:\\Users\\Xiuquan\\Anaconda3\\lib\\site-packages\\ipykernel_launcher.py:3: UserWarning: Update your `Dense` call to the Keras 2 API: `Dense(activation=\"relu\", input_dim=450, units=512)`\n",
      "  This is separate from the ipykernel package so we can avoid doing imports until\n",
      "W0909 12:49:16.203315 25548 deprecation_wrapper.py:119] From C:\\Users\\Xiuquan\\Anaconda3\\lib\\site-packages\\keras\\backend\\tensorflow_backend.py:541: The name tf.placeholder is deprecated. Please use tf.compat.v1.placeholder instead.\n",
      "\n",
      "W0909 12:49:16.233297 25548 deprecation_wrapper.py:119] From C:\\Users\\Xiuquan\\Anaconda3\\lib\\site-packages\\keras\\backend\\tensorflow_backend.py:4432: The name tf.random_uniform is deprecated. Please use tf.random.uniform instead.\n",
      "\n",
      "W0909 12:49:16.273272 25548 deprecation_wrapper.py:119] From C:\\Users\\Xiuquan\\Anaconda3\\lib\\site-packages\\keras\\backend\\tensorflow_backend.py:148: The name tf.placeholder_with_default is deprecated. Please use tf.compat.v1.placeholder_with_default instead.\n",
      "\n",
      "W0909 12:49:16.287263 25548 deprecation.py:506] From C:\\Users\\Xiuquan\\Anaconda3\\lib\\site-packages\\keras\\backend\\tensorflow_backend.py:3733: calling dropout (from tensorflow.python.ops.nn_ops) with keep_prob is deprecated and will be removed in a future version.\n",
      "Instructions for updating:\n",
      "Please use `rate` instead of `keep_prob`. Rate should be set to `rate = 1 - keep_prob`.\n",
      "C:\\Users\\Xiuquan\\Anaconda3\\lib\\site-packages\\ipykernel_launcher.py:6: UserWarning: Update your `Dense` call to the Keras 2 API: `Dense(activation=\"softmax\", units=38)`\n",
      "  \n",
      "W0909 12:49:16.336232 25548 deprecation_wrapper.py:119] From C:\\Users\\Xiuquan\\Anaconda3\\lib\\site-packages\\keras\\optimizers.py:793: The name tf.train.Optimizer is deprecated. Please use tf.compat.v1.train.Optimizer instead.\n",
      "\n",
      "W0909 12:49:16.372210 25548 deprecation_wrapper.py:119] From C:\\Users\\Xiuquan\\Anaconda3\\lib\\site-packages\\keras\\backend\\tensorflow_backend.py:3576: The name tf.log is deprecated. Please use tf.math.log instead.\n",
      "\n",
      "W0909 12:49:16.861974 25548 deprecation.py:323] From C:\\Users\\Xiuquan\\Anaconda3\\lib\\site-packages\\tensorflow\\python\\ops\\math_grad.py:1250: add_dispatch_support.<locals>.wrapper (from tensorflow.python.ops.array_ops) is deprecated and will be removed in a future version.\n",
      "Instructions for updating:\n",
      "Use tf.where in 2.0, which has the same broadcast rule as np.where\n"
     ]
    },
    {
     "name": "stdout",
     "output_type": "stream",
     "text": [
      "Train on 71755 samples, validate on 23919 samples\n",
      "Epoch 1/100\n",
      " - 7s - loss: 2.0219 - acc: 0.5237 - val_loss: 1.3091 - val_acc: 0.6542\n",
      "Epoch 2/100\n",
      " - 6s - loss: 1.1955 - acc: 0.6585 - val_loss: 1.0318 - val_acc: 0.6895\n",
      "Epoch 3/100\n",
      " - 6s - loss: 1.0214 - acc: 0.6883 - val_loss: 0.9423 - val_acc: 0.7037\n",
      "Epoch 4/100\n",
      " - 6s - loss: 0.9376 - acc: 0.7031 - val_loss: 0.8939 - val_acc: 0.7134\n",
      "Epoch 5/100\n",
      " - 6s - loss: 0.8839 - acc: 0.7142 - val_loss: 0.8693 - val_acc: 0.7142\n",
      "Epoch 6/100\n",
      " - 6s - loss: 0.8446 - acc: 0.7220 - val_loss: 0.8415 - val_acc: 0.7203\n",
      "Epoch 7/100\n",
      " - 6s - loss: 0.8140 - acc: 0.7278 - val_loss: 0.8312 - val_acc: 0.7239\n",
      "Epoch 8/100\n",
      " - 6s - loss: 0.7867 - acc: 0.7363 - val_loss: 0.8204 - val_acc: 0.7259\n",
      "Epoch 9/100\n",
      " - 6s - loss: 0.7671 - acc: 0.7401 - val_loss: 0.8089 - val_acc: 0.7259\n",
      "Epoch 10/100\n",
      " - 6s - loss: 0.7479 - acc: 0.7461 - val_loss: 0.8032 - val_acc: 0.7256\n",
      "Epoch 11/100\n",
      " - 6s - loss: 0.7317 - acc: 0.7509 - val_loss: 0.8034 - val_acc: 0.7277\n",
      "Epoch 12/100\n",
      " - 6s - loss: 0.7149 - acc: 0.7568 - val_loss: 0.7944 - val_acc: 0.7292\n",
      "Epoch 13/100\n",
      " - 6s - loss: 0.7017 - acc: 0.7600 - val_loss: 0.7886 - val_acc: 0.7294\n",
      "Epoch 14/100\n",
      " - 7s - loss: 0.6881 - acc: 0.7644 - val_loss: 0.7869 - val_acc: 0.7295\n",
      "Epoch 15/100\n",
      " - 6s - loss: 0.6771 - acc: 0.7664 - val_loss: 0.7888 - val_acc: 0.7293\n",
      "Epoch 16/100\n",
      " - 6s - loss: 0.6670 - acc: 0.7713 - val_loss: 0.7863 - val_acc: 0.7305\n",
      "Epoch 17/100\n",
      " - 6s - loss: 0.6544 - acc: 0.7755 - val_loss: 0.7871 - val_acc: 0.7281\n",
      "Epoch 18/100\n",
      " - 6s - loss: 0.6437 - acc: 0.7788 - val_loss: 0.7867 - val_acc: 0.7265\n",
      "Epoch 19/100\n",
      " - 6s - loss: 0.6345 - acc: 0.7810 - val_loss: 0.7883 - val_acc: 0.7290\n",
      "Epoch 20/100\n",
      " - 6s - loss: 0.6236 - acc: 0.7847 - val_loss: 0.7864 - val_acc: 0.7293\n",
      "Epoch 21/100\n",
      " - 6s - loss: 0.6123 - acc: 0.7876 - val_loss: 0.7878 - val_acc: 0.7290\n",
      "Epoch 22/100\n",
      " - 7s - loss: 0.6050 - acc: 0.7915 - val_loss: 0.7908 - val_acc: 0.7274\n",
      "Epoch 23/100\n",
      " - 6s - loss: 0.5963 - acc: 0.7944 - val_loss: 0.7888 - val_acc: 0.7290\n",
      "Epoch 24/100\n",
      " - 7s - loss: 0.5886 - acc: 0.7966 - val_loss: 0.7934 - val_acc: 0.7255\n",
      "Epoch 25/100\n",
      " - 7s - loss: 0.5818 - acc: 0.7992 - val_loss: 0.7931 - val_acc: 0.7291\n",
      "Epoch 26/100\n",
      " - 7s - loss: 0.5719 - acc: 0.8015 - val_loss: 0.7950 - val_acc: 0.7296\n",
      "Epoch 27/100\n",
      " - 7s - loss: 0.5670 - acc: 0.8031 - val_loss: 0.7982 - val_acc: 0.7287\n",
      "Epoch 28/100\n",
      " - 6s - loss: 0.5591 - acc: 0.8057 - val_loss: 0.8036 - val_acc: 0.7268\n",
      "Epoch 29/100\n",
      " - 7s - loss: 0.5540 - acc: 0.8067 - val_loss: 0.8052 - val_acc: 0.7285\n",
      "Epoch 30/100\n",
      " - 6s - loss: 0.5466 - acc: 0.8098 - val_loss: 0.8109 - val_acc: 0.7308\n",
      "Epoch 31/100\n",
      " - 7s - loss: 0.5400 - acc: 0.8116 - val_loss: 0.8142 - val_acc: 0.7270\n",
      "Epoch 32/100\n",
      " - 7s - loss: 0.5343 - acc: 0.8135 - val_loss: 0.8137 - val_acc: 0.7274\n",
      "Epoch 33/100\n",
      " - 6s - loss: 0.5269 - acc: 0.8173 - val_loss: 0.8210 - val_acc: 0.7259\n",
      "Epoch 34/100\n",
      " - 8s - loss: 0.5225 - acc: 0.8196 - val_loss: 0.8195 - val_acc: 0.7253\n",
      "Epoch 35/100\n",
      " - 7s - loss: 0.5135 - acc: 0.8221 - val_loss: 0.8227 - val_acc: 0.7234\n",
      "Epoch 36/100\n",
      " - 8s - loss: 0.5092 - acc: 0.8233 - val_loss: 0.8261 - val_acc: 0.7269\n",
      "Epoch 37/100\n",
      " - 7s - loss: 0.5057 - acc: 0.8241 - val_loss: 0.8331 - val_acc: 0.7243\n",
      "Epoch 38/100\n",
      " - 8s - loss: 0.4976 - acc: 0.8264 - val_loss: 0.8347 - val_acc: 0.7255\n",
      "Epoch 39/100\n",
      " - 7s - loss: 0.4934 - acc: 0.8281 - val_loss: 0.8373 - val_acc: 0.7263\n",
      "Epoch 40/100\n",
      " - 8s - loss: 0.4892 - acc: 0.8290 - val_loss: 0.8419 - val_acc: 0.7260\n",
      "Epoch 41/100\n",
      " - 7s - loss: 0.4836 - acc: 0.8320 - val_loss: 0.8462 - val_acc: 0.7263\n",
      "Epoch 42/100\n",
      " - 6s - loss: 0.4781 - acc: 0.8334 - val_loss: 0.8475 - val_acc: 0.7236\n",
      "Epoch 43/100\n",
      " - 8s - loss: 0.4727 - acc: 0.8353 - val_loss: 0.8525 - val_acc: 0.7242\n",
      "Epoch 44/100\n",
      " - 7s - loss: 0.4707 - acc: 0.8357 - val_loss: 0.8535 - val_acc: 0.7247\n",
      "Epoch 45/100\n",
      " - 7s - loss: 0.4669 - acc: 0.8375 - val_loss: 0.8647 - val_acc: 0.7243\n",
      "Epoch 46/100\n",
      " - 7s - loss: 0.4600 - acc: 0.8400 - val_loss: 0.8697 - val_acc: 0.7232\n",
      "Epoch 47/100\n",
      " - 8s - loss: 0.4566 - acc: 0.8407 - val_loss: 0.8687 - val_acc: 0.7231\n",
      "Epoch 48/100\n",
      " - 7s - loss: 0.4542 - acc: 0.8417 - val_loss: 0.8726 - val_acc: 0.7223\n",
      "Epoch 49/100\n",
      " - 7s - loss: 0.4487 - acc: 0.8442 - val_loss: 0.8850 - val_acc: 0.7226\n",
      "Epoch 50/100\n",
      " - 7s - loss: 0.4423 - acc: 0.8455 - val_loss: 0.8818 - val_acc: 0.7232\n"
     ]
    },
    {
     "data": {
      "text/plain": [
       "'0:05:30.926195'"
      ]
     },
     "execution_count": 26,
     "metadata": {},
     "output_type": "execute_result"
    }
   ],
   "source": [
    "start = datetime.now()\n",
    "hist_1hl = model_1hl.fit(X, y, validation_split=0.25, batch_size=1000, callbacks=callbacks)\n",
    "end = datetime.now()\n",
    "str(end-start)"
   ]
  },
  {
   "cell_type": "code",
   "execution_count": 95,
   "metadata": {},
   "outputs": [
    {
     "data": {
      "image/png": "[encoded data removed]",
      "text/plain": [
       "<Figure size 432x288 with 1 Axes>"
      ]
     },
     "metadata": {
      "needs_background": "light"
     },
     "output_type": "display_data"
    }
   ],
   "source": [
    "plt.plot(hist_1hl.history['acc'])\n",
    "plt.plot(hist_1hl.history['val_acc'])\n",
    "plt.title('model accuracy: batch size=1000')\n",
    "plt.ylabel('accuracy')\n",
    "plt.xlabel('epoch')\n",
    "plt.legend(['train', 'val'], loc='upper left')\n",
    "plt.show()"
   ]
  },
  {
   "cell_type": "code",
   "execution_count": 96,
   "metadata": {},
   "outputs": [
    {
     "data": {
      "image/png": "[encoded data removed]",
      "text/plain": [
       "<Figure size 432x288 with 1 Axes>"
      ]
     },
     "metadata": {
      "needs_background": "light"
     },
     "output_type": "display_data"
    }
   ],
   "source": [
    "plt.plot(hist_1hl.history['loss'])\n",
    "plt.plot(hist_1hl.history['val_loss'])\n",
    "plt.title('model loss: batch size=1000')\n",
    "plt.ylabel('loss')\n",
    "plt.xlabel('epoch')\n",
    "plt.legend(['train', 'val'], loc='upper left')\n",
    "plt.show()"
   ]
  },
  {
   "cell_type": "code",
   "execution_count": 29,
   "metadata": {},
   "outputs": [],
   "source": [
    "scoring = ['accuracy', 'neg_log_loss']\n",
    "cv = StratifiedKFold(n_splits=4)"
   ]
  },
  {
   "cell_type": "code",
   "execution_count": 31,
   "metadata": {},
   "outputs": [],
   "source": [
    "nn_1hl = KerasClassifier(build_fn=create_model_1hl, epochs=20, batch_size=1000, verbose=2)"
   ]
  },
  {
   "cell_type": "code",
   "execution_count": 32,
   "metadata": {},
   "outputs": [
    {
     "name": "stderr",
     "output_type": "stream",
     "text": [
      "C:\\Users\\Xiuquan\\Anaconda3\\lib\\site-packages\\ipykernel_launcher.py:3: UserWarning: Update your `Dense` call to the Keras 2 API: `Dense(activation=\"relu\", input_dim=450, units=512)`\n",
      "  This is separate from the ipykernel package so we can avoid doing imports until\n",
      "C:\\Users\\Xiuquan\\Anaconda3\\lib\\site-packages\\ipykernel_launcher.py:6: UserWarning: Update your `Dense` call to the Keras 2 API: `Dense(activation=\"softmax\", units=38)`\n",
      "  \n"
     ]
    },
    {
     "name": "stdout",
     "output_type": "stream",
     "text": [
      "Epoch 1/20\n",
      " - 6s - loss: 2.0192 - acc: 0.5242\n",
      "Epoch 2/20\n",
      " - 7s - loss: 1.2013 - acc: 0.6590\n",
      "Epoch 3/20\n",
      " - 6s - loss: 1.0234 - acc: 0.6891\n",
      "Epoch 4/20\n",
      " - 6s - loss: 0.9453 - acc: 0.7016\n",
      "Epoch 5/20\n",
      " - 6s - loss: 0.8877 - acc: 0.7127\n",
      "Epoch 6/20\n",
      " - 6s - loss: 0.8480 - acc: 0.7209\n",
      "Epoch 7/20\n",
      " - 6s - loss: 0.8185 - acc: 0.7274\n",
      "Epoch 8/20\n",
      " - 6s - loss: 0.7901 - acc: 0.7352\n",
      "Epoch 9/20\n",
      " - 5s - loss: 0.7693 - acc: 0.7399\n",
      "Epoch 10/20\n",
      " - 7s - loss: 0.7498 - acc: 0.7452\n",
      "Epoch 11/20\n",
      " - 6s - loss: 0.7331 - acc: 0.7498\n",
      "Epoch 12/20\n",
      " - 6s - loss: 0.7174 - acc: 0.7554\n",
      "Epoch 13/20\n",
      " - 6s - loss: 0.7037 - acc: 0.7589\n",
      "Epoch 14/20\n",
      " - 5s - loss: 0.6898 - acc: 0.7644\n",
      "Epoch 15/20\n",
      " - 6s - loss: 0.6773 - acc: 0.7651\n",
      "Epoch 16/20\n",
      " - 7s - loss: 0.6641 - acc: 0.7707\n",
      "Epoch 17/20\n",
      " - 6s - loss: 0.6535 - acc: 0.7744\n",
      "Epoch 18/20\n",
      " - 6s - loss: 0.6435 - acc: 0.7767\n",
      "Epoch 19/20\n",
      " - 5s - loss: 0.6353 - acc: 0.7807\n",
      "Epoch 20/20\n",
      " - 5s - loss: 0.6231 - acc: 0.7844\n"
     ]
    },
    {
     "name": "stderr",
     "output_type": "stream",
     "text": [
      "C:\\Users\\Xiuquan\\Anaconda3\\lib\\site-packages\\ipykernel_launcher.py:3: UserWarning: Update your `Dense` call to the Keras 2 API: `Dense(activation=\"relu\", input_dim=450, units=512)`\n",
      "  This is separate from the ipykernel package so we can avoid doing imports until\n",
      "C:\\Users\\Xiuquan\\Anaconda3\\lib\\site-packages\\ipykernel_launcher.py:6: UserWarning: Update your `Dense` call to the Keras 2 API: `Dense(activation=\"softmax\", units=38)`\n",
      "  \n"
     ]
    },
    {
     "name": "stdout",
     "output_type": "stream",
     "text": [
      "Epoch 1/20\n",
      " - 7s - loss: 2.0357 - acc: 0.5299\n",
      "Epoch 2/20\n",
      " - 5s - loss: 1.2003 - acc: 0.6589\n",
      "Epoch 3/20\n",
      " - 7s - loss: 1.0239 - acc: 0.6866\n",
      "Epoch 4/20\n",
      " - 6s - loss: 0.9417 - acc: 0.7038\n",
      "Epoch 5/20\n",
      " - 7s - loss: 0.8873 - acc: 0.7133\n",
      "Epoch 6/20\n",
      " - 7s - loss: 0.8477 - acc: 0.7225\n",
      "Epoch 7/20\n",
      " - 6s - loss: 0.8150 - acc: 0.7292\n",
      "Epoch 8/20\n",
      " - 7s - loss: 0.7900 - acc: 0.7360\n",
      "Epoch 9/20\n",
      " - 7s - loss: 0.7681 - acc: 0.7423\n",
      "Epoch 10/20\n",
      " - 7s - loss: 0.7500 - acc: 0.7459\n",
      "Epoch 11/20\n",
      " - 6s - loss: 0.7317 - acc: 0.7516\n",
      "Epoch 12/20\n",
      " - 6s - loss: 0.7164 - acc: 0.7544\n",
      "Epoch 13/20\n",
      " - 8s - loss: 0.7041 - acc: 0.7579\n",
      "Epoch 14/20\n",
      " - 6s - loss: 0.6894 - acc: 0.7641\n",
      "Epoch 15/20\n",
      " - 5s - loss: 0.6776 - acc: 0.7659\n",
      "Epoch 16/20\n",
      " - 7s - loss: 0.6671 - acc: 0.7701\n",
      "Epoch 17/20\n",
      " - 5s - loss: 0.6559 - acc: 0.7737\n",
      "Epoch 18/20\n",
      " - 5s - loss: 0.6429 - acc: 0.7788\n",
      "Epoch 19/20\n",
      " - 6s - loss: 0.6329 - acc: 0.7814\n",
      "Epoch 20/20\n",
      " - 5s - loss: 0.6234 - acc: 0.7833\n"
     ]
    },
    {
     "name": "stderr",
     "output_type": "stream",
     "text": [
      "C:\\Users\\Xiuquan\\Anaconda3\\lib\\site-packages\\ipykernel_launcher.py:3: UserWarning: Update your `Dense` call to the Keras 2 API: `Dense(activation=\"relu\", input_dim=450, units=512)`\n",
      "  This is separate from the ipykernel package so we can avoid doing imports until\n",
      "C:\\Users\\Xiuquan\\Anaconda3\\lib\\site-packages\\ipykernel_launcher.py:6: UserWarning: Update your `Dense` call to the Keras 2 API: `Dense(activation=\"softmax\", units=38)`\n",
      "  \n"
     ]
    },
    {
     "name": "stdout",
     "output_type": "stream",
     "text": [
      "Epoch 1/20\n",
      " - 6s - loss: 2.0304 - acc: 0.5225\n",
      "Epoch 2/20\n",
      " - 5s - loss: 1.1861 - acc: 0.6612\n",
      "Epoch 3/20\n",
      " - 6s - loss: 1.0063 - acc: 0.6932\n",
      "Epoch 4/20\n",
      " - 6s - loss: 0.9261 - acc: 0.7081\n",
      "Epoch 5/20\n",
      " - 7s - loss: 0.8715 - acc: 0.7183\n",
      "Epoch 6/20\n",
      " - 6s - loss: 0.8305 - acc: 0.7262\n",
      "Epoch 7/20\n",
      " - 6s - loss: 0.7993 - acc: 0.7339\n",
      "Epoch 8/20\n",
      " - 6s - loss: 0.7748 - acc: 0.7398\n",
      "Epoch 9/20\n",
      " - 8s - loss: 0.7524 - acc: 0.7443\n",
      "Epoch 10/20\n",
      " - 7s - loss: 0.7323 - acc: 0.7513\n",
      "Epoch 11/20\n",
      " - 7s - loss: 0.7146 - acc: 0.7556\n",
      "Epoch 12/20\n",
      " - 6s - loss: 0.7019 - acc: 0.7593\n",
      "Epoch 13/20\n",
      " - 6s - loss: 0.6863 - acc: 0.7641\n",
      "Epoch 14/20\n",
      " - 6s - loss: 0.6726 - acc: 0.7679\n",
      "Epoch 15/20\n",
      " - 6s - loss: 0.6615 - acc: 0.7729\n",
      "Epoch 16/20\n",
      " - 7s - loss: 0.6477 - acc: 0.7759\n",
      "Epoch 17/20\n",
      " - 6s - loss: 0.6383 - acc: 0.7788\n",
      "Epoch 18/20\n",
      " - 7s - loss: 0.6280 - acc: 0.7822\n",
      "Epoch 19/20\n",
      " - 6s - loss: 0.6183 - acc: 0.7851\n",
      "Epoch 20/20\n",
      " - 5s - loss: 0.6097 - acc: 0.7885\n"
     ]
    },
    {
     "name": "stderr",
     "output_type": "stream",
     "text": [
      "C:\\Users\\Xiuquan\\Anaconda3\\lib\\site-packages\\ipykernel_launcher.py:3: UserWarning: Update your `Dense` call to the Keras 2 API: `Dense(activation=\"relu\", input_dim=450, units=512)`\n",
      "  This is separate from the ipykernel package so we can avoid doing imports until\n",
      "C:\\Users\\Xiuquan\\Anaconda3\\lib\\site-packages\\ipykernel_launcher.py:6: UserWarning: Update your `Dense` call to the Keras 2 API: `Dense(activation=\"softmax\", units=38)`\n",
      "  \n"
     ]
    },
    {
     "name": "stdout",
     "output_type": "stream",
     "text": [
      "Epoch 1/20\n",
      " - 7s - loss: 2.0178 - acc: 0.5319\n",
      "Epoch 2/20\n",
      " - 6s - loss: 1.1969 - acc: 0.6569\n",
      "Epoch 3/20\n",
      " - 6s - loss: 1.0225 - acc: 0.6864\n",
      "Epoch 4/20\n",
      " - 6s - loss: 0.9380 - acc: 0.7011\n",
      "Epoch 5/20\n",
      " - 6s - loss: 0.8845 - acc: 0.7130\n",
      "Epoch 6/20\n",
      " - 8s - loss: 0.8450 - acc: 0.7208\n",
      "Epoch 7/20\n",
      " - 7s - loss: 0.8132 - acc: 0.7287\n",
      "Epoch 8/20\n",
      " - 8s - loss: 0.7889 - acc: 0.7343\n",
      "Epoch 9/20\n",
      " - 5s - loss: 0.7687 - acc: 0.7396\n",
      "Epoch 10/20\n",
      " - 6s - loss: 0.7479 - acc: 0.7457\n",
      "Epoch 11/20\n",
      " - 5s - loss: 0.7320 - acc: 0.7509\n",
      "Epoch 12/20\n",
      " - 5s - loss: 0.7167 - acc: 0.7553\n",
      "Epoch 13/20\n",
      " - 5s - loss: 0.7014 - acc: 0.7583\n",
      "Epoch 14/20\n",
      " - 5s - loss: 0.6896 - acc: 0.7621\n",
      "Epoch 15/20\n",
      " - 5s - loss: 0.6770 - acc: 0.7677\n",
      "Epoch 16/20\n",
      " - 5s - loss: 0.6645 - acc: 0.7706\n",
      "Epoch 17/20\n",
      " - 5s - loss: 0.6539 - acc: 0.7729\n",
      "Epoch 18/20\n",
      " - 5s - loss: 0.6422 - acc: 0.7792\n",
      "Epoch 19/20\n",
      " - 6s - loss: 0.6340 - acc: 0.7814\n",
      "Epoch 20/20\n",
      " - 5s - loss: 0.6248 - acc: 0.7844\n"
     ]
    },
    {
     "data": {
      "text/plain": [
       "'0:08:20.520567'"
      ]
     },
     "execution_count": 32,
     "metadata": {},
     "output_type": "execute_result"
    }
   ],
   "source": [
    "start = datetime.now()\n",
    "hist_cross_val = cross_validate(nn_1hl, X, y, scoring=scoring, cv=cv)\n",
    "end = datetime.now()\n",
    "str(end-start)"
   ]
  },
  {
   "cell_type": "code",
   "execution_count": 33,
   "metadata": {},
   "outputs": [
    {
     "data": {
      "text/plain": [
       "{'fit_time': array([121.30592537, 125.88338017, 126.39506435, 119.92405462]),\n",
       " 'score_time': array([2.09670615, 1.42212415, 1.49607825, 1.71794009]),\n",
       " 'test_accuracy': array([0.72498224, 0.72375737, 0.71694405, 0.72918932]),\n",
       " 'test_neg_log_loss': array([-0.81106142, -0.80622394, -0.85762089, -0.7897483 ])}"
      ]
     },
     "execution_count": 33,
     "metadata": {},
     "output_type": "execute_result"
    }
   ],
   "source": [
    "hist_cross_val"
   ]
  },
  {
   "cell_type": "code",
   "execution_count": 34,
   "metadata": {},
   "outputs": [
    {
     "data": {
      "text/plain": [
       "(0.7237182461154875, -0.8161636390834985)"
      ]
     },
     "execution_count": 34,
     "metadata": {},
     "output_type": "execute_result"
    }
   ],
   "source": [
    "hist_cross_val['test_accuracy'].mean(), hist_cross_val['test_neg_log_loss'].mean()"
   ]
  },
  {
   "cell_type": "code",
   "execution_count": 35,
   "metadata": {},
   "outputs": [],
   "source": [
    "nn_1hl = KerasClassifier(build_fn=create_model_1hl, epochs=30, batch_size=1000, verbose=2)"
   ]
  },
  {
   "cell_type": "code",
   "execution_count": 36,
   "metadata": {},
   "outputs": [
    {
     "name": "stderr",
     "output_type": "stream",
     "text": [
      "C:\\Users\\Xiuquan\\Anaconda3\\lib\\site-packages\\ipykernel_launcher.py:3: UserWarning: Update your `Dense` call to the Keras 2 API: `Dense(activation=\"relu\", input_dim=450, units=512)`\n",
      "  This is separate from the ipykernel package so we can avoid doing imports until\n",
      "C:\\Users\\Xiuquan\\Anaconda3\\lib\\site-packages\\ipykernel_launcher.py:6: UserWarning: Update your `Dense` call to the Keras 2 API: `Dense(activation=\"softmax\", units=38)`\n",
      "  \n"
     ]
    },
    {
     "name": "stdout",
     "output_type": "stream",
     "text": [
      "Epoch 1/30\n",
      " - 7s - loss: 2.0330 - acc: 0.5220\n",
      "Epoch 2/30\n",
      " - 6s - loss: 1.1959 - acc: 0.6596\n",
      "Epoch 3/30\n",
      " - 6s - loss: 1.0222 - acc: 0.6855\n",
      "Epoch 4/30\n",
      " - 6s - loss: 0.9405 - acc: 0.7034\n",
      "Epoch 5/30\n",
      " - 5s - loss: 0.8864 - acc: 0.7145\n",
      "Epoch 6/30\n",
      " - 6s - loss: 0.8471 - acc: 0.7221\n",
      "Epoch 7/30\n",
      " - 7s - loss: 0.8172 - acc: 0.7296\n",
      "Epoch 8/30\n",
      " - 7s - loss: 0.7895 - acc: 0.7350\n",
      "Epoch 9/30\n",
      " - 8s - loss: 0.7674 - acc: 0.7403\n",
      "Epoch 10/30\n",
      " - 7s - loss: 0.7495 - acc: 0.7475\n",
      "Epoch 11/30\n",
      " - 6s - loss: 0.7303 - acc: 0.7514\n",
      "Epoch 12/30\n",
      " - 6s - loss: 0.7145 - acc: 0.7562\n",
      "Epoch 13/30\n",
      " - 6s - loss: 0.7018 - acc: 0.7593\n",
      "Epoch 14/30\n",
      " - 8s - loss: 0.6881 - acc: 0.7634\n",
      "Epoch 15/30\n",
      " - 7s - loss: 0.6754 - acc: 0.7662\n",
      "Epoch 16/30\n",
      " - 8s - loss: 0.6634 - acc: 0.7712\n",
      "Epoch 17/30\n",
      " - 8s - loss: 0.6532 - acc: 0.7737\n",
      "Epoch 18/30\n",
      " - 6s - loss: 0.6432 - acc: 0.7775\n",
      "Epoch 19/30\n",
      " - 5s - loss: 0.6334 - acc: 0.7816\n",
      "Epoch 20/30\n",
      " - 5s - loss: 0.6237 - acc: 0.7839\n",
      "Epoch 21/30\n",
      " - 6s - loss: 0.6150 - acc: 0.7862\n",
      "Epoch 22/30\n",
      " - 6s - loss: 0.6070 - acc: 0.7895\n",
      "Epoch 23/30\n",
      " - 6s - loss: 0.5969 - acc: 0.7925\n",
      "Epoch 24/30\n",
      " - 5s - loss: 0.5881 - acc: 0.7955\n",
      "Epoch 25/30\n",
      " - 5s - loss: 0.5790 - acc: 0.7987\n",
      "Epoch 26/30\n",
      " - 5s - loss: 0.5714 - acc: 0.8004\n",
      "Epoch 27/30\n",
      " - 5s - loss: 0.5638 - acc: 0.8046\n",
      "Epoch 28/30\n",
      " - 5s - loss: 0.5581 - acc: 0.8067\n",
      "Epoch 29/30\n",
      " - 5s - loss: 0.5502 - acc: 0.8084\n",
      "Epoch 30/30\n",
      " - 6s - loss: 0.5439 - acc: 0.8105\n"
     ]
    },
    {
     "name": "stderr",
     "output_type": "stream",
     "text": [
      "C:\\Users\\Xiuquan\\Anaconda3\\lib\\site-packages\\ipykernel_launcher.py:3: UserWarning: Update your `Dense` call to the Keras 2 API: `Dense(activation=\"relu\", input_dim=450, units=512)`\n",
      "  This is separate from the ipykernel package so we can avoid doing imports until\n",
      "C:\\Users\\Xiuquan\\Anaconda3\\lib\\site-packages\\ipykernel_launcher.py:6: UserWarning: Update your `Dense` call to the Keras 2 API: `Dense(activation=\"softmax\", units=38)`\n",
      "  \n"
     ]
    },
    {
     "name": "stdout",
     "output_type": "stream",
     "text": [
      "Epoch 1/30\n",
      " - 5s - loss: 2.0059 - acc: 0.5271\n",
      "Epoch 2/30\n",
      " - 6s - loss: 1.1929 - acc: 0.6576\n",
      "Epoch 3/30\n",
      " - 5s - loss: 1.0201 - acc: 0.6879\n",
      "Epoch 4/30\n",
      " - 5s - loss: 0.9390 - acc: 0.7034\n",
      "Epoch 5/30\n",
      " - 6s - loss: 0.8851 - acc: 0.7141\n",
      "Epoch 6/30\n",
      " - 5s - loss: 0.8445 - acc: 0.7229\n",
      "Epoch 7/30\n",
      " - 5s - loss: 0.8135 - acc: 0.7304\n",
      "Epoch 8/30\n",
      " - 6s - loss: 0.7880 - acc: 0.7357\n",
      "Epoch 9/30\n",
      " - 5s - loss: 0.7672 - acc: 0.7413\n",
      "Epoch 10/30\n",
      " - 5s - loss: 0.7468 - acc: 0.7463\n",
      "Epoch 11/30\n",
      " - 6s - loss: 0.7315 - acc: 0.7503\n",
      "Epoch 12/30\n",
      " - 5s - loss: 0.7161 - acc: 0.7552\n",
      "Epoch 13/30\n",
      " - 6s - loss: 0.7003 - acc: 0.7601\n",
      "Epoch 14/30\n",
      " - 8s - loss: 0.6879 - acc: 0.7638\n",
      "Epoch 15/30\n",
      " - 5s - loss: 0.6752 - acc: 0.7688\n",
      "Epoch 16/30\n",
      " - 5s - loss: 0.6639 - acc: 0.7706\n",
      "Epoch 17/30\n",
      " - 5s - loss: 0.6534 - acc: 0.7732\n",
      "Epoch 18/30\n",
      " - 5s - loss: 0.6430 - acc: 0.7777\n",
      "Epoch 19/30\n",
      " - 5s - loss: 0.6325 - acc: 0.7807\n",
      "Epoch 20/30\n",
      " - 6s - loss: 0.6253 - acc: 0.7833\n",
      "Epoch 21/30\n",
      " - 5s - loss: 0.6142 - acc: 0.7877\n",
      "Epoch 22/30\n",
      " - 6s - loss: 0.6048 - acc: 0.7910\n",
      "Epoch 23/30\n",
      " - 5s - loss: 0.5979 - acc: 0.7928\n",
      "Epoch 24/30\n",
      " - 5s - loss: 0.5896 - acc: 0.7958\n",
      "Epoch 25/30\n",
      " - 6s - loss: 0.5801 - acc: 0.7981\n",
      "Epoch 26/30\n",
      " - 6s - loss: 0.5739 - acc: 0.8020\n",
      "Epoch 27/30\n",
      " - 6s - loss: 0.5663 - acc: 0.8037\n",
      "Epoch 28/30\n",
      " - 6s - loss: 0.5577 - acc: 0.8073\n",
      "Epoch 29/30\n",
      " - 5s - loss: 0.5498 - acc: 0.8079\n",
      "Epoch 30/30\n",
      " - 5s - loss: 0.5438 - acc: 0.8108\n"
     ]
    },
    {
     "name": "stderr",
     "output_type": "stream",
     "text": [
      "C:\\Users\\Xiuquan\\Anaconda3\\lib\\site-packages\\ipykernel_launcher.py:3: UserWarning: Update your `Dense` call to the Keras 2 API: `Dense(activation=\"relu\", input_dim=450, units=512)`\n",
      "  This is separate from the ipykernel package so we can avoid doing imports until\n",
      "C:\\Users\\Xiuquan\\Anaconda3\\lib\\site-packages\\ipykernel_launcher.py:6: UserWarning: Update your `Dense` call to the Keras 2 API: `Dense(activation=\"softmax\", units=38)`\n",
      "  \n"
     ]
    },
    {
     "name": "stdout",
     "output_type": "stream",
     "text": [
      "Epoch 1/30\n",
      " - 6s - loss: 2.0500 - acc: 0.5191\n",
      "Epoch 2/30\n",
      " - 5s - loss: 1.1937 - acc: 0.6593\n",
      "Epoch 3/30\n",
      " - 6s - loss: 1.0174 - acc: 0.6901\n",
      "Epoch 4/30\n",
      " - 5s - loss: 0.9323 - acc: 0.7074\n",
      "Epoch 5/30\n",
      " - 5s - loss: 0.8764 - acc: 0.7178\n",
      "Epoch 6/30\n",
      " - 7s - loss: 0.8340 - acc: 0.7269\n",
      "Epoch 7/30\n",
      " - 8s - loss: 0.8033 - acc: 0.7338\n",
      "Epoch 8/30\n",
      " - 9s - loss: 0.7765 - acc: 0.7403\n",
      "Epoch 9/30\n",
      " - 9s - loss: 0.7531 - acc: 0.7451\n",
      "Epoch 10/30\n",
      " - 10s - loss: 0.7354 - acc: 0.7504\n",
      "Epoch 11/30\n",
      " - 9s - loss: 0.7176 - acc: 0.7562\n",
      "Epoch 12/30\n",
      " - 11s - loss: 0.7030 - acc: 0.7586\n",
      "Epoch 13/30\n",
      " - 9s - loss: 0.6883 - acc: 0.7616\n",
      "Epoch 14/30\n",
      " - 9s - loss: 0.6767 - acc: 0.7655\n",
      "Epoch 15/30\n",
      " - 12s - loss: 0.6619 - acc: 0.7716\n",
      "Epoch 16/30\n",
      " - 9s - loss: 0.6514 - acc: 0.7748\n",
      "Epoch 17/30\n",
      " - 11s - loss: 0.6405 - acc: 0.7794\n",
      "Epoch 18/30\n",
      " - 11s - loss: 0.6295 - acc: 0.7821\n",
      "Epoch 19/30\n",
      " - 10s - loss: 0.6194 - acc: 0.7843\n",
      "Epoch 20/30\n",
      " - 8s - loss: 0.6102 - acc: 0.7883\n",
      "Epoch 21/30\n",
      " - 10s - loss: 0.6006 - acc: 0.7914\n",
      "Epoch 22/30\n",
      " - 10s - loss: 0.5922 - acc: 0.7928\n",
      "Epoch 23/30\n",
      " - 9s - loss: 0.5833 - acc: 0.7967\n",
      "Epoch 24/30\n",
      " - 8s - loss: 0.5737 - acc: 0.8020\n",
      "Epoch 25/30\n",
      " - 8s - loss: 0.5653 - acc: 0.8031\n",
      "Epoch 26/30\n",
      " - 8s - loss: 0.5607 - acc: 0.8050\n",
      "Epoch 27/30\n",
      " - 10s - loss: 0.5482 - acc: 0.8091\n",
      "Epoch 28/30\n",
      " - 12s - loss: 0.5450 - acc: 0.8100\n",
      "Epoch 29/30\n",
      " - 10s - loss: 0.5386 - acc: 0.8121\n",
      "Epoch 30/30\n",
      " - 11s - loss: 0.5311 - acc: 0.8147\n"
     ]
    },
    {
     "name": "stderr",
     "output_type": "stream",
     "text": [
      "C:\\Users\\Xiuquan\\Anaconda3\\lib\\site-packages\\ipykernel_launcher.py:3: UserWarning: Update your `Dense` call to the Keras 2 API: `Dense(activation=\"relu\", input_dim=450, units=512)`\n",
      "  This is separate from the ipykernel package so we can avoid doing imports until\n",
      "C:\\Users\\Xiuquan\\Anaconda3\\lib\\site-packages\\ipykernel_launcher.py:6: UserWarning: Update your `Dense` call to the Keras 2 API: `Dense(activation=\"softmax\", units=38)`\n",
      "  \n"
     ]
    },
    {
     "name": "stdout",
     "output_type": "stream",
     "text": [
      "Epoch 1/30\n",
      " - 11s - loss: 2.0132 - acc: 0.5343\n",
      "Epoch 2/30\n",
      " - 8s - loss: 1.1969 - acc: 0.6560\n",
      "Epoch 3/30\n",
      " - 8s - loss: 1.0196 - acc: 0.6864\n",
      "Epoch 4/30\n",
      " - 8s - loss: 0.9371 - acc: 0.7033\n",
      "Epoch 5/30\n",
      " - 8s - loss: 0.8848 - acc: 0.7136\n",
      "Epoch 6/30\n",
      " - 8s - loss: 0.8442 - acc: 0.7214\n",
      "Epoch 7/30\n",
      " - 8s - loss: 0.8141 - acc: 0.7298\n",
      "Epoch 8/30\n",
      " - 7s - loss: 0.7893 - acc: 0.7349\n",
      "Epoch 9/30\n",
      " - 8s - loss: 0.7675 - acc: 0.7399\n",
      "Epoch 10/30\n",
      " - 7s - loss: 0.7509 - acc: 0.7441\n",
      "Epoch 11/30\n",
      " - 8s - loss: 0.7302 - acc: 0.7498\n",
      "Epoch 12/30\n",
      " - 8s - loss: 0.7164 - acc: 0.7544\n",
      "Epoch 13/30\n",
      " - 10s - loss: 0.7013 - acc: 0.7595\n",
      "Epoch 14/30\n",
      " - 8s - loss: 0.6896 - acc: 0.7628\n",
      "Epoch 15/30\n",
      " - 9s - loss: 0.6767 - acc: 0.7670\n",
      "Epoch 16/30\n",
      " - 10s - loss: 0.6642 - acc: 0.7707\n",
      "Epoch 17/30\n",
      " - 8s - loss: 0.6541 - acc: 0.7750\n",
      "Epoch 18/30\n",
      " - 8s - loss: 0.6441 - acc: 0.7774\n",
      "Epoch 19/30\n",
      " - 8s - loss: 0.6350 - acc: 0.7802\n",
      "Epoch 20/30\n",
      " - 8s - loss: 0.6254 - acc: 0.7829\n",
      "Epoch 21/30\n",
      " - 8s - loss: 0.6135 - acc: 0.7872\n",
      "Epoch 22/30\n",
      " - 9s - loss: 0.6050 - acc: 0.7905\n",
      "Epoch 23/30\n",
      " - 8s - loss: 0.5989 - acc: 0.7927\n",
      "Epoch 24/30\n",
      " - 11s - loss: 0.5903 - acc: 0.7958\n",
      "Epoch 25/30\n",
      " - 10s - loss: 0.5836 - acc: 0.7970\n",
      "Epoch 26/30\n",
      " - 8s - loss: 0.5731 - acc: 0.7999\n",
      "Epoch 27/30\n",
      " - 8s - loss: 0.5670 - acc: 0.8038\n",
      "Epoch 28/30\n",
      " - 8s - loss: 0.5601 - acc: 0.8065\n",
      "Epoch 29/30\n",
      " - 9s - loss: 0.5537 - acc: 0.8080\n",
      "Epoch 30/30\n",
      " - 9s - loss: 0.5449 - acc: 0.8100\n"
     ]
    },
    {
     "data": {
      "text/plain": [
       "'0:14:44.436983'"
      ]
     },
     "execution_count": 36,
     "metadata": {},
     "output_type": "execute_result"
    }
   ],
   "source": [
    "start = datetime.now()\n",
    "hist_cross_val = cross_validate(nn_1hl, X, y, scoring=scoring, cv=cv)\n",
    "end = datetime.now()\n",
    "str(end-start)"
   ]
  },
  {
   "cell_type": "code",
   "execution_count": 37,
   "metadata": {},
   "outputs": [
    {
     "data": {
      "text/plain": [
       "{'fit_time': array([186.56425929, 165.83277106, 265.46831584, 257.24738407]),\n",
       " 'score_time': array([1.52905774, 1.95479488, 3.42688799, 2.20863795]),\n",
       " 'test_accuracy': array([0.72565078, 0.72693449, 0.71698587, 0.72663766]),\n",
       " 'test_neg_log_loss': array([-0.82519258, -0.82373511, -0.88569028, -0.81705462])}"
      ]
     },
     "execution_count": 37,
     "metadata": {},
     "output_type": "execute_result"
    }
   ],
   "source": [
    "hist_cross_val"
   ]
  },
  {
   "cell_type": "code",
   "execution_count": 38,
   "metadata": {},
   "outputs": [
    {
     "data": {
      "text/plain": [
       "(0.7240521994975538, -0.8379181482789095)"
      ]
     },
     "execution_count": 38,
     "metadata": {},
     "output_type": "execute_result"
    }
   ],
   "source": [
    "hist_cross_val['test_accuracy'].mean(), hist_cross_val['test_neg_log_loss'].mean()"
   ]
  },
  {
   "cell_type": "code",
   "execution_count": null,
   "metadata": {},
   "outputs": [],
   "source": []
  },
  {
   "cell_type": "code",
   "execution_count": null,
   "metadata": {},
   "outputs": [],
   "source": []
  },
  {
   "cell_type": "code",
   "execution_count": 97,
   "metadata": {},
   "outputs": [],
   "source": [
    "def create_model_1hl_v2(nodes_l1=512, dropout_l1=0.3):\n",
    "    model = Sequential()\n",
    "    model.add(Dense(output_dim=nodes_l1, activation=\"tanh\", input_dim=len(X.columns)))\n",
    "    model.add(Dropout(dropout_l1))\n",
    "            \n",
    "    model.add(Dense(output_dim=len(trip_types), activation=\"softmax\"))\n",
    "    \n",
    "    model.compile(loss=\"categorical_crossentropy\", optimizer=\"adadelta\", metrics=[\"accuracy\"])\n",
    "    \n",
    "    return model"
   ]
  },
  {
   "cell_type": "code",
   "execution_count": null,
   "metadata": {},
   "outputs": [],
   "source": []
  },
  {
   "cell_type": "code",
   "execution_count": null,
   "metadata": {},
   "outputs": [],
   "source": []
  },
  {
   "cell_type": "code",
   "execution_count": 98,
   "metadata": {},
   "outputs": [],
   "source": [
    "model_1hl_v2 = KerasClassifier(build_fn=create_model_1hl_v2, epochs=100, batch_size=1000, verbose=2)"
   ]
  },
  {
   "cell_type": "code",
   "execution_count": 99,
   "metadata": {},
   "outputs": [
    {
     "name": "stderr",
     "output_type": "stream",
     "text": [
      "C:\\Users\\Xiuquan\\Anaconda3\\lib\\site-packages\\ipykernel_launcher.py:3: UserWarning: Update your `Dense` call to the Keras 2 API: `Dense(activation=\"tanh\", input_dim=450, units=512)`\n",
      "  This is separate from the ipykernel package so we can avoid doing imports until\n",
      "C:\\Users\\Xiuquan\\Anaconda3\\lib\\site-packages\\ipykernel_launcher.py:6: UserWarning: Update your `Dense` call to the Keras 2 API: `Dense(activation=\"softmax\", units=38)`\n",
      "  \n"
     ]
    },
    {
     "name": "stdout",
     "output_type": "stream",
     "text": [
      "Train on 71755 samples, validate on 23919 samples\n",
      "Epoch 1/100\n",
      " - 107s - loss: 2.0193 - acc: 0.5197 - val_loss: 1.3578 - val_acc: 0.6322\n",
      "Epoch 2/100\n",
      " - 7s - loss: 1.2652 - acc: 0.6425 - val_loss: 1.1337 - val_acc: 0.6728\n",
      "Epoch 3/100\n",
      " - 7s - loss: 1.1285 - acc: 0.6637 - val_loss: 1.0518 - val_acc: 0.6869\n",
      "Epoch 4/100\n",
      " - 6s - loss: 1.0709 - acc: 0.6754 - val_loss: 1.0111 - val_acc: 0.6973\n",
      "Epoch 5/100\n",
      " - 7s - loss: 1.0389 - acc: 0.6846 - val_loss: 0.9885 - val_acc: 0.6997\n",
      "Epoch 6/100\n",
      " - 7s - loss: 1.0134 - acc: 0.6874 - val_loss: 0.9848 - val_acc: 0.6981\n",
      "Epoch 7/100\n",
      " - 8s - loss: 0.9961 - acc: 0.6929 - val_loss: 0.9608 - val_acc: 0.7053\n",
      "Epoch 8/100\n",
      " - 7s - loss: 0.9799 - acc: 0.6955 - val_loss: 0.9529 - val_acc: 0.7075\n",
      "Epoch 9/100\n",
      " - 7s - loss: 0.9682 - acc: 0.6977 - val_loss: 0.9438 - val_acc: 0.7076\n",
      "Epoch 10/100\n",
      " - 8s - loss: 0.9553 - acc: 0.7002 - val_loss: 0.9269 - val_acc: 0.7142\n",
      "Epoch 11/100\n",
      " - 7s - loss: 0.9487 - acc: 0.7016 - val_loss: 0.9255 - val_acc: 0.7112\n",
      "Epoch 12/100\n",
      " - 8s - loss: 0.9370 - acc: 0.7055 - val_loss: 0.9192 - val_acc: 0.7106\n",
      "Epoch 13/100\n",
      " - 6s - loss: 0.9290 - acc: 0.7069 - val_loss: 0.9133 - val_acc: 0.7132\n",
      "Epoch 14/100\n",
      " - 7s - loss: 0.9208 - acc: 0.7084 - val_loss: 0.9102 - val_acc: 0.7132\n",
      "Epoch 15/100\n",
      " - 7s - loss: 0.9181 - acc: 0.7079 - val_loss: 0.9118 - val_acc: 0.7132\n",
      "Epoch 16/100\n",
      " - 7s - loss: 0.9092 - acc: 0.7112 - val_loss: 0.8978 - val_acc: 0.7186\n",
      "Epoch 17/100\n",
      " - 7s - loss: 0.9034 - acc: 0.7132 - val_loss: 0.8960 - val_acc: 0.7163\n",
      "Epoch 18/100\n",
      " - 6s - loss: 0.8956 - acc: 0.7137 - val_loss: 0.9004 - val_acc: 0.7154\n",
      "Epoch 19/100\n",
      " - 8s - loss: 0.8912 - acc: 0.7141 - val_loss: 0.8871 - val_acc: 0.7209\n",
      "Epoch 20/100\n",
      " - 7s - loss: 0.8869 - acc: 0.7157 - val_loss: 0.8873 - val_acc: 0.7182\n",
      "Epoch 21/100\n",
      " - 9s - loss: 0.8829 - acc: 0.7170 - val_loss: 0.8847 - val_acc: 0.7172\n",
      "Epoch 22/100\n",
      " - 9s - loss: 0.8807 - acc: 0.7161 - val_loss: 0.8835 - val_acc: 0.7205\n",
      "Epoch 23/100\n",
      " - 8s - loss: 0.8753 - acc: 0.7179 - val_loss: 0.8810 - val_acc: 0.7210\n",
      "Epoch 24/100\n",
      " - 7s - loss: 0.8682 - acc: 0.7196 - val_loss: 0.8779 - val_acc: 0.7204\n",
      "Epoch 25/100\n",
      " - 8s - loss: 0.8665 - acc: 0.7195 - val_loss: 0.8782 - val_acc: 0.7187\n",
      "Epoch 26/100\n",
      " - 7s - loss: 0.8648 - acc: 0.7183 - val_loss: 0.8751 - val_acc: 0.7222\n",
      "Epoch 27/100\n",
      " - 7s - loss: 0.8601 - acc: 0.7213 - val_loss: 0.8663 - val_acc: 0.7245\n",
      "Epoch 28/100\n",
      " - 7s - loss: 0.8566 - acc: 0.7205 - val_loss: 0.8685 - val_acc: 0.7246\n",
      "Epoch 29/100\n",
      " - 8s - loss: 0.8538 - acc: 0.7224 - val_loss: 0.8691 - val_acc: 0.7231\n",
      "Epoch 30/100\n",
      " - 10s - loss: 0.8508 - acc: 0.7215 - val_loss: 0.8608 - val_acc: 0.7245\n",
      "Epoch 31/100\n",
      " - 10s - loss: 0.8494 - acc: 0.7247 - val_loss: 0.8628 - val_acc: 0.7228\n",
      "Epoch 32/100\n",
      " - 8s - loss: 0.8446 - acc: 0.7250 - val_loss: 0.8746 - val_acc: 0.7202\n",
      "Epoch 33/100\n",
      " - 9s - loss: 0.8412 - acc: 0.7240 - val_loss: 0.8625 - val_acc: 0.7253\n",
      "Epoch 34/100\n",
      " - 8s - loss: 0.8388 - acc: 0.7253 - val_loss: 0.8610 - val_acc: 0.7232\n",
      "Epoch 35/100\n",
      " - 11s - loss: 0.8351 - acc: 0.7261 - val_loss: 0.8597 - val_acc: 0.7250\n",
      "Epoch 36/100\n",
      " - 7s - loss: 0.8345 - acc: 0.7267 - val_loss: 0.8627 - val_acc: 0.7219\n",
      "Epoch 37/100\n",
      " - 7s - loss: 0.8308 - acc: 0.7274 - val_loss: 0.8578 - val_acc: 0.7244\n",
      "Epoch 38/100\n",
      " - 7s - loss: 0.8301 - acc: 0.7271 - val_loss: 0.8609 - val_acc: 0.7244\n",
      "Epoch 39/100\n",
      " - 7s - loss: 0.8287 - acc: 0.7273 - val_loss: 0.8677 - val_acc: 0.7206\n",
      "Epoch 40/100\n",
      " - 6s - loss: 0.8257 - acc: 0.7269 - val_loss: 0.8512 - val_acc: 0.7257\n",
      "Epoch 41/100\n",
      " - 9s - loss: 0.8228 - acc: 0.7274 - val_loss: 0.8543 - val_acc: 0.7242\n",
      "Epoch 42/100\n",
      " - 7s - loss: 0.8203 - acc: 0.7295 - val_loss: 0.8525 - val_acc: 0.7249\n",
      "Epoch 43/100\n",
      " - 7s - loss: 0.8186 - acc: 0.7296 - val_loss: 0.8513 - val_acc: 0.7251\n",
      "Epoch 44/100\n",
      " - 9s - loss: 0.8126 - acc: 0.7319 - val_loss: 0.8572 - val_acc: 0.7237\n",
      "Epoch 45/100\n",
      " - 8s - loss: 0.8142 - acc: 0.7289 - val_loss: 0.8542 - val_acc: 0.7211\n",
      "Epoch 46/100\n",
      " - 7s - loss: 0.8126 - acc: 0.7302 - val_loss: 0.8594 - val_acc: 0.7267\n",
      "Epoch 47/100\n",
      " - 7s - loss: 0.8095 - acc: 0.7321 - val_loss: 0.8502 - val_acc: 0.7243\n",
      "Epoch 48/100\n",
      " - 7s - loss: 0.8092 - acc: 0.7313 - val_loss: 0.8530 - val_acc: 0.7275\n",
      "Epoch 49/100\n",
      " - 8s - loss: 0.8052 - acc: 0.7330 - val_loss: 0.8530 - val_acc: 0.7224\n",
      "Epoch 50/100\n",
      " - 8s - loss: 0.8039 - acc: 0.7327 - val_loss: 0.8462 - val_acc: 0.7292\n",
      "Epoch 51/100\n",
      " - 8s - loss: 0.8019 - acc: 0.7334 - val_loss: 0.8519 - val_acc: 0.7252\n",
      "Epoch 52/100\n",
      " - 7s - loss: 0.8009 - acc: 0.7340 - val_loss: 0.8534 - val_acc: 0.7267\n",
      "Epoch 53/100\n",
      " - 7s - loss: 0.7991 - acc: 0.7338 - val_loss: 0.8461 - val_acc: 0.7226\n",
      "Epoch 54/100\n",
      " - 7s - loss: 0.7966 - acc: 0.7343 - val_loss: 0.8425 - val_acc: 0.7262\n",
      "Epoch 55/100\n",
      " - 7s - loss: 0.7984 - acc: 0.7345 - val_loss: 0.8412 - val_acc: 0.7267\n",
      "Epoch 56/100\n",
      " - 7s - loss: 0.7961 - acc: 0.7348 - val_loss: 0.8432 - val_acc: 0.7280\n",
      "Epoch 57/100\n",
      " - 10s - loss: 0.7934 - acc: 0.7336 - val_loss: 0.8469 - val_acc: 0.7265\n",
      "Epoch 58/100\n",
      " - 10s - loss: 0.7938 - acc: 0.7350 - val_loss: 0.8417 - val_acc: 0.7254\n",
      "Epoch 59/100\n",
      " - 10s - loss: 0.7914 - acc: 0.7366 - val_loss: 0.8428 - val_acc: 0.7257\n",
      "Epoch 60/100\n",
      " - 10s - loss: 0.7884 - acc: 0.7370 - val_loss: 0.8435 - val_acc: 0.7257\n",
      "Epoch 61/100\n",
      " - 11s - loss: 0.7868 - acc: 0.7363 - val_loss: 0.8371 - val_acc: 0.7254\n",
      "Epoch 62/100\n",
      " - 14s - loss: 0.7851 - acc: 0.7372 - val_loss: 0.8456 - val_acc: 0.7254\n",
      "Epoch 63/100\n",
      " - 10s - loss: 0.7853 - acc: 0.7362 - val_loss: 0.8375 - val_acc: 0.7262\n",
      "Epoch 64/100\n",
      " - 10s - loss: 0.7837 - acc: 0.7382 - val_loss: 0.8380 - val_acc: 0.7238\n",
      "Epoch 65/100\n",
      " - 10s - loss: 0.7804 - acc: 0.7383 - val_loss: 0.8379 - val_acc: 0.7237\n",
      "Epoch 66/100\n",
      " - 9s - loss: 0.7798 - acc: 0.7384 - val_loss: 0.8399 - val_acc: 0.7259\n",
      "Epoch 67/100\n",
      " - 10s - loss: 0.7795 - acc: 0.7377 - val_loss: 0.8398 - val_acc: 0.7249\n",
      "Epoch 68/100\n",
      " - 10s - loss: 0.7785 - acc: 0.7382 - val_loss: 0.8344 - val_acc: 0.7242\n",
      "Epoch 69/100\n",
      " - 10s - loss: 0.7778 - acc: 0.7379 - val_loss: 0.8393 - val_acc: 0.7249\n",
      "Epoch 70/100\n",
      " - 10s - loss: 0.7772 - acc: 0.7387 - val_loss: 0.8374 - val_acc: 0.7252\n"
     ]
    },
    {
     "data": {
      "text/plain": [
       "'0:11:56.049015'"
      ]
     },
     "execution_count": 99,
     "metadata": {},
     "output_type": "execute_result"
    }
   ],
   "source": [
    "start = datetime.now()\n",
    "hist_1hl_v2 = model_1hl_v2.fit(X, y, validation_split=0.25, callbacks=callbacks)\n",
    "end = datetime.now()\n",
    "str(end-start)"
   ]
  },
  {
   "cell_type": "code",
   "execution_count": null,
   "metadata": {},
   "outputs": [],
   "source": []
  },
  {
   "cell_type": "code",
   "execution_count": null,
   "metadata": {},
   "outputs": [],
   "source": []
  },
  {
   "cell_type": "code",
   "execution_count": null,
   "metadata": {},
   "outputs": [],
   "source": []
  },
  {
   "cell_type": "code",
   "execution_count": null,
   "metadata": {},
   "outputs": [],
   "source": []
  },
  {
   "cell_type": "code",
   "execution_count": 55,
   "metadata": {},
   "outputs": [],
   "source": [
    "nn_1hl_bsz2000 = KerasClassifier(build_fn=create_model_1hl, epochs=100, batch_size=2000, verbose=2)"
   ]
  },
  {
   "cell_type": "code",
   "execution_count": 56,
   "metadata": {},
   "outputs": [
    {
     "name": "stderr",
     "output_type": "stream",
     "text": [
      "C:\\Users\\Xiuquan\\Anaconda3\\lib\\site-packages\\ipykernel_launcher.py:3: UserWarning: Update your `Dense` call to the Keras 2 API: `Dense(activation=\"relu\", input_dim=450, units=512)`\n",
      "  This is separate from the ipykernel package so we can avoid doing imports until\n",
      "C:\\Users\\Xiuquan\\Anaconda3\\lib\\site-packages\\ipykernel_launcher.py:6: UserWarning: Update your `Dense` call to the Keras 2 API: `Dense(activation=\"softmax\", units=38)`\n",
      "  \n"
     ]
    },
    {
     "name": "stdout",
     "output_type": "stream",
     "text": [
      "Train on 71755 samples, validate on 23919 samples\n",
      "Epoch 1/100\n",
      " - 13s - loss: 2.4161 - acc: 0.4721 - val_loss: 1.6955 - val_acc: 0.6129\n",
      "Epoch 2/100\n",
      " - 11s - loss: 1.4901 - acc: 0.6216 - val_loss: 1.2364 - val_acc: 0.6661\n",
      "Epoch 3/100\n",
      " - 11s - loss: 1.1941 - acc: 0.6596 - val_loss: 1.0661 - val_acc: 0.6906\n",
      "Epoch 4/100\n",
      " - 11s - loss: 1.0658 - acc: 0.6792 - val_loss: 0.9882 - val_acc: 0.6990\n",
      "Epoch 5/100\n",
      " - 11s - loss: 0.9942 - acc: 0.6921 - val_loss: 0.9412 - val_acc: 0.7068\n",
      "Epoch 6/100\n",
      " - 11s - loss: 0.9403 - acc: 0.7027 - val_loss: 0.9111 - val_acc: 0.7083\n",
      "Epoch 7/100\n",
      " - 11s - loss: 0.9021 - acc: 0.7099 - val_loss: 0.8877 - val_acc: 0.7147\n",
      "Epoch 8/100\n",
      " - 11s - loss: 0.8708 - acc: 0.7182 - val_loss: 0.8647 - val_acc: 0.7198\n",
      "Epoch 9/100\n",
      " - 11s - loss: 0.8420 - acc: 0.7240 - val_loss: 0.8497 - val_acc: 0.7216\n",
      "Epoch 10/100\n",
      " - 11s - loss: 0.8229 - acc: 0.7267 - val_loss: 0.8398 - val_acc: 0.7198\n",
      "Epoch 11/100\n",
      " - 11s - loss: 0.8014 - acc: 0.7334 - val_loss: 0.8293 - val_acc: 0.7231\n",
      "Epoch 12/100\n",
      " - 11s - loss: 0.7841 - acc: 0.7360 - val_loss: 0.8224 - val_acc: 0.7260\n",
      "Epoch 13/100\n",
      " - 11s - loss: 0.7692 - acc: 0.7402 - val_loss: 0.8133 - val_acc: 0.7279\n",
      "Epoch 14/100\n",
      " - 12s - loss: 0.7545 - acc: 0.7452 - val_loss: 0.8107 - val_acc: 0.7287\n",
      "Epoch 15/100\n",
      " - 11s - loss: 0.7415 - acc: 0.7482 - val_loss: 0.8156 - val_acc: 0.7271\n",
      "Epoch 16/100\n",
      " - 11s - loss: 0.7288 - acc: 0.7515 - val_loss: 0.8007 - val_acc: 0.7280\n",
      "Epoch 17/100\n",
      " - 11s - loss: 0.7189 - acc: 0.7550 - val_loss: 0.7995 - val_acc: 0.7313\n",
      "Epoch 18/100\n",
      " - 11s - loss: 0.7067 - acc: 0.7584 - val_loss: 0.7954 - val_acc: 0.7314\n",
      "Epoch 19/100\n",
      " - 12s - loss: 0.6948 - acc: 0.7615 - val_loss: 0.7912 - val_acc: 0.7294\n",
      "Epoch 20/100\n",
      " - 11s - loss: 0.6863 - acc: 0.7643 - val_loss: 0.7956 - val_acc: 0.7285\n",
      "Epoch 21/100\n",
      " - 11s - loss: 0.6771 - acc: 0.7675 - val_loss: 0.7916 - val_acc: 0.7316\n",
      "Epoch 22/100\n",
      " - 11s - loss: 0.6709 - acc: 0.7697 - val_loss: 0.7914 - val_acc: 0.7285\n",
      "Epoch 23/100\n",
      " - 11s - loss: 0.6626 - acc: 0.7717 - val_loss: 0.7936 - val_acc: 0.7312\n",
      "Epoch 24/100\n",
      " - 11s - loss: 0.6524 - acc: 0.7750 - val_loss: 0.7878 - val_acc: 0.7309\n",
      "Epoch 25/100\n",
      " - 11s - loss: 0.6444 - acc: 0.7781 - val_loss: 0.7854 - val_acc: 0.7300\n",
      "Epoch 26/100\n",
      " - 11s - loss: 0.6379 - acc: 0.7800 - val_loss: 0.7885 - val_acc: 0.7282\n",
      "Epoch 27/100\n",
      " - 11s - loss: 0.6305 - acc: 0.7827 - val_loss: 0.7823 - val_acc: 0.7304\n",
      "Epoch 28/100\n",
      " - 11s - loss: 0.6238 - acc: 0.7841 - val_loss: 0.7859 - val_acc: 0.7291\n",
      "Epoch 29/100\n",
      " - 11s - loss: 0.6164 - acc: 0.7857 - val_loss: 0.7868 - val_acc: 0.7322\n",
      "Epoch 30/100\n",
      " - 11s - loss: 0.6084 - acc: 0.7906 - val_loss: 0.7851 - val_acc: 0.7310\n",
      "Epoch 31/100\n",
      " - 11s - loss: 0.6040 - acc: 0.7915 - val_loss: 0.7863 - val_acc: 0.7302\n",
      "Epoch 32/100\n",
      " - 11s - loss: 0.5973 - acc: 0.7928 - val_loss: 0.7857 - val_acc: 0.7294\n",
      "Epoch 33/100\n",
      " - 11s - loss: 0.5908 - acc: 0.7942 - val_loss: 0.7905 - val_acc: 0.7303\n",
      "Epoch 34/100\n",
      " - 11s - loss: 0.5840 - acc: 0.7985 - val_loss: 0.7885 - val_acc: 0.7291\n",
      "Epoch 35/100\n",
      " - 11s - loss: 0.5784 - acc: 0.7994 - val_loss: 0.7922 - val_acc: 0.7295\n",
      "Epoch 36/100\n",
      " - 11s - loss: 0.5740 - acc: 0.8012 - val_loss: 0.7914 - val_acc: 0.7305\n",
      "Epoch 37/100\n",
      " - 11s - loss: 0.5690 - acc: 0.8040 - val_loss: 0.7938 - val_acc: 0.7293\n",
      "Epoch 38/100\n",
      " - 11s - loss: 0.5621 - acc: 0.8061 - val_loss: 0.8039 - val_acc: 0.7280\n",
      "Epoch 39/100\n",
      " - 11s - loss: 0.5577 - acc: 0.8052 - val_loss: 0.7955 - val_acc: 0.7290\n",
      "Epoch 40/100\n",
      " - 11s - loss: 0.5519 - acc: 0.8094 - val_loss: 0.7956 - val_acc: 0.7281\n",
      "Epoch 41/100\n",
      " - 11s - loss: 0.5479 - acc: 0.8106 - val_loss: 0.8015 - val_acc: 0.7277\n",
      "Epoch 42/100\n",
      " - 11s - loss: 0.5424 - acc: 0.8128 - val_loss: 0.7995 - val_acc: 0.7309\n",
      "Epoch 43/100\n",
      " - 11s - loss: 0.5366 - acc: 0.8124 - val_loss: 0.8009 - val_acc: 0.7284\n",
      "Epoch 44/100\n",
      " - 11s - loss: 0.5322 - acc: 0.8156 - val_loss: 0.8037 - val_acc: 0.7279\n",
      "Epoch 45/100\n",
      " - 11s - loss: 0.5286 - acc: 0.8168 - val_loss: 0.8065 - val_acc: 0.7293\n",
      "Epoch 46/100\n",
      " - 11s - loss: 0.5234 - acc: 0.8180 - val_loss: 0.8074 - val_acc: 0.7264\n",
      "Epoch 47/100\n",
      " - 11s - loss: 0.5200 - acc: 0.8183 - val_loss: 0.8116 - val_acc: 0.7313\n",
      "Epoch 48/100\n",
      " - 11s - loss: 0.5160 - acc: 0.8221 - val_loss: 0.8105 - val_acc: 0.7293\n",
      "Epoch 49/100\n",
      " - 11s - loss: 0.5088 - acc: 0.8243 - val_loss: 0.8160 - val_acc: 0.7277\n"
     ]
    },
    {
     "data": {
      "text/plain": [
       "'0:09:00.802094'"
      ]
     },
     "execution_count": 56,
     "metadata": {},
     "output_type": "execute_result"
    }
   ],
   "source": [
    "start = datetime.now()\n",
    "hist_1hl_bsz2000 = nn_1hl_bsz2000.fit(X, y, validation_split=0.25, callbacks=callbacks)\n",
    "end = datetime.now()\n",
    "str(end-start)"
   ]
  },
  {
   "cell_type": "code",
   "execution_count": 93,
   "metadata": {},
   "outputs": [
    {
     "data": {
      "image/png": "[encoded data removed]",
      "text/plain": [
       "<Figure size 432x288 with 1 Axes>"
      ]
     },
     "metadata": {
      "needs_background": "light"
     },
     "output_type": "display_data"
    }
   ],
   "source": [
    "plt.plot(hist_1hl_bsz2000.history['acc'])\n",
    "plt.plot(hist_1hl_bsz2000.history['val_acc'])\n",
    "plt.title('model accuracy: batch size=2000')\n",
    "plt.ylabel('accuracy')\n",
    "plt.xlabel('epoch')\n",
    "plt.legend(['train', 'val'], loc='upper left')\n",
    "plt.show()"
   ]
  },
  {
   "cell_type": "code",
   "execution_count": 94,
   "metadata": {},
   "outputs": [
    {
     "data": {
      "image/png": "[encoded data removed]",
      "text/plain": [
       "<Figure size 432x288 with 1 Axes>"
      ]
     },
     "metadata": {
      "needs_background": "light"
     },
     "output_type": "display_data"
    }
   ],
   "source": [
    "plt.plot(hist_1hl_bsz2000.history['loss'])\n",
    "plt.plot(hist_1hl_bsz2000.history['val_loss'])\n",
    "plt.title('model loss: batch size=2000')\n",
    "plt.ylabel('loss')\n",
    "plt.xlabel('epoch')\n",
    "plt.legend(['train', 'val'], loc='upper left')\n",
    "plt.show()"
   ]
  },
  {
   "cell_type": "code",
   "execution_count": null,
   "metadata": {},
   "outputs": [],
   "source": []
  },
  {
   "cell_type": "code",
   "execution_count": 57,
   "metadata": {},
   "outputs": [],
   "source": [
    "nn_1hl_bsz2000 = KerasClassifier(build_fn=create_model_1hl, epochs=30, batch_size=2000, verbose=2)"
   ]
  },
  {
   "cell_type": "code",
   "execution_count": 58,
   "metadata": {},
   "outputs": [
    {
     "name": "stderr",
     "output_type": "stream",
     "text": [
      "C:\\Users\\Xiuquan\\Anaconda3\\lib\\site-packages\\ipykernel_launcher.py:3: UserWarning: Update your `Dense` call to the Keras 2 API: `Dense(activation=\"relu\", input_dim=450, units=512)`\n",
      "  This is separate from the ipykernel package so we can avoid doing imports until\n",
      "C:\\Users\\Xiuquan\\Anaconda3\\lib\\site-packages\\ipykernel_launcher.py:6: UserWarning: Update your `Dense` call to the Keras 2 API: `Dense(activation=\"softmax\", units=38)`\n",
      "  \n"
     ]
    },
    {
     "name": "stdout",
     "output_type": "stream",
     "text": [
      "Epoch 1/30\n",
      " - 11s - loss: 2.4104 - acc: 0.4678\n",
      "Epoch 2/30\n",
      " - 10s - loss: 1.4970 - acc: 0.6246\n",
      "Epoch 3/30\n",
      " - 10s - loss: 1.1995 - acc: 0.6589\n",
      "Epoch 4/30\n",
      " - 10s - loss: 1.0675 - acc: 0.6814\n",
      "Epoch 5/30\n",
      " - 10s - loss: 0.9927 - acc: 0.6938\n",
      "Epoch 6/30\n",
      " - 10s - loss: 0.9402 - acc: 0.7036\n",
      "Epoch 7/30\n",
      " - 10s - loss: 0.8997 - acc: 0.7114\n",
      "Epoch 8/30\n",
      " - 10s - loss: 0.8694 - acc: 0.7169\n",
      "Epoch 9/30\n",
      " - 10s - loss: 0.8432 - acc: 0.7231\n",
      "Epoch 10/30\n",
      " - 10s - loss: 0.8211 - acc: 0.7267\n",
      "Epoch 11/30\n",
      " - 10s - loss: 0.7991 - acc: 0.7324\n",
      "Epoch 12/30\n",
      " - 9s - loss: 0.7819 - acc: 0.7380\n",
      "Epoch 13/30\n",
      " - 10s - loss: 0.7680 - acc: 0.7397\n",
      "Epoch 14/30\n",
      " - 10s - loss: 0.7508 - acc: 0.7461\n",
      "Epoch 15/30\n",
      " - 10s - loss: 0.7400 - acc: 0.7488\n",
      "Epoch 16/30\n",
      " - 10s - loss: 0.7266 - acc: 0.7532\n",
      "Epoch 17/30\n",
      " - 10s - loss: 0.7154 - acc: 0.7553\n",
      "Epoch 18/30\n",
      " - 10s - loss: 0.7038 - acc: 0.7593\n",
      "Epoch 19/30\n",
      " - 9s - loss: 0.6940 - acc: 0.7618\n",
      "Epoch 20/30\n",
      " - 10s - loss: 0.6841 - acc: 0.7659\n",
      "Epoch 21/30\n",
      " - 10s - loss: 0.6768 - acc: 0.7665\n",
      "Epoch 22/30\n",
      " - 10s - loss: 0.6675 - acc: 0.7702\n",
      "Epoch 23/30\n",
      " - 10s - loss: 0.6587 - acc: 0.7738\n",
      "Epoch 24/30\n",
      " - 10s - loss: 0.6489 - acc: 0.7766\n",
      "Epoch 25/30\n",
      " - 10s - loss: 0.6433 - acc: 0.7786\n",
      "Epoch 26/30\n",
      " - 10s - loss: 0.6339 - acc: 0.7809\n",
      "Epoch 27/30\n",
      " - 10s - loss: 0.6286 - acc: 0.7836\n",
      "Epoch 28/30\n",
      " - 10s - loss: 0.6203 - acc: 0.7856\n",
      "Epoch 29/30\n",
      " - 10s - loss: 0.6130 - acc: 0.7879\n",
      "Epoch 30/30\n",
      " - 10s - loss: 0.6063 - acc: 0.7905\n"
     ]
    },
    {
     "name": "stderr",
     "output_type": "stream",
     "text": [
      "C:\\Users\\Xiuquan\\Anaconda3\\lib\\site-packages\\ipykernel_launcher.py:3: UserWarning: Update your `Dense` call to the Keras 2 API: `Dense(activation=\"relu\", input_dim=450, units=512)`\n",
      "  This is separate from the ipykernel package so we can avoid doing imports until\n",
      "C:\\Users\\Xiuquan\\Anaconda3\\lib\\site-packages\\ipykernel_launcher.py:6: UserWarning: Update your `Dense` call to the Keras 2 API: `Dense(activation=\"softmax\", units=38)`\n",
      "  \n"
     ]
    },
    {
     "name": "stdout",
     "output_type": "stream",
     "text": [
      "Epoch 1/30\n",
      " - 7s - loss: 2.4107 - acc: 0.4662\n",
      "Epoch 2/30\n",
      " - 5s - loss: 1.4943 - acc: 0.6230\n",
      "Epoch 3/30\n",
      " - 5s - loss: 1.1930 - acc: 0.6611\n",
      "Epoch 4/30\n",
      " - 5s - loss: 1.0604 - acc: 0.6829\n",
      "Epoch 5/30\n",
      " - 5s - loss: 0.9864 - acc: 0.6950\n",
      "Epoch 6/30\n",
      " - 5s - loss: 0.9327 - acc: 0.7053\n",
      "Epoch 7/30\n",
      " - 5s - loss: 0.8962 - acc: 0.7123\n",
      "Epoch 8/30\n",
      " - 5s - loss: 0.8643 - acc: 0.7172\n",
      "Epoch 9/30\n",
      " - 5s - loss: 0.8388 - acc: 0.7233\n",
      "Epoch 10/30\n",
      " - 5s - loss: 0.8155 - acc: 0.7315\n",
      "Epoch 11/30\n",
      " - 5s - loss: 0.7974 - acc: 0.7348\n",
      "Epoch 12/30\n",
      " - 5s - loss: 0.7787 - acc: 0.7395\n",
      "Epoch 13/30\n",
      " - 5s - loss: 0.7626 - acc: 0.7426\n",
      "Epoch 14/30\n",
      " - 6s - loss: 0.7515 - acc: 0.7465\n",
      "Epoch 15/30\n",
      " - 8s - loss: 0.7363 - acc: 0.7507\n",
      "Epoch 16/30\n",
      " - 7s - loss: 0.7247 - acc: 0.7541\n",
      "Epoch 17/30\n",
      " - 8s - loss: 0.7130 - acc: 0.7568\n",
      "Epoch 18/30\n",
      " - 10s - loss: 0.7022 - acc: 0.7597\n",
      "Epoch 19/30\n",
      " - 10s - loss: 0.6906 - acc: 0.7634\n",
      "Epoch 20/30\n",
      " - 10s - loss: 0.6818 - acc: 0.7665\n",
      "Epoch 21/30\n",
      " - 9s - loss: 0.6734 - acc: 0.7704\n",
      "Epoch 22/30\n",
      " - 11s - loss: 0.6669 - acc: 0.7704\n",
      "Epoch 23/30\n",
      " - 11s - loss: 0.6580 - acc: 0.7738\n",
      "Epoch 24/30\n",
      " - 11s - loss: 0.6496 - acc: 0.7777\n",
      "Epoch 25/30\n",
      " - 11s - loss: 0.6412 - acc: 0.7801\n",
      "Epoch 26/30\n",
      " - 11s - loss: 0.6324 - acc: 0.7821\n",
      "Epoch 27/30\n",
      " - 10s - loss: 0.6283 - acc: 0.7831\n",
      "Epoch 28/30\n",
      " - 10s - loss: 0.6182 - acc: 0.7869\n",
      "Epoch 29/30\n",
      " - 10s - loss: 0.6109 - acc: 0.7896\n",
      "Epoch 30/30\n",
      " - 10s - loss: 0.6064 - acc: 0.7899\n"
     ]
    },
    {
     "name": "stderr",
     "output_type": "stream",
     "text": [
      "C:\\Users\\Xiuquan\\Anaconda3\\lib\\site-packages\\ipykernel_launcher.py:3: UserWarning: Update your `Dense` call to the Keras 2 API: `Dense(activation=\"relu\", input_dim=450, units=512)`\n",
      "  This is separate from the ipykernel package so we can avoid doing imports until\n",
      "C:\\Users\\Xiuquan\\Anaconda3\\lib\\site-packages\\ipykernel_launcher.py:6: UserWarning: Update your `Dense` call to the Keras 2 API: `Dense(activation=\"softmax\", units=38)`\n",
      "  \n"
     ]
    },
    {
     "name": "stdout",
     "output_type": "stream",
     "text": [
      "Epoch 1/30\n",
      " - 11s - loss: 2.4485 - acc: 0.4569\n",
      "Epoch 2/30\n",
      " - 10s - loss: 1.4824 - acc: 0.6241\n",
      "Epoch 3/30\n",
      " - 10s - loss: 1.1799 - acc: 0.6635\n",
      "Epoch 4/30\n",
      " - 10s - loss: 1.0471 - acc: 0.6854\n",
      "Epoch 5/30\n",
      " - 10s - loss: 0.9734 - acc: 0.6976\n",
      "Epoch 6/30\n",
      " - 10s - loss: 0.9199 - acc: 0.7096\n",
      "Epoch 7/30\n",
      " - 10s - loss: 0.8832 - acc: 0.7165\n",
      "Epoch 8/30\n",
      " - 9s - loss: 0.8515 - acc: 0.7231\n",
      "Epoch 9/30\n",
      " - 10s - loss: 0.8237 - acc: 0.7293\n",
      "Epoch 10/30\n",
      " - 10s - loss: 0.8012 - acc: 0.7345\n",
      "Epoch 11/30\n",
      " - 10s - loss: 0.7804 - acc: 0.7407\n",
      "Epoch 12/30\n",
      " - 10s - loss: 0.7648 - acc: 0.7426\n",
      "Epoch 13/30\n",
      " - 10s - loss: 0.7483 - acc: 0.7485\n",
      "Epoch 14/30\n",
      " - 10s - loss: 0.7338 - acc: 0.7511\n",
      "Epoch 15/30\n",
      " - 10s - loss: 0.7213 - acc: 0.7549\n",
      "Epoch 16/30\n",
      " - 10s - loss: 0.7094 - acc: 0.7589\n",
      "Epoch 17/30\n",
      " - 10s - loss: 0.6964 - acc: 0.7613\n",
      "Epoch 18/30\n",
      " - 11s - loss: 0.6884 - acc: 0.7650\n",
      "Epoch 19/30\n",
      " - 9s - loss: 0.6780 - acc: 0.7681\n",
      "Epoch 20/30\n",
      " - 10s - loss: 0.6681 - acc: 0.7705\n",
      "Epoch 21/30\n",
      " - 9s - loss: 0.6572 - acc: 0.7740\n",
      "Epoch 22/30\n",
      " - 10s - loss: 0.6496 - acc: 0.7759\n",
      "Epoch 23/30\n",
      " - 10s - loss: 0.6436 - acc: 0.7770\n",
      "Epoch 24/30\n",
      " - 10s - loss: 0.6350 - acc: 0.7804\n",
      "Epoch 25/30\n",
      " - 10s - loss: 0.6264 - acc: 0.7845\n",
      "Epoch 26/30\n",
      " - 10s - loss: 0.6183 - acc: 0.7862\n",
      "Epoch 27/30\n",
      " - 10s - loss: 0.6112 - acc: 0.7890\n",
      "Epoch 28/30\n",
      " - 10s - loss: 0.6034 - acc: 0.7915\n",
      "Epoch 29/30\n",
      " - 10s - loss: 0.5996 - acc: 0.7929\n",
      "Epoch 30/30\n",
      " - 10s - loss: 0.5921 - acc: 0.7954\n"
     ]
    },
    {
     "name": "stderr",
     "output_type": "stream",
     "text": [
      "C:\\Users\\Xiuquan\\Anaconda3\\lib\\site-packages\\ipykernel_launcher.py:3: UserWarning: Update your `Dense` call to the Keras 2 API: `Dense(activation=\"relu\", input_dim=450, units=512)`\n",
      "  This is separate from the ipykernel package so we can avoid doing imports until\n",
      "C:\\Users\\Xiuquan\\Anaconda3\\lib\\site-packages\\ipykernel_launcher.py:6: UserWarning: Update your `Dense` call to the Keras 2 API: `Dense(activation=\"softmax\", units=38)`\n",
      "  \n"
     ]
    },
    {
     "name": "stdout",
     "output_type": "stream",
     "text": [
      "Epoch 1/30\n",
      " - 12s - loss: 2.4407 - acc: 0.4610\n",
      "Epoch 2/30\n",
      " - 10s - loss: 1.5164 - acc: 0.6170\n",
      "Epoch 3/30\n",
      " - 10s - loss: 1.2116 - acc: 0.6540\n",
      "Epoch 4/30\n",
      " - 10s - loss: 1.0754 - acc: 0.6787\n",
      "Epoch 5/30\n",
      " - 10s - loss: 0.9963 - acc: 0.6923\n",
      "Epoch 6/30\n",
      " - 10s - loss: 0.9441 - acc: 0.7036\n",
      "Epoch 7/30\n",
      " - 10s - loss: 0.9072 - acc: 0.7099\n",
      "Epoch 8/30\n",
      " - 10s - loss: 0.8705 - acc: 0.7181\n",
      "Epoch 9/30\n",
      " - 11s - loss: 0.8448 - acc: 0.7235\n",
      "Epoch 10/30\n",
      " - 10s - loss: 0.8214 - acc: 0.7290\n",
      "Epoch 11/30\n",
      " - 10s - loss: 0.8044 - acc: 0.7317\n",
      "Epoch 12/30\n",
      " - 10s - loss: 0.7850 - acc: 0.7354\n",
      "Epoch 13/30\n",
      " - 10s - loss: 0.7681 - acc: 0.7413\n",
      "Epoch 14/30\n",
      " - 10s - loss: 0.7542 - acc: 0.7447\n",
      "Epoch 15/30\n",
      " - 10s - loss: 0.7414 - acc: 0.7469\n",
      "Epoch 16/30\n",
      " - 10s - loss: 0.7282 - acc: 0.7527\n",
      "Epoch 17/30\n",
      " - 10s - loss: 0.7180 - acc: 0.7549\n",
      "Epoch 18/30\n",
      " - 10s - loss: 0.7062 - acc: 0.7601\n",
      "Epoch 19/30\n",
      " - 10s - loss: 0.6954 - acc: 0.7604\n",
      "Epoch 20/30\n",
      " - 10s - loss: 0.6873 - acc: 0.7632\n",
      "Epoch 21/30\n",
      " - 11s - loss: 0.6786 - acc: 0.7658\n",
      "Epoch 22/30\n",
      " - 10s - loss: 0.6692 - acc: 0.7718\n",
      "Epoch 23/30\n",
      " - 10s - loss: 0.6607 - acc: 0.7727\n",
      "Epoch 24/30\n",
      " - 10s - loss: 0.6537 - acc: 0.7744\n",
      "Epoch 25/30\n",
      " - 10s - loss: 0.6427 - acc: 0.7776\n",
      "Epoch 26/30\n",
      " - 10s - loss: 0.6378 - acc: 0.7807\n",
      "Epoch 27/30\n",
      " - 10s - loss: 0.6303 - acc: 0.7835\n",
      "Epoch 28/30\n",
      " - 10s - loss: 0.6246 - acc: 0.7829\n",
      "Epoch 29/30\n",
      " - 10s - loss: 0.6162 - acc: 0.7865\n",
      "Epoch 30/30\n",
      " - 10s - loss: 0.6116 - acc: 0.7891\n"
     ]
    },
    {
     "data": {
      "text/plain": [
       "'0:19:02.553671'"
      ]
     },
     "execution_count": 58,
     "metadata": {},
     "output_type": "execute_result"
    }
   ],
   "source": [
    "start = datetime.now()\n",
    "hist_cross_val_bsz2000 = cross_validate(nn_1hl_bsz2000, X, y, scoring=scoring, cv=cv)\n",
    "end = datetime.now()\n",
    "str(end-start)"
   ]
  },
  {
   "cell_type": "code",
   "execution_count": 59,
   "metadata": {},
   "outputs": [
    {
     "data": {
      "text/plain": [
       "{'fit_time': array([299.27295446, 233.17198467, 298.40075445, 303.08772039]),\n",
       " 'score_time': array([3.19433165, 1.65698051, 1.73516798, 1.72094154]),\n",
       " 'test_accuracy': array([0.72510759, 0.72576397, 0.71778038, 0.73274492]),\n",
       " 'test_neg_log_loss': array([-0.80483239, -0.8024495 , -0.85395102, -0.78855735])}"
      ]
     },
     "execution_count": 59,
     "metadata": {},
     "output_type": "execute_result"
    }
   ],
   "source": [
    "hist_cross_val_bsz2000"
   ]
  },
  {
   "cell_type": "code",
   "execution_count": 60,
   "metadata": {},
   "outputs": [
    {
     "data": {
      "text/plain": [
       "(0.7253492155984014, -0.812447563648503)"
      ]
     },
     "execution_count": 60,
     "metadata": {},
     "output_type": "execute_result"
    }
   ],
   "source": [
    "hist_cross_val_bsz2000['test_accuracy'].mean(), hist_cross_val_bsz2000['test_neg_log_loss'].mean()"
   ]
  },
  {
   "cell_type": "code",
   "execution_count": null,
   "metadata": {},
   "outputs": [],
   "source": []
  },
  {
   "cell_type": "code",
   "execution_count": null,
   "metadata": {},
   "outputs": [],
   "source": []
  },
  {
   "cell_type": "code",
   "execution_count": null,
   "metadata": {},
   "outputs": [],
   "source": []
  },
  {
   "cell_type": "code",
   "execution_count": 61,
   "metadata": {},
   "outputs": [],
   "source": [
    "nn_1hl_bsz500 = KerasClassifier(build_fn=create_model_1hl, epochs=100, batch_size=500, verbose=2)"
   ]
  },
  {
   "cell_type": "code",
   "execution_count": 62,
   "metadata": {},
   "outputs": [
    {
     "name": "stderr",
     "output_type": "stream",
     "text": [
      "C:\\Users\\Xiuquan\\Anaconda3\\lib\\site-packages\\ipykernel_launcher.py:3: UserWarning: Update your `Dense` call to the Keras 2 API: `Dense(activation=\"relu\", input_dim=450, units=512)`\n",
      "  This is separate from the ipykernel package so we can avoid doing imports until\n",
      "C:\\Users\\Xiuquan\\Anaconda3\\lib\\site-packages\\ipykernel_launcher.py:6: UserWarning: Update your `Dense` call to the Keras 2 API: `Dense(activation=\"softmax\", units=38)`\n",
      "  \n"
     ]
    },
    {
     "name": "stdout",
     "output_type": "stream",
     "text": [
      "Train on 71755 samples, validate on 23919 samples\n",
      "Epoch 1/100\n",
      " - 22s - loss: 1.7240 - acc: 0.5664 - val_loss: 1.1319 - val_acc: 0.6669\n",
      "Epoch 2/100\n",
      " - 16s - loss: 1.0519 - acc: 0.6791 - val_loss: 0.9561 - val_acc: 0.7018\n",
      "Epoch 3/100\n",
      " - 17s - loss: 0.9316 - acc: 0.7027 - val_loss: 0.8832 - val_acc: 0.7123\n",
      "Epoch 4/100\n",
      " - 16s - loss: 0.8656 - acc: 0.7154 - val_loss: 0.8490 - val_acc: 0.7219\n",
      "Epoch 5/100\n",
      " - 17s - loss: 0.8198 - acc: 0.7275 - val_loss: 0.8316 - val_acc: 0.7234\n",
      "Epoch 6/100\n",
      " - 17s - loss: 0.7894 - acc: 0.7333 - val_loss: 0.8186 - val_acc: 0.7232\n",
      "Epoch 7/100\n",
      " - 17s - loss: 0.7610 - acc: 0.7418 - val_loss: 0.8114 - val_acc: 0.7267\n",
      "Epoch 8/100\n",
      " - 16s - loss: 0.7376 - acc: 0.7473 - val_loss: 0.8042 - val_acc: 0.7245\n",
      "Epoch 9/100\n",
      " - 16s - loss: 0.7182 - acc: 0.7539 - val_loss: 0.7937 - val_acc: 0.7287\n",
      "Epoch 10/100\n",
      " - 17s - loss: 0.7009 - acc: 0.7582 - val_loss: 0.7938 - val_acc: 0.7284\n",
      "Epoch 11/100\n",
      " - 16s - loss: 0.6868 - acc: 0.7628 - val_loss: 0.7910 - val_acc: 0.7286\n",
      "Epoch 12/100\n",
      " - 17s - loss: 0.6712 - acc: 0.7701 - val_loss: 0.7907 - val_acc: 0.7288\n",
      "Epoch 13/100\n",
      " - 16s - loss: 0.6582 - acc: 0.7724 - val_loss: 0.7941 - val_acc: 0.7298\n",
      "Epoch 14/100\n",
      " - 17s - loss: 0.6427 - acc: 0.7772 - val_loss: 0.7967 - val_acc: 0.7286\n",
      "Epoch 15/100\n",
      " - 17s - loss: 0.6328 - acc: 0.7806 - val_loss: 0.7963 - val_acc: 0.7290\n",
      "Epoch 16/100\n",
      " - 17s - loss: 0.6217 - acc: 0.7846 - val_loss: 0.8007 - val_acc: 0.7301\n",
      "Epoch 17/100\n",
      " - 16s - loss: 0.6102 - acc: 0.7873 - val_loss: 0.7986 - val_acc: 0.7307\n",
      "Epoch 18/100\n",
      " - 16s - loss: 0.5993 - acc: 0.7935 - val_loss: 0.8126 - val_acc: 0.7280\n",
      "Epoch 19/100\n",
      " - 17s - loss: 0.5895 - acc: 0.7950 - val_loss: 0.8118 - val_acc: 0.7306\n",
      "Epoch 20/100\n",
      " - 17s - loss: 0.5806 - acc: 0.7998 - val_loss: 0.8137 - val_acc: 0.7291\n",
      "Epoch 21/100\n",
      " - 17s - loss: 0.5732 - acc: 0.8002 - val_loss: 0.8208 - val_acc: 0.7292\n",
      "Epoch 22/100\n",
      " - 17s - loss: 0.5642 - acc: 0.8054 - val_loss: 0.8316 - val_acc: 0.7293\n",
      "Epoch 23/100\n",
      " - 17s - loss: 0.5561 - acc: 0.8081 - val_loss: 0.8308 - val_acc: 0.7266\n",
      "Epoch 24/100\n",
      " - 17s - loss: 0.5484 - acc: 0.8103 - val_loss: 0.8429 - val_acc: 0.7270\n",
      "Epoch 25/100\n",
      " - 16s - loss: 0.5406 - acc: 0.8128 - val_loss: 0.8453 - val_acc: 0.7296\n",
      "Epoch 26/100\n",
      " - 17s - loss: 0.5324 - acc: 0.8171 - val_loss: 0.8521 - val_acc: 0.7283\n",
      "Epoch 27/100\n",
      " - 17s - loss: 0.5258 - acc: 0.8175 - val_loss: 0.8600 - val_acc: 0.7259\n",
      "Epoch 28/100\n",
      " - 17s - loss: 0.5203 - acc: 0.8208 - val_loss: 0.8664 - val_acc: 0.7234\n",
      "Epoch 29/100\n",
      " - 17s - loss: 0.5112 - acc: 0.8237 - val_loss: 0.8665 - val_acc: 0.7272\n",
      "Epoch 30/100\n",
      " - 17s - loss: 0.5062 - acc: 0.8255 - val_loss: 0.8702 - val_acc: 0.7290\n",
      "Epoch 31/100\n",
      " - 16s - loss: 0.4994 - acc: 0.8275 - val_loss: 0.8831 - val_acc: 0.7258\n",
      "Epoch 32/100\n",
      " - 16s - loss: 0.4947 - acc: 0.8296 - val_loss: 0.8904 - val_acc: 0.7267\n",
      "Epoch 33/100\n",
      " - 17s - loss: 0.4907 - acc: 0.8311 - val_loss: 0.8925 - val_acc: 0.7263\n",
      "Epoch 34/100\n",
      " - 17s - loss: 0.4846 - acc: 0.8322 - val_loss: 0.9100 - val_acc: 0.7234\n",
      "Epoch 35/100\n",
      " - 16s - loss: 0.4778 - acc: 0.8361 - val_loss: 0.9032 - val_acc: 0.7237\n",
      "Epoch 36/100\n",
      " - 17s - loss: 0.4771 - acc: 0.8346 - val_loss: 0.9115 - val_acc: 0.7241\n",
      "Epoch 37/100\n",
      " - 16s - loss: 0.4681 - acc: 0.8383 - val_loss: 0.9156 - val_acc: 0.7252\n"
     ]
    },
    {
     "data": {
      "text/plain": [
       "'0:10:19.107679'"
      ]
     },
     "execution_count": 62,
     "metadata": {},
     "output_type": "execute_result"
    }
   ],
   "source": [
    "start = datetime.now()\n",
    "hist_1hl_bsz500 = nn_1hl_bsz500.fit(X, y, validation_split=0.25, callbacks=callbacks)\n",
    "end = datetime.now()\n",
    "str(end-start)"
   ]
  },
  {
   "cell_type": "code",
   "execution_count": 91,
   "metadata": {},
   "outputs": [
    {
     "data": {
      "image/png": "[encoded data removed]",
      "text/plain": [
       "<Figure size 432x288 with 1 Axes>"
      ]
     },
     "metadata": {
      "needs_background": "light"
     },
     "output_type": "display_data"
    }
   ],
   "source": [
    "plt.plot(hist_1hl_bsz500.history['acc'])\n",
    "plt.plot(hist_1hl_bsz500.history['val_acc'])\n",
    "plt.title('model accuracy: batch size=500')\n",
    "plt.ylabel('accuracy')\n",
    "plt.xlabel('epoch')\n",
    "plt.legend(['train', 'val'], loc='upper left')\n",
    "plt.show()"
   ]
  },
  {
   "cell_type": "code",
   "execution_count": 92,
   "metadata": {},
   "outputs": [
    {
     "data": {
      "image/png": "[encoded data removed]",
      "text/plain": [
       "<Figure size 432x288 with 1 Axes>"
      ]
     },
     "metadata": {
      "needs_background": "light"
     },
     "output_type": "display_data"
    }
   ],
   "source": [
    "plt.plot(hist_1hl_bsz500.history['loss'])\n",
    "plt.plot(hist_1hl_bsz500.history['val_loss'])\n",
    "plt.title('model loss: batch size=500')\n",
    "plt.ylabel('loss')\n",
    "plt.xlabel('epoch')\n",
    "plt.legend(['train', 'val'], loc='upper left')\n",
    "plt.show()"
   ]
  },
  {
   "cell_type": "code",
   "execution_count": 65,
   "metadata": {},
   "outputs": [],
   "source": [
    "nn_1hl_bsz500 = KerasClassifier(build_fn=create_model_1hl, epochs=15, batch_size=500, verbose=2)"
   ]
  },
  {
   "cell_type": "code",
   "execution_count": 66,
   "metadata": {},
   "outputs": [
    {
     "name": "stderr",
     "output_type": "stream",
     "text": [
      "C:\\Users\\Xiuquan\\Anaconda3\\lib\\site-packages\\ipykernel_launcher.py:3: UserWarning: Update your `Dense` call to the Keras 2 API: `Dense(activation=\"relu\", input_dim=450, units=512)`\n",
      "  This is separate from the ipykernel package so we can avoid doing imports until\n",
      "C:\\Users\\Xiuquan\\Anaconda3\\lib\\site-packages\\ipykernel_launcher.py:6: UserWarning: Update your `Dense` call to the Keras 2 API: `Dense(activation=\"softmax\", units=38)`\n",
      "  \n"
     ]
    },
    {
     "name": "stdout",
     "output_type": "stream",
     "text": [
      "Epoch 1/15\n",
      " - 22s - loss: 1.6987 - acc: 0.5760\n",
      "Epoch 2/15\n",
      " - 17s - loss: 1.0468 - acc: 0.6818\n",
      "Epoch 3/15\n",
      " - 18s - loss: 0.9260 - acc: 0.7049\n",
      "Epoch 4/15\n",
      " - 18s - loss: 0.8641 - acc: 0.7162\n",
      "Epoch 5/15\n",
      " - 20s - loss: 0.8189 - acc: 0.7267\n",
      "Epoch 6/15\n",
      " - 20s - loss: 0.7842 - acc: 0.7358\n",
      "Epoch 7/15\n",
      " - 20s - loss: 0.7563 - acc: 0.7435\n",
      "Epoch 8/15\n",
      " - 14s - loss: 0.7332 - acc: 0.7506\n",
      "Epoch 9/15\n",
      " - 17s - loss: 0.7160 - acc: 0.7556\n",
      "Epoch 10/15\n",
      " - 20s - loss: 0.6974 - acc: 0.7602\n",
      "Epoch 11/15\n",
      " - 22s - loss: 0.6823 - acc: 0.7643\n",
      "Epoch 12/15\n",
      " - 21s - loss: 0.6663 - acc: 0.7700\n",
      "Epoch 13/15\n",
      " - 20s - loss: 0.6544 - acc: 0.7732\n",
      "Epoch 14/15\n",
      " - 17s - loss: 0.6380 - acc: 0.7791\n",
      "Epoch 15/15\n",
      " - 19s - loss: 0.6272 - acc: 0.7838\n"
     ]
    },
    {
     "name": "stderr",
     "output_type": "stream",
     "text": [
      "C:\\Users\\Xiuquan\\Anaconda3\\lib\\site-packages\\ipykernel_launcher.py:3: UserWarning: Update your `Dense` call to the Keras 2 API: `Dense(activation=\"relu\", input_dim=450, units=512)`\n",
      "  This is separate from the ipykernel package so we can avoid doing imports until\n",
      "C:\\Users\\Xiuquan\\Anaconda3\\lib\\site-packages\\ipykernel_launcher.py:6: UserWarning: Update your `Dense` call to the Keras 2 API: `Dense(activation=\"softmax\", units=38)`\n",
      "  \n"
     ]
    },
    {
     "name": "stdout",
     "output_type": "stream",
     "text": [
      "Epoch 1/15\n",
      " - 20s - loss: 1.6925 - acc: 0.5711\n",
      "Epoch 2/15\n",
      " - 20s - loss: 1.0463 - acc: 0.6838\n",
      "Epoch 3/15\n",
      " - 21s - loss: 0.9278 - acc: 0.7059\n",
      "Epoch 4/15\n",
      " - 20s - loss: 0.8604 - acc: 0.7178\n",
      "Epoch 5/15\n",
      " - 20s - loss: 0.8160 - acc: 0.7291\n",
      "Epoch 6/15\n",
      " - 21s - loss: 0.7848 - acc: 0.7362\n",
      "Epoch 7/15\n",
      " - 18s - loss: 0.7577 - acc: 0.7436\n",
      "Epoch 8/15\n",
      " - 19s - loss: 0.7372 - acc: 0.7502\n",
      "Epoch 9/15\n",
      " - 17s - loss: 0.7173 - acc: 0.7544\n",
      "Epoch 10/15\n",
      " - 20s - loss: 0.6986 - acc: 0.7609\n",
      "Epoch 11/15\n",
      " - 21s - loss: 0.6821 - acc: 0.7659\n",
      "Epoch 12/15\n",
      " - 20s - loss: 0.6696 - acc: 0.7703\n",
      "Epoch 13/15\n",
      " - 19s - loss: 0.6577 - acc: 0.7727\n",
      "Epoch 14/15\n",
      " - 21s - loss: 0.6437 - acc: 0.7779\n",
      "Epoch 15/15\n",
      " - 19s - loss: 0.6314 - acc: 0.7818\n"
     ]
    },
    {
     "name": "stderr",
     "output_type": "stream",
     "text": [
      "C:\\Users\\Xiuquan\\Anaconda3\\lib\\site-packages\\ipykernel_launcher.py:3: UserWarning: Update your `Dense` call to the Keras 2 API: `Dense(activation=\"relu\", input_dim=450, units=512)`\n",
      "  This is separate from the ipykernel package so we can avoid doing imports until\n",
      "C:\\Users\\Xiuquan\\Anaconda3\\lib\\site-packages\\ipykernel_launcher.py:6: UserWarning: Update your `Dense` call to the Keras 2 API: `Dense(activation=\"softmax\", units=38)`\n",
      "  \n"
     ]
    },
    {
     "name": "stdout",
     "output_type": "stream",
     "text": [
      "Epoch 1/15\n",
      " - 22s - loss: 1.6957 - acc: 0.5741\n",
      "Epoch 2/15\n",
      " - 19s - loss: 1.0319 - acc: 0.6878\n",
      "Epoch 3/15\n",
      " - 21s - loss: 0.9119 - acc: 0.7084\n",
      "Epoch 4/15\n",
      " - 16s - loss: 0.8462 - acc: 0.7230\n",
      "Epoch 5/15\n",
      " - 15s - loss: 0.8021 - acc: 0.7341\n",
      "Epoch 6/15\n",
      " - 17s - loss: 0.7700 - acc: 0.7397\n",
      "Epoch 7/15\n",
      " - 17s - loss: 0.7432 - acc: 0.7482\n",
      "Epoch 8/15\n",
      " - 17s - loss: 0.7199 - acc: 0.7542\n",
      "Epoch 9/15\n",
      " - 16s - loss: 0.7025 - acc: 0.7605\n",
      "Epoch 10/15\n",
      " - 17s - loss: 0.6832 - acc: 0.7641\n",
      "Epoch 11/15\n",
      " - 17s - loss: 0.6675 - acc: 0.7709\n",
      "Epoch 12/15\n",
      " - 17s - loss: 0.6541 - acc: 0.7735\n",
      "Epoch 13/15\n",
      " - 17s - loss: 0.6386 - acc: 0.7796\n",
      "Epoch 14/15\n",
      " - 17s - loss: 0.6266 - acc: 0.7838\n",
      "Epoch 15/15\n",
      " - 17s - loss: 0.6136 - acc: 0.7884\n"
     ]
    },
    {
     "name": "stderr",
     "output_type": "stream",
     "text": [
      "C:\\Users\\Xiuquan\\Anaconda3\\lib\\site-packages\\ipykernel_launcher.py:3: UserWarning: Update your `Dense` call to the Keras 2 API: `Dense(activation=\"relu\", input_dim=450, units=512)`\n",
      "  This is separate from the ipykernel package so we can avoid doing imports until\n",
      "C:\\Users\\Xiuquan\\Anaconda3\\lib\\site-packages\\ipykernel_launcher.py:6: UserWarning: Update your `Dense` call to the Keras 2 API: `Dense(activation=\"softmax\", units=38)`\n",
      "  \n"
     ]
    },
    {
     "name": "stdout",
     "output_type": "stream",
     "text": [
      "Epoch 1/15\n",
      " - 22s - loss: 1.6916 - acc: 0.5767\n",
      "Epoch 2/15\n",
      " - 21s - loss: 1.0454 - acc: 0.6804\n",
      "Epoch 3/15\n",
      " - 21s - loss: 0.9245 - acc: 0.7033\n",
      "Epoch 4/15\n",
      " - 19s - loss: 0.8601 - acc: 0.7167\n",
      "Epoch 5/15\n",
      " - 20s - loss: 0.8174 - acc: 0.7252\n",
      "Epoch 6/15\n",
      " - 19s - loss: 0.7840 - acc: 0.7339\n",
      "Epoch 7/15\n",
      " - 17s - loss: 0.7581 - acc: 0.7414\n",
      "Epoch 8/15\n",
      " - 20s - loss: 0.7373 - acc: 0.7469\n",
      "Epoch 9/15\n",
      " - 21s - loss: 0.7162 - acc: 0.7534\n",
      "Epoch 10/15\n",
      " - 20s - loss: 0.6970 - acc: 0.7602\n",
      "Epoch 11/15\n",
      " - 20s - loss: 0.6818 - acc: 0.7645\n",
      "Epoch 12/15\n",
      " - 20s - loss: 0.6683 - acc: 0.7702\n",
      "Epoch 13/15\n",
      " - 20s - loss: 0.6552 - acc: 0.7747\n",
      "Epoch 14/15\n",
      " - 21s - loss: 0.6408 - acc: 0.7778\n",
      "Epoch 15/15\n",
      " - 20s - loss: 0.6315 - acc: 0.7824\n"
     ]
    },
    {
     "data": {
      "text/plain": [
       "'0:19:34.124281'"
      ]
     },
     "execution_count": 66,
     "metadata": {},
     "output_type": "execute_result"
    }
   ],
   "source": [
    "start = datetime.now()\n",
    "hist_cross_val_bsz500 = cross_validate(nn_1hl_bsz500, X, y, scoring=scoring, cv=cv)\n",
    "end = datetime.now()\n",
    "str(end-start)"
   ]
  },
  {
   "cell_type": "code",
   "execution_count": 67,
   "metadata": {},
   "outputs": [
    {
     "data": {
      "text/plain": [
       "{'fit_time': array([287.96559715, 296.52046776, 265.34647226, 302.12567043]),\n",
       " 'score_time': array([5.15920305, 5.34723258, 5.15922093, 6.14064074]),\n",
       " 'test_accuracy': array([0.72865917, 0.72384098, 0.71418416, 0.73232661]),\n",
       " 'test_neg_log_loss': array([-0.81071577, -0.82520654, -0.86716871, -0.79934795])}"
      ]
     },
     "execution_count": 67,
     "metadata": {},
     "output_type": "execute_result"
    }
   ],
   "source": [
    "hist_cross_val_bsz500"
   ]
  },
  {
   "cell_type": "code",
   "execution_count": 68,
   "metadata": {},
   "outputs": [
    {
     "data": {
      "text/plain": [
       "(0.7247527306365278, -0.8256097415425194)"
      ]
     },
     "execution_count": 68,
     "metadata": {},
     "output_type": "execute_result"
    }
   ],
   "source": [
    "hist_cross_val_bsz500['test_accuracy'].mean(), hist_cross_val_bsz500['test_neg_log_loss'].mean()"
   ]
  },
  {
   "cell_type": "code",
   "execution_count": null,
   "metadata": {},
   "outputs": [],
   "source": []
  },
  {
   "cell_type": "code",
   "execution_count": 77,
   "metadata": {},
   "outputs": [],
   "source": [
    "nn_1hl_bsz500 = KerasClassifier(build_fn=create_model_1hl, epochs=30, batch_size=500, verbose=2)"
   ]
  },
  {
   "cell_type": "code",
   "execution_count": 79,
   "metadata": {},
   "outputs": [
    {
     "name": "stderr",
     "output_type": "stream",
     "text": [
      "C:\\Users\\Xiuquan\\Anaconda3\\lib\\site-packages\\ipykernel_launcher.py:3: UserWarning: Update your `Dense` call to the Keras 2 API: `Dense(activation=\"relu\", input_dim=450, units=512)`\n",
      "  This is separate from the ipykernel package so we can avoid doing imports until\n",
      "C:\\Users\\Xiuquan\\Anaconda3\\lib\\site-packages\\ipykernel_launcher.py:6: UserWarning: Update your `Dense` call to the Keras 2 API: `Dense(activation=\"softmax\", units=38)`\n",
      "  \n"
     ]
    },
    {
     "name": "stdout",
     "output_type": "stream",
     "text": [
      "Epoch 1/30\n",
      " - 11s - loss: 1.6911 - acc: 0.5738\n",
      "Epoch 2/30\n",
      " - 7s - loss: 1.0430 - acc: 0.6823\n",
      "Epoch 3/30\n",
      " - 6s - loss: 0.9236 - acc: 0.7051\n",
      "Epoch 4/30\n",
      " - 6s - loss: 0.8618 - acc: 0.7169\n",
      "Epoch 5/30\n",
      " - 7s - loss: 0.8156 - acc: 0.7282\n",
      "Epoch 6/30\n",
      " - 7s - loss: 0.7834 - acc: 0.7355\n",
      "Epoch 7/30\n",
      " - 8s - loss: 0.7587 - acc: 0.7413\n",
      "Epoch 8/30\n",
      " - 8s - loss: 0.7339 - acc: 0.7485\n",
      "Epoch 9/30\n",
      " - 9s - loss: 0.7144 - acc: 0.7544\n",
      "Epoch 10/30\n",
      " - 7s - loss: 0.6969 - acc: 0.7598\n",
      "Epoch 11/30\n",
      " - 8s - loss: 0.6818 - acc: 0.7657\n",
      "Epoch 12/30\n",
      " - 7s - loss: 0.6677 - acc: 0.7699\n",
      "Epoch 13/30\n",
      " - 7s - loss: 0.6514 - acc: 0.7755\n",
      "Epoch 14/30\n",
      " - 7s - loss: 0.6410 - acc: 0.7777\n",
      "Epoch 15/30\n",
      " - 9s - loss: 0.6295 - acc: 0.7826\n",
      "Epoch 16/30\n",
      " - 7s - loss: 0.6188 - acc: 0.7855\n",
      "Epoch 17/30\n",
      " - 7s - loss: 0.6069 - acc: 0.7892\n",
      "Epoch 18/30\n",
      " - 7s - loss: 0.5967 - acc: 0.7933\n",
      "Epoch 19/30\n",
      " - 7s - loss: 0.5869 - acc: 0.7965\n",
      "Epoch 20/30\n",
      " - 8s - loss: 0.5774 - acc: 0.7993\n",
      "Epoch 21/30\n",
      " - 7s - loss: 0.5691 - acc: 0.8023\n",
      "Epoch 22/30\n",
      " - 7s - loss: 0.5616 - acc: 0.8053\n",
      "Epoch 23/30\n",
      " - 7s - loss: 0.5549 - acc: 0.8070\n",
      "Epoch 24/30\n",
      " - 8s - loss: 0.5432 - acc: 0.8120\n",
      "Epoch 25/30\n",
      " - 7s - loss: 0.5362 - acc: 0.8143\n",
      "Epoch 26/30\n",
      " - 8s - loss: 0.5293 - acc: 0.8175\n",
      "Epoch 27/30\n",
      " - 7s - loss: 0.5232 - acc: 0.8196\n",
      "Epoch 28/30\n",
      " - 7s - loss: 0.5157 - acc: 0.8218\n",
      "Epoch 29/30\n",
      " - 10s - loss: 0.5103 - acc: 0.8228\n",
      "Epoch 30/30\n",
      " - 9s - loss: 0.5035 - acc: 0.8263\n"
     ]
    },
    {
     "name": "stderr",
     "output_type": "stream",
     "text": [
      "C:\\Users\\Xiuquan\\Anaconda3\\lib\\site-packages\\ipykernel_launcher.py:3: UserWarning: Update your `Dense` call to the Keras 2 API: `Dense(activation=\"relu\", input_dim=450, units=512)`\n",
      "  This is separate from the ipykernel package so we can avoid doing imports until\n",
      "C:\\Users\\Xiuquan\\Anaconda3\\lib\\site-packages\\ipykernel_launcher.py:6: UserWarning: Update your `Dense` call to the Keras 2 API: `Dense(activation=\"softmax\", units=38)`\n",
      "  \n"
     ]
    },
    {
     "name": "stdout",
     "output_type": "stream",
     "text": [
      "Epoch 1/30\n",
      " - 11s - loss: 1.7006 - acc: 0.5749\n",
      "Epoch 2/30\n",
      " - 9s - loss: 1.0450 - acc: 0.6825\n",
      "Epoch 3/30\n",
      " - 6s - loss: 0.9275 - acc: 0.7060\n",
      "Epoch 4/30\n",
      " - 9s - loss: 0.8595 - acc: 0.7182\n",
      "Epoch 5/30\n",
      " - 8s - loss: 0.8194 - acc: 0.7271\n",
      "Epoch 6/30\n",
      " - 8s - loss: 0.7847 - acc: 0.7362\n",
      "Epoch 7/30\n",
      " - 8s - loss: 0.7609 - acc: 0.7420\n",
      "Epoch 8/30\n",
      " - 13s - loss: 0.7372 - acc: 0.7494\n",
      "Epoch 9/30\n",
      " - 13s - loss: 0.7166 - acc: 0.7557\n",
      "Epoch 10/30\n",
      " - 18s - loss: 0.7013 - acc: 0.7599\n",
      "Epoch 11/30\n",
      " - 17s - loss: 0.6843 - acc: 0.7657\n",
      "Epoch 12/30\n",
      " - 17s - loss: 0.6679 - acc: 0.7695\n",
      "Epoch 13/30\n",
      " - 15s - loss: 0.6563 - acc: 0.7754\n",
      "Epoch 14/30\n",
      " - 12s - loss: 0.6432 - acc: 0.7773\n",
      "Epoch 15/30\n",
      " - 14s - loss: 0.6316 - acc: 0.7832\n",
      "Epoch 16/30\n",
      " - 15s - loss: 0.6203 - acc: 0.7841\n",
      "Epoch 17/30\n",
      " - 19s - loss: 0.6088 - acc: 0.7898\n",
      "Epoch 18/30\n",
      " - 17s - loss: 0.5991 - acc: 0.7927\n",
      "Epoch 19/30\n",
      " - 16s - loss: 0.5897 - acc: 0.7953\n",
      "Epoch 20/30\n",
      " - 13s - loss: 0.5804 - acc: 0.7991\n",
      "Epoch 21/30\n",
      " - 10s - loss: 0.5699 - acc: 0.8026\n",
      "Epoch 22/30\n",
      " - 12s - loss: 0.5639 - acc: 0.8045\n",
      "Epoch 23/30\n",
      " - 13s - loss: 0.5544 - acc: 0.8084\n",
      "Epoch 24/30\n",
      " - 12s - loss: 0.5469 - acc: 0.8103\n",
      "Epoch 25/30\n",
      " - 12s - loss: 0.5397 - acc: 0.8120\n",
      "Epoch 26/30\n",
      " - 12s - loss: 0.5321 - acc: 0.8157\n",
      "Epoch 27/30\n",
      " - 11s - loss: 0.5253 - acc: 0.8192\n",
      "Epoch 28/30\n",
      " - 12s - loss: 0.5185 - acc: 0.8216\n",
      "Epoch 29/30\n",
      " - 14s - loss: 0.5117 - acc: 0.8221\n",
      "Epoch 30/30\n",
      " - 12s - loss: 0.5065 - acc: 0.8248\n"
     ]
    },
    {
     "name": "stderr",
     "output_type": "stream",
     "text": [
      "C:\\Users\\Xiuquan\\Anaconda3\\lib\\site-packages\\ipykernel_launcher.py:3: UserWarning: Update your `Dense` call to the Keras 2 API: `Dense(activation=\"relu\", input_dim=450, units=512)`\n",
      "  This is separate from the ipykernel package so we can avoid doing imports until\n",
      "C:\\Users\\Xiuquan\\Anaconda3\\lib\\site-packages\\ipykernel_launcher.py:6: UserWarning: Update your `Dense` call to the Keras 2 API: `Dense(activation=\"softmax\", units=38)`\n",
      "  \n"
     ]
    },
    {
     "name": "stdout",
     "output_type": "stream",
     "text": [
      "Epoch 1/30\n",
      " - 13s - loss: 1.7051 - acc: 0.5740\n",
      "Epoch 2/30\n",
      " - 9s - loss: 1.0319 - acc: 0.6860\n",
      "Epoch 3/30\n",
      " - 10s - loss: 0.9116 - acc: 0.7093\n",
      "Epoch 4/30\n",
      " - 10s - loss: 0.8483 - acc: 0.7219\n",
      "Epoch 5/30\n",
      " - 10s - loss: 0.8023 - acc: 0.7327\n",
      "Epoch 6/30\n",
      " - 11s - loss: 0.7703 - acc: 0.7397\n",
      "Epoch 7/30\n",
      " - 11s - loss: 0.7438 - acc: 0.7474\n",
      "Epoch 8/30\n",
      " - 13s - loss: 0.7214 - acc: 0.7537\n",
      "Epoch 9/30\n",
      " - 11s - loss: 0.7017 - acc: 0.7600\n",
      "Epoch 10/30\n",
      " - 10s - loss: 0.6842 - acc: 0.7660\n",
      "Epoch 11/30\n",
      " - 9s - loss: 0.6665 - acc: 0.7703\n",
      "Epoch 12/30\n",
      " - 10s - loss: 0.6538 - acc: 0.7748\n",
      "Epoch 13/30\n",
      " - 9s - loss: 0.6394 - acc: 0.7788\n",
      "Epoch 14/30\n",
      " - 10s - loss: 0.6261 - acc: 0.7838\n",
      "Epoch 15/30\n",
      " - 10s - loss: 0.6145 - acc: 0.7875\n",
      "Epoch 16/30\n",
      " - 9s - loss: 0.6023 - acc: 0.7916\n",
      "Epoch 17/30\n",
      " - 10s - loss: 0.5924 - acc: 0.7942\n",
      "Epoch 18/30\n",
      " - 9s - loss: 0.5837 - acc: 0.7988\n",
      "Epoch 19/30\n",
      " - 12s - loss: 0.5716 - acc: 0.8004\n",
      "Epoch 20/30\n",
      " - 11s - loss: 0.5625 - acc: 0.8050\n",
      "Epoch 21/30\n",
      " - 9s - loss: 0.5537 - acc: 0.8079\n",
      "Epoch 22/30\n",
      " - 10s - loss: 0.5483 - acc: 0.8116\n",
      "Epoch 23/30\n",
      " - 9s - loss: 0.5370 - acc: 0.8143\n",
      "Epoch 24/30\n",
      " - 9s - loss: 0.5291 - acc: 0.8166\n",
      "Epoch 25/30\n",
      " - 10s - loss: 0.5235 - acc: 0.8183\n",
      "Epoch 26/30\n",
      " - 9s - loss: 0.5148 - acc: 0.8222\n",
      "Epoch 27/30\n",
      " - 10s - loss: 0.5071 - acc: 0.8227\n",
      "Epoch 28/30\n",
      " - 7s - loss: 0.5028 - acc: 0.8268\n",
      "Epoch 29/30\n",
      " - 7s - loss: 0.4962 - acc: 0.8273\n",
      "Epoch 30/30\n",
      " - 6s - loss: 0.4889 - acc: 0.8300\n"
     ]
    },
    {
     "name": "stderr",
     "output_type": "stream",
     "text": [
      "C:\\Users\\Xiuquan\\Anaconda3\\lib\\site-packages\\ipykernel_launcher.py:3: UserWarning: Update your `Dense` call to the Keras 2 API: `Dense(activation=\"relu\", input_dim=450, units=512)`\n",
      "  This is separate from the ipykernel package so we can avoid doing imports until\n",
      "C:\\Users\\Xiuquan\\Anaconda3\\lib\\site-packages\\ipykernel_launcher.py:6: UserWarning: Update your `Dense` call to the Keras 2 API: `Dense(activation=\"softmax\", units=38)`\n",
      "  \n"
     ]
    },
    {
     "name": "stdout",
     "output_type": "stream",
     "text": [
      "Epoch 1/30\n",
      " - 9s - loss: 1.7129 - acc: 0.5714\n",
      "Epoch 2/30\n",
      " - 6s - loss: 1.0513 - acc: 0.6799\n",
      "Epoch 3/30\n",
      " - 6s - loss: 0.9287 - acc: 0.7022\n",
      "Epoch 4/30\n",
      " - 7s - loss: 0.8634 - acc: 0.7173\n",
      "Epoch 5/30\n",
      " - 7s - loss: 0.8189 - acc: 0.7260\n",
      "Epoch 6/30\n",
      " - 7s - loss: 0.7852 - acc: 0.7341\n",
      "Epoch 7/30\n",
      " - 7s - loss: 0.7600 - acc: 0.7418\n",
      "Epoch 8/30\n",
      " - 7s - loss: 0.7389 - acc: 0.7462\n",
      "Epoch 9/30\n",
      " - 6s - loss: 0.7177 - acc: 0.7538\n",
      "Epoch 10/30\n",
      " - 6s - loss: 0.7007 - acc: 0.7582\n",
      "Epoch 11/30\n",
      " - 6s - loss: 0.6852 - acc: 0.7642\n",
      "Epoch 12/30\n",
      " - 7s - loss: 0.6697 - acc: 0.7690\n",
      "Epoch 13/30\n",
      " - 6s - loss: 0.6580 - acc: 0.7725\n",
      "Epoch 14/30\n",
      " - 6s - loss: 0.6439 - acc: 0.7768\n",
      "Epoch 15/30\n",
      " - 6s - loss: 0.6334 - acc: 0.7810\n",
      "Epoch 16/30\n",
      " - 6s - loss: 0.6225 - acc: 0.7861\n",
      "Epoch 17/30\n",
      " - 6s - loss: 0.6089 - acc: 0.7895\n",
      "Epoch 18/30\n",
      " - 6s - loss: 0.6019 - acc: 0.7929\n",
      "Epoch 19/30\n",
      " - 6s - loss: 0.5895 - acc: 0.7954\n",
      "Epoch 20/30\n",
      " - 7s - loss: 0.5804 - acc: 0.7996\n",
      "Epoch 21/30\n",
      " - 6s - loss: 0.5725 - acc: 0.8005\n",
      "Epoch 22/30\n",
      " - 7s - loss: 0.5641 - acc: 0.8041\n",
      "Epoch 23/30\n",
      " - 6s - loss: 0.5573 - acc: 0.8060\n",
      "Epoch 24/30\n",
      " - 6s - loss: 0.5478 - acc: 0.8108\n",
      "Epoch 25/30\n",
      " - 7s - loss: 0.5395 - acc: 0.8138\n",
      "Epoch 26/30\n",
      " - 6s - loss: 0.5330 - acc: 0.8159\n",
      "Epoch 27/30\n",
      " - 6s - loss: 0.5276 - acc: 0.8172\n",
      "Epoch 28/30\n",
      " - 6s - loss: 0.5175 - acc: 0.8213\n",
      "Epoch 29/30\n",
      " - 6s - loss: 0.5133 - acc: 0.8237\n",
      "Epoch 30/30\n",
      " - 9s - loss: 0.5068 - acc: 0.8257\n"
     ]
    },
    {
     "data": {
      "text/plain": [
       "'0:18:38.121480'"
      ]
     },
     "execution_count": 79,
     "metadata": {},
     "output_type": "execute_result"
    }
   ],
   "source": [
    "start = datetime.now()\n",
    "hist_cross_val_bsz500 = cross_validate(nn_1hl_bsz500, X, y, scoring=scoring, cv=cv)\n",
    "end = datetime.now()\n",
    "str(end-start)"
   ]
  },
  {
   "cell_type": "code",
   "execution_count": 80,
   "metadata": {},
   "outputs": [
    {
     "data": {
      "text/plain": [
       "{'fit_time': array([228.25806761, 380.2881372 , 295.49103117, 199.38756704]),\n",
       " 'score_time': array([2.8459146 , 5.28574038, 2.65137863, 3.53681755]),\n",
       " 'test_accuracy': array([0.72155601, 0.72342293, 0.71518776, 0.7242115 ]),\n",
       " 'test_neg_log_loss': array([-0.88508471, -0.89210922, -0.9567579 , -0.87393058])}"
      ]
     },
     "execution_count": 80,
     "metadata": {},
     "output_type": "execute_result"
    }
   ],
   "source": [
    "hist_cross_val_bsz500"
   ]
  },
  {
   "cell_type": "code",
   "execution_count": 81,
   "metadata": {},
   "outputs": [
    {
     "data": {
      "text/plain": [
       "(0.7210945488753802, -0.9019706013860028)"
      ]
     },
     "execution_count": 81,
     "metadata": {},
     "output_type": "execute_result"
    }
   ],
   "source": [
    "hist_cross_val_bsz500['test_accuracy'].mean(), hist_cross_val_bsz500['test_neg_log_loss'].mean()"
   ]
  },
  {
   "cell_type": "code",
   "execution_count": null,
   "metadata": {},
   "outputs": [],
   "source": []
  },
  {
   "cell_type": "code",
   "execution_count": null,
   "metadata": {},
   "outputs": [],
   "source": []
  },
  {
   "cell_type": "code",
   "execution_count": null,
   "metadata": {},
   "outputs": [],
   "source": []
  },
  {
   "cell_type": "code",
   "execution_count": 63,
   "metadata": {},
   "outputs": [],
   "source": [
    "nn_1hl_bsz3000 = KerasClassifier(build_fn=create_model_1hl, epochs=100, batch_size=3000, verbose=2)"
   ]
  },
  {
   "cell_type": "code",
   "execution_count": 64,
   "metadata": {},
   "outputs": [
    {
     "name": "stderr",
     "output_type": "stream",
     "text": [
      "C:\\Users\\Xiuquan\\Anaconda3\\lib\\site-packages\\ipykernel_launcher.py:3: UserWarning: Update your `Dense` call to the Keras 2 API: `Dense(activation=\"relu\", input_dim=450, units=512)`\n",
      "  This is separate from the ipykernel package so we can avoid doing imports until\n",
      "C:\\Users\\Xiuquan\\Anaconda3\\lib\\site-packages\\ipykernel_launcher.py:6: UserWarning: Update your `Dense` call to the Keras 2 API: `Dense(activation=\"softmax\", units=38)`\n",
      "  \n"
     ]
    },
    {
     "name": "stdout",
     "output_type": "stream",
     "text": [
      "Train on 71755 samples, validate on 23919 samples\n",
      "Epoch 1/100\n",
      " - 11s - loss: 2.6318 - acc: 0.4131 - val_loss: 2.0186 - val_acc: 0.5600\n",
      "Epoch 2/100\n",
      " - 9s - loss: 1.7554 - acc: 0.5910 - val_loss: 1.4564 - val_acc: 0.6420\n",
      "Epoch 3/100\n",
      " - 9s - loss: 1.3821 - acc: 0.6373 - val_loss: 1.2288 - val_acc: 0.6613\n",
      "Epoch 4/100\n",
      " - 9s - loss: 1.1962 - acc: 0.6599 - val_loss: 1.0865 - val_acc: 0.6840\n",
      "Epoch 5/100\n",
      " - 9s - loss: 1.0902 - acc: 0.6768 - val_loss: 1.0202 - val_acc: 0.6950\n",
      "Epoch 6/100\n",
      " - 9s - loss: 1.0225 - acc: 0.6866 - val_loss: 0.9736 - val_acc: 0.7008\n",
      "Epoch 7/100\n",
      " - 9s - loss: 0.9759 - acc: 0.6965 - val_loss: 0.9576 - val_acc: 0.7010\n",
      "Epoch 8/100\n",
      " - 10s - loss: 0.9362 - acc: 0.7037 - val_loss: 0.9186 - val_acc: 0.7116\n",
      "Epoch 9/100\n",
      " - 10s - loss: 0.9061 - acc: 0.7102 - val_loss: 0.8913 - val_acc: 0.7151\n",
      "Epoch 10/100\n",
      " - 10s - loss: 0.8806 - acc: 0.7152 - val_loss: 0.8760 - val_acc: 0.7183\n",
      "Epoch 11/100\n",
      " - 11s - loss: 0.8561 - acc: 0.7200 - val_loss: 0.8656 - val_acc: 0.7218\n",
      "Epoch 12/100\n",
      " - 10s - loss: 0.8364 - acc: 0.7237 - val_loss: 0.8530 - val_acc: 0.7211\n",
      "Epoch 13/100\n",
      " - 10s - loss: 0.8191 - acc: 0.7292 - val_loss: 0.8491 - val_acc: 0.7181\n",
      "Epoch 14/100\n",
      " - 9s - loss: 0.8042 - acc: 0.7322 - val_loss: 0.8417 - val_acc: 0.7211\n",
      "Epoch 15/100\n",
      " - 10s - loss: 0.7885 - acc: 0.7349 - val_loss: 0.8288 - val_acc: 0.7253\n",
      "Epoch 16/100\n",
      " - 9s - loss: 0.7741 - acc: 0.7388 - val_loss: 0.8216 - val_acc: 0.7272\n",
      "Epoch 17/100\n",
      " - 9s - loss: 0.7624 - acc: 0.7429 - val_loss: 0.8179 - val_acc: 0.7262\n",
      "Epoch 18/100\n",
      " - 10s - loss: 0.7493 - acc: 0.7478 - val_loss: 0.8119 - val_acc: 0.7283\n",
      "Epoch 19/100\n",
      " - 9s - loss: 0.7404 - acc: 0.7485 - val_loss: 0.8111 - val_acc: 0.7283\n",
      "Epoch 20/100\n",
      " - 9s - loss: 0.7309 - acc: 0.7514 - val_loss: 0.8053 - val_acc: 0.7284\n",
      "Epoch 21/100\n",
      " - 10s - loss: 0.7212 - acc: 0.7544 - val_loss: 0.8067 - val_acc: 0.7260\n",
      "Epoch 22/100\n",
      " - 10s - loss: 0.7118 - acc: 0.7580 - val_loss: 0.8067 - val_acc: 0.7249\n",
      "Epoch 23/100\n",
      " - 10s - loss: 0.7028 - acc: 0.7615 - val_loss: 0.8018 - val_acc: 0.7278\n",
      "Epoch 24/100\n",
      " - 9s - loss: 0.6946 - acc: 0.7629 - val_loss: 0.7994 - val_acc: 0.7307\n",
      "Epoch 25/100\n",
      " - 10s - loss: 0.6854 - acc: 0.7657 - val_loss: 0.7987 - val_acc: 0.7320\n",
      "Epoch 26/100\n",
      " - 10s - loss: 0.6797 - acc: 0.7669 - val_loss: 0.7974 - val_acc: 0.7288\n",
      "Epoch 27/100\n",
      " - 9s - loss: 0.6728 - acc: 0.7690 - val_loss: 0.7926 - val_acc: 0.7304\n",
      "Epoch 28/100\n",
      " - 10s - loss: 0.6653 - acc: 0.7707 - val_loss: 0.7922 - val_acc: 0.7319\n",
      "Epoch 29/100\n",
      " - 9s - loss: 0.6585 - acc: 0.7728 - val_loss: 0.7926 - val_acc: 0.7313\n",
      "Epoch 30/100\n",
      " - 9s - loss: 0.6518 - acc: 0.7751 - val_loss: 0.7942 - val_acc: 0.7278\n",
      "Epoch 31/100\n",
      " - 9s - loss: 0.6461 - acc: 0.7786 - val_loss: 0.7936 - val_acc: 0.7303\n",
      "Epoch 32/100\n",
      " - 9s - loss: 0.6383 - acc: 0.7802 - val_loss: 0.7913 - val_acc: 0.7321\n",
      "Epoch 33/100\n",
      " - 10s - loss: 0.6315 - acc: 0.7820 - val_loss: 0.7904 - val_acc: 0.7295\n",
      "Epoch 34/100\n",
      " - 9s - loss: 0.6281 - acc: 0.7844 - val_loss: 0.7955 - val_acc: 0.7282\n",
      "Epoch 35/100\n",
      " - 10s - loss: 0.6203 - acc: 0.7863 - val_loss: 0.7874 - val_acc: 0.7302\n",
      "Epoch 36/100\n",
      " - 9s - loss: 0.6169 - acc: 0.7875 - val_loss: 0.7899 - val_acc: 0.7329\n",
      "Epoch 37/100\n",
      " - 9s - loss: 0.6098 - acc: 0.7901 - val_loss: 0.7936 - val_acc: 0.7305\n",
      "Epoch 38/100\n",
      " - 10s - loss: 0.6058 - acc: 0.7910 - val_loss: 0.7901 - val_acc: 0.7285\n",
      "Epoch 39/100\n",
      " - 9s - loss: 0.6008 - acc: 0.7929 - val_loss: 0.7881 - val_acc: 0.7297\n",
      "Epoch 40/100\n",
      " - 9s - loss: 0.5957 - acc: 0.7938 - val_loss: 0.7947 - val_acc: 0.7257\n",
      "Epoch 41/100\n",
      " - 9s - loss: 0.5898 - acc: 0.7972 - val_loss: 0.7994 - val_acc: 0.7285\n",
      "Epoch 42/100\n",
      " - 9s - loss: 0.5868 - acc: 0.7968 - val_loss: 0.7915 - val_acc: 0.7283\n",
      "Epoch 43/100\n",
      " - 9s - loss: 0.5812 - acc: 0.7986 - val_loss: 0.7919 - val_acc: 0.7313\n",
      "Epoch 44/100\n",
      " - 9s - loss: 0.5741 - acc: 0.8017 - val_loss: 0.7942 - val_acc: 0.7301\n",
      "Epoch 45/100\n",
      " - 10s - loss: 0.5698 - acc: 0.8025 - val_loss: 0.7985 - val_acc: 0.7287\n",
      "Epoch 46/100\n",
      " - 9s - loss: 0.5659 - acc: 0.8045 - val_loss: 0.7936 - val_acc: 0.7318\n",
      "Epoch 47/100\n",
      " - 9s - loss: 0.5627 - acc: 0.8045 - val_loss: 0.7960 - val_acc: 0.7262\n",
      "Epoch 48/100\n",
      " - 9s - loss: 0.5551 - acc: 0.8094 - val_loss: 0.7981 - val_acc: 0.7292\n",
      "Epoch 49/100\n",
      " - 9s - loss: 0.5535 - acc: 0.8088 - val_loss: 0.8068 - val_acc: 0.7297\n",
      "Epoch 50/100\n",
      " - 9s - loss: 0.5478 - acc: 0.8113 - val_loss: 0.8005 - val_acc: 0.7295\n",
      "Epoch 51/100\n",
      " - 9s - loss: 0.5434 - acc: 0.8113 - val_loss: 0.8021 - val_acc: 0.7272\n",
      "Epoch 52/100\n",
      " - 9s - loss: 0.5402 - acc: 0.8123 - val_loss: 0.8044 - val_acc: 0.7281\n",
      "Epoch 53/100\n",
      " - 9s - loss: 0.5327 - acc: 0.8159 - val_loss: 0.8142 - val_acc: 0.7245\n",
      "Epoch 54/100\n",
      " - 10s - loss: 0.5324 - acc: 0.8146 - val_loss: 0.8077 - val_acc: 0.7265\n",
      "Epoch 55/100\n",
      " - 9s - loss: 0.5310 - acc: 0.8167 - val_loss: 0.8066 - val_acc: 0.7273\n",
      "Epoch 56/100\n",
      " - 10s - loss: 0.5254 - acc: 0.8189 - val_loss: 0.8086 - val_acc: 0.7277\n"
     ]
    },
    {
     "data": {
      "text/plain": [
       "'0:08:52.832307'"
      ]
     },
     "execution_count": 64,
     "metadata": {},
     "output_type": "execute_result"
    }
   ],
   "source": [
    "start = datetime.now()\n",
    "hist_1hl_bsz3000 = nn_1hl_bsz3000.fit(X, y, validation_split=0.25, callbacks=callbacks)\n",
    "end = datetime.now()\n",
    "str(end-start)"
   ]
  },
  {
   "cell_type": "code",
   "execution_count": 89,
   "metadata": {},
   "outputs": [
    {
     "data": {
      "image/png": "[encoded data removed]",
      "text/plain": [
       "<Figure size 432x288 with 1 Axes>"
      ]
     },
     "metadata": {
      "needs_background": "light"
     },
     "output_type": "display_data"
    }
   ],
   "source": [
    "plt.plot(hist_1hl_bsz3000.history['acc'])\n",
    "plt.plot(hist_1hl_bsz3000.history['val_acc'])\n",
    "plt.title('model accuracy: batch size=3000')\n",
    "plt.ylabel('accuracy')\n",
    "plt.xlabel('epoch')\n",
    "plt.legend(['train', 'val'], loc='upper left')\n",
    "plt.show()"
   ]
  },
  {
   "cell_type": "code",
   "execution_count": 90,
   "metadata": {},
   "outputs": [
    {
     "data": {
      "image/png": "[encoded data removed]",
      "text/plain": [
       "<Figure size 432x288 with 1 Axes>"
      ]
     },
     "metadata": {
      "needs_background": "light"
     },
     "output_type": "display_data"
    }
   ],
   "source": [
    "plt.plot(hist_1hl_bsz3000.history['loss'])\n",
    "plt.plot(hist_1hl_bsz3000.history['val_loss'])\n",
    "plt.title('model loss: batch size=3000')\n",
    "plt.ylabel('loss')\n",
    "plt.xlabel('epoch')\n",
    "plt.legend(['train', 'val'], loc='upper left')\n",
    "plt.show()"
   ]
  },
  {
   "cell_type": "code",
   "execution_count": 69,
   "metadata": {},
   "outputs": [],
   "source": [
    "nn_1hl_bsz3000 = KerasClassifier(build_fn=create_model_1hl, epochs=30, batch_size=3000, verbose=2)"
   ]
  },
  {
   "cell_type": "code",
   "execution_count": 70,
   "metadata": {},
   "outputs": [
    {
     "name": "stderr",
     "output_type": "stream",
     "text": [
      "C:\\Users\\Xiuquan\\Anaconda3\\lib\\site-packages\\ipykernel_launcher.py:3: UserWarning: Update your `Dense` call to the Keras 2 API: `Dense(activation=\"relu\", input_dim=450, units=512)`\n",
      "  This is separate from the ipykernel package so we can avoid doing imports until\n",
      "C:\\Users\\Xiuquan\\Anaconda3\\lib\\site-packages\\ipykernel_launcher.py:6: UserWarning: Update your `Dense` call to the Keras 2 API: `Dense(activation=\"softmax\", units=38)`\n",
      "  \n"
     ]
    },
    {
     "name": "stdout",
     "output_type": "stream",
     "text": [
      "Epoch 1/30\n",
      " - 11s - loss: 2.6305 - acc: 0.4162\n",
      "Epoch 2/30\n",
      " - 9s - loss: 1.7367 - acc: 0.5888\n",
      "Epoch 3/30\n",
      " - 8s - loss: 1.3678 - acc: 0.6387\n",
      "Epoch 4/30\n",
      " - 9s - loss: 1.1814 - acc: 0.6630\n",
      "Epoch 5/30\n",
      " - 9s - loss: 1.0788 - acc: 0.6808\n",
      "Epoch 6/30\n",
      " - 9s - loss: 1.0130 - acc: 0.6908\n",
      "Epoch 7/30\n",
      " - 9s - loss: 0.9690 - acc: 0.6974\n",
      "Epoch 8/30\n",
      " - 8s - loss: 0.9284 - acc: 0.7043\n",
      "Epoch 9/30\n",
      " - 9s - loss: 0.9003 - acc: 0.7102\n",
      "Epoch 10/30\n",
      " - 9s - loss: 0.8736 - acc: 0.7163\n",
      "Epoch 11/30\n",
      " - 9s - loss: 0.8516 - acc: 0.7216\n",
      "Epoch 12/30\n",
      " - 9s - loss: 0.8332 - acc: 0.7248\n",
      "Epoch 13/30\n",
      " - 9s - loss: 0.8140 - acc: 0.7296\n",
      "Epoch 14/30\n",
      " - 9s - loss: 0.7993 - acc: 0.7332\n",
      "Epoch 15/30\n",
      " - 9s - loss: 0.7865 - acc: 0.7372\n",
      "Epoch 16/30\n",
      " - 9s - loss: 0.7704 - acc: 0.7398\n",
      "Epoch 17/30\n",
      " - 9s - loss: 0.7599 - acc: 0.7425\n",
      "Epoch 18/30\n",
      " - 9s - loss: 0.7502 - acc: 0.7442\n",
      "Epoch 19/30\n",
      " - 8s - loss: 0.7392 - acc: 0.7483\n",
      "Epoch 20/30\n",
      " - 8s - loss: 0.7269 - acc: 0.7518\n",
      "Epoch 21/30\n",
      " - 8s - loss: 0.7193 - acc: 0.7537\n",
      "Epoch 22/30\n",
      " - 9s - loss: 0.7085 - acc: 0.7568\n",
      "Epoch 23/30\n",
      " - 8s - loss: 0.7014 - acc: 0.7590\n",
      "Epoch 24/30\n",
      " - 9s - loss: 0.6935 - acc: 0.7621\n",
      "Epoch 25/30\n",
      " - 8s - loss: 0.6875 - acc: 0.7632\n",
      "Epoch 26/30\n",
      " - 9s - loss: 0.6773 - acc: 0.7654\n",
      "Epoch 27/30\n",
      " - 9s - loss: 0.6714 - acc: 0.7691\n",
      "Epoch 28/30\n",
      " - 9s - loss: 0.6617 - acc: 0.7718\n",
      "Epoch 29/30\n",
      " - 8s - loss: 0.6582 - acc: 0.7747\n",
      "Epoch 30/30\n",
      " - 8s - loss: 0.6493 - acc: 0.7769\n"
     ]
    },
    {
     "name": "stderr",
     "output_type": "stream",
     "text": [
      "C:\\Users\\Xiuquan\\Anaconda3\\lib\\site-packages\\ipykernel_launcher.py:3: UserWarning: Update your `Dense` call to the Keras 2 API: `Dense(activation=\"relu\", input_dim=450, units=512)`\n",
      "  This is separate from the ipykernel package so we can avoid doing imports until\n",
      "C:\\Users\\Xiuquan\\Anaconda3\\lib\\site-packages\\ipykernel_launcher.py:6: UserWarning: Update your `Dense` call to the Keras 2 API: `Dense(activation=\"softmax\", units=38)`\n",
      "  \n"
     ]
    },
    {
     "name": "stdout",
     "output_type": "stream",
     "text": [
      "Epoch 1/30\n",
      " - 10s - loss: 2.5965 - acc: 0.4315\n",
      "Epoch 2/30\n",
      " - 8s - loss: 1.7207 - acc: 0.5967\n",
      "Epoch 3/30\n",
      " - 8s - loss: 1.3553 - acc: 0.6389\n",
      "Epoch 4/30\n",
      " - 8s - loss: 1.1745 - acc: 0.6634\n",
      "Epoch 5/30\n",
      " - 9s - loss: 1.0756 - acc: 0.6782\n",
      "Epoch 6/30\n",
      " - 9s - loss: 1.0105 - acc: 0.6927\n",
      "Epoch 7/30\n",
      " - 8s - loss: 0.9647 - acc: 0.6991\n",
      "Epoch 8/30\n",
      " - 9s - loss: 0.9238 - acc: 0.7082\n",
      "Epoch 9/30\n",
      " - 8s - loss: 0.8964 - acc: 0.7131\n",
      "Epoch 10/30\n",
      " - 8s - loss: 0.8703 - acc: 0.7180\n",
      "Epoch 11/30\n",
      " - 8s - loss: 0.8489 - acc: 0.7222\n",
      "Epoch 12/30\n",
      " - 9s - loss: 0.8281 - acc: 0.7273\n",
      "Epoch 13/30\n",
      " - 8s - loss: 0.8094 - acc: 0.7319\n",
      "Epoch 14/30\n",
      " - 8s - loss: 0.7959 - acc: 0.7358\n",
      "Epoch 15/30\n",
      " - 8s - loss: 0.7827 - acc: 0.7379\n",
      "Epoch 16/30\n",
      " - 8s - loss: 0.7701 - acc: 0.7416\n",
      "Epoch 17/30\n",
      " - 8s - loss: 0.7552 - acc: 0.7459\n",
      "Epoch 18/30\n",
      " - 8s - loss: 0.7452 - acc: 0.7483\n",
      "Epoch 19/30\n",
      " - 8s - loss: 0.7342 - acc: 0.7514\n",
      "Epoch 20/30\n",
      " - 9s - loss: 0.7244 - acc: 0.7536\n",
      "Epoch 21/30\n",
      " - 9s - loss: 0.7139 - acc: 0.7583\n",
      "Epoch 22/30\n",
      " - 9s - loss: 0.7074 - acc: 0.7585\n",
      "Epoch 23/30\n",
      " - 8s - loss: 0.6967 - acc: 0.7629\n",
      "Epoch 24/30\n",
      " - 9s - loss: 0.6897 - acc: 0.7647\n",
      "Epoch 25/30\n",
      " - 9s - loss: 0.6821 - acc: 0.7678\n",
      "Epoch 26/30\n",
      " - 8s - loss: 0.6739 - acc: 0.7694\n",
      "Epoch 27/30\n",
      " - 9s - loss: 0.6667 - acc: 0.7714\n",
      "Epoch 28/30\n",
      " - 8s - loss: 0.6595 - acc: 0.7751\n",
      "Epoch 29/30\n",
      " - 8s - loss: 0.6530 - acc: 0.7751\n",
      "Epoch 30/30\n",
      " - 8s - loss: 0.6471 - acc: 0.7795\n"
     ]
    },
    {
     "name": "stderr",
     "output_type": "stream",
     "text": [
      "C:\\Users\\Xiuquan\\Anaconda3\\lib\\site-packages\\ipykernel_launcher.py:3: UserWarning: Update your `Dense` call to the Keras 2 API: `Dense(activation=\"relu\", input_dim=450, units=512)`\n",
      "  This is separate from the ipykernel package so we can avoid doing imports until\n",
      "C:\\Users\\Xiuquan\\Anaconda3\\lib\\site-packages\\ipykernel_launcher.py:6: UserWarning: Update your `Dense` call to the Keras 2 API: `Dense(activation=\"softmax\", units=38)`\n",
      "  \n"
     ]
    },
    {
     "name": "stdout",
     "output_type": "stream",
     "text": [
      "Epoch 1/30\n",
      " - 11s - loss: 2.6372 - acc: 0.4306\n",
      "Epoch 2/30\n",
      " - 9s - loss: 1.7341 - acc: 0.6005\n",
      "Epoch 3/30\n",
      " - 9s - loss: 1.3582 - acc: 0.6410\n",
      "Epoch 4/30\n",
      " - 9s - loss: 1.1719 - acc: 0.6664\n",
      "Epoch 5/30\n",
      " - 8s - loss: 1.0632 - acc: 0.6840\n",
      "Epoch 6/30\n",
      " - 9s - loss: 0.9995 - acc: 0.6955\n",
      "Epoch 7/30\n",
      " - 8s - loss: 0.9502 - acc: 0.7036\n",
      "Epoch 8/30\n",
      " - 9s - loss: 0.9150 - acc: 0.7103\n",
      "Epoch 9/30\n",
      " - 8s - loss: 0.8875 - acc: 0.7149\n",
      "Epoch 10/30\n",
      " - 9s - loss: 0.8609 - acc: 0.7207\n",
      "Epoch 11/30\n",
      " - 8s - loss: 0.8365 - acc: 0.7261\n",
      "Epoch 12/30\n",
      " - 9s - loss: 0.8178 - acc: 0.7306\n",
      "Epoch 13/30\n",
      " - 9s - loss: 0.8000 - acc: 0.7337\n",
      "Epoch 14/30\n",
      " - 8s - loss: 0.7832 - acc: 0.7389\n",
      "Epoch 15/30\n",
      " - 10s - loss: 0.7680 - acc: 0.7433\n",
      "Epoch 16/30\n",
      " - 8s - loss: 0.7564 - acc: 0.7464\n",
      "Epoch 17/30\n",
      " - 9s - loss: 0.7434 - acc: 0.7489\n",
      "Epoch 18/30\n",
      " - 8s - loss: 0.7327 - acc: 0.7514\n",
      "Epoch 19/30\n",
      " - 9s - loss: 0.7185 - acc: 0.7562\n",
      "Epoch 20/30\n",
      " - 8s - loss: 0.7099 - acc: 0.7573\n",
      "Epoch 21/30\n",
      " - 9s - loss: 0.7003 - acc: 0.7614\n",
      "Epoch 22/30\n",
      " - 8s - loss: 0.6911 - acc: 0.7640\n",
      "Epoch 23/30\n",
      " - 9s - loss: 0.6826 - acc: 0.7670\n",
      "Epoch 24/30\n",
      " - 8s - loss: 0.6741 - acc: 0.7695\n",
      "Epoch 25/30\n",
      " - 8s - loss: 0.6659 - acc: 0.7714\n",
      "Epoch 26/30\n",
      " - 8s - loss: 0.6601 - acc: 0.7747\n",
      "Epoch 27/30\n",
      " - 9s - loss: 0.6536 - acc: 0.7764\n",
      "Epoch 28/30\n",
      " - 8s - loss: 0.6481 - acc: 0.7773\n",
      "Epoch 29/30\n",
      " - 8s - loss: 0.6398 - acc: 0.7809\n",
      "Epoch 30/30\n",
      " - 9s - loss: 0.6317 - acc: 0.7822\n"
     ]
    },
    {
     "name": "stderr",
     "output_type": "stream",
     "text": [
      "C:\\Users\\Xiuquan\\Anaconda3\\lib\\site-packages\\ipykernel_launcher.py:3: UserWarning: Update your `Dense` call to the Keras 2 API: `Dense(activation=\"relu\", input_dim=450, units=512)`\n",
      "  This is separate from the ipykernel package so we can avoid doing imports until\n",
      "C:\\Users\\Xiuquan\\Anaconda3\\lib\\site-packages\\ipykernel_launcher.py:6: UserWarning: Update your `Dense` call to the Keras 2 API: `Dense(activation=\"softmax\", units=38)`\n",
      "  \n"
     ]
    },
    {
     "name": "stdout",
     "output_type": "stream",
     "text": [
      "Epoch 1/30\n",
      " - 10s - loss: 2.6146 - acc: 0.4195\n",
      "Epoch 2/30\n",
      " - 8s - loss: 1.7362 - acc: 0.5894\n",
      "Epoch 3/30\n",
      " - 8s - loss: 1.3726 - acc: 0.6307\n",
      "Epoch 4/30\n",
      " - 8s - loss: 1.1883 - acc: 0.6584\n",
      "Epoch 5/30\n",
      " - 8s - loss: 1.0816 - acc: 0.6759\n",
      "Epoch 6/30\n",
      " - 8s - loss: 1.0195 - acc: 0.6873\n",
      "Epoch 7/30\n",
      " - 8s - loss: 0.9703 - acc: 0.6966\n",
      "Epoch 8/30\n",
      " - 8s - loss: 0.9301 - acc: 0.7044\n",
      "Epoch 9/30\n",
      " - 8s - loss: 0.8991 - acc: 0.7103\n",
      "Epoch 10/30\n",
      " - 8s - loss: 0.8745 - acc: 0.7157\n",
      "Epoch 11/30\n",
      " - 8s - loss: 0.8491 - acc: 0.7211\n",
      "Epoch 12/30\n",
      " - 8s - loss: 0.8306 - acc: 0.7255\n",
      "Epoch 13/30\n",
      " - 8s - loss: 0.8131 - acc: 0.7290\n",
      "Epoch 14/30\n",
      " - 8s - loss: 0.7973 - acc: 0.7331\n",
      "Epoch 15/30\n",
      " - 8s - loss: 0.7844 - acc: 0.7388\n",
      "Epoch 16/30\n",
      " - 8s - loss: 0.7680 - acc: 0.7416\n",
      "Epoch 17/30\n",
      " - 8s - loss: 0.7583 - acc: 0.7433\n",
      "Epoch 18/30\n",
      " - 8s - loss: 0.7460 - acc: 0.7475\n",
      "Epoch 19/30\n",
      " - 8s - loss: 0.7351 - acc: 0.7506\n",
      "Epoch 20/30\n",
      " - 8s - loss: 0.7267 - acc: 0.7520\n",
      "Epoch 21/30\n",
      " - 9s - loss: 0.7140 - acc: 0.7574\n",
      "Epoch 22/30\n",
      " - 9s - loss: 0.7071 - acc: 0.7581\n",
      "Epoch 23/30\n",
      " - 8s - loss: 0.7005 - acc: 0.7596\n",
      "Epoch 24/30\n",
      " - 9s - loss: 0.6922 - acc: 0.7641\n",
      "Epoch 25/30\n",
      " - 8s - loss: 0.6839 - acc: 0.7661\n",
      "Epoch 26/30\n",
      " - 8s - loss: 0.6765 - acc: 0.7670\n",
      "Epoch 27/30\n",
      " - 8s - loss: 0.6684 - acc: 0.7695\n",
      "Epoch 28/30\n",
      " - 9s - loss: 0.6609 - acc: 0.7730\n",
      "Epoch 29/30\n",
      " - 9s - loss: 0.6556 - acc: 0.7740\n",
      "Epoch 30/30\n",
      " - 9s - loss: 0.6463 - acc: 0.7781\n"
     ]
    },
    {
     "data": {
      "text/plain": [
       "'0:17:26.424329'"
      ]
     },
     "execution_count": 70,
     "metadata": {},
     "output_type": "execute_result"
    }
   ],
   "source": [
    "start = datetime.now()\n",
    "hist_cross_val_bsz3000 = cross_validate(nn_1hl_bsz3000, X, y, scoring=scoring, cv=cv)\n",
    "end = datetime.now()\n",
    "str(end-start)"
   ]
  },
  {
   "cell_type": "code",
   "execution_count": 71,
   "metadata": {},
   "outputs": [
    {
     "data": {
      "text/plain": [
       "{'fit_time': array([261.35864925, 257.30623889, 261.6889286 , 255.01776266]),\n",
       " 'score_time': array([2.70130897, 2.69250774, 2.65195894, 2.76911116]),\n",
       " 'test_accuracy': array([0.72861739, 0.7270181 , 0.71464414, 0.73307956]),\n",
       " 'test_neg_log_loss': array([-0.79988328, -0.80339764, -0.85310992, -0.79092039])}"
      ]
     },
     "execution_count": 71,
     "metadata": {},
     "output_type": "execute_result"
    }
   ],
   "source": [
    "hist_cross_val_bsz3000"
   ]
  },
  {
   "cell_type": "code",
   "execution_count": 72,
   "metadata": {},
   "outputs": [
    {
     "data": {
      "text/plain": [
       "(0.7258397986469234, -0.8118278074416612)"
      ]
     },
     "execution_count": 72,
     "metadata": {},
     "output_type": "execute_result"
    }
   ],
   "source": [
    "hist_cross_val_bsz3000['test_accuracy'].mean(), hist_cross_val_bsz3000['test_neg_log_loss'].mean()"
   ]
  },
  {
   "cell_type": "code",
   "execution_count": null,
   "metadata": {},
   "outputs": [],
   "source": []
  },
  {
   "cell_type": "code",
   "execution_count": 73,
   "metadata": {},
   "outputs": [],
   "source": [
    "nn_1hl_bsz3000 = KerasClassifier(build_fn=create_model_1hl, epochs=35, batch_size=3000, verbose=2)"
   ]
  },
  {
   "cell_type": "code",
   "execution_count": 74,
   "metadata": {},
   "outputs": [
    {
     "name": "stderr",
     "output_type": "stream",
     "text": [
      "C:\\Users\\Xiuquan\\Anaconda3\\lib\\site-packages\\ipykernel_launcher.py:3: UserWarning: Update your `Dense` call to the Keras 2 API: `Dense(activation=\"relu\", input_dim=450, units=512)`\n",
      "  This is separate from the ipykernel package so we can avoid doing imports until\n",
      "C:\\Users\\Xiuquan\\Anaconda3\\lib\\site-packages\\ipykernel_launcher.py:6: UserWarning: Update your `Dense` call to the Keras 2 API: `Dense(activation=\"softmax\", units=38)`\n",
      "  \n"
     ]
    },
    {
     "name": "stdout",
     "output_type": "stream",
     "text": [
      "Epoch 1/35\n",
      " - 11s - loss: 2.6549 - acc: 0.4212\n",
      "Epoch 2/35\n",
      " - 9s - loss: 1.7424 - acc: 0.5983\n",
      "Epoch 3/35\n",
      " - 9s - loss: 1.3719 - acc: 0.6391\n",
      "Epoch 4/35\n",
      " - 9s - loss: 1.1845 - acc: 0.6655\n",
      "Epoch 5/35\n",
      " - 9s - loss: 1.0805 - acc: 0.6793\n",
      "Epoch 6/35\n",
      " - 9s - loss: 1.0121 - acc: 0.6901\n",
      "Epoch 7/35\n",
      " - 9s - loss: 0.9664 - acc: 0.6987\n",
      "Epoch 8/35\n",
      " - 9s - loss: 0.9289 - acc: 0.7059\n",
      "Epoch 9/35\n",
      " - 9s - loss: 0.9003 - acc: 0.7119\n",
      "Epoch 10/35\n",
      " - 9s - loss: 0.8714 - acc: 0.7169\n",
      "Epoch 11/35\n",
      " - 9s - loss: 0.8511 - acc: 0.7221\n",
      "Epoch 12/35\n",
      " - 8s - loss: 0.8329 - acc: 0.7252\n",
      "Epoch 13/35\n",
      " - 9s - loss: 0.8135 - acc: 0.7301\n",
      "Epoch 14/35\n",
      " - 9s - loss: 0.7977 - acc: 0.7337\n",
      "Epoch 15/35\n",
      " - 9s - loss: 0.7831 - acc: 0.7378\n",
      "Epoch 16/35\n",
      " - 9s - loss: 0.7707 - acc: 0.7415\n",
      "Epoch 17/35\n",
      " - 9s - loss: 0.7585 - acc: 0.7443\n",
      "Epoch 18/35\n",
      " - 9s - loss: 0.7473 - acc: 0.7468\n",
      "Epoch 19/35\n",
      " - 9s - loss: 0.7362 - acc: 0.7497\n",
      "Epoch 20/35\n",
      " - 9s - loss: 0.7271 - acc: 0.7529\n",
      "Epoch 21/35\n",
      " - 9s - loss: 0.7179 - acc: 0.7552\n",
      "Epoch 22/35\n",
      " - 9s - loss: 0.7078 - acc: 0.7582\n",
      "Epoch 23/35\n",
      " - 8s - loss: 0.6993 - acc: 0.7594\n",
      "Epoch 24/35\n",
      " - 9s - loss: 0.6931 - acc: 0.7619\n",
      "Epoch 25/35\n",
      " - 9s - loss: 0.6836 - acc: 0.7650\n",
      "Epoch 26/35\n",
      " - 9s - loss: 0.6768 - acc: 0.7683\n",
      "Epoch 27/35\n",
      " - 8s - loss: 0.6678 - acc: 0.7709\n",
      "Epoch 28/35\n",
      " - 9s - loss: 0.6636 - acc: 0.7707\n",
      "Epoch 29/35\n",
      " - 9s - loss: 0.6559 - acc: 0.7735\n",
      "Epoch 30/35\n",
      " - 8s - loss: 0.6489 - acc: 0.7754\n",
      "Epoch 31/35\n",
      " - 9s - loss: 0.6431 - acc: 0.7775\n",
      "Epoch 32/35\n",
      " - 8s - loss: 0.6388 - acc: 0.7780\n",
      "Epoch 33/35\n",
      " - 9s - loss: 0.6314 - acc: 0.7815\n",
      "Epoch 34/35\n",
      " - 8s - loss: 0.6249 - acc: 0.7842\n",
      "Epoch 35/35\n",
      " - 9s - loss: 0.6192 - acc: 0.7859\n"
     ]
    },
    {
     "name": "stderr",
     "output_type": "stream",
     "text": [
      "C:\\Users\\Xiuquan\\Anaconda3\\lib\\site-packages\\ipykernel_launcher.py:3: UserWarning: Update your `Dense` call to the Keras 2 API: `Dense(activation=\"relu\", input_dim=450, units=512)`\n",
      "  This is separate from the ipykernel package so we can avoid doing imports until\n",
      "C:\\Users\\Xiuquan\\Anaconda3\\lib\\site-packages\\ipykernel_launcher.py:6: UserWarning: Update your `Dense` call to the Keras 2 API: `Dense(activation=\"softmax\", units=38)`\n",
      "  \n"
     ]
    },
    {
     "name": "stdout",
     "output_type": "stream",
     "text": [
      "Epoch 1/35\n",
      " - 10s - loss: 2.5972 - acc: 0.4353\n",
      "Epoch 2/35\n",
      " - 8s - loss: 1.7259 - acc: 0.5978\n",
      "Epoch 3/35\n",
      " - 9s - loss: 1.3664 - acc: 0.6393\n",
      "Epoch 4/35\n",
      " - 9s - loss: 1.1807 - acc: 0.6636\n",
      "Epoch 5/35\n",
      " - 9s - loss: 1.0770 - acc: 0.6809\n",
      "Epoch 6/35\n",
      " - 9s - loss: 1.0102 - acc: 0.6930\n",
      "Epoch 7/35\n",
      " - 9s - loss: 0.9645 - acc: 0.6992\n",
      "Epoch 8/35\n",
      " - 8s - loss: 0.9249 - acc: 0.7076\n",
      "Epoch 9/35\n",
      " - 8s - loss: 0.8965 - acc: 0.7130\n",
      "Epoch 10/35\n",
      " - 8s - loss: 0.8719 - acc: 0.7186\n",
      "Epoch 11/35\n",
      " - 8s - loss: 0.8470 - acc: 0.7248\n",
      "Epoch 12/35\n",
      " - 8s - loss: 0.8290 - acc: 0.7261\n",
      "Epoch 13/35\n",
      " - 8s - loss: 0.8136 - acc: 0.7301\n",
      "Epoch 14/35\n",
      " - 8s - loss: 0.7951 - acc: 0.7342\n",
      "Epoch 15/35\n",
      " - 8s - loss: 0.7817 - acc: 0.7389\n",
      "Epoch 16/35\n",
      " - 8s - loss: 0.7689 - acc: 0.7419\n",
      "Epoch 17/35\n",
      " - 8s - loss: 0.7576 - acc: 0.7445\n",
      "Epoch 18/35\n",
      " - 8s - loss: 0.7466 - acc: 0.7481\n",
      "Epoch 19/35\n",
      " - 8s - loss: 0.7351 - acc: 0.7518\n",
      "Epoch 20/35\n",
      " - 8s - loss: 0.7261 - acc: 0.7536\n",
      "Epoch 21/35\n",
      " - 8s - loss: 0.7185 - acc: 0.7563\n",
      "Epoch 22/35\n",
      " - 9s - loss: 0.7078 - acc: 0.7579\n",
      "Epoch 23/35\n",
      " - 8s - loss: 0.7002 - acc: 0.7604\n",
      "Epoch 24/35\n",
      " - 9s - loss: 0.6903 - acc: 0.7648\n",
      "Epoch 25/35\n",
      " - 8s - loss: 0.6822 - acc: 0.7680\n",
      "Epoch 26/35\n",
      " - 9s - loss: 0.6747 - acc: 0.7688\n",
      "Epoch 27/35\n",
      " - 9s - loss: 0.6700 - acc: 0.7704\n",
      "Epoch 28/35\n",
      " - 9s - loss: 0.6614 - acc: 0.7717\n",
      "Epoch 29/35\n",
      " - 9s - loss: 0.6565 - acc: 0.7741\n",
      "Epoch 30/35\n",
      " - 9s - loss: 0.6487 - acc: 0.7783\n",
      "Epoch 31/35\n",
      " - 8s - loss: 0.6413 - acc: 0.7806\n",
      "Epoch 32/35\n",
      " - 8s - loss: 0.6370 - acc: 0.7806\n",
      "Epoch 33/35\n",
      " - 8s - loss: 0.6311 - acc: 0.7831\n",
      "Epoch 34/35\n",
      " - 8s - loss: 0.6248 - acc: 0.7851\n",
      "Epoch 35/35\n",
      " - 9s - loss: 0.6193 - acc: 0.7875\n"
     ]
    },
    {
     "name": "stderr",
     "output_type": "stream",
     "text": [
      "C:\\Users\\Xiuquan\\Anaconda3\\lib\\site-packages\\ipykernel_launcher.py:3: UserWarning: Update your `Dense` call to the Keras 2 API: `Dense(activation=\"relu\", input_dim=450, units=512)`\n",
      "  This is separate from the ipykernel package so we can avoid doing imports until\n",
      "C:\\Users\\Xiuquan\\Anaconda3\\lib\\site-packages\\ipykernel_launcher.py:6: UserWarning: Update your `Dense` call to the Keras 2 API: `Dense(activation=\"softmax\", units=38)`\n",
      "  \n"
     ]
    },
    {
     "name": "stdout",
     "output_type": "stream",
     "text": [
      "Epoch 1/35\n",
      " - 12s - loss: 2.5927 - acc: 0.4250\n",
      "Epoch 2/35\n",
      " - 8s - loss: 1.7134 - acc: 0.6002\n",
      "Epoch 3/35\n",
      " - 9s - loss: 1.3483 - acc: 0.6415\n",
      "Epoch 4/35\n",
      " - 9s - loss: 1.1665 - acc: 0.6669\n",
      "Epoch 5/35\n",
      " - 9s - loss: 1.0642 - acc: 0.6834\n",
      "Epoch 6/35\n",
      " - 8s - loss: 0.9993 - acc: 0.6945\n",
      "Epoch 7/35\n",
      " - 10s - loss: 0.9503 - acc: 0.7042\n",
      "Epoch 8/35\n",
      " - 8s - loss: 0.9167 - acc: 0.7112\n",
      "Epoch 9/35\n",
      " - 8s - loss: 0.8838 - acc: 0.7189\n",
      "Epoch 10/35\n",
      " - 8s - loss: 0.8595 - acc: 0.7217\n",
      "Epoch 11/35\n",
      " - 9s - loss: 0.8364 - acc: 0.7253\n",
      "Epoch 12/35\n",
      " - 9s - loss: 0.8172 - acc: 0.7313\n",
      "Epoch 13/35\n",
      " - 9s - loss: 0.7979 - acc: 0.7363\n",
      "Epoch 14/35\n",
      " - 9s - loss: 0.7822 - acc: 0.7392\n",
      "Epoch 15/35\n",
      " - 8s - loss: 0.7666 - acc: 0.7435\n",
      "Epoch 16/35\n",
      " - 9s - loss: 0.7542 - acc: 0.7479\n",
      "Epoch 17/35\n",
      " - 8s - loss: 0.7434 - acc: 0.7496\n",
      "Epoch 18/35\n",
      " - 9s - loss: 0.7306 - acc: 0.7532\n",
      "Epoch 19/35\n",
      " - 8s - loss: 0.7216 - acc: 0.7554\n",
      "Epoch 20/35\n",
      " - 9s - loss: 0.7094 - acc: 0.7605\n",
      "Epoch 21/35\n",
      " - 8s - loss: 0.7012 - acc: 0.7612\n",
      "Epoch 22/35\n",
      " - 9s - loss: 0.6930 - acc: 0.7646\n",
      "Epoch 23/35\n",
      " - 9s - loss: 0.6826 - acc: 0.7679\n",
      "Epoch 24/35\n",
      " - 9s - loss: 0.6750 - acc: 0.7690\n",
      "Epoch 25/35\n",
      " - 9s - loss: 0.6675 - acc: 0.7718\n",
      "Epoch 26/35\n",
      " - 9s - loss: 0.6599 - acc: 0.7744\n",
      "Epoch 27/35\n",
      " - 9s - loss: 0.6524 - acc: 0.7757\n",
      "Epoch 28/35\n",
      " - 9s - loss: 0.6455 - acc: 0.7775\n",
      "Epoch 29/35\n",
      " - 9s - loss: 0.6389 - acc: 0.7806\n",
      "Epoch 30/35\n",
      " - 9s - loss: 0.6317 - acc: 0.7833\n",
      "Epoch 31/35\n",
      " - 8s - loss: 0.6248 - acc: 0.7851\n",
      "Epoch 32/35\n",
      " - 9s - loss: 0.6186 - acc: 0.7872\n",
      "Epoch 33/35\n",
      " - 9s - loss: 0.6132 - acc: 0.7897\n",
      "Epoch 34/35\n",
      " - 8s - loss: 0.6082 - acc: 0.7903\n",
      "Epoch 35/35\n",
      " - 8s - loss: 0.6012 - acc: 0.7917\n"
     ]
    },
    {
     "name": "stderr",
     "output_type": "stream",
     "text": [
      "C:\\Users\\Xiuquan\\Anaconda3\\lib\\site-packages\\ipykernel_launcher.py:3: UserWarning: Update your `Dense` call to the Keras 2 API: `Dense(activation=\"relu\", input_dim=450, units=512)`\n",
      "  This is separate from the ipykernel package so we can avoid doing imports until\n",
      "C:\\Users\\Xiuquan\\Anaconda3\\lib\\site-packages\\ipykernel_launcher.py:6: UserWarning: Update your `Dense` call to the Keras 2 API: `Dense(activation=\"softmax\", units=38)`\n",
      "  \n"
     ]
    },
    {
     "name": "stdout",
     "output_type": "stream",
     "text": [
      "Epoch 1/35\n",
      " - 10s - loss: 2.6163 - acc: 0.4156\n",
      "Epoch 2/35\n",
      " - 8s - loss: 1.7494 - acc: 0.5940\n",
      "Epoch 3/35\n",
      " - 9s - loss: 1.3761 - acc: 0.6350\n",
      "Epoch 4/35\n",
      " - 8s - loss: 1.1895 - acc: 0.6587\n",
      "Epoch 5/35\n",
      " - 8s - loss: 1.0873 - acc: 0.6750\n",
      "Epoch 6/35\n",
      " - 8s - loss: 1.0226 - acc: 0.6870\n",
      "Epoch 7/35\n",
      " - 8s - loss: 0.9725 - acc: 0.6962\n",
      "Epoch 8/35\n",
      " - 9s - loss: 0.9378 - acc: 0.7033\n",
      "Epoch 9/35\n",
      " - 8s - loss: 0.9050 - acc: 0.7083\n",
      "Epoch 10/35\n",
      " - 9s - loss: 0.8771 - acc: 0.7153\n",
      "Epoch 11/35\n",
      " - 9s - loss: 0.8579 - acc: 0.7201\n",
      "Epoch 12/35\n",
      " - 9s - loss: 0.8338 - acc: 0.7240\n",
      "Epoch 13/35\n",
      " - 8s - loss: 0.8164 - acc: 0.7305\n",
      "Epoch 14/35\n",
      " - 8s - loss: 0.8034 - acc: 0.7323\n",
      "Epoch 15/35\n",
      " - 8s - loss: 0.7886 - acc: 0.7356\n",
      "Epoch 16/35\n",
      " - 8s - loss: 0.7744 - acc: 0.7401\n",
      "Epoch 17/35\n",
      " - 8s - loss: 0.7604 - acc: 0.7428\n",
      "Epoch 18/35\n",
      " - 8s - loss: 0.7509 - acc: 0.7453\n",
      "Epoch 19/35\n",
      " - 9s - loss: 0.7388 - acc: 0.7488\n",
      "Epoch 20/35\n",
      " - 9s - loss: 0.7277 - acc: 0.7523\n",
      "Epoch 21/35\n",
      " - 8s - loss: 0.7187 - acc: 0.7554\n",
      "Epoch 22/35\n",
      " - 8s - loss: 0.7097 - acc: 0.7577\n",
      "Epoch 23/35\n",
      " - 8s - loss: 0.7020 - acc: 0.7604\n",
      "Epoch 24/35\n",
      " - 8s - loss: 0.6932 - acc: 0.7618\n",
      "Epoch 25/35\n",
      " - 8s - loss: 0.6877 - acc: 0.7634\n",
      "Epoch 26/35\n",
      " - 8s - loss: 0.6770 - acc: 0.7694\n",
      "Epoch 27/35\n",
      " - 8s - loss: 0.6721 - acc: 0.7702\n",
      "Epoch 28/35\n",
      " - 8s - loss: 0.6677 - acc: 0.7702\n",
      "Epoch 29/35\n",
      " - 8s - loss: 0.6585 - acc: 0.7740\n",
      "Epoch 30/35\n",
      " - 8s - loss: 0.6513 - acc: 0.7762\n",
      "Epoch 31/35\n",
      " - 8s - loss: 0.6457 - acc: 0.7779\n",
      "Epoch 32/35\n",
      " - 8s - loss: 0.6387 - acc: 0.7789\n",
      "Epoch 33/35\n",
      " - 8s - loss: 0.6329 - acc: 0.7816\n",
      "Epoch 34/35\n",
      " - 9s - loss: 0.6276 - acc: 0.7844\n",
      "Epoch 35/35\n",
      " - 8s - loss: 0.6213 - acc: 0.7854\n"
     ]
    },
    {
     "data": {
      "text/plain": [
       "'0:20:16.923237'"
      ]
     },
     "execution_count": 74,
     "metadata": {},
     "output_type": "execute_result"
    }
   ],
   "source": [
    "start = datetime.now()\n",
    "hist_cross_val_bsz3000 = cross_validate(nn_1hl_bsz3000, X, y, scoring=scoring, cv=cv)\n",
    "end = datetime.now()\n",
    "str(end-start)"
   ]
  },
  {
   "cell_type": "code",
   "execution_count": 75,
   "metadata": {},
   "outputs": [
    {
     "data": {
      "text/plain": [
       "{'fit_time': array([307.4364078 , 298.6222384 , 307.45467424, 291.04990983]),\n",
       " 'score_time': array([2.75947452, 3.44154406, 2.78531218, 3.07185578]),\n",
       " 'test_accuracy': array([0.71821335, 0.72584758, 0.71836581, 0.7295658 ]),\n",
       " 'test_neg_log_loss': array([-0.80999702, -0.80100904, -0.85313304, -0.79415451])}"
      ]
     },
     "execution_count": 75,
     "metadata": {},
     "output_type": "execute_result"
    }
   ],
   "source": [
    "hist_cross_val_bsz3000"
   ]
  },
  {
   "cell_type": "code",
   "execution_count": 76,
   "metadata": {},
   "outputs": [
    {
     "data": {
      "text/plain": [
       "(0.7229981343539086, -0.8145734027579926)"
      ]
     },
     "execution_count": 76,
     "metadata": {},
     "output_type": "execute_result"
    }
   ],
   "source": [
    "hist_cross_val_bsz3000['test_accuracy'].mean(), hist_cross_val_bsz3000['test_neg_log_loss'].mean()"
   ]
  },
  {
   "cell_type": "code",
   "execution_count": null,
   "metadata": {},
   "outputs": [],
   "source": []
  }
 ],
 "metadata": {
  "kernelspec": {
   "display_name": "Python 3",
   "language": "python",
   "name": "python3"
  },
  "language_info": {
   "codemirror_mode": {
    "name": "ipython",
    "version": 3
   },
   "file_extension": ".py",
   "mimetype": "text/x-python",
   "name": "python",
   "nbconvert_exporter": "python",
   "pygments_lexer": "ipython3",
   "version": "3.7.3"
  }
 },
 "nbformat": 4,
 "nbformat_minor": 2
}
