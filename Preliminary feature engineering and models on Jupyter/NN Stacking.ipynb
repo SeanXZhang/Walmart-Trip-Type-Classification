{
 "cells": [
  {
   "cell_type": "code",
   "execution_count": 112,
   "metadata": {},
   "outputs": [
    {
     "name": "stderr",
     "output_type": "stream",
     "text": [
      "C:\\Users\\Xiuquan\\Anaconda3\\lib\\site-packages\\sklearn\\externals\\joblib\\__init__.py:15: DeprecationWarning: sklearn.externals.joblib is deprecated in 0.21 and will be removed in 0.23. Please import this functionality directly from joblib, which can be installed with: pip install joblib. If this warning is raised when loading pickled models, you may need to re-serialize those models with scikit-learn 0.21+.\n",
      "  warnings.warn(msg, category=DeprecationWarning)\n"
     ]
    }
   ],
   "source": [
    "import pandas as pd\n",
    "import numpy as np\n",
    "import calendar\n",
    "from time import time\n",
    "from datetime import datetime\n",
    "import re\n",
    "from sklearn.model_selection import train_test_split, StratifiedKFold, cross_val_score, cross_validate, RandomizedSearchCV\n",
    "from sklearn.metrics import log_loss, accuracy_score, classification_report\n",
    "from mlxtend.classifier import StackingClassifier\n",
    "import pickle\n",
    "from sklearn.externals import joblib\n",
    "import matplotlib.pyplot as plt\n",
    "%matplotlib inline"
   ]
  },
  {
   "cell_type": "code",
   "execution_count": 2,
   "metadata": {},
   "outputs": [],
   "source": [
    "data_train = pd.read_csv(\"train.csv\").replace(\"MENS WEAR\",\"MENSWEAR\")"
   ]
  },
  {
   "cell_type": "code",
   "execution_count": 3,
   "metadata": {},
   "outputs": [],
   "source": [
    "dept_list = sorted(list(data_train.DepartmentDescription.dropna().unique()))"
   ]
  },
  {
   "cell_type": "code",
   "execution_count": 4,
   "metadata": {},
   "outputs": [],
   "source": [
    "weekdays = list(calendar.day_name)\n",
    "dept_list_sum = dict.fromkeys(dept_list, np.sum)\n",
    "weekday_dict = dict.fromkeys(weekdays, np.max)\n",
    "feature_dict = {\"TripType\": np.max, 'NumItems': np.sum, 'Return': np.max}\n",
    "feature_dict = {**feature_dict, **weekday_dict, **dept_list_sum}"
   ]
  },
  {
   "cell_type": "code",
   "execution_count": 5,
   "metadata": {},
   "outputs": [],
   "source": [
    "def transform_data(data):\n",
    "    dummies = pd.get_dummies(data.Weekday)\n",
    "    data[dummies.columns] = dummies\n",
    "    \n",
    "    dummies = pd.get_dummies(data.DepartmentDescription)\n",
    "    dummies = dummies.apply(lambda x: x*data[\"ScanCount\"])\n",
    "    data[dummies.columns] = dummies \n",
    "\n",
    "    data.loc[data.ScanCount < 0, 'Return'] = 1\n",
    "    data.loc[data.Return != 1, 'Return'] = 0\n",
    "    \n",
    "    data = data.rename(columns={\"ScanCount\":\"NumItems\"})\n",
    "    \n",
    "    grouped = data.groupby(\"VisitNumber\")\n",
    "    grouped = grouped.aggregate(feature_dict)\n",
    "    data = grouped[[\"TripType\", \"NumItems\", \"Return\"] + weekdays + dept_list]\n",
    "\n",
    "    return data"
   ]
  },
  {
   "cell_type": "code",
   "execution_count": 6,
   "metadata": {},
   "outputs": [],
   "source": [
    "data_new = transform_data(data_train)"
   ]
  },
  {
   "cell_type": "code",
   "execution_count": 7,
   "metadata": {},
   "outputs": [],
   "source": [
    "def add_category_counts(data):\n",
    "    alist = []\n",
    "    for array in np.asarray(data.loc[:, dept_list[0]:]):\n",
    "        count = 0\n",
    "        count = sum(x > 0 for x in array)\n",
    "        alist.append(count)\n",
    "    cat_counts = pd.DataFrame(alist)\n",
    "    cat_counts = cat_counts.rename(columns={0:\"CategoryCount\"})\n",
    "    cat_counts = cat_counts.set_index(data.index)\n",
    "    data.insert(3, 'CategoryCounts', cat_counts)\n",
    "    return data"
   ]
  },
  {
   "cell_type": "code",
   "execution_count": 8,
   "metadata": {},
   "outputs": [],
   "source": [
    "data_new = add_category_counts(data_new)"
   ]
  },
  {
   "cell_type": "code",
   "execution_count": 9,
   "metadata": {},
   "outputs": [
    {
     "data": {
      "text/plain": [
       "(95674, 78)"
      ]
     },
     "execution_count": 9,
     "metadata": {},
     "output_type": "execute_result"
    }
   ],
   "source": [
    "data_new.shape"
   ]
  },
  {
   "cell_type": "code",
   "execution_count": 10,
   "metadata": {},
   "outputs": [],
   "source": [
    "def fineline_dummies(data):\n",
    "    values = data.FinelineNumber\n",
    "    counts = values.value_counts()\n",
    "    mask = values.isin(counts[counts > 500].index)\n",
    "    values[~mask] = \"-\"\n",
    "    dummies = pd.get_dummies(values).drop('-', axis=1)\n",
    "\n",
    "    dummies.columns = ['fln_'+str(col) for col in dummies.columns]\n",
    "    dummies = pd.concat([dummies, data.VisitNumber], axis=1)\n",
    "    dummies = dummies.groupby(\"VisitNumber\")\n",
    "    dummies = dummies.aggregate(np.sum)\n",
    "    return dummies"
   ]
  },
  {
   "cell_type": "code",
   "execution_count": 11,
   "metadata": {},
   "outputs": [
    {
     "name": "stderr",
     "output_type": "stream",
     "text": [
      "C:\\Users\\Xiuquan\\Anaconda3\\lib\\site-packages\\ipykernel_launcher.py:5: SettingWithCopyWarning: \n",
      "A value is trying to be set on a copy of a slice from a DataFrame\n",
      "\n",
      "See the caveats in the documentation: http://pandas.pydata.org/pandas-docs/stable/indexing.html#indexing-view-versus-copy\n",
      "  \"\"\"\n"
     ]
    },
    {
     "data": {
      "text/plain": [
       "'0:00:11.676816'"
      ]
     },
     "execution_count": 11,
     "metadata": {},
     "output_type": "execute_result"
    }
   ],
   "source": [
    "start = datetime.now()\n",
    "fln_dummies = fineline_dummies(data_train)\n",
    "end = datetime.now()\n",
    "str(end-start)"
   ]
  },
  {
   "cell_type": "code",
   "execution_count": 12,
   "metadata": {},
   "outputs": [],
   "source": [
    "data_new = data_new.join(fln_dummies)"
   ]
  },
  {
   "cell_type": "code",
   "execution_count": 13,
   "metadata": {},
   "outputs": [
    {
     "data": {
      "text/plain": [
       "(95674, 351)"
      ]
     },
     "execution_count": 13,
     "metadata": {},
     "output_type": "execute_result"
    }
   ],
   "source": [
    "data_new.shape"
   ]
  },
  {
   "cell_type": "code",
   "execution_count": 14,
   "metadata": {},
   "outputs": [],
   "source": [
    "def Upc_dummies(data):\n",
    "    values = data.Upc\n",
    "    counts = values.value_counts()\n",
    "    mask = values.isin(counts[counts > 300].index)\n",
    "    values[~mask] = \"-\"\n",
    "    dummies = pd.get_dummies(values).drop('-', axis=1)\n",
    "\n",
    "    dummies.columns = ['upc_'+str(col) for col in dummies.columns]\n",
    "    dummies = pd.concat([dummies, data.VisitNumber], axis=1)\n",
    "    dummies = dummies.groupby(\"VisitNumber\")\n",
    "    dummies = dummies.aggregate(np.sum)\n",
    "    return dummies"
   ]
  },
  {
   "cell_type": "code",
   "execution_count": 15,
   "metadata": {},
   "outputs": [
    {
     "name": "stderr",
     "output_type": "stream",
     "text": [
      "C:\\Users\\Xiuquan\\Anaconda3\\lib\\site-packages\\ipykernel_launcher.py:5: SettingWithCopyWarning: \n",
      "A value is trying to be set on a copy of a slice from a DataFrame\n",
      "\n",
      "See the caveats in the documentation: http://pandas.pydata.org/pandas-docs/stable/indexing.html#indexing-view-versus-copy\n",
      "  \"\"\"\n"
     ]
    },
    {
     "data": {
      "text/plain": [
       "'0:00:04.785053'"
      ]
     },
     "execution_count": 15,
     "metadata": {},
     "output_type": "execute_result"
    }
   ],
   "source": [
    "start = datetime.now()\n",
    "upc_dummies = Upc_dummies(data_train)\n",
    "end = datetime.now()\n",
    "str(end-start)"
   ]
  },
  {
   "cell_type": "code",
   "execution_count": 16,
   "metadata": {},
   "outputs": [],
   "source": [
    "data_new = data_new.join(upc_dummies)"
   ]
  },
  {
   "cell_type": "code",
   "execution_count": 17,
   "metadata": {},
   "outputs": [
    {
     "data": {
      "text/plain": [
       "(95674, 451)"
      ]
     },
     "execution_count": 17,
     "metadata": {},
     "output_type": "execute_result"
    }
   ],
   "source": [
    "data_new.shape"
   ]
  },
  {
   "cell_type": "code",
   "execution_count": 18,
   "metadata": {},
   "outputs": [],
   "source": [
    "X = data_new.drop('TripType', axis=1)\n",
    "\n",
    "trip_types = sorted(data_train.TripType.unique())\n",
    "trip_types_map = dict(zip(trip_types, np.arange(0, len(trip_types))))\n",
    "y = data_new.TripType.map(trip_types_map)\n",
    "\n",
    "X_train, X_test, y_train, y_test = train_test_split(X, y, test_size=0.25, stratify=y, random_state=42)"
   ]
  },
  {
   "cell_type": "code",
   "execution_count": 19,
   "metadata": {},
   "outputs": [
    {
     "data": {
      "text/plain": [
       "450"
      ]
     },
     "execution_count": 19,
     "metadata": {},
     "output_type": "execute_result"
    }
   ],
   "source": [
    "len(X.columns)"
   ]
  },
  {
   "cell_type": "code",
   "execution_count": 20,
   "metadata": {},
   "outputs": [
    {
     "name": "stderr",
     "output_type": "stream",
     "text": [
      "Using TensorFlow backend.\n"
     ]
    }
   ],
   "source": [
    "from keras.models import Sequential\n",
    "from keras.layers import Dense, Dropout, Input\n",
    "from keras.wrappers.scikit_learn import KerasClassifier\n",
    "from keras.utils.np_utils import to_categorical\n",
    "from keras import regularizers\n",
    "from keras.callbacks import EarlyStopping, ModelCheckpoint"
   ]
  },
  {
   "cell_type": "code",
   "execution_count": 21,
   "metadata": {},
   "outputs": [],
   "source": [
    "from sklearn.linear_model import LogisticRegression\n",
    "from sklearn.neighbors import KNeighborsClassifier\n",
    "from sklearn.naive_bayes import GaussianNB \n",
    "from sklearn.ensemble import RandomForestClassifier\n",
    "from mlxtend.classifier import StackingClassifier"
   ]
  },
  {
   "cell_type": "code",
   "execution_count": 22,
   "metadata": {},
   "outputs": [],
   "source": [
    "def create_model_1hl(nodes_l1=512, dropout_l1=0.3):\n",
    "    model = Sequential()\n",
    "    model.add(Dense(output_dim=nodes_l1, activation=\"relu\", input_dim=len(X.columns)))\n",
    "    model.add(Dropout(dropout_l1))\n",
    "            \n",
    "    model.add(Dense(output_dim=len(trip_types), activation=\"softmax\"))\n",
    "    \n",
    "    model.compile(loss=\"categorical_crossentropy\", optimizer=\"rmsprop\", metrics=[\"accuracy\"])\n",
    "    \n",
    "    return model"
   ]
  },
  {
   "cell_type": "code",
   "execution_count": 23,
   "metadata": {},
   "outputs": [],
   "source": [
    "clf1 = KerasClassifier(build_fn=create_model_1hl, epochs=30, batch_size=3000, verbose=2)"
   ]
  },
  {
   "cell_type": "code",
   "execution_count": 24,
   "metadata": {},
   "outputs": [],
   "source": [
    "def create_model_2hl(nodes_l1=400, nodes_l2=120, dropout_l1=0.3, dropout_l2=0.2):\n",
    "    model = Sequential()\n",
    "    model.add(Dense(output_dim=nodes_l1, activation=\"relu\", input_dim=len(X.columns)))\n",
    "    model.add(Dropout(dropout_l1))\n",
    "    model.add(Dense(output_dim=nodes_l2, activation=\"relu\"))\n",
    "    model.add(Dropout(dropout_l2))\n",
    "            \n",
    "    model.add(Dense(output_dim=len(trip_types), activation=\"softmax\"))\n",
    "    \n",
    "    model.compile(loss=\"categorical_crossentropy\", optimizer=\"rmsprop\", metrics=[\"accuracy\"])\n",
    "    \n",
    "    return model"
   ]
  },
  {
   "cell_type": "code",
   "execution_count": 25,
   "metadata": {},
   "outputs": [],
   "source": [
    "clf2 = KerasClassifier(build_fn=create_model_2hl, epochs=15, batch_size=1000, verbose=2)"
   ]
  },
  {
   "cell_type": "code",
   "execution_count": 26,
   "metadata": {},
   "outputs": [],
   "source": [
    "def create_model_3hl(nodes_l1=500, nodes_l2=200, nodes_l3=80, dropout_l1=0.3, dropout_l2=0.2, dropout_l3=0.2):\n",
    "    model = Sequential()\n",
    "    model.add(Dense(output_dim=nodes_l1, activation=\"relu\", input_dim=len(X.columns)))\n",
    "    model.add(Dropout(dropout_l1))\n",
    "    model.add(Dense(output_dim=nodes_l2, activation=\"relu\"))\n",
    "    model.add(Dropout(dropout_l2))\n",
    "    model.add(Dense(output_dim=nodes_l2, activation=\"relu\"))\n",
    "    model.add(Dropout(dropout_l3))\n",
    "            \n",
    "    model.add(Dense(output_dim=len(trip_types), activation=\"softmax\"))\n",
    "    \n",
    "    model.compile(loss=\"categorical_crossentropy\", optimizer=\"rmsprop\", metrics=[\"accuracy\"])\n",
    "    \n",
    "    return model"
   ]
  },
  {
   "cell_type": "code",
   "execution_count": 27,
   "metadata": {},
   "outputs": [],
   "source": [
    "clf3 = KerasClassifier(build_fn=create_model_3hl, epochs=15, batch_size=1000, verbose=2)"
   ]
  },
  {
   "cell_type": "code",
   "execution_count": 28,
   "metadata": {},
   "outputs": [],
   "source": [
    "def create_model_4hl(nodes_l1=512, nodes_l2=256, nodes_l3=128, nodes_l4=64, dropout_l1=0.3, dropout_l2=0.3, dropout_l3=0.2, dropout_l4=0.2):\n",
    "    model = Sequential()\n",
    "    model.add(Dense(output_dim=nodes_l1, activation=\"relu\", input_dim=len(X.columns)))\n",
    "    model.add(Dropout(dropout_l1))\n",
    "    model.add(Dense(output_dim=nodes_l2, activation=\"relu\"))\n",
    "    model.add(Dropout(dropout_l2))\n",
    "    model.add(Dense(output_dim=nodes_l3, activation=\"relu\"))\n",
    "    model.add(Dropout(dropout_l3))\n",
    "    model.add(Dense(output_dim=nodes_l4, activation=\"relu\"))\n",
    "    model.add(Dropout(dropout_l3))\n",
    "            \n",
    "    model.add(Dense(output_dim=len(trip_types), activation=\"softmax\"))\n",
    "    \n",
    "    model.compile(loss=\"categorical_crossentropy\", optimizer=\"rmsprop\", metrics=[\"accuracy\"])\n",
    "    \n",
    "    return model"
   ]
  },
  {
   "cell_type": "code",
   "execution_count": 29,
   "metadata": {},
   "outputs": [],
   "source": [
    "clf4 = KerasClassifier(build_fn=create_model_4hl, epochs=15, batch_size=1000, verbose=2)"
   ]
  },
  {
   "cell_type": "code",
   "execution_count": 30,
   "metadata": {},
   "outputs": [],
   "source": [
    "lr = LogisticRegression(C=0.4, solver='lbfgs', multi_class='multinomial', random_state=42)"
   ]
  },
  {
   "cell_type": "code",
   "execution_count": 31,
   "metadata": {},
   "outputs": [],
   "source": [
    "sclf = StackingClassifier(classifiers=[clf1, clf2, clf3, clf4], use_probas=True, average_probas=False, meta_classifier=lr)"
   ]
  },
  {
   "cell_type": "code",
   "execution_count": 32,
   "metadata": {},
   "outputs": [
    {
     "name": "stderr",
     "output_type": "stream",
     "text": [
      "WARNING: Logging before flag parsing goes to stderr.\n",
      "W0911 14:26:37.975053  6556 deprecation_wrapper.py:119] From C:\\Users\\Xiuquan\\Anaconda3\\lib\\site-packages\\keras\\backend\\tensorflow_backend.py:66: The name tf.get_default_graph is deprecated. Please use tf.compat.v1.get_default_graph instead.\n",
      "\n",
      "C:\\Users\\Xiuquan\\Anaconda3\\lib\\site-packages\\ipykernel_launcher.py:3: UserWarning: Update your `Dense` call to the Keras 2 API: `Dense(activation=\"relu\", input_dim=450, units=512)`\n",
      "  This is separate from the ipykernel package so we can avoid doing imports until\n",
      "W0911 14:26:38.006036  6556 deprecation_wrapper.py:119] From C:\\Users\\Xiuquan\\Anaconda3\\lib\\site-packages\\keras\\backend\\tensorflow_backend.py:541: The name tf.placeholder is deprecated. Please use tf.compat.v1.placeholder instead.\n",
      "\n",
      "W0911 14:26:38.010036  6556 deprecation_wrapper.py:119] From C:\\Users\\Xiuquan\\Anaconda3\\lib\\site-packages\\keras\\backend\\tensorflow_backend.py:4432: The name tf.random_uniform is deprecated. Please use tf.random.uniform instead.\n",
      "\n",
      "W0911 14:26:38.038013  6556 deprecation_wrapper.py:119] From C:\\Users\\Xiuquan\\Anaconda3\\lib\\site-packages\\keras\\backend\\tensorflow_backend.py:148: The name tf.placeholder_with_default is deprecated. Please use tf.compat.v1.placeholder_with_default instead.\n",
      "\n",
      "W0911 14:26:38.051007  6556 deprecation.py:506] From C:\\Users\\Xiuquan\\Anaconda3\\lib\\site-packages\\keras\\backend\\tensorflow_backend.py:3733: calling dropout (from tensorflow.python.ops.nn_ops) with keep_prob is deprecated and will be removed in a future version.\n",
      "Instructions for updating:\n",
      "Please use `rate` instead of `keep_prob`. Rate should be set to `rate = 1 - keep_prob`.\n",
      "C:\\Users\\Xiuquan\\Anaconda3\\lib\\site-packages\\ipykernel_launcher.py:6: UserWarning: Update your `Dense` call to the Keras 2 API: `Dense(activation=\"softmax\", units=38)`\n",
      "  \n",
      "W0911 14:26:38.099975  6556 deprecation_wrapper.py:119] From C:\\Users\\Xiuquan\\Anaconda3\\lib\\site-packages\\keras\\optimizers.py:793: The name tf.train.Optimizer is deprecated. Please use tf.compat.v1.train.Optimizer instead.\n",
      "\n",
      "W0911 14:26:38.124963  6556 deprecation_wrapper.py:119] From C:\\Users\\Xiuquan\\Anaconda3\\lib\\site-packages\\keras\\backend\\tensorflow_backend.py:3576: The name tf.log is deprecated. Please use tf.math.log instead.\n",
      "\n",
      "W0911 14:26:38.457758  6556 deprecation.py:323] From C:\\Users\\Xiuquan\\Anaconda3\\lib\\site-packages\\tensorflow\\python\\ops\\math_grad.py:1250: add_dispatch_support.<locals>.wrapper (from tensorflow.python.ops.array_ops) is deprecated and will be removed in a future version.\n",
      "Instructions for updating:\n",
      "Use tf.where in 2.0, which has the same broadcast rule as np.where\n"
     ]
    },
    {
     "name": "stdout",
     "output_type": "stream",
     "text": [
      "Epoch 1/30\n",
      " - 5s - loss: 2.6167 - acc: 0.4291\n",
      "Epoch 2/30\n",
      " - 5s - loss: 1.7164 - acc: 0.6006\n",
      "Epoch 3/30\n",
      " - 4s - loss: 1.3510 - acc: 0.6418\n",
      "Epoch 4/30\n",
      " - 5s - loss: 1.1710 - acc: 0.6635\n",
      "Epoch 5/30\n",
      " - 5s - loss: 1.0680 - acc: 0.6831\n",
      "Epoch 6/30\n",
      " - 5s - loss: 1.0094 - acc: 0.6911\n",
      "Epoch 7/30\n",
      " - 4s - loss: 0.9602 - acc: 0.6994\n",
      "Epoch 8/30\n",
      " - 5s - loss: 0.9254 - acc: 0.7062\n",
      "Epoch 9/30\n",
      " - 4s - loss: 0.8946 - acc: 0.7137\n",
      "Epoch 10/30\n",
      " - 5s - loss: 0.8702 - acc: 0.7160\n",
      "Epoch 11/30\n",
      " - 5s - loss: 0.8453 - acc: 0.7245\n",
      "Epoch 12/30\n",
      " - 5s - loss: 0.8288 - acc: 0.7266\n",
      "Epoch 13/30\n",
      " - 4s - loss: 0.8089 - acc: 0.7319\n",
      "Epoch 14/30\n",
      " - 4s - loss: 0.7952 - acc: 0.7343\n",
      "Epoch 15/30\n",
      " - 5s - loss: 0.7797 - acc: 0.7383\n",
      "Epoch 16/30\n",
      " - 4s - loss: 0.7676 - acc: 0.7412\n",
      "Epoch 17/30\n",
      " - 5s - loss: 0.7551 - acc: 0.7447\n",
      "Epoch 18/30\n",
      " - 6s - loss: 0.7422 - acc: 0.7483\n",
      "Epoch 19/30\n",
      " - 5s - loss: 0.7330 - acc: 0.7513\n",
      "Epoch 20/30\n",
      " - 5s - loss: 0.7211 - acc: 0.7542\n",
      "Epoch 21/30\n",
      " - 5s - loss: 0.7130 - acc: 0.7564\n",
      "Epoch 22/30\n",
      " - 5s - loss: 0.7023 - acc: 0.7614\n",
      "Epoch 23/30\n",
      " - 5s - loss: 0.6945 - acc: 0.7633\n",
      "Epoch 24/30\n",
      " - 5s - loss: 0.6895 - acc: 0.7635\n",
      "Epoch 25/30\n",
      " - 5s - loss: 0.6798 - acc: 0.7673\n",
      "Epoch 26/30\n",
      " - 5s - loss: 0.6706 - acc: 0.7699\n",
      "Epoch 27/30\n",
      " - 6s - loss: 0.6636 - acc: 0.7728\n",
      "Epoch 28/30\n",
      " - 6s - loss: 0.6584 - acc: 0.7749\n",
      "Epoch 29/30\n",
      " - 5s - loss: 0.6512 - acc: 0.7754\n",
      "Epoch 30/30\n",
      " - 6s - loss: 0.6440 - acc: 0.7797\n"
     ]
    },
    {
     "name": "stderr",
     "output_type": "stream",
     "text": [
      "C:\\Users\\Xiuquan\\Anaconda3\\lib\\site-packages\\ipykernel_launcher.py:3: UserWarning: Update your `Dense` call to the Keras 2 API: `Dense(activation=\"relu\", input_dim=450, units=400)`\n",
      "  This is separate from the ipykernel package so we can avoid doing imports until\n",
      "C:\\Users\\Xiuquan\\Anaconda3\\lib\\site-packages\\ipykernel_launcher.py:5: UserWarning: Update your `Dense` call to the Keras 2 API: `Dense(activation=\"relu\", units=120)`\n",
      "  \"\"\"\n",
      "C:\\Users\\Xiuquan\\Anaconda3\\lib\\site-packages\\ipykernel_launcher.py:8: UserWarning: Update your `Dense` call to the Keras 2 API: `Dense(activation=\"softmax\", units=38)`\n",
      "  \n"
     ]
    },
    {
     "name": "stdout",
     "output_type": "stream",
     "text": [
      "Epoch 1/15\n",
      " - 6s - loss: 2.0835 - acc: 0.4655\n",
      "Epoch 2/15\n",
      " - 6s - loss: 1.2269 - acc: 0.6473\n",
      "Epoch 3/15\n",
      " - 6s - loss: 1.0595 - acc: 0.6771\n",
      "Epoch 4/15\n",
      " - 6s - loss: 0.9838 - acc: 0.6895\n",
      "Epoch 5/15\n",
      " - 7s - loss: 0.9383 - acc: 0.6993\n",
      "Epoch 6/15\n",
      " - 6s - loss: 0.9022 - acc: 0.7063\n",
      "Epoch 7/15\n",
      " - 6s - loss: 0.8785 - acc: 0.7138\n",
      "Epoch 8/15\n",
      " - 6s - loss: 0.8557 - acc: 0.7177\n",
      "Epoch 9/15\n",
      " - 6s - loss: 0.8319 - acc: 0.7246\n",
      "Epoch 10/15\n",
      " - 6s - loss: 0.8151 - acc: 0.7283\n",
      "Epoch 11/15\n",
      " - 6s - loss: 0.8020 - acc: 0.7316\n",
      "Epoch 12/15\n",
      " - 6s - loss: 0.7840 - acc: 0.7367\n",
      "Epoch 13/15\n",
      " - 6s - loss: 0.7734 - acc: 0.7375\n",
      "Epoch 14/15\n",
      " - 6s - loss: 0.7599 - acc: 0.7429\n",
      "Epoch 15/15\n",
      " - 5s - loss: 0.7472 - acc: 0.7465\n"
     ]
    },
    {
     "name": "stderr",
     "output_type": "stream",
     "text": [
      "C:\\Users\\Xiuquan\\Anaconda3\\lib\\site-packages\\ipykernel_launcher.py:3: UserWarning: Update your `Dense` call to the Keras 2 API: `Dense(activation=\"relu\", input_dim=450, units=500)`\n",
      "  This is separate from the ipykernel package so we can avoid doing imports until\n",
      "C:\\Users\\Xiuquan\\Anaconda3\\lib\\site-packages\\ipykernel_launcher.py:5: UserWarning: Update your `Dense` call to the Keras 2 API: `Dense(activation=\"relu\", units=200)`\n",
      "  \"\"\"\n",
      "C:\\Users\\Xiuquan\\Anaconda3\\lib\\site-packages\\ipykernel_launcher.py:7: UserWarning: Update your `Dense` call to the Keras 2 API: `Dense(activation=\"relu\", units=200)`\n",
      "  import sys\n",
      "C:\\Users\\Xiuquan\\Anaconda3\\lib\\site-packages\\ipykernel_launcher.py:10: UserWarning: Update your `Dense` call to the Keras 2 API: `Dense(activation=\"softmax\", units=38)`\n",
      "  # Remove the CWD from sys.path while we load stuff.\n"
     ]
    },
    {
     "name": "stdout",
     "output_type": "stream",
     "text": [
      "Epoch 1/15\n",
      " - 9s - loss: 1.9203 - acc: 0.4920\n",
      "Epoch 2/15\n",
      " - 9s - loss: 1.2104 - acc: 0.6450\n",
      "Epoch 3/15\n",
      " - 9s - loss: 1.0710 - acc: 0.6709\n",
      "Epoch 4/15\n",
      " - 9s - loss: 0.9911 - acc: 0.6885\n",
      "Epoch 5/15\n",
      " - 9s - loss: 0.9481 - acc: 0.6969\n",
      "Epoch 6/15\n",
      " - 9s - loss: 0.9088 - acc: 0.7042\n",
      "Epoch 7/15\n",
      " - 9s - loss: 0.8768 - acc: 0.7125\n",
      "Epoch 8/15\n",
      " - 9s - loss: 0.8456 - acc: 0.7218\n",
      "Epoch 9/15\n",
      " - 9s - loss: 0.8285 - acc: 0.7260\n",
      "Epoch 10/15\n",
      " - 10s - loss: 0.8010 - acc: 0.7324\n",
      "Epoch 11/15\n",
      " - 9s - loss: 0.7818 - acc: 0.7367\n",
      "Epoch 12/15\n",
      " - 9s - loss: 0.7640 - acc: 0.7423\n",
      "Epoch 13/15\n",
      " - 9s - loss: 0.7477 - acc: 0.7475\n",
      "Epoch 14/15\n",
      " - 9s - loss: 0.7309 - acc: 0.7504\n",
      "Epoch 15/15\n",
      " - 9s - loss: 0.7187 - acc: 0.7553\n"
     ]
    },
    {
     "name": "stderr",
     "output_type": "stream",
     "text": [
      "C:\\Users\\Xiuquan\\Anaconda3\\lib\\site-packages\\ipykernel_launcher.py:5: UserWarning: Update your `Dense` call to the Keras 2 API: `Dense(activation=\"relu\", units=256)`\n",
      "  \"\"\"\n",
      "C:\\Users\\Xiuquan\\Anaconda3\\lib\\site-packages\\ipykernel_launcher.py:7: UserWarning: Update your `Dense` call to the Keras 2 API: `Dense(activation=\"relu\", units=128)`\n",
      "  import sys\n",
      "C:\\Users\\Xiuquan\\Anaconda3\\lib\\site-packages\\ipykernel_launcher.py:9: UserWarning: Update your `Dense` call to the Keras 2 API: `Dense(activation=\"relu\", units=64)`\n",
      "  if __name__ == '__main__':\n",
      "C:\\Users\\Xiuquan\\Anaconda3\\lib\\site-packages\\ipykernel_launcher.py:12: UserWarning: Update your `Dense` call to the Keras 2 API: `Dense(activation=\"softmax\", units=38)`\n",
      "  if sys.path[0] == '':\n"
     ]
    },
    {
     "name": "stdout",
     "output_type": "stream",
     "text": [
      "Epoch 1/15\n",
      " - 10s - loss: 2.2688 - acc: 0.3902\n",
      "Epoch 2/15\n",
      " - 10s - loss: 1.4692 - acc: 0.5962\n",
      "Epoch 3/15\n",
      " - 10s - loss: 1.2656 - acc: 0.6399\n",
      "Epoch 4/15\n",
      " - 9s - loss: 1.1617 - acc: 0.6634\n",
      "Epoch 5/15\n",
      " - 10s - loss: 1.0952 - acc: 0.6795\n",
      "Epoch 6/15\n",
      " - 10s - loss: 1.0490 - acc: 0.6875\n",
      "Epoch 7/15\n",
      " - 9s - loss: 1.0085 - acc: 0.6957\n",
      "Epoch 8/15\n",
      " - 9s - loss: 0.9767 - acc: 0.7046\n",
      "Epoch 9/15\n",
      " - 9s - loss: 0.9523 - acc: 0.7101\n",
      "Epoch 10/15\n",
      " - 10s - loss: 0.9187 - acc: 0.7169\n",
      "Epoch 11/15\n",
      " - 9s - loss: 0.9005 - acc: 0.7227\n",
      "Epoch 12/15\n",
      " - 9s - loss: 0.8800 - acc: 0.7287\n",
      "Epoch 13/15\n",
      " - 9s - loss: 0.8561 - acc: 0.7334\n",
      "Epoch 14/15\n",
      " - 10s - loss: 0.8374 - acc: 0.7364\n",
      "Epoch 15/15\n",
      " - 11s - loss: 0.8239 - acc: 0.7394\n"
     ]
    },
    {
     "name": "stderr",
     "output_type": "stream",
     "text": [
      "C:\\Users\\Xiuquan\\Anaconda3\\lib\\site-packages\\sklearn\\linear_model\\logistic.py:947: ConvergenceWarning: lbfgs failed to converge. Increase the number of iterations.\n",
      "  \"of iterations.\", ConvergenceWarning)\n"
     ]
    },
    {
     "data": {
      "text/plain": [
       "'0:09:37.747838'"
      ]
     },
     "execution_count": 32,
     "metadata": {},
     "output_type": "execute_result"
    }
   ],
   "source": [
    "start = datetime.now()\n",
    "hist_sclf = sclf.fit(X_train, y_train)\n",
    "end = datetime.now()\n",
    "str(end-start)"
   ]
  },
  {
   "cell_type": "code",
   "execution_count": 33,
   "metadata": {},
   "outputs": [],
   "source": [
    "y_pred = sclf.predict(X_test)"
   ]
  },
  {
   "cell_type": "code",
   "execution_count": 34,
   "metadata": {},
   "outputs": [],
   "source": [
    "from sklearn.metrics import log_loss, accuracy_score, classification_report"
   ]
  },
  {
   "cell_type": "code",
   "execution_count": 35,
   "metadata": {},
   "outputs": [
    {
     "data": {
      "text/plain": [
       "0.7328483632258874"
      ]
     },
     "execution_count": 35,
     "metadata": {},
     "output_type": "execute_result"
    }
   ],
   "source": [
    "accuracy_score(y_test, y_pred)"
   ]
  },
  {
   "cell_type": "code",
   "execution_count": 36,
   "metadata": {},
   "outputs": [
    {
     "data": {
      "text/plain": [
       "0.9709868839121051"
      ]
     },
     "execution_count": 36,
     "metadata": {},
     "output_type": "execute_result"
    }
   ],
   "source": [
    "preds = sclf.predict_proba(X_test)\n",
    "log_loss(y_test, preds)"
   ]
  },
  {
   "cell_type": "code",
   "execution_count": null,
   "metadata": {},
   "outputs": [],
   "source": []
  },
  {
   "cell_type": "code",
   "execution_count": 55,
   "metadata": {},
   "outputs": [],
   "source": [
    "lr = LogisticRegression(C=0.5, solver='lbfgs', multi_class='multinomial', random_state=42)"
   ]
  },
  {
   "cell_type": "code",
   "execution_count": 56,
   "metadata": {},
   "outputs": [],
   "source": [
    "sclf = StackingClassifier(classifiers=[clf1, clf2, clf3, clf4], use_probas=True, average_probas=False, meta_classifier=lr)"
   ]
  },
  {
   "cell_type": "code",
   "execution_count": 57,
   "metadata": {},
   "outputs": [
    {
     "name": "stderr",
     "output_type": "stream",
     "text": [
      "C:\\Users\\Xiuquan\\Anaconda3\\lib\\site-packages\\ipykernel_launcher.py:3: UserWarning: Update your `Dense` call to the Keras 2 API: `Dense(activation=\"relu\", input_dim=450, units=512)`\n",
      "  This is separate from the ipykernel package so we can avoid doing imports until\n",
      "C:\\Users\\Xiuquan\\Anaconda3\\lib\\site-packages\\ipykernel_launcher.py:6: UserWarning: Update your `Dense` call to the Keras 2 API: `Dense(activation=\"softmax\", units=38)`\n",
      "  \n"
     ]
    },
    {
     "name": "stdout",
     "output_type": "stream",
     "text": [
      "Epoch 1/30\n",
      " - 6s - loss: 2.6061 - acc: 0.4178\n",
      "Epoch 2/30\n",
      " - 5s - loss: 1.7224 - acc: 0.5924\n",
      "Epoch 3/30\n",
      " - 6s - loss: 1.3565 - acc: 0.6386\n",
      "Epoch 4/30\n",
      " - 6s - loss: 1.1770 - acc: 0.6636\n",
      "Epoch 5/30\n",
      " - 6s - loss: 1.0696 - acc: 0.6817\n",
      "Epoch 6/30\n",
      " - 6s - loss: 1.0070 - acc: 0.6924\n",
      "Epoch 7/30\n",
      " - 5s - loss: 0.9607 - acc: 0.6997\n",
      "Epoch 8/30\n",
      " - 5s - loss: 0.9216 - acc: 0.7070\n",
      "Epoch 9/30\n",
      " - 5s - loss: 0.8937 - acc: 0.7130\n",
      "Epoch 10/30\n",
      " - 5s - loss: 0.8673 - acc: 0.7180\n",
      "Epoch 11/30\n",
      " - 5s - loss: 0.8441 - acc: 0.7236\n",
      "Epoch 12/30\n",
      " - 5s - loss: 0.8240 - acc: 0.7269\n",
      "Epoch 13/30\n",
      " - 5s - loss: 0.8069 - acc: 0.7326\n",
      "Epoch 14/30\n",
      " - 5s - loss: 0.7923 - acc: 0.7346\n",
      "Epoch 15/30\n",
      " - 6s - loss: 0.7789 - acc: 0.7387\n",
      "Epoch 16/30\n",
      " - 5s - loss: 0.7650 - acc: 0.7419\n",
      "Epoch 17/30\n",
      " - 5s - loss: 0.7528 - acc: 0.7446\n",
      "Epoch 18/30\n",
      " - 5s - loss: 0.7422 - acc: 0.7503\n",
      "Epoch 19/30\n",
      " - 5s - loss: 0.7324 - acc: 0.7518\n",
      "Epoch 20/30\n",
      " - 6s - loss: 0.7203 - acc: 0.7532\n",
      "Epoch 21/30\n",
      " - 7s - loss: 0.7130 - acc: 0.7568\n",
      "Epoch 22/30\n",
      " - 6s - loss: 0.7050 - acc: 0.7583\n",
      "Epoch 23/30\n",
      " - 5s - loss: 0.6970 - acc: 0.7610\n",
      "Epoch 24/30\n",
      " - 6s - loss: 0.6903 - acc: 0.7638\n",
      "Epoch 25/30\n",
      " - 6s - loss: 0.6792 - acc: 0.7665\n",
      "Epoch 26/30\n",
      " - 5s - loss: 0.6716 - acc: 0.7692\n",
      "Epoch 27/30\n",
      " - 5s - loss: 0.6643 - acc: 0.7722\n",
      "Epoch 28/30\n",
      " - 5s - loss: 0.6589 - acc: 0.7729\n",
      "Epoch 29/30\n",
      " - 4s - loss: 0.6499 - acc: 0.7769\n",
      "Epoch 30/30\n",
      " - 5s - loss: 0.6419 - acc: 0.7793\n"
     ]
    },
    {
     "name": "stderr",
     "output_type": "stream",
     "text": [
      "C:\\Users\\Xiuquan\\Anaconda3\\lib\\site-packages\\ipykernel_launcher.py:3: UserWarning: Update your `Dense` call to the Keras 2 API: `Dense(activation=\"relu\", input_dim=450, units=400)`\n",
      "  This is separate from the ipykernel package so we can avoid doing imports until\n",
      "C:\\Users\\Xiuquan\\Anaconda3\\lib\\site-packages\\ipykernel_launcher.py:5: UserWarning: Update your `Dense` call to the Keras 2 API: `Dense(activation=\"relu\", units=120)`\n",
      "  \"\"\"\n",
      "C:\\Users\\Xiuquan\\Anaconda3\\lib\\site-packages\\ipykernel_launcher.py:8: UserWarning: Update your `Dense` call to the Keras 2 API: `Dense(activation=\"softmax\", units=38)`\n",
      "  \n"
     ]
    },
    {
     "name": "stdout",
     "output_type": "stream",
     "text": [
      "Epoch 1/15\n",
      " - 6s - loss: 2.0383 - acc: 0.4847\n",
      "Epoch 2/15\n",
      " - 5s - loss: 1.2286 - acc: 0.6461\n",
      "Epoch 3/15\n",
      " - 6s - loss: 1.0606 - acc: 0.6767\n",
      "Epoch 4/15\n",
      " - 5s - loss: 0.9848 - acc: 0.6917\n",
      "Epoch 5/15\n",
      " - 5s - loss: 0.9407 - acc: 0.6999\n",
      "Epoch 6/15\n",
      " - 6s - loss: 0.9029 - acc: 0.7078\n",
      "Epoch 7/15\n",
      " - 5s - loss: 0.8778 - acc: 0.7113\n",
      "Epoch 8/15\n",
      " - 5s - loss: 0.8518 - acc: 0.7189\n",
      "Epoch 9/15\n",
      " - 6s - loss: 0.8324 - acc: 0.7245\n",
      "Epoch 10/15\n",
      " - 5s - loss: 0.8143 - acc: 0.7287\n",
      "Epoch 11/15\n",
      " - 5s - loss: 0.7992 - acc: 0.7328\n",
      "Epoch 12/15\n",
      " - 6s - loss: 0.7850 - acc: 0.7359\n",
      "Epoch 13/15\n",
      " - 6s - loss: 0.7728 - acc: 0.7390\n",
      "Epoch 14/15\n",
      " - 5s - loss: 0.7593 - acc: 0.7413\n",
      "Epoch 15/15\n",
      " - 6s - loss: 0.7493 - acc: 0.7438\n"
     ]
    },
    {
     "name": "stderr",
     "output_type": "stream",
     "text": [
      "C:\\Users\\Xiuquan\\Anaconda3\\lib\\site-packages\\ipykernel_launcher.py:3: UserWarning: Update your `Dense` call to the Keras 2 API: `Dense(activation=\"relu\", input_dim=450, units=500)`\n",
      "  This is separate from the ipykernel package so we can avoid doing imports until\n",
      "C:\\Users\\Xiuquan\\Anaconda3\\lib\\site-packages\\ipykernel_launcher.py:5: UserWarning: Update your `Dense` call to the Keras 2 API: `Dense(activation=\"relu\", units=200)`\n",
      "  \"\"\"\n",
      "C:\\Users\\Xiuquan\\Anaconda3\\lib\\site-packages\\ipykernel_launcher.py:7: UserWarning: Update your `Dense` call to the Keras 2 API: `Dense(activation=\"relu\", units=200)`\n",
      "  import sys\n",
      "C:\\Users\\Xiuquan\\Anaconda3\\lib\\site-packages\\ipykernel_launcher.py:10: UserWarning: Update your `Dense` call to the Keras 2 API: `Dense(activation=\"softmax\", units=38)`\n",
      "  # Remove the CWD from sys.path while we load stuff.\n"
     ]
    },
    {
     "name": "stdout",
     "output_type": "stream",
     "text": [
      "Epoch 1/15\n",
      " - 8s - loss: 1.9304 - acc: 0.4873\n",
      "Epoch 2/15\n",
      " - 8s - loss: 1.2157 - acc: 0.6462\n",
      "Epoch 3/15\n",
      " - 7s - loss: 1.0635 - acc: 0.6733\n",
      "Epoch 4/15\n",
      " - 8s - loss: 0.9944 - acc: 0.6866\n",
      "Epoch 5/15\n",
      " - 7s - loss: 0.9399 - acc: 0.6998\n",
      "Epoch 6/15\n",
      " - 8s - loss: 0.9085 - acc: 0.7057\n",
      "Epoch 7/15\n",
      " - 7s - loss: 0.8756 - acc: 0.7149\n",
      "Epoch 8/15\n",
      " - 8s - loss: 0.8465 - acc: 0.7208\n",
      "Epoch 9/15\n",
      " - 7s - loss: 0.8215 - acc: 0.7272\n",
      "Epoch 10/15\n",
      " - 8s - loss: 0.8018 - acc: 0.7330\n",
      "Epoch 11/15\n",
      " - 7s - loss: 0.7813 - acc: 0.7380\n",
      "Epoch 12/15\n",
      " - 8s - loss: 0.7664 - acc: 0.7417\n",
      "Epoch 13/15\n",
      " - 8s - loss: 0.7481 - acc: 0.7484\n",
      "Epoch 14/15\n",
      " - 8s - loss: 0.7312 - acc: 0.7511\n",
      "Epoch 15/15\n",
      " - 8s - loss: 0.7163 - acc: 0.7553\n"
     ]
    },
    {
     "name": "stderr",
     "output_type": "stream",
     "text": [
      "C:\\Users\\Xiuquan\\Anaconda3\\lib\\site-packages\\ipykernel_launcher.py:5: UserWarning: Update your `Dense` call to the Keras 2 API: `Dense(activation=\"relu\", units=256)`\n",
      "  \"\"\"\n",
      "C:\\Users\\Xiuquan\\Anaconda3\\lib\\site-packages\\ipykernel_launcher.py:7: UserWarning: Update your `Dense` call to the Keras 2 API: `Dense(activation=\"relu\", units=128)`\n",
      "  import sys\n",
      "C:\\Users\\Xiuquan\\Anaconda3\\lib\\site-packages\\ipykernel_launcher.py:9: UserWarning: Update your `Dense` call to the Keras 2 API: `Dense(activation=\"relu\", units=64)`\n",
      "  if __name__ == '__main__':\n",
      "C:\\Users\\Xiuquan\\Anaconda3\\lib\\site-packages\\ipykernel_launcher.py:12: UserWarning: Update your `Dense` call to the Keras 2 API: `Dense(activation=\"softmax\", units=38)`\n",
      "  if sys.path[0] == '':\n"
     ]
    },
    {
     "name": "stdout",
     "output_type": "stream",
     "text": [
      "Epoch 1/15\n",
      " - 10s - loss: 2.2625 - acc: 0.3984\n",
      "Epoch 2/15\n",
      " - 9s - loss: 1.4504 - acc: 0.6040\n",
      "Epoch 3/15\n",
      " - 10s - loss: 1.2463 - acc: 0.6476\n",
      "Epoch 4/15\n",
      " - 9s - loss: 1.1526 - acc: 0.6670\n",
      "Epoch 5/15\n",
      " - 8s - loss: 1.0882 - acc: 0.6795\n",
      "Epoch 6/15\n",
      " - 8s - loss: 1.0380 - acc: 0.6906\n",
      "Epoch 7/15\n",
      " - 8s - loss: 1.0024 - acc: 0.6990\n",
      "Epoch 8/15\n",
      " - 8s - loss: 0.9692 - acc: 0.7061\n",
      "Epoch 9/15\n",
      " - 9s - loss: 0.9397 - acc: 0.7114\n",
      "Epoch 10/15\n",
      " - 10s - loss: 0.9137 - acc: 0.7195\n",
      "Epoch 11/15\n",
      " - 9s - loss: 0.8925 - acc: 0.7234\n",
      "Epoch 12/15\n",
      " - 9s - loss: 0.8731 - acc: 0.7287\n",
      "Epoch 13/15\n",
      " - 10s - loss: 0.8561 - acc: 0.7310\n",
      "Epoch 14/15\n",
      " - 10s - loss: 0.8372 - acc: 0.7369\n",
      "Epoch 15/15\n",
      " - 12s - loss: 0.8151 - acc: 0.7420\n"
     ]
    },
    {
     "name": "stderr",
     "output_type": "stream",
     "text": [
      "C:\\Users\\Xiuquan\\Anaconda3\\lib\\site-packages\\sklearn\\linear_model\\logistic.py:947: ConvergenceWarning: lbfgs failed to converge. Increase the number of iterations.\n",
      "  \"of iterations.\", ConvergenceWarning)\n"
     ]
    },
    {
     "data": {
      "text/plain": [
       "'0:09:15.781186'"
      ]
     },
     "execution_count": 57,
     "metadata": {},
     "output_type": "execute_result"
    }
   ],
   "source": [
    "start = datetime.now()\n",
    "hist_sclf = sclf.fit(X_train, y_train)\n",
    "end = datetime.now()\n",
    "str(end-start)"
   ]
  },
  {
   "cell_type": "code",
   "execution_count": 58,
   "metadata": {},
   "outputs": [],
   "source": [
    "y_pred = sclf.predict(X_test)"
   ]
  },
  {
   "cell_type": "code",
   "execution_count": 59,
   "metadata": {},
   "outputs": [
    {
     "data": {
      "text/plain": [
       "0.7308415903674903"
      ]
     },
     "execution_count": 59,
     "metadata": {},
     "output_type": "execute_result"
    }
   ],
   "source": [
    "accuracy_score(y_test, y_pred)"
   ]
  },
  {
   "cell_type": "code",
   "execution_count": 60,
   "metadata": {},
   "outputs": [
    {
     "data": {
      "text/plain": [
       "0.9807001358130999"
      ]
     },
     "execution_count": 60,
     "metadata": {},
     "output_type": "execute_result"
    }
   ],
   "source": [
    "y_proba = sclf.predict_proba(X_test)\n",
    "log_loss(y_test, y_proba)"
   ]
  },
  {
   "cell_type": "code",
   "execution_count": null,
   "metadata": {},
   "outputs": [],
   "source": []
  },
  {
   "cell_type": "code",
   "execution_count": 101,
   "metadata": {},
   "outputs": [],
   "source": [
    "def create_model_1hl(nodes_l1=200, dropout_l1=0.3):\n",
    "    model = Sequential()\n",
    "    model.add(Dense(output_dim=nodes_l1, activation=\"relu\", input_dim=38*4))\n",
    "    model.add(Dropout(dropout_l1))\n",
    "            \n",
    "    model.add(Dense(output_dim=len(trip_types), activation=\"softmax\"))\n",
    "    \n",
    "    model.compile(loss=\"categorical_crossentropy\", optimizer=\"rmsprop\", metrics=[\"accuracy\"])\n",
    "    \n",
    "    return model"
   ]
  },
  {
   "cell_type": "code",
   "execution_count": 102,
   "metadata": {},
   "outputs": [],
   "source": [
    "clf1 = KerasClassifier(build_fn=create_model_1hl, epochs=30, batch_size=1000, verbose=2)"
   ]
  },
  {
   "cell_type": "code",
   "execution_count": 103,
   "metadata": {},
   "outputs": [],
   "source": [
    "sclf = StackingClassifier(classifiers=[clf2, clf2, clf3, clf4], use_probas=True, average_probas=False, meta_classifier=clf1)"
   ]
  },
  {
   "cell_type": "code",
   "execution_count": 89,
   "metadata": {},
   "outputs": [
    {
     "name": "stderr",
     "output_type": "stream",
     "text": [
      "C:\\Users\\Xiuquan\\Anaconda3\\lib\\site-packages\\ipykernel_launcher.py:3: UserWarning: Update your `Dense` call to the Keras 2 API: `Dense(activation=\"relu\", input_dim=450, units=400)`\n",
      "  This is separate from the ipykernel package so we can avoid doing imports until\n",
      "C:\\Users\\Xiuquan\\Anaconda3\\lib\\site-packages\\ipykernel_launcher.py:5: UserWarning: Update your `Dense` call to the Keras 2 API: `Dense(activation=\"relu\", units=120)`\n",
      "  \"\"\"\n",
      "C:\\Users\\Xiuquan\\Anaconda3\\lib\\site-packages\\ipykernel_launcher.py:8: UserWarning: Update your `Dense` call to the Keras 2 API: `Dense(activation=\"softmax\", units=38)`\n",
      "  \n"
     ]
    },
    {
     "name": "stdout",
     "output_type": "stream",
     "text": [
      "Epoch 1/15\n",
      " - 96s - loss: 2.0128 - acc: 0.4838\n",
      "Epoch 2/15\n",
      " - 7s - loss: 1.2140 - acc: 0.6481\n",
      "Epoch 3/15\n",
      " - 7s - loss: 1.0534 - acc: 0.6774\n",
      "Epoch 4/15\n",
      " - 7s - loss: 0.9832 - acc: 0.6892\n",
      "Epoch 5/15\n",
      " - 6s - loss: 0.9335 - acc: 0.6991\n",
      "Epoch 6/15\n",
      " - 7s - loss: 0.8998 - acc: 0.7085\n",
      "Epoch 7/15\n",
      " - 7s - loss: 0.8715 - acc: 0.7148\n",
      "Epoch 8/15\n",
      " - 7s - loss: 0.8501 - acc: 0.7180\n",
      "Epoch 9/15\n",
      " - 7s - loss: 0.8298 - acc: 0.7230\n",
      "Epoch 10/15\n",
      " - 6s - loss: 0.8123 - acc: 0.7292\n",
      "Epoch 11/15\n",
      " - 7s - loss: 0.7971 - acc: 0.7317\n",
      "Epoch 12/15\n",
      " - 6s - loss: 0.7797 - acc: 0.7368\n",
      "Epoch 13/15\n",
      " - 7s - loss: 0.7672 - acc: 0.7410\n",
      "Epoch 14/15\n",
      " - 7s - loss: 0.7572 - acc: 0.7428\n",
      "Epoch 15/15\n",
      " - 6s - loss: 0.7438 - acc: 0.7482\n",
      "Epoch 1/15\n",
      " - 13s - loss: 2.0864 - acc: 0.4770\n",
      "Epoch 2/15\n",
      " - 7s - loss: 1.2345 - acc: 0.6454\n",
      "Epoch 3/15\n",
      " - 7s - loss: 1.0637 - acc: 0.6755\n",
      "Epoch 4/15\n",
      " - 7s - loss: 0.9855 - acc: 0.6896\n",
      "Epoch 5/15\n",
      " - 7s - loss: 0.9387 - acc: 0.7016\n",
      "Epoch 6/15\n",
      " - 7s - loss: 0.9023 - acc: 0.7092\n",
      "Epoch 7/15\n",
      " - 7s - loss: 0.8722 - acc: 0.7145\n",
      "Epoch 8/15\n",
      " - 7s - loss: 0.8519 - acc: 0.7195\n",
      "Epoch 9/15\n",
      " - 6s - loss: 0.8323 - acc: 0.7226\n",
      "Epoch 10/15\n",
      " - 7s - loss: 0.8157 - acc: 0.7277\n",
      "Epoch 11/15\n",
      " - 6s - loss: 0.7959 - acc: 0.7323\n",
      "Epoch 12/15\n",
      " - 6s - loss: 0.7833 - acc: 0.7351\n",
      "Epoch 13/15\n",
      " - 7s - loss: 0.7730 - acc: 0.7395\n",
      "Epoch 14/15\n",
      " - 7s - loss: 0.7569 - acc: 0.7431\n",
      "Epoch 15/15\n",
      " - 7s - loss: 0.7475 - acc: 0.7458\n"
     ]
    },
    {
     "name": "stderr",
     "output_type": "stream",
     "text": [
      "C:\\Users\\Xiuquan\\Anaconda3\\lib\\site-packages\\ipykernel_launcher.py:3: UserWarning: Update your `Dense` call to the Keras 2 API: `Dense(activation=\"relu\", input_dim=450, units=500)`\n",
      "  This is separate from the ipykernel package so we can avoid doing imports until\n",
      "C:\\Users\\Xiuquan\\Anaconda3\\lib\\site-packages\\ipykernel_launcher.py:5: UserWarning: Update your `Dense` call to the Keras 2 API: `Dense(activation=\"relu\", units=200)`\n",
      "  \"\"\"\n",
      "C:\\Users\\Xiuquan\\Anaconda3\\lib\\site-packages\\ipykernel_launcher.py:7: UserWarning: Update your `Dense` call to the Keras 2 API: `Dense(activation=\"relu\", units=200)`\n",
      "  import sys\n",
      "C:\\Users\\Xiuquan\\Anaconda3\\lib\\site-packages\\ipykernel_launcher.py:10: UserWarning: Update your `Dense` call to the Keras 2 API: `Dense(activation=\"softmax\", units=38)`\n",
      "  # Remove the CWD from sys.path while we load stuff.\n"
     ]
    },
    {
     "name": "stdout",
     "output_type": "stream",
     "text": [
      "Epoch 1/15\n",
      " - 18s - loss: 1.9481 - acc: 0.4777\n",
      "Epoch 2/15\n",
      " - 10s - loss: 1.2219 - acc: 0.6419\n",
      "Epoch 3/15\n",
      " - 10s - loss: 1.0719 - acc: 0.6695\n",
      "Epoch 4/15\n",
      " - 10s - loss: 0.9994 - acc: 0.6837\n",
      "Epoch 5/15\n",
      " - 9s - loss: 0.9462 - acc: 0.6980\n",
      "Epoch 6/15\n",
      " - 9s - loss: 0.9159 - acc: 0.7040\n",
      "Epoch 7/15\n",
      " - 9s - loss: 0.8825 - acc: 0.7121\n",
      "Epoch 8/15\n",
      " - 9s - loss: 0.8523 - acc: 0.7175\n",
      "Epoch 9/15\n",
      " - 10s - loss: 0.8271 - acc: 0.7258\n",
      "Epoch 10/15\n",
      " - 9s - loss: 0.8066 - acc: 0.7290\n",
      "Epoch 11/15\n",
      " - 9s - loss: 0.7884 - acc: 0.7341\n",
      "Epoch 12/15\n",
      " - 9s - loss: 0.7690 - acc: 0.7401\n",
      "Epoch 13/15\n",
      " - 9s - loss: 0.7530 - acc: 0.7445\n",
      "Epoch 14/15\n",
      " - 9s - loss: 0.7328 - acc: 0.7496\n",
      "Epoch 15/15\n",
      " - 9s - loss: 0.7225 - acc: 0.7534\n"
     ]
    },
    {
     "name": "stderr",
     "output_type": "stream",
     "text": [
      "C:\\Users\\Xiuquan\\Anaconda3\\lib\\site-packages\\ipykernel_launcher.py:3: UserWarning: Update your `Dense` call to the Keras 2 API: `Dense(activation=\"relu\", input_dim=114, units=160)`\n",
      "  This is separate from the ipykernel package so we can avoid doing imports until\n",
      "C:\\Users\\Xiuquan\\Anaconda3\\lib\\site-packages\\ipykernel_launcher.py:6: UserWarning: Update your `Dense` call to the Keras 2 API: `Dense(activation=\"softmax\", units=38)`\n",
      "  \n"
     ]
    },
    {
     "name": "stdout",
     "output_type": "stream",
     "text": [
      "Epoch 1/20\n",
      " - 6s - loss: 2.2669 - acc: 0.6966\n",
      "Epoch 2/20\n",
      " - 2s - loss: 0.9971 - acc: 0.7787\n",
      "Epoch 3/20\n",
      " - 2s - loss: 0.8083 - acc: 0.7906\n",
      "Epoch 4/20\n",
      " - 2s - loss: 0.7672 - acc: 0.7924\n",
      "Epoch 5/20\n",
      " - 2s - loss: 0.7515 - acc: 0.7931\n",
      "Epoch 6/20\n",
      " - 2s - loss: 0.7407 - acc: 0.7934\n",
      "Epoch 7/20\n",
      " - 2s - loss: 0.7308 - acc: 0.7945\n",
      "Epoch 8/20\n",
      " - 2s - loss: 0.7249 - acc: 0.7945\n",
      "Epoch 9/20\n",
      " - 2s - loss: 0.7182 - acc: 0.7957\n",
      "Epoch 10/20\n",
      " - 2s - loss: 0.7103 - acc: 0.7957\n",
      "Epoch 11/20\n",
      " - 2s - loss: 0.7046 - acc: 0.7964\n",
      "Epoch 12/20\n",
      " - 2s - loss: 0.6989 - acc: 0.7963\n",
      "Epoch 13/20\n",
      " - 2s - loss: 0.6923 - acc: 0.7961\n",
      "Epoch 14/20\n",
      " - 2s - loss: 0.6887 - acc: 0.7963\n",
      "Epoch 15/20\n",
      " - 2s - loss: 0.6831 - acc: 0.7969\n",
      "Epoch 16/20\n",
      " - 2s - loss: 0.6773 - acc: 0.7980\n",
      "Epoch 17/20\n",
      " - 2s - loss: 0.6724 - acc: 0.7980\n",
      "Epoch 18/20\n",
      " - 2s - loss: 0.6681 - acc: 0.7985\n",
      "Epoch 19/20\n",
      " - 2s - loss: 0.6652 - acc: 0.7984\n",
      "Epoch 20/20\n",
      " - 2s - loss: 0.6595 - acc: 0.7982\n"
     ]
    },
    {
     "data": {
      "text/plain": [
       "'0:09:03.000507'"
      ]
     },
     "execution_count": 89,
     "metadata": {},
     "output_type": "execute_result"
    }
   ],
   "source": [
    "start = datetime.now()\n",
    "hist_sclf_nn = sclf.fit(X_train, y_train)\n",
    "end = datetime.now()\n",
    "str(end-start)"
   ]
  },
  {
   "cell_type": "code",
   "execution_count": 90,
   "metadata": {},
   "outputs": [],
   "source": [
    "y_pred = sclf.predict(X_test)"
   ]
  },
  {
   "cell_type": "code",
   "execution_count": 91,
   "metadata": {},
   "outputs": [
    {
     "data": {
      "text/plain": [
       "0.7324302855470547"
      ]
     },
     "execution_count": 91,
     "metadata": {},
     "output_type": "execute_result"
    }
   ],
   "source": [
    "accuracy_score(y_test, y_pred)"
   ]
  },
  {
   "cell_type": "code",
   "execution_count": 92,
   "metadata": {},
   "outputs": [
    {
     "data": {
      "text/plain": [
       "0.9196499003079076"
      ]
     },
     "execution_count": 92,
     "metadata": {},
     "output_type": "execute_result"
    }
   ],
   "source": [
    "y_proba = sclf.predict_proba(X_test)\n",
    "log_loss(y_test, y_proba)"
   ]
  },
  {
   "cell_type": "code",
   "execution_count": null,
   "metadata": {},
   "outputs": [],
   "source": []
  },
  {
   "cell_type": "code",
   "execution_count": null,
   "metadata": {},
   "outputs": [],
   "source": []
  },
  {
   "cell_type": "code",
   "execution_count": null,
   "metadata": {},
   "outputs": [],
   "source": []
  },
  {
   "cell_type": "code",
   "execution_count": 95,
   "metadata": {},
   "outputs": [],
   "source": [
    "from xgboost import XGBClassifier"
   ]
  },
  {
   "cell_type": "code",
   "execution_count": 104,
   "metadata": {},
   "outputs": [],
   "source": [
    "def create_model_1hl(nodes_l1=512, dropout_l1=0.3):\n",
    "    model = Sequential()\n",
    "    model.add(Dense(output_dim=nodes_l1, activation=\"relu\", input_dim=len(X.columns)))\n",
    "    model.add(Dropout(dropout_l1))\n",
    "            \n",
    "    model.add(Dense(output_dim=len(trip_types), activation=\"softmax\"))\n",
    "    \n",
    "    model.compile(loss=\"categorical_crossentropy\", optimizer=\"rmsprop\", metrics=[\"accuracy\"])\n",
    "    \n",
    "    return model"
   ]
  },
  {
   "cell_type": "code",
   "execution_count": 105,
   "metadata": {},
   "outputs": [],
   "source": [
    "clf1 = KerasClassifier(build_fn=create_model_1hl, epochs=30, batch_size=3000, verbose=2)"
   ]
  },
  {
   "cell_type": "code",
   "execution_count": 106,
   "metadata": {},
   "outputs": [],
   "source": [
    "xgbc = XGBClassifier(n_estimators=100, min_samples_split=5, min_samples_leaf=2, max_features='sqrt', \n",
    "                     max_depth=50, bootstrap=False, random_state=42)"
   ]
  },
  {
   "cell_type": "code",
   "execution_count": 107,
   "metadata": {},
   "outputs": [],
   "source": [
    "sclf = StackingClassifier(classifiers=[clf1, clf2, clf3, clf4], use_probas=True, average_probas=False, meta_classifier=xgbc)"
   ]
  },
  {
   "cell_type": "code",
   "execution_count": 108,
   "metadata": {},
   "outputs": [
    {
     "name": "stderr",
     "output_type": "stream",
     "text": [
      "C:\\Users\\Xiuquan\\Anaconda3\\lib\\site-packages\\ipykernel_launcher.py:3: UserWarning: Update your `Dense` call to the Keras 2 API: `Dense(activation=\"relu\", input_dim=450, units=512)`\n",
      "  This is separate from the ipykernel package so we can avoid doing imports until\n",
      "C:\\Users\\Xiuquan\\Anaconda3\\lib\\site-packages\\ipykernel_launcher.py:6: UserWarning: Update your `Dense` call to the Keras 2 API: `Dense(activation=\"softmax\", units=38)`\n",
      "  \n"
     ]
    },
    {
     "name": "stdout",
     "output_type": "stream",
     "text": [
      "Epoch 1/30\n",
      " - 13s - loss: 2.6139 - acc: 0.4162\n",
      "Epoch 2/30\n",
      " - 6s - loss: 1.7425 - acc: 0.5929\n",
      "Epoch 3/30\n",
      " - 7s - loss: 1.3743 - acc: 0.6359\n",
      "Epoch 4/30\n",
      " - 6s - loss: 1.1867 - acc: 0.6612\n",
      "Epoch 5/30\n",
      " - 6s - loss: 1.0832 - acc: 0.6779\n",
      "Epoch 6/30\n",
      " - 5s - loss: 1.0154 - acc: 0.6900\n",
      "Epoch 7/30\n",
      " - 6s - loss: 0.9694 - acc: 0.6977\n",
      "Epoch 8/30\n",
      " - 6s - loss: 0.9332 - acc: 0.7046\n",
      "Epoch 9/30\n",
      " - 5s - loss: 0.8996 - acc: 0.7107\n",
      "Epoch 10/30\n",
      " - 6s - loss: 0.8752 - acc: 0.7162\n",
      "Epoch 11/30\n",
      " - 6s - loss: 0.8510 - acc: 0.7208\n",
      "Epoch 12/30\n",
      " - 5s - loss: 0.8309 - acc: 0.7271\n",
      "Epoch 13/30\n",
      " - 6s - loss: 0.8147 - acc: 0.7300\n",
      "Epoch 14/30\n",
      " - 6s - loss: 0.7994 - acc: 0.7333\n",
      "Epoch 15/30\n",
      " - 5s - loss: 0.7853 - acc: 0.7371\n",
      "Epoch 16/30\n",
      " - 6s - loss: 0.7717 - acc: 0.7397\n",
      "Epoch 17/30\n",
      " - 5s - loss: 0.7608 - acc: 0.7424\n",
      "Epoch 18/30\n",
      " - 6s - loss: 0.7473 - acc: 0.7463\n",
      "Epoch 19/30\n",
      " - 6s - loss: 0.7374 - acc: 0.7492\n",
      "Epoch 20/30\n",
      " - 5s - loss: 0.7278 - acc: 0.7536\n",
      "Epoch 21/30\n",
      " - 5s - loss: 0.7188 - acc: 0.7547\n",
      "Epoch 22/30\n",
      " - 6s - loss: 0.7090 - acc: 0.7574\n",
      "Epoch 23/30\n",
      " - 5s - loss: 0.7030 - acc: 0.7604\n",
      "Epoch 24/30\n",
      " - 5s - loss: 0.6937 - acc: 0.7608\n",
      "Epoch 25/30\n",
      " - 6s - loss: 0.6858 - acc: 0.7652\n",
      "Epoch 26/30\n",
      " - 5s - loss: 0.6767 - acc: 0.7678\n",
      "Epoch 27/30\n",
      " - 5s - loss: 0.6711 - acc: 0.7687\n",
      "Epoch 28/30\n",
      " - 6s - loss: 0.6643 - acc: 0.7716\n",
      "Epoch 29/30\n",
      " - 5s - loss: 0.6558 - acc: 0.7754\n",
      "Epoch 30/30\n",
      " - 6s - loss: 0.6512 - acc: 0.7768\n"
     ]
    },
    {
     "name": "stderr",
     "output_type": "stream",
     "text": [
      "C:\\Users\\Xiuquan\\Anaconda3\\lib\\site-packages\\ipykernel_launcher.py:3: UserWarning: Update your `Dense` call to the Keras 2 API: `Dense(activation=\"relu\", input_dim=450, units=400)`\n",
      "  This is separate from the ipykernel package so we can avoid doing imports until\n",
      "C:\\Users\\Xiuquan\\Anaconda3\\lib\\site-packages\\ipykernel_launcher.py:5: UserWarning: Update your `Dense` call to the Keras 2 API: `Dense(activation=\"relu\", units=120)`\n",
      "  \"\"\"\n",
      "C:\\Users\\Xiuquan\\Anaconda3\\lib\\site-packages\\ipykernel_launcher.py:8: UserWarning: Update your `Dense` call to the Keras 2 API: `Dense(activation=\"softmax\", units=38)`\n",
      "  \n"
     ]
    },
    {
     "name": "stdout",
     "output_type": "stream",
     "text": [
      "Epoch 1/15\n",
      " - 33s - loss: 2.0614 - acc: 0.4814\n",
      "Epoch 2/15\n",
      " - 6s - loss: 1.2396 - acc: 0.6439\n",
      "Epoch 3/15\n",
      " - 7s - loss: 1.0672 - acc: 0.6755\n",
      "Epoch 4/15\n",
      " - 7s - loss: 0.9867 - acc: 0.6908\n",
      "Epoch 5/15\n",
      " - 6s - loss: 0.9393 - acc: 0.6978\n",
      "Epoch 6/15\n",
      " - 7s - loss: 0.9075 - acc: 0.7076\n",
      "Epoch 7/15\n",
      " - 7s - loss: 0.8757 - acc: 0.7116\n",
      "Epoch 8/15\n",
      " - 7s - loss: 0.8533 - acc: 0.7182\n",
      "Epoch 9/15\n",
      " - 7s - loss: 0.8318 - acc: 0.7235\n",
      "Epoch 10/15\n",
      " - 7s - loss: 0.8167 - acc: 0.7258\n",
      "Epoch 11/15\n",
      " - 7s - loss: 0.7993 - acc: 0.7313\n",
      "Epoch 12/15\n",
      " - 7s - loss: 0.7824 - acc: 0.7383\n",
      "Epoch 13/15\n",
      " - 7s - loss: 0.7719 - acc: 0.7386\n",
      "Epoch 14/15\n",
      " - 6s - loss: 0.7616 - acc: 0.7441\n",
      "Epoch 15/15\n",
      " - 7s - loss: 0.7461 - acc: 0.7473\n"
     ]
    },
    {
     "name": "stderr",
     "output_type": "stream",
     "text": [
      "C:\\Users\\Xiuquan\\Anaconda3\\lib\\site-packages\\ipykernel_launcher.py:3: UserWarning: Update your `Dense` call to the Keras 2 API: `Dense(activation=\"relu\", input_dim=450, units=500)`\n",
      "  This is separate from the ipykernel package so we can avoid doing imports until\n",
      "C:\\Users\\Xiuquan\\Anaconda3\\lib\\site-packages\\ipykernel_launcher.py:5: UserWarning: Update your `Dense` call to the Keras 2 API: `Dense(activation=\"relu\", units=200)`\n",
      "  \"\"\"\n",
      "C:\\Users\\Xiuquan\\Anaconda3\\lib\\site-packages\\ipykernel_launcher.py:7: UserWarning: Update your `Dense` call to the Keras 2 API: `Dense(activation=\"relu\", units=200)`\n",
      "  import sys\n",
      "C:\\Users\\Xiuquan\\Anaconda3\\lib\\site-packages\\ipykernel_launcher.py:10: UserWarning: Update your `Dense` call to the Keras 2 API: `Dense(activation=\"softmax\", units=38)`\n",
      "  # Remove the CWD from sys.path while we load stuff.\n"
     ]
    },
    {
     "name": "stdout",
     "output_type": "stream",
     "text": [
      "Epoch 1/15\n",
      " - 14s - loss: 1.9375 - acc: 0.4820\n",
      "Epoch 2/15\n",
      " - 9s - loss: 1.2149 - acc: 0.6446\n",
      "Epoch 3/15\n",
      " - 9s - loss: 1.0666 - acc: 0.6721\n",
      "Epoch 4/15\n",
      " - 9s - loss: 0.9966 - acc: 0.6852\n",
      "Epoch 5/15\n",
      " - 9s - loss: 0.9457 - acc: 0.6972\n",
      "Epoch 6/15\n",
      " - 9s - loss: 0.9024 - acc: 0.7085\n",
      "Epoch 7/15\n",
      " - 9s - loss: 0.8722 - acc: 0.7136\n",
      "Epoch 8/15\n",
      " - 10s - loss: 0.8446 - acc: 0.7213\n",
      "Epoch 9/15\n",
      " - 14s - loss: 0.8239 - acc: 0.7259\n",
      "Epoch 10/15\n",
      " - 14s - loss: 0.8002 - acc: 0.7325\n",
      "Epoch 11/15\n",
      " - 15s - loss: 0.7771 - acc: 0.7385\n",
      "Epoch 12/15\n",
      " - 15s - loss: 0.7590 - acc: 0.7417\n",
      "Epoch 13/15\n",
      " - 14s - loss: 0.7443 - acc: 0.7475\n",
      "Epoch 14/15\n",
      " - 14s - loss: 0.7269 - acc: 0.7540\n",
      "Epoch 15/15\n",
      " - 14s - loss: 0.7082 - acc: 0.7583\n"
     ]
    },
    {
     "name": "stderr",
     "output_type": "stream",
     "text": [
      "C:\\Users\\Xiuquan\\Anaconda3\\lib\\site-packages\\ipykernel_launcher.py:5: UserWarning: Update your `Dense` call to the Keras 2 API: `Dense(activation=\"relu\", units=256)`\n",
      "  \"\"\"\n",
      "C:\\Users\\Xiuquan\\Anaconda3\\lib\\site-packages\\ipykernel_launcher.py:7: UserWarning: Update your `Dense` call to the Keras 2 API: `Dense(activation=\"relu\", units=128)`\n",
      "  import sys\n",
      "C:\\Users\\Xiuquan\\Anaconda3\\lib\\site-packages\\ipykernel_launcher.py:9: UserWarning: Update your `Dense` call to the Keras 2 API: `Dense(activation=\"relu\", units=64)`\n",
      "  if __name__ == '__main__':\n",
      "C:\\Users\\Xiuquan\\Anaconda3\\lib\\site-packages\\ipykernel_launcher.py:12: UserWarning: Update your `Dense` call to the Keras 2 API: `Dense(activation=\"softmax\", units=38)`\n",
      "  if sys.path[0] == '':\n"
     ]
    },
    {
     "name": "stdout",
     "output_type": "stream",
     "text": [
      "Epoch 1/15\n",
      " - 21s - loss: 2.2342 - acc: 0.4000\n",
      "Epoch 2/15\n",
      " - 15s - loss: 1.4662 - acc: 0.5994\n",
      "Epoch 3/15\n",
      " - 14s - loss: 1.2598 - acc: 0.6446\n",
      "Epoch 4/15\n",
      " - 15s - loss: 1.1561 - acc: 0.6649\n",
      "Epoch 5/15\n",
      " - 15s - loss: 1.0865 - acc: 0.6792\n",
      "Epoch 6/15\n",
      " - 15s - loss: 1.0396 - acc: 0.6901\n",
      "Epoch 7/15\n",
      " - 15s - loss: 1.0007 - acc: 0.6980\n",
      "Epoch 8/15\n",
      " - 15s - loss: 0.9737 - acc: 0.7031\n",
      "Epoch 9/15\n",
      " - 15s - loss: 0.9452 - acc: 0.7120\n",
      "Epoch 10/15\n",
      " - 14s - loss: 0.9209 - acc: 0.7169\n",
      "Epoch 11/15\n",
      " - 13s - loss: 0.8953 - acc: 0.7232\n",
      "Epoch 12/15\n",
      " - 13s - loss: 0.8728 - acc: 0.7286\n",
      "Epoch 13/15\n",
      " - 13s - loss: 0.8552 - acc: 0.7318\n",
      "Epoch 14/15\n",
      " - 13s - loss: 0.8400 - acc: 0.7351\n",
      "Epoch 15/15\n",
      " - 14s - loss: 0.8177 - acc: 0.7409\n"
     ]
    },
    {
     "data": {
      "text/plain": [
       "'20:33:41.892828'"
      ]
     },
     "execution_count": 108,
     "metadata": {},
     "output_type": "execute_result"
    }
   ],
   "source": [
    "start = datetime.now()\n",
    "hist_sclf_nn_xgb = sclf.fit(X_train, y_train)\n",
    "end = datetime.now()\n",
    "str(end-start)"
   ]
  },
  {
   "cell_type": "code",
   "execution_count": 109,
   "metadata": {},
   "outputs": [],
   "source": [
    "y_pred = sclf.predict(X_test)"
   ]
  },
  {
   "cell_type": "code",
   "execution_count": 110,
   "metadata": {},
   "outputs": [
    {
     "data": {
      "text/plain": [
       "0.7261591203645638"
      ]
     },
     "execution_count": 110,
     "metadata": {},
     "output_type": "execute_result"
    }
   ],
   "source": [
    "accuracy_score(y_test, y_pred)"
   ]
  },
  {
   "cell_type": "code",
   "execution_count": 111,
   "metadata": {},
   "outputs": [
    {
     "data": {
      "text/plain": [
       "1.1094501367827299"
      ]
     },
     "execution_count": 111,
     "metadata": {},
     "output_type": "execute_result"
    }
   ],
   "source": [
    "y_proba = sclf.predict_proba(X_test)\n",
    "log_loss(y_test, y_proba)"
   ]
  },
  {
   "cell_type": "code",
   "execution_count": 113,
   "metadata": {},
   "outputs": [],
   "source": [
    "# save the model to disk\n",
    "filename = 'sclf_nn_with_xgb.sav'\n",
    "pickle.dump(hist_sclf_nn_xgb, open(filename, 'wb'))"
   ]
  },
  {
   "cell_type": "code",
   "execution_count": 114,
   "metadata": {},
   "outputs": [],
   "source": [
    "# load the model from disk\n",
    "loaded_model = pickle.load(open(filename, 'rb'))\n",
    "result = loaded_model.score(X_test, y_test)"
   ]
  },
  {
   "cell_type": "code",
   "execution_count": 115,
   "metadata": {},
   "outputs": [
    {
     "data": {
      "text/plain": [
       "0.7261591203645638"
      ]
     },
     "execution_count": 115,
     "metadata": {},
     "output_type": "execute_result"
    }
   ],
   "source": [
    "result"
   ]
  },
  {
   "cell_type": "code",
   "execution_count": 117,
   "metadata": {},
   "outputs": [
    {
     "data": {
      "text/plain": [
       "1.1094501367827299"
      ]
     },
     "execution_count": 117,
     "metadata": {},
     "output_type": "execute_result"
    }
   ],
   "source": [
    "log_loss(y_test, loaded_model.predict_proba(X_test))"
   ]
  },
  {
   "cell_type": "code",
   "execution_count": null,
   "metadata": {},
   "outputs": [],
   "source": []
  }
 ],
 "metadata": {
  "kernelspec": {
   "display_name": "Python 3",
   "language": "python",
   "name": "python3"
  },
  "language_info": {
   "codemirror_mode": {
    "name": "ipython",
    "version": 3
   },
   "file_extension": ".py",
   "mimetype": "text/x-python",
   "name": "python",
   "nbconvert_exporter": "python",
   "pygments_lexer": "ipython3",
   "version": "3.7.3"
  }
 },
 "nbformat": 4,
 "nbformat_minor": 2
}
